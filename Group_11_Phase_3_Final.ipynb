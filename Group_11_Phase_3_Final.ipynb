{
 "cells": [
  {
   "cell_type": "markdown",
   "metadata": {},
   "source": [
    "# Table of Content\n",
    "* [Read-CSV](#Read-CSV)\n",
    "* [Helper-Functions](#Helper-Functions)\n",
    "  * [Helper-function-1:-Generic-Modelling-Fuction](#Helper-function-1:-Generic-Modelling-Fuction)\n",
    "  * [Helper-function-2:--Evaluation](#Helper-function-2:--Evaluation)\n",
    "* [Split-training-set-and-test-set](#Split-training-set-and-test-set)\n",
    "* [Categorical-variables-handling](#Categorical-variables-handling)\n",
    "* [Numeric-variables-handing](#Numeric-variables-handing)\n",
    "* [Feature-Assembler-to-combine-categorical-and-numeric-features](#Feature-Assembler-to-combine-categorical-and-numeric-features)\n",
    "* [Logistic-Regression-fitting](#Logistic-Regression-fitting)\n",
    "  * [Training-Summary](#Training-Summary)\n",
    "  * [Prediction-on-test-set](#Prediction-on-test-set)\n",
    "* [Decision-Tree-fitting](#Decision-Tree-fitting)\n",
    "* [Random-Forest-fitting](#Random-Forest-fitting)\n",
    "* [Compare-3-models](#Compare-3-models)\n",
    "* [Inspect-Logistic-Regression-Model-Coefficients](#Inspect-Logistic-Regression-Model-Coefficients)\n",
    "  * [Get-coefficient-vector-from-logistic-regression-model](#Get-coefficient-vector-from-logistic-regression-model)\n",
    "  * [Look-for-the-feature-vector-indexes-of-10-largest-and-smallest-coefficients](#Look-for-the-feature-vector-indexes-of-10-largest-and-smallest-coefficients)\n",
    "  * [Look-at-how-the-feature-vector-been-created](#Look-at-how-the-feature-vector-been-created)\n",
    "  * [Using-onle-emp_title-for-training](#Using-onle-emp_title-for-training)\n",
    "  * [Observation](#Observation)"
   ]
  },
  {
   "cell_type": "code",
   "execution_count": 129,
   "metadata": {},
   "outputs": [
    {
     "data": {
      "text/plain": [
       "import org.apache.spark.ml.feature.{StringIndexer, OneHotEncoderEstimator, StandardScaler, VectorAssembler}\n",
       "import org.apache.spark.ml.{Pipeline, PipelineModel, PipelineStage}\n",
       "import org.apache.spark.sql._\n",
       "import org.apache.spark.ml.classification.{LogisticRegression, LogisticRegressionModel}\n",
       "import org.apache.spark.ml.classification.{DecisionTreeClassifier, DecisionTreeClassificationModel}\n",
       "import org.apache.spark.ml.classification.{RandomForestClassifier, RandomForestClassificationModel}\n",
       "import org.apache.spark.ml.evaluation.MulticlassClassificationEvaluator\n"
      ]
     },
     "execution_count": 129,
     "metadata": {},
     "output_type": "execute_result"
    }
   ],
   "source": [
    "import org.apache.spark.ml.feature.{StringIndexer, OneHotEncoderEstimator, StandardScaler, VectorAssembler}\n",
    "import org.apache.spark.ml.{Pipeline, PipelineModel, PipelineStage}\n",
    "\n",
    "import org.apache.spark.sql._\n",
    "\n",
    "import org.apache.spark.ml.classification.{LogisticRegression, LogisticRegressionModel}\n",
    "import org.apache.spark.ml.classification.{DecisionTreeClassifier, DecisionTreeClassificationModel}\n",
    "import org.apache.spark.ml.classification.{RandomForestClassifier, RandomForestClassificationModel}\n",
    "\n",
    "import org.apache.spark.ml.evaluation.MulticlassClassificationEvaluator"
   ]
  },
  {
   "cell_type": "markdown",
   "metadata": {},
   "source": [
    "# Read CSV\n",
    "\n",
    "Also invert the label\n",
    "* 1: bad loan\n",
    "* 0: good loan"
   ]
  },
  {
   "cell_type": "code",
   "execution_count": 130,
   "metadata": {},
   "outputs": [
    {
     "data": {
      "text/plain": [
       "invertLabel: org.apache.spark.sql.expressions.UserDefinedFunction = UserDefinedFunction(<function1>,IntegerType,Some(List(IntegerType)))\n"
      ]
     },
     "execution_count": 130,
     "metadata": {},
     "output_type": "execute_result"
    }
   ],
   "source": [
    "val invertLabel = udf((v: Int) => v match {\n",
    "    case 0 => 1\n",
    "    case 1 => 0\n",
    "})"
   ]
  },
  {
   "cell_type": "code",
   "execution_count": 131,
   "metadata": {},
   "outputs": [
    {
     "data": {
      "text/plain": [
       "df: org.apache.spark.sql.DataFrame = [loan_amnt: int, term: string ... 63 more fields]\n"
      ]
     },
     "execution_count": 131,
     "metadata": {},
     "output_type": "execute_result"
    }
   ],
   "source": [
    "val df = spark.read.format(\"csv\")\n",
    "  .option(\"inferSchema\", \"true\")\n",
    "  .option(\"header\", \"true\")\n",
    "  .load(\"LCLoan_Wrangled.csv\")\n",
    "  .withColumn(\"loan_status\",invertLabel($\"loan_status\"))                // inverting the label, now 1 indicates bad loan\n",
    "  .withColumn(\"label\",col(\"loan_status\"))                               // update the column name to label, to be used in ML models\n",
    "  .drop(\"loan_status\")                                                  // drop the original column used as label"
   ]
  },
  {
   "cell_type": "markdown",
   "metadata": {},
   "source": [
    "# Helper Functions"
   ]
  },
  {
   "cell_type": "markdown",
   "metadata": {},
   "source": [
    "## Helper function 1: Generic Modelling Fuction\n",
    "The function will accept inputs to determine the appropriate Models, options are:\n",
    "* logistic regression\n",
    "* decision tree\n",
    "* random forest"
   ]
  },
  {
   "cell_type": "code",
   "execution_count": 132,
   "metadata": {},
   "outputs": [
    {
     "data": {
      "text/plain": [
       "runModel: (df: org.apache.spark.sql.DataFrame, modelType: String, threshold: Double, weighted: Boolean, maxIter: Int, regParam: Double, featureEngineeringPipeline: Array[org.apache.spark.ml.PipelineStage])org.apache.spark.ml.PipelineModel\n"
      ]
     },
     "execution_count": 132,
     "metadata": {},
     "output_type": "execute_result"
    }
   ],
   "source": [
    "def runModel (df: DataFrame, \n",
    "              modelType: String, \n",
    "              threshold: Double = 0.5, \n",
    "              weighted: Boolean = false,\n",
    "              maxIter: Int = 10,\n",
    "              regParam: Double = 0.0,\n",
    "              featureEngineeringPipeline: Array[org.apache.spark.ml.PipelineStage]) : PipelineModel = {\n",
    "        \n",
    "    val pipelineOrder: Array[org.apache.spark.ml.PipelineStage] = \n",
    "    \n",
    "    //depending on the model chosen,\n",
    "    if (modelType == \"lr\"){\n",
    "        //logistic regression option\n",
    "       featureEngineeringPipeline :+\n",
    "            new LogisticRegression()\n",
    "                .setMaxIter(maxIter)\n",
    "                .setRegParam(regParam)\n",
    "                .setThreshold(threshold)\n",
    "    }\n",
    "    else if (modelType == \"dt\"){\n",
    "        //decision tree option\n",
    "        featureEngineeringPipeline :+\n",
    "            new DecisionTreeClassifier()\n",
    "                  .setLabelCol(\"label\")\n",
    "                  .setFeaturesCol(\"features\")\n",
    "    }\n",
    "    else if (modelType == \"rf\"){\n",
    "        //random forest option\n",
    "        featureEngineeringPipeline :+\n",
    "            new RandomForestClassifier()\n",
    "                  .setLabelCol(\"label\")\n",
    "                  .setFeaturesCol(\"features\")\n",
    "    }\n",
    "    else {\n",
    "        featureEngineeringPipeline\n",
    "    }    \n",
    "\n",
    "    //set the pipeline for the model\n",
    "    val pipeline = new Pipeline()\n",
    "        .setStages(pipelineOrder)\n",
    "    \n",
    "    //return a model fitted on the dataframe\n",
    "    return pipeline.fit(df)\n",
    "}"
   ]
  },
  {
   "cell_type": "markdown",
   "metadata": {},
   "source": [
    "## Helper function 2:  Evaluation"
   ]
  },
  {
   "cell_type": "code",
   "execution_count": 133,
   "metadata": {},
   "outputs": [
    {
     "data": {
      "text/plain": [
       "evaluatePrediction: (prediction: org.apache.spark.sql.DataFrame)Unit\n"
      ]
     },
     "execution_count": 133,
     "metadata": {},
     "output_type": "execute_result"
    }
   ],
   "source": [
    "def evaluatePrediction(prediction: DataFrame) = {\n",
    "    prediction.createOrReplaceTempView(\"prediction\")\n",
    "    \n",
    "    spark.sql(\"\"\"\n",
    "select label,prediction,count(1) from prediction group by label,prediction\n",
    "\"\"\").show(false)\n",
    "    \n",
    "    spark.sql(\"\"\"\n",
    "select \n",
    "round((TP+TN)/(P+N),2) as Accuracy,\n",
    "round(TP/(TP+FP),2) as Precision,\n",
    "round(TP/(TP+FN),2) as Recall,\n",
    "round(2*TP/(2*TP+FP+FN),2) as F1,\n",
    "round(TP/(TP+FN),2) as TPR,\n",
    "round(FP/(TN+FP),2) as FPR,\n",
    "round(TN/(TN+FP),2) as TNR,\n",
    "round(FN/(TP+FN),2) as FNR\n",
    "from (\n",
    "    select \n",
    "    count(1) as total, \n",
    "    sum(case when label = 1 and prediction = 1 then 1 else 0 end) as TP,\n",
    "    sum(case when label = 0 and prediction = 0 then 1 else 0 end) as TN,\n",
    "    sum(case when label = 0 and prediction = 1 then 1 else 0 end) as FP,\n",
    "    sum(case when label = 1 and prediction = 0 then 1 else 0 end) as FN,\n",
    "    sum(case when label = 1 then 1 else 0 end) as P,\n",
    "    sum(case when label = 0 then 1 else 0 end) as N\n",
    "    from prediction\n",
    "    )\n",
    "\"\"\").show(false)\n",
    "}"
   ]
  },
  {
   "cell_type": "markdown",
   "metadata": {},
   "source": [
    "# Split training set and test set"
   ]
  },
  {
   "cell_type": "code",
   "execution_count": 134,
   "metadata": {},
   "outputs": [
    {
     "data": {
      "text/plain": [
       "trainingData: org.apache.spark.sql.Dataset[org.apache.spark.sql.Row] = [loan_amnt: int, term: string ... 63 more fields]\n",
       "testData: org.apache.spark.sql.Dataset[org.apache.spark.sql.Row] = [loan_amnt: int, term: string ... 63 more fields]\n"
      ]
     },
     "execution_count": 134,
     "metadata": {},
     "output_type": "execute_result"
    }
   ],
   "source": [
    "val Array(trainingData, testData) = df.randomSplit(Array(0.8, 0.2), seed = 1234L)"
   ]
  },
  {
   "cell_type": "code",
   "execution_count": 135,
   "metadata": {},
   "outputs": [
    {
     "data": {
      "text/plain": [
       "res40: Long = 3967\n"
      ]
     },
     "execution_count": 135,
     "metadata": {},
     "output_type": "execute_result"
    }
   ],
   "source": [
    "testData.count"
   ]
  },
  {
   "cell_type": "code",
   "execution_count": 136,
   "metadata": {},
   "outputs": [
    {
     "data": {
      "text/plain": [
       "res41: Long = 16103\n"
      ]
     },
     "execution_count": 136,
     "metadata": {},
     "output_type": "execute_result"
    }
   ],
   "source": [
    "trainingData.count"
   ]
  },
  {
   "cell_type": "markdown",
   "metadata": {},
   "source": [
    "# Categorical variables handling"
   ]
  },
  {
   "cell_type": "code",
   "execution_count": 137,
   "metadata": {},
   "outputs": [
    {
     "data": {
      "text/plain": [
       "categoricalColumns: Array[String] = Array(term, grade, sub_grade, emp_title, emp_length, home_ownership, verification_status, issue_d, purpose, title, zip_code, addr_state, earliest_cr_line, initial_list_status, last_pymnt_d, last_credit_pull_d, application_type)\n"
      ]
     },
     "execution_count": 137,
     "metadata": {},
     "output_type": "execute_result"
    }
   ],
   "source": [
    "/*\n",
    " * Generate a list of categorical columns\n",
    " */\n",
    "\n",
    "val categoricalColumns = df.dtypes.filter(column => column._2 == \"StringType\").map(_._1)"
   ]
  },
  {
   "cell_type": "code",
   "execution_count": 138,
   "metadata": {},
   "outputs": [
    {
     "data": {
      "text/plain": [
       "categoricalFeatures: Array[org.apache.spark.ml.Estimator[_ >: org.apache.spark.ml.feature.OneHotEncoderModel with org.apache.spark.ml.feature.StringIndexerModel <: org.apache.spark.ml.Model[_ >: org.apache.spark.ml.feature.OneHotEncoderModel with org.apache.spark.ml.feature.StringIndexerModel <: org.apache.spark.ml.Transformer with org.apache.spark.ml.param.shared.HasHandleInvalid with org.apache.spark.ml.util.MLWritable] with org.apache.spark.ml.param.shared.HasHandleInvalid with org.apache.spark.ml.util.MLWritable] with org.apache.spark.ml.param.shared.HasHandleInvalid with org.apache.spark.ml.util.DefaultParamsWritable{def copy(extra: org.apache.spark.ml.param.ParamMap): org.apache.spark.ml.Estimator[_ >: org.apache.spark.ml.feature.OneHotEncoderModel with org.apache.spark.ml.feature..."
      ]
     },
     "execution_count": 138,
     "metadata": {},
     "output_type": "execute_result"
    }
   ],
   "source": [
    "/*\n",
    " * Create 2 transformer for categorical columns\n",
    " */\n",
    "\n",
    "val categoricalFeatures = categoricalColumns.flatMap{ name =>\n",
    "    \n",
    "    val stringIndexer = new StringIndexer()\n",
    "      .setInputCol(name)\n",
    "      .setOutputCol(name + \"_index\")\n",
    "      .setHandleInvalid(\"keep\")\n",
    "    \n",
    "    val oneHotEncoder = new OneHotEncoderEstimator()\n",
    "      .setInputCols(Array(name + \"_index\"))\n",
    "      .setOutputCols(Array(name + \"_vec\"))\n",
    "      .setDropLast(false)\n",
    "    \n",
    "    Array(stringIndexer, oneHotEncoder)\n",
    "}"
   ]
  },
  {
   "cell_type": "markdown",
   "metadata": {},
   "source": [
    "\n",
    "# Numeric variables handing"
   ]
  },
  {
   "cell_type": "code",
   "execution_count": 139,
   "metadata": {},
   "outputs": [
    {
     "data": {
      "text/plain": [
       "numericColumns: Array[String] = Array(loan_amnt, int_rate, annual_inc, dti, delinq_2yrs, inq_last_6mths, open_acc, pub_rec, revol_bal, revol_util, total_acc, out_prncp, total_pymnt, total_rec_int, total_rec_late_fee, collection_recovery_fee, last_pymnt_amnt, collections_12_mths_ex_med, policy_code, acc_now_delinq, tot_coll_amt, tot_cur_bal, total_rev_hi_lim, acc_open_past_24mths, chargeoff_within_12_mths, delinq_amnt, mo_sin_old_il_acct, mo_sin_old_rev_tl_op, mo_sin_rcnt_rev_tl_op, mo_sin_rcnt_tl, mort_acc, mths_since_recent_bc, num_accts_ever_120_pd, num_actv_rev_tl, num_bc_sats, num_il_tl, num_rev_accts, num_sats, num_tl_120dpd_2m, num_tl_90g_dpd_24m, num_tl_op_past_12m, pct_tl_nvr_dlq, percent_bc_gt_75, pub_rec_bankruptcies, tax_liens, tot_hi_cred_lim, total_il_high_credit_limit)\n"
      ]
     },
     "execution_count": 139,
     "metadata": {},
     "output_type": "execute_result"
    }
   ],
   "source": [
    "/*\n",
    " * Generate a list of categorical columns\n",
    " * \n",
    " * Dropping the label, otherwise will get model 100% correct\n",
    " */\n",
    "\n",
    "val numericColumns = df.dtypes.filter(column => column._2 == \"IntegerType\" || column._2 == \"DoubleType\").map(_._1)\n",
    "                    .filterNot( c => c == \"label\" )"
   ]
  },
  {
   "cell_type": "code",
   "execution_count": 140,
   "metadata": {},
   "outputs": [
    {
     "data": {
      "text/plain": [
       "numericColumnsAssembler: org.apache.spark.ml.feature.VectorAssembler = vecAssembler_1197d0e150fc\n"
      ]
     },
     "execution_count": 140,
     "metadata": {},
     "output_type": "execute_result"
    }
   ],
   "source": [
    "val numericColumnsAssembler = new VectorAssembler()\n",
    "  .setInputCols(numericColumns)\n",
    "  .setOutputCol(\"numerical_features\")"
   ]
  },
  {
   "cell_type": "code",
   "execution_count": 141,
   "metadata": {},
   "outputs": [
    {
     "data": {
      "text/plain": [
       "numericColumnsScaler: org.apache.spark.ml.feature.StandardScaler = stdScal_57ff22046994\n"
      ]
     },
     "execution_count": 141,
     "metadata": {},
     "output_type": "execute_result"
    }
   ],
   "source": [
    "val numericColumnsScaler = new StandardScaler()\n",
    "      .setInputCol(\"numerical_features\")\n",
    "      .setOutputCol(\"numerical_features\" + \"_vec\")\n",
    "      .setWithStd(true)\n",
    "      .setWithMean(true)"
   ]
  },
  {
   "cell_type": "code",
   "execution_count": 142,
   "metadata": {},
   "outputs": [
    {
     "data": {
      "text/plain": [
       "res42: Array[org.apache.spark.ml.PipelineStage with org.apache.spark.ml.util.DefaultParamsWritable{def copy(extra: org.apache.spark.ml.param.ParamMap): org.apache.spark.ml.PipelineStage with org.apache.spark.ml.util.DefaultParamsWritable{def copy(extra: org.apache.spark.ml.param.ParamMap): org.apache.spark.ml.PipelineStage with org.apache.spark.ml.util.DefaultParamsWritable}}] = Array(strIdx_82906bcef1d3, oneHotEncoder_17b3f6536331, strIdx_2ce4b7e118be, oneHotEncoder_4f2eda3a76c7, strIdx_097d4fc1fc60, oneHotEncoder_7a663aea5e2f, strIdx_e10d5e48e570, oneHotEncoder_31ad9fac25c9, strIdx_6f201dadbacf, oneHotEncoder_6f55b1eed451, strIdx_2bc1c5ecff0a, oneHotEncoder_9332204364db, strIdx_5a30152550d6, oneHotEncoder_bfc3845a9dc7, strIdx_8fa0c2a1b250, oneHotEncoder_2519b9185514, strIdx_bc09a32314..."
      ]
     },
     "execution_count": 142,
     "metadata": {},
     "output_type": "execute_result"
    }
   ],
   "source": [
    "categoricalFeatures ++ Array(numericColumnsAssembler,numericColumnsScaler)"
   ]
  },
  {
   "cell_type": "markdown",
   "metadata": {},
   "source": [
    "# Feature Assembler to combine categorical and numeric features"
   ]
  },
  {
   "cell_type": "code",
   "execution_count": 143,
   "metadata": {},
   "outputs": [
    {
     "data": {
      "text/plain": [
       "allFeatureColumns: Array[String] = Array(term_vec, grade_vec, sub_grade_vec, emp_title_vec, emp_length_vec, home_ownership_vec, verification_status_vec, issue_d_vec, purpose_vec, title_vec, zip_code_vec, addr_state_vec, earliest_cr_line_vec, initial_list_status_vec, last_pymnt_d_vec, last_credit_pull_d_vec, application_type_vec, numerical_features_vec)\n",
       "featureColumnsAssembler: org.apache.spark.ml.feature.VectorAssembler = vecAssembler_d6073743bfdd\n"
      ]
     },
     "execution_count": 143,
     "metadata": {},
     "output_type": "execute_result"
    }
   ],
   "source": [
    "val allFeatureColumns = categoricalColumns.map(x => x + \"_vec\") :+ \"numerical_features_vec\"\n",
    "val featureColumnsAssembler = new VectorAssembler()\n",
    "  .setInputCols(allFeatureColumns)\n",
    "  .setOutputCol(\"features\")"
   ]
  },
  {
   "cell_type": "code",
   "execution_count": 144,
   "metadata": {},
   "outputs": [
    {
     "data": {
      "text/plain": [
       "featureEngineeringPipeline: Array[org.apache.spark.ml.PipelineStage] = Array(strIdx_82906bcef1d3, oneHotEncoder_17b3f6536331, strIdx_2ce4b7e118be, oneHotEncoder_4f2eda3a76c7, strIdx_097d4fc1fc60, oneHotEncoder_7a663aea5e2f, strIdx_e10d5e48e570, oneHotEncoder_31ad9fac25c9, strIdx_6f201dadbacf, oneHotEncoder_6f55b1eed451, strIdx_2bc1c5ecff0a, oneHotEncoder_9332204364db, strIdx_5a30152550d6, oneHotEncoder_bfc3845a9dc7, strIdx_8fa0c2a1b250, oneHotEncoder_2519b9185514, strIdx_bc09a323143f, oneHotEncoder_9908cd08611e, strIdx_aab6e6b290e3, oneHotEncoder_c72e2d7fc0d8, strIdx_ae8b543e0541, oneHotEncoder_493c0e695d7a, strIdx_acf258999102, oneHotEncoder_f300038cbbc2, strIdx_372c406a68ac, oneHotEncoder_cf602e502efd, strIdx_c829a90deceb, oneHotEncoder_e82aa9b836a1, strIdx_a4955d82e4aa, oneHotEncoder..."
      ]
     },
     "execution_count": 144,
     "metadata": {},
     "output_type": "execute_result"
    }
   ],
   "source": [
    "var featureEngineeringPipeline = Array[org.apache.spark.ml.PipelineStage]()\n",
    "featureEngineeringPipeline = featureEngineeringPipeline ++ categoricalFeatures\n",
    "featureEngineeringPipeline = featureEngineeringPipeline ++ Array(numericColumnsAssembler,numericColumnsScaler)\n",
    "featureEngineeringPipeline = featureEngineeringPipeline ++ Array(featureColumnsAssembler)"
   ]
  },
  {
   "cell_type": "markdown",
   "metadata": {},
   "source": [
    "# Logistic Regression fitting"
   ]
  },
  {
   "cell_type": "code",
   "execution_count": 145,
   "metadata": {},
   "outputs": [
    {
     "data": {
      "text/plain": [
       "lr: org.apache.spark.ml.PipelineModel = pipeline_05d51540b126\n",
       "lrModel: org.apache.spark.ml.classification.LogisticRegressionModel = LogisticRegressionModel: uid = logreg_08545d8ead1a, numClasses = 2, numFeatures = 9357\n"
      ]
     },
     "execution_count": 145,
     "metadata": {},
     "output_type": "execute_result"
    }
   ],
   "source": [
    "// Fit the logistic regression model \n",
    "val lr = runModel(trainingData,\"lr\",featureEngineeringPipeline = featureEngineeringPipeline)\n",
    "val lrModel = lr.stages(lr.stages.length-1).asInstanceOf[LogisticRegressionModel]"
   ]
  },
  {
   "cell_type": "markdown",
   "metadata": {},
   "source": [
    "## Training Summary"
   ]
  },
  {
   "cell_type": "code",
   "execution_count": 146,
   "metadata": {},
   "outputs": [
    {
     "name": "stdout",
     "output_type": "stream",
     "text": [
      "Accuracy: 0.9985716947152704\n",
      "FPR: 0.006570839593664054\n",
      "TPR: 0.9985716947152705\n",
      "F-measure: 0.9985715040034712\n",
      "Precision: 0.9985713340480937\n",
      "Recall: 0.9985716947152705\n"
     ]
    },
    {
     "data": {
      "text/plain": [
       "trainingSummary: org.apache.spark.ml.classification.BinaryLogisticRegressionTrainingSummary = org.apache.spark.ml.classification.BinaryLogisticRegressionTrainingSummaryImpl@eeed02a\n",
       "accuracy: Double = 0.9985716947152704\n",
       "falsePositiveRate: Double = 0.006570839593664054\n",
       "truePositiveRate: Double = 0.9985716947152705\n",
       "fMeasure: Double = 0.9985715040034712\n",
       "precision: Double = 0.9985713340480937\n",
       "recall: Double = 0.9985716947152705\n"
      ]
     },
     "execution_count": 146,
     "metadata": {},
     "output_type": "execute_result"
    }
   ],
   "source": [
    "// Extract the summary from the returned LogisticRegressionModel instance trained in the earlier\n",
    "// example\n",
    "val trainingSummary = lrModel.binarySummary\n",
    "val accuracy = trainingSummary.accuracy\n",
    "val falsePositiveRate = trainingSummary.weightedFalsePositiveRate\n",
    "val truePositiveRate = trainingSummary.weightedTruePositiveRate\n",
    "val fMeasure = trainingSummary.weightedFMeasure\n",
    "val precision = trainingSummary.weightedPrecision\n",
    "val recall = trainingSummary.weightedRecall\n",
    "println(s\"Accuracy: $accuracy\\nFPR: $falsePositiveRate\\nTPR: $truePositiveRate\\n\" +\n",
    "  s\"F-measure: $fMeasure\\nPrecision: $precision\\nRecall: $recall\")"
   ]
  },
  {
   "cell_type": "code",
   "execution_count": 147,
   "metadata": {},
   "outputs": [
    {
     "name": "stdout",
     "output_type": "stream",
     "text": [
      "+--------------------+-------------------+\n",
      "|                 FPR|                TPR|\n",
      "+--------------------+-------------------+\n",
      "|                 0.0|                0.0|\n",
      "|                 0.0| 0.1037394451145959|\n",
      "|                 0.0|0.20024125452352232|\n",
      "|                 0.0|0.29674306393244876|\n",
      "|                 0.0|0.39324487334137515|\n",
      "|                 0.0| 0.4897466827503016|\n",
      "|                 0.0|  0.586248492159228|\n",
      "|                 0.0| 0.6827503015681544|\n",
      "|6.922810661128418E-5|  0.778648974668275|\n",
      "|6.922810661128418E-5| 0.8751507840772015|\n",
      "|1.384562132225683...|  0.971049457177322|\n",
      "|0.008238144686742818|  0.996984318455971|\n",
      "|0.019176185531325718| 0.9981905910735827|\n",
      "|0.030183454482519904| 0.9987937273823885|\n",
      "| 0.04125995154032537| 0.9987937273823885|\n",
      "| 0.05226722049151956| 0.9993968636911942|\n",
      "| 0.06334371754932502| 0.9993968636911942|\n",
      "| 0.07435098650051922|                1.0|\n",
      "| 0.08542748355832468|                1.0|\n",
      "| 0.09650398061613015|                1.0|\n",
      "+--------------------+-------------------+\n",
      "only showing top 20 rows\n",
      "\n",
      "areaUnderROC: 0.9997702695762514\n"
     ]
    },
    {
     "data": {
      "text/plain": [
       "roc: org.apache.spark.sql.DataFrame = [FPR: double, TPR: double]\n"
      ]
     },
     "execution_count": 147,
     "metadata": {},
     "output_type": "execute_result"
    }
   ],
   "source": [
    "val roc = trainingSummary.roc\n",
    "roc.createOrReplaceTempView(\"roc\")\n",
    "roc.show()\n",
    "println(s\"areaUnderROC: ${trainingSummary.areaUnderROC}\")"
   ]
  },
  {
   "cell_type": "code",
   "execution_count": 79,
   "metadata": {},
   "outputs": [
    {
     "name": "stdout",
     "output_type": "stream",
     "text": [
      "Collecting pandas\n",
      "\u001b[?25l  Downloading https://files.pythonhosted.org/packages/19/74/e50234bc82c553fecdbd566d8650801e3fe2d6d8c8d940638e3d8a7c5522/pandas-0.24.2-cp36-cp36m-manylinux1_x86_64.whl (10.1MB)\n",
      "\u001b[K     |################################| 10.1MB 31.8MB/s eta 0:00:01\n",
      "\u001b[?25hCollecting pytz>=2011k (from pandas)\n",
      "\u001b[?25l  Downloading https://files.pythonhosted.org/packages/3d/73/fe30c2daaaa0713420d0382b16fbb761409f532c56bdcc514bf7b6262bb6/pytz-2019.1-py2.py3-none-any.whl (510kB)\n",
      "\u001b[K     |################################| 512kB 54.1MB/s eta 0:00:01\n",
      "\u001b[?25hCollecting numpy>=1.12.0 (from pandas)\n",
      "\u001b[?25l  Downloading https://files.pythonhosted.org/packages/87/2d/e4656149cbadd3a8a0369fcd1a9c7d61cc7b87b3903b85389c70c989a696/numpy-1.16.4-cp36-cp36m-manylinux1_x86_64.whl (17.3MB)\n",
      "\u001b[K     |############################    | 15.4MB 56.1MB/s eta 0:00:01"
     ]
    },
    {
     "name": "stderr",
     "output_type": "stream",
     "text": [
      "IOPub message rate exceeded.\n",
      "The notebook server will temporarily stop sending output\n",
      "to the client in order to avoid crashing it.\n",
      "To change this limit, set the config variable\n",
      "`--NotebookApp.iopub_msg_rate_limit`.\n",
      "\n",
      "Current values:\n",
      "NotebookApp.iopub_msg_rate_limit=1000.0 (msgs/sec)\n",
      "NotebookApp.rate_limit_window=3.0 (secs)\n",
      "\n"
     ]
    },
    {
     "name": "stdout",
     "output_type": "stream",
     "text": [
      "Successfully installed numpy-1.16.4 pandas-0.24.2 pytz-2019.1\n",
      "Collecting matplotlib\n",
      "\u001b[?25l  Downloading https://files.pythonhosted.org/packages/da/83/d989ee20c78117c737ab40e0318ea221f1aed4e3f5a40b4f93541b369b93/matplotlib-3.1.0-cp36-cp36m-manylinux1_x86_64.whl (13.1MB)\n",
      "\u001b[K     |################################| 13.1MB 21.7MB/s eta 0:00:01\n",
      "\u001b[?25hCollecting cycler>=0.10 (from matplotlib)\n",
      "  Downloading https://files.pythonhosted.org/packages/f7/d2/e07d3ebb2bd7af696440ce7e754c59dd546ffe1bbe732c8ab68b9c834e61/cycler-0.10.0-py2.py3-none-any.whl\n",
      "Collecting pyparsing!=2.0.4,!=2.1.2,!=2.1.6,>=2.0.1 (from matplotlib)\n",
      "\u001b[?25l  Downloading https://files.pythonhosted.org/packages/dd/d9/3ec19e966301a6e25769976999bd7bbe552016f0d32b577dc9d63d2e0c49/pyparsing-2.4.0-py2.py3-none-any.whl (62kB)\n",
      "\u001b[K     |################################| 71kB 32.5MB/s eta 0:00:01\n",
      "\u001b[?25hRequirement already satisfied: numpy>=1.11 in /usr/local/lib/python3.6/dist-packages (from matplotlib) (1.16.4)\n",
      "Collecting kiwisolver>=1.0.1 (from matplotlib)\n",
      "\u001b[?25l  Downloading https://files.pythonhosted.org/packages/f8/a1/5742b56282449b1c0968197f63eae486eca2c35dcd334bab75ad524e0de1/kiwisolver-1.1.0-cp36-cp36m-manylinux1_x86_64.whl (90kB)\n",
      "\u001b[K     |################################| 92kB 35.0MB/s eta 0:00:01\n",
      "\u001b[?25hRequirement already satisfied: python-dateutil>=2.1 in /usr/local/lib/python3.6/dist-packages (from matplotlib) (2.8.0)\n",
      "Requirement already satisfied: six in /usr/lib/python3/dist-packages (from cycler>=0.10->matplotlib) (1.11.0)\n",
      "Requirement already satisfied: setuptools in /usr/lib/python3/dist-packages (from kiwisolver>=1.0.1->matplotlib) (39.0.1)\n",
      "Installing collected packages: cycler, pyparsing, kiwisolver, matplotlib\n",
      "Successfully installed cycler-0.10.0 kiwisolver-1.1.0 matplotlib-3.1.0 pyparsing-2.4.0\n"
     ]
    }
   ],
   "source": [
    "! pip install pandas\n",
    "! pip install matplotlib"
   ]
  },
  {
   "cell_type": "code",
   "execution_count": 148,
   "metadata": {},
   "outputs": [
    {
     "name": "stdout",
     "output_type": "stream",
     "text": [
      "   FPR       TPR\n",
      "0  0.0  0.000000\n",
      "1  0.0  0.103739\n",
      "2  0.0  0.200241\n",
      "3  0.0  0.296743\n",
      "4  0.0  0.393245\n"
     ]
    },
    {
     "data": {
      "image/png": "[encoded data removed]",
      "text/plain": [
       "<IPython.core.display.Image object>"
      ]
     },
     "execution_count": 148,
     "metadata": {},
     "output_type": "execute_result"
    }
   ],
   "source": [
    "%%python\n",
    "import pandas as pd\n",
    "import matplotlib.pyplot as plt\n",
    "import tempfile\n",
    "from IPython.display import Image\n",
    "\n",
    "roc = spark.sql(\"select * from roc\")\n",
    "rocPandas = roc.toPandas()\n",
    "print(rocPandas.head())\n",
    "plt.clf()\n",
    "plt.plot(rocPandas['FPR'],rocPandas['TPR'])\n",
    "with tempfile.NamedTemporaryFile(suffix=\".png\") as fo:\n",
    "    plt.savefig(fo.name)\n",
    "    retval = Image(filename=fo.name)"
   ]
  },
  {
   "cell_type": "markdown",
   "metadata": {},
   "source": [
    "## Prediction on test set"
   ]
  },
  {
   "cell_type": "code",
   "execution_count": 149,
   "metadata": {},
   "outputs": [
    {
     "name": "stdout",
     "output_type": "stream",
     "text": [
      "+-----+----------+--------+\n",
      "|label|prediction|count(1)|\n",
      "+-----+----------+--------+\n",
      "|1    |0.0       |135     |\n",
      "|0    |0.0       |3422    |\n",
      "|1    |1.0       |293     |\n",
      "|0    |1.0       |117     |\n",
      "+-----+----------+--------+\n",
      "\n",
      "+--------+---------+------+---+----+----+----+----+\n",
      "|Accuracy|Precision|Recall|F1 |TPR |FPR |TNR |FNR |\n",
      "+--------+---------+------+---+----+----+----+----+\n",
      "|0.94    |0.71     |0.68  |0.7|0.68|0.03|0.97|0.32|\n",
      "+--------+---------+------+---+----+----+----+----+\n",
      "\n"
     ]
    },
    {
     "data": {
      "text/plain": [
       "prediction: org.apache.spark.sql.DataFrame = [loan_amnt: int, term: string ... 103 more fields]\n"
      ]
     },
     "execution_count": 149,
     "metadata": {},
     "output_type": "execute_result"
    }
   ],
   "source": [
    "val prediction = lr.transform(testData)\n",
    "evaluatePrediction(prediction)"
   ]
  },
  {
   "cell_type": "markdown",
   "metadata": {},
   "source": [
    "# Decision Tree fitting"
   ]
  },
  {
   "cell_type": "code",
   "execution_count": 150,
   "metadata": {},
   "outputs": [
    {
     "name": "stdout",
     "output_type": "stream",
     "text": [
      "2019-06-10 06:29:59,579 WARN  [Executor task launch worker for task 2440] memory.MemoryStore (Logging.scala:logWarning(66)) - Not enough space to cache rdd_2064_0 in memory! (computed 121.0 MB so far)\n",
      "2019-06-10 06:29:59,579 WARN  [Executor task launch worker for task 2440] storage.BlockManager (Logging.scala:logWarning(66)) - Persisting block rdd_2064_0 to disk instead.\n",
      "2019-06-10 06:30:04,074 WARN  [Executor task launch worker for task 2440] memory.MemoryStore (Logging.scala:logWarning(66)) - Not enough space to cache rdd_2064_0 in memory! (computed 121.0 MB so far)\n",
      "2019-06-10 06:30:04,806 WARN  [Executor task launch worker for task 2444] memory.MemoryStore (Logging.scala:logWarning(66)) - Not enough space to cache rdd_2064_0 in memory! (computed 121.0 MB so far)\n",
      "2019-06-10 06:30:06,035 WARN  [Executor task launch worker for task 2448] memory.MemoryStore (Logging.scala:logWarning(66)) - Not enough space to cache rdd_2064_0 in memory! (computed 121.0 MB so far)\n",
      "2019-06-10 06:30:07,110 WARN  [Executor task launch worker for task 2452] memory.MemoryStore (Logging.scala:logWarning(66)) - Not enough space to cache rdd_2064_0 in memory! (computed 121.0 MB so far)\n",
      "2019-06-10 06:30:07,923 WARN  [Executor task launch worker for task 2456] memory.MemoryStore (Logging.scala:logWarning(66)) - Not enough space to cache rdd_2064_0 in memory! (computed 121.0 MB so far)\n"
     ]
    },
    {
     "data": {
      "text/plain": [
       "dt: org.apache.spark.ml.PipelineModel = pipeline_b9b919409607\n",
       "model: org.apache.spark.ml.classification.DecisionTreeClassificationModel = DecisionTreeClassificationModel (uid=dtc_e74d05ac488b) of depth 5 with 27 nodes\n",
       "prediction: org.apache.spark.sql.DataFrame = [loan_amnt: int, term: string ... 103 more fields]\n"
      ]
     },
     "execution_count": 150,
     "metadata": {},
     "output_type": "execute_result"
    }
   ],
   "source": [
    "// fitting decision tree model\n",
    "val dt = runModel(trainingData,\"dt\",featureEngineeringPipeline = featureEngineeringPipeline)\n",
    "\n",
    "val model = dt.stages(dt.stages.length-1).asInstanceOf[DecisionTreeClassificationModel]\n",
    "val prediction = dt.transform(testData)"
   ]
  },
  {
   "cell_type": "code",
   "execution_count": 152,
   "metadata": {},
   "outputs": [
    {
     "name": "stdout",
     "output_type": "stream",
     "text": [
      "+-----+----------+--------+\n",
      "|label|prediction|count(1)|\n",
      "+-----+----------+--------+\n",
      "|1    |0.0       |59      |\n",
      "|0    |0.0       |3477    |\n",
      "|1    |1.0       |369     |\n",
      "|0    |1.0       |62      |\n",
      "+-----+----------+--------+\n",
      "\n",
      "+--------+---------+------+----+----+----+----+----+\n",
      "|Accuracy|Precision|Recall|F1  |TPR |FPR |TNR |FNR |\n",
      "+--------+---------+------+----+----+----+----+----+\n",
      "|0.97    |0.86     |0.86  |0.86|0.86|0.02|0.98|0.14|\n",
      "+--------+---------+------+----+----+----+----+----+\n",
      "\n"
     ]
    }
   ],
   "source": [
    "evaluatePrediction(prediction)"
   ]
  },
  {
   "cell_type": "markdown",
   "metadata": {},
   "source": [
    "# Random Forest fitting"
   ]
  },
  {
   "cell_type": "code",
   "execution_count": 153,
   "metadata": {},
   "outputs": [
    {
     "name": "stdout",
     "output_type": "stream",
     "text": [
      "2019-06-10 06:31:34,129 WARN  [Executor task launch worker for task 2952] memory.MemoryStore (Logging.scala:logWarning(66)) - Not enough space to cache rdd_2329_0 in memory! (computed 121.5 MB so far)\n",
      "2019-06-10 06:31:34,129 WARN  [Executor task launch worker for task 2952] storage.BlockManager (Logging.scala:logWarning(66)) - Persisting block rdd_2329_0 to disk instead.\n",
      "2019-06-10 06:31:38,491 WARN  [Executor task launch worker for task 2952] memory.MemoryStore (Logging.scala:logWarning(66)) - Not enough space to cache rdd_2329_0 in memory! (computed 121.5 MB so far)\n",
      "2019-06-10 06:31:40,473 WARN  [Executor task launch worker for task 2956] memory.MemoryStore (Logging.scala:logWarning(66)) - Not enough space to cache rdd_2329_0 in memory! (computed 121.5 MB so far)\n",
      "2019-06-10 06:31:41,323 WARN  [Executor task launch worker for task 2960] memory.MemoryStore (Logging.scala:logWarning(66)) - Not enough space to cache rdd_2329_0 in memory! (computed 121.5 MB so far)\n",
      "2019-06-10 06:31:42,622 WARN  [Executor task launch worker for task 2964] memory.MemoryStore (Logging.scala:logWarning(66)) - Not enough space to cache rdd_2329_0 in memory! (computed 121.5 MB so far)\n",
      "2019-06-10 06:31:43,921 WARN  [Executor task launch worker for task 2968] memory.MemoryStore (Logging.scala:logWarning(66)) - Not enough space to cache rdd_2329_0 in memory! (computed 121.5 MB so far)\n"
     ]
    },
    {
     "data": {
      "text/plain": [
       "rf: org.apache.spark.ml.PipelineModel = pipeline_95b0c78ce0e8\n",
       "model: org.apache.spark.ml.classification.RandomForestClassificationModel = RandomForestClassificationModel (uid=rfc_c93a37305f88) with 20 trees\n",
       "prediction: org.apache.spark.sql.DataFrame = [loan_amnt: int, term: string ... 103 more fields]\n"
      ]
     },
     "execution_count": 153,
     "metadata": {},
     "output_type": "execute_result"
    }
   ],
   "source": [
    "// fitting random forest model\n",
    "val rf = runModel(trainingData,\"rf\",featureEngineeringPipeline = featureEngineeringPipeline)\n",
    "\n",
    "val model = rf.stages(rf.stages.length-1).asInstanceOf[RandomForestClassificationModel]\n",
    "val prediction = rf.transform(testData)"
   ]
  },
  {
   "cell_type": "code",
   "execution_count": 154,
   "metadata": {},
   "outputs": [
    {
     "name": "stdout",
     "output_type": "stream",
     "text": [
      "+-----+----------+--------+\n",
      "|label|prediction|count(1)|\n",
      "+-----+----------+--------+\n",
      "|1    |0.0       |428     |\n",
      "|0    |0.0       |3539    |\n",
      "+-----+----------+--------+\n",
      "\n",
      "+--------+---------+------+---+---+---+---+---+\n",
      "|Accuracy|Precision|Recall|F1 |TPR|FPR|TNR|FNR|\n",
      "+--------+---------+------+---+---+---+---+---+\n",
      "|0.89    |null     |0.0   |0.0|0.0|0.0|1.0|1.0|\n",
      "+--------+---------+------+---+---+---+---+---+\n",
      "\n"
     ]
    }
   ],
   "source": [
    "evaluatePrediction(prediction)"
   ]
  },
  {
   "cell_type": "markdown",
   "metadata": {},
   "source": [
    "# Compare 3 models\n",
    "\n",
    "| Model| Accuracy | Precision | Recall | F1 | TPR | FPR | TNR | FNR |\n",
    "|------|------|------|------|------|------|------|------|------|\n",
    "|   logistic  | 0.94    |0.71     |0.68  |0.7|0.68|0.03|0.97|0.32|\n",
    "|   decision tree | 0.97    |0.86     |0.86  |0.86|0.86|0.02|0.98|0.14|\n",
    "|   random forest | 0.89    |0.0     |0.0   |0.0|0.0|0.0|1.0|1.0|\n",
    "\n",
    "Decistion Tree performs the best. Logistic Regression performs worse than decision tree in all metrics. Particularly, false negative rate of logistic regression is more than double of decistion tree model. Any falst negative imposes a much larger risk to the financial institution than false positive. \n",
    "\n",
    "Random forest somehow predicts all test set to be negative, so false negative rate is 100%. That shows random forest is not a good option for imbalance data."
   ]
  },
  {
   "cell_type": "markdown",
   "metadata": {},
   "source": [
    "# Inspect Logistic Regression Model Coefficients"
   ]
  },
  {
   "cell_type": "markdown",
   "metadata": {},
   "source": [
    "## Get coefficient vector from logistic regression model"
   ]
  },
  {
   "cell_type": "code",
   "execution_count": 91,
   "metadata": {},
   "outputs": [
    {
     "data": {
      "text/plain": [
       "coefficients: org.apache.spark.sql.DataFrame = [coeff: double]\n"
      ]
     },
     "execution_count": 91,
     "metadata": {},
     "output_type": "execute_result"
    }
   ],
   "source": [
    "val coefficients = lrModel.coefficients.toArray.toList.toDF(\"coeff\")"
   ]
  },
  {
   "cell_type": "code",
   "execution_count": 92,
   "metadata": {},
   "outputs": [
    {
     "name": "stdout",
     "output_type": "stream",
     "text": [
      "+-------+-------------------+\n",
      "|summary|              coeff|\n",
      "+-------+-------------------+\n",
      "|  count|               9357|\n",
      "|   mean|-0.6311399599109841|\n",
      "| stddev| 4.6152063028236565|\n",
      "|    min| -25.31775747368051|\n",
      "|    max|  33.80829819140034|\n",
      "+-------+-------------------+\n",
      "\n"
     ]
    }
   ],
   "source": [
    "coefficients.describe().show()"
   ]
  },
  {
   "cell_type": "code",
   "execution_count": 93,
   "metadata": {},
   "outputs": [],
   "source": [
    "coefficients.createOrReplaceTempView(\"coeff\")"
   ]
  },
  {
   "cell_type": "code",
   "execution_count": 94,
   "metadata": {},
   "outputs": [
    {
     "name": "stdout",
     "output_type": "stream",
     "text": [
      "      coeff\n",
      "0 -0.581733\n",
      "1 -0.093194\n",
      "2  0.000000\n",
      "3 -0.012962\n",
      "4 -0.400287\n"
     ]
    },
    {
     "data": {
      "image/png": "[encoded data removed]",
      "text/plain": [
       "<IPython.core.display.Image object>"
      ]
     },
     "execution_count": 94,
     "metadata": {},
     "output_type": "execute_result"
    }
   ],
   "source": [
    "%%python\n",
    "import pandas as pd\n",
    "import matplotlib.pyplot as plt\n",
    "import tempfile\n",
    "from IPython.display import Image\n",
    "\n",
    "coeff = spark.sql(\"select * from coeff\")\n",
    "coeffPandas = coeff.toPandas()\n",
    "print(coeffPandas.head())\n",
    "plt.clf()\n",
    "plt.boxplot(coeffPandas['coeff'])\n",
    "# plt.plot(rocPandas['FPR'],rocPandas['TPR'])\n",
    "with tempfile.NamedTemporaryFile(suffix=\".png\") as fo:\n",
    "    plt.savefig(fo.name)\n",
    "    retval = Image(filename=fo.name)"
   ]
  },
  {
   "cell_type": "code",
   "execution_count": 95,
   "metadata": {},
   "outputs": [
    {
     "name": "stdout",
     "output_type": "stream",
     "text": [
      "+------------------+\n",
      "|             coeff|\n",
      "+------------------+\n",
      "| 33.80829819140034|\n",
      "| 33.67597093272743|\n",
      "|30.423092752416306|\n",
      "|30.416448041835448|\n",
      "|28.267026981802548|\n",
      "|28.209291145071546|\n",
      "|26.709100180462436|\n",
      "|26.291729574207395|\n",
      "|25.964803675223084|\n",
      "|25.882539240953996|\n",
      "+------------------+\n",
      "only showing top 10 rows\n",
      "\n"
     ]
    }
   ],
   "source": [
    "coefficients.orderBy(desc(\"coeff\")).show(10)"
   ]
  },
  {
   "cell_type": "code",
   "execution_count": 96,
   "metadata": {},
   "outputs": [
    {
     "name": "stdout",
     "output_type": "stream",
     "text": [
      "+-------------------+\n",
      "|              coeff|\n",
      "+-------------------+\n",
      "| -25.31775747368051|\n",
      "|-13.593201705928879|\n",
      "|-12.999584346008902|\n",
      "|-12.914881566872252|\n",
      "|-11.979821746507612|\n",
      "|-11.800584923440665|\n",
      "|-11.583361620924641|\n",
      "|-11.336507863448887|\n",
      "|-11.309337704739656|\n",
      "|-11.155833609844997|\n",
      "+-------------------+\n",
      "only showing top 10 rows\n",
      "\n"
     ]
    }
   ],
   "source": [
    "coefficients.orderBy(asc(\"coeff\")).show(10)"
   ]
  },
  {
   "cell_type": "markdown",
   "metadata": {},
   "source": [
    "## Look for the feature vector indexes of 10 largest and smallest coefficients\n"
   ]
  },
  {
   "cell_type": "code",
   "execution_count": 97,
   "metadata": {},
   "outputs": [
    {
     "data": {
      "text/plain": [
       "coefficientsArr: Array[Double] = Array(-0.5817333520261013, -0.09319441016785333, 0.0, -0.012962161513120643, -0.40028730813228497, -0.6596954275443337, 0.34224727534728666, 0.3502627341477298, -0.508221684496821, 0.5182175564423831, 0.0, -0.03586827107467746, -0.2501432329723487, 0.1297987638152875, -0.29598326430026456, 0.20742158592522097, -0.05442095192904407, 0.19437938049190415, -0.766536948125595, -0.5863384675132409, -0.10291657793085895, -0.2604319394646912, -0.8473043423862151, -0.1494627530598978, -0.6037828526192519, -0.03317296516896737, 0.34967210973328955, 0.9584104062742723, -1.0321213014129715, -0.20912208668079782, 0.2484154176274044, 0.6125401077806583, -1.032765271512543, 1.071649283466267, 0.19905613623060409, 1.2250095218674764, -1.6264511209004122, -0.093852252959..."
      ]
     },
     "execution_count": 97,
     "metadata": {},
     "output_type": "execute_result"
    }
   ],
   "source": [
    "val coefficientsArr = lrModel.coefficients.toArray"
   ]
  },
  {
   "cell_type": "code",
   "execution_count": 98,
   "metadata": {},
   "outputs": [
    {
     "data": {
      "text/plain": [
       "lowestIndex: Array[Int] = Array(723, 2433, 2539, 4039, 4568, 5385, 5671, 7386, 7423)\n"
      ]
     },
     "execution_count": 98,
     "metadata": {},
     "output_type": "execute_result"
    }
   ],
   "source": [
    "val lowestIndex = for { i <- coefficientsArr.zipWithIndex\n",
    "     if i._1 < -11.155833609844997} yield i._2"
   ]
  },
  {
   "cell_type": "code",
   "execution_count": 100,
   "metadata": {},
   "outputs": [
    {
     "data": {
      "text/plain": [
       "res23: Int = 7423\n"
      ]
     },
     "execution_count": 100,
     "metadata": {},
     "output_type": "execute_result"
    }
   ],
   "source": [
    "lowestIndex.max"
   ]
  },
  {
   "cell_type": "code",
   "execution_count": 99,
   "metadata": {},
   "outputs": [
    {
     "data": {
      "text/plain": [
       "highestIndex: Array[Int] = Array(1733, 2010, 2195, 3801, 4824, 5247, 5561, 5874, 7409)\n"
      ]
     },
     "execution_count": 99,
     "metadata": {},
     "output_type": "execute_result"
    }
   ],
   "source": [
    "val highestIndex = for { i <- coefficientsArr.zipWithIndex\n",
    "     if i._1 > 25.882539240953996} yield i._2"
   ]
  },
  {
   "cell_type": "code",
   "execution_count": 101,
   "metadata": {},
   "outputs": [
    {
     "data": {
      "text/plain": [
       "res24: Int = 7409\n"
      ]
     },
     "execution_count": 101,
     "metadata": {},
     "output_type": "execute_result"
    }
   ],
   "source": [
    "highestIndex.max"
   ]
  },
  {
   "cell_type": "markdown",
   "metadata": {},
   "source": [
    "## Look at how the feature vector been created"
   ]
  },
  {
   "cell_type": "code",
   "execution_count": 105,
   "metadata": {},
   "outputs": [
    {
     "name": "stdout",
     "output_type": "stream",
     "text": [
      "+-------------+\n",
      "|term_vec     |\n",
      "+-------------+\n",
      "|(3,[0],[1.0])|\n",
      "|(3,[0],[1.0])|\n",
      "|(3,[0],[1.0])|\n",
      "|(3,[0],[1.0])|\n",
      "|(3,[0],[1.0])|\n",
      "+-------------+\n",
      "only showing top 5 rows\n",
      "\n",
      "+-------------+\n",
      "|grade_vec    |\n",
      "+-------------+\n",
      "|(8,[2],[1.0])|\n",
      "|(8,[2],[1.0])|\n",
      "|(8,[2],[1.0])|\n",
      "|(8,[1],[1.0])|\n",
      "|(8,[1],[1.0])|\n",
      "+-------------+\n",
      "only showing top 5 rows\n",
      "\n",
      "+---------------+\n",
      "|sub_grade_vec  |\n",
      "+---------------+\n",
      "|(36,[11],[1.0])|\n",
      "|(36,[11],[1.0])|\n",
      "|(36,[11],[1.0])|\n",
      "|(36,[5],[1.0]) |\n",
      "|(36,[7],[1.0]) |\n",
      "+---------------+\n",
      "only showing top 5 rows\n",
      "\n",
      "+-------------------+\n",
      "|emp_title_vec      |\n",
      "+-------------------+\n",
      "|(7715,[7714],[1.0])|\n",
      "|(7715,[7714],[1.0])|\n",
      "|(7715,[5418],[1.0])|\n",
      "|(7715,[616],[1.0]) |\n",
      "|(7715,[7714],[1.0])|\n",
      "+-------------------+\n",
      "only showing top 5 rows\n",
      "\n",
      "+---------------+\n",
      "|emp_length_vec |\n",
      "+---------------+\n",
      "|(13,[4],[1.0]) |\n",
      "|(13,[0],[1.0]) |\n",
      "|(13,[3],[1.0]) |\n",
      "|(13,[10],[1.0])|\n",
      "|(13,[0],[1.0]) |\n",
      "+---------------+\n",
      "only showing top 5 rows\n",
      "\n",
      "+------------------+\n",
      "|home_ownership_vec|\n",
      "+------------------+\n",
      "|(5,[0],[1.0])     |\n",
      "|(5,[0],[1.0])     |\n",
      "|(5,[0],[1.0])     |\n",
      "|(5,[0],[1.0])     |\n",
      "|(5,[0],[1.0])     |\n",
      "+------------------+\n",
      "only showing top 5 rows\n",
      "\n",
      "+-----------------------+\n",
      "|verification_status_vec|\n",
      "+-----------------------+\n",
      "|(4,[1],[1.0])          |\n",
      "|(4,[1],[1.0])          |\n",
      "|(4,[1],[1.0])          |\n",
      "|(4,[0],[1.0])          |\n",
      "|(4,[1],[1.0])          |\n",
      "+-----------------------+\n",
      "only showing top 5 rows\n",
      "\n",
      "+---------------+\n",
      "|issue_d_vec    |\n",
      "+---------------+\n",
      "|(13,[0],[1.0]) |\n",
      "|(13,[8],[1.0]) |\n",
      "|(13,[0],[1.0]) |\n",
      "|(13,[0],[1.0]) |\n",
      "|(13,[10],[1.0])|\n",
      "+---------------+\n",
      "only showing top 5 rows\n",
      "\n",
      "+--------------+\n",
      "|purpose_vec   |\n",
      "+--------------+\n",
      "|(13,[4],[1.0])|\n",
      "|(13,[5],[1.0])|\n",
      "|(13,[3],[1.0])|\n",
      "|(13,[3],[1.0])|\n",
      "|(13,[0],[1.0])|\n",
      "+--------------+\n",
      "only showing top 5 rows\n",
      "\n",
      "+--------------+\n",
      "|title_vec     |\n",
      "+--------------+\n",
      "|(13,[4],[1.0])|\n",
      "|(13,[5],[1.0])|\n",
      "|(13,[3],[1.0])|\n",
      "|(13,[3],[1.0])|\n",
      "|(13,[0],[1.0])|\n",
      "+--------------+\n",
      "only showing top 5 rows\n",
      "\n",
      "+-----------------+\n",
      "|zip_code_vec     |\n",
      "+-----------------+\n",
      "|(824,[136],[1.0])|\n",
      "|(824,[84],[1.0]) |\n",
      "|(824,[334],[1.0])|\n",
      "|(824,[292],[1.0])|\n",
      "|(824,[55],[1.0]) |\n",
      "+-----------------+\n",
      "only showing top 5 rows\n",
      "\n",
      "+---------------+\n",
      "|addr_state_vec |\n",
      "+---------------+\n",
      "|(51,[19],[1.0])|\n",
      "|(51,[0],[1.0]) |\n",
      "|(51,[6],[1.0]) |\n",
      "|(51,[9],[1.0]) |\n",
      "|(51,[4],[1.0]) |\n",
      "+---------------+\n",
      "only showing top 5 rows\n",
      "\n",
      "+--------------------+\n",
      "|earliest_cr_line_vec|\n",
      "+--------------------+\n",
      "|(552,[385],[1.0])   |\n",
      "|(552,[196],[1.0])   |\n",
      "|(552,[129],[1.0])   |\n",
      "|(552,[165],[1.0])   |\n",
      "|(552,[340],[1.0])   |\n",
      "+--------------------+\n",
      "only showing top 5 rows\n",
      "\n",
      "+-----------------------+\n",
      "|initial_list_status_vec|\n",
      "+-----------------------+\n",
      "|(3,[0],[1.0])          |\n",
      "|(3,[0],[1.0])          |\n",
      "|(3,[0],[1.0])          |\n",
      "|(3,[1],[1.0])          |\n",
      "|(3,[0],[1.0])          |\n",
      "+-----------------------+\n",
      "only showing top 5 rows\n",
      "\n",
      "+----------------+\n",
      "|last_pymnt_d_vec|\n",
      "+----------------+\n",
      "|(27,[0],[1.0])  |\n",
      "|(27,[0],[1.0])  |\n",
      "|(27,[0],[1.0])  |\n",
      "|(27,[13],[1.0]) |\n",
      "|(27,[20],[1.0]) |\n",
      "+----------------+\n",
      "only showing top 5 rows\n",
      "\n",
      "+----------------------+\n",
      "|last_credit_pull_d_vec|\n",
      "+----------------------+\n",
      "|(27,[0],[1.0])        |\n",
      "|(27,[0],[1.0])        |\n",
      "|(27,[0],[1.0])        |\n",
      "|(27,[0],[1.0])        |\n",
      "|(27,[3],[1.0])        |\n",
      "+----------------------+\n",
      "only showing top 5 rows\n",
      "\n",
      "+--------------------+\n",
      "|application_type_vec|\n",
      "+--------------------+\n",
      "|(3,[0],[1.0])       |\n",
      "|(3,[0],[1.0])       |\n",
      "|(3,[0],[1.0])       |\n",
      "|(3,[0],[1.0])       |\n",
      "|(3,[0],[1.0])       |\n",
      "+--------------------+\n",
      "only showing top 5 rows\n",
      "\n",
      "+-------------------------------------------------------------------------------------------------------------------------------------------------------------------------------------------------------------------------------------------------------------------------------------------------------------------------------------------------------------------------------------------------------------------------------------------------------------------------------------------------------------------------------------------------------------------------------------------------------------------------------------------------------------------------------------------------------------------------------------------------------------------------------------------------------------------------------------------------------------------------------------------------------------------------------------------------------------------------+\n",
      "|numerical_features_vec                                                                                                                                                                                                                                                                                                                                                                                                                                                                                                                                                                                                                                                                                                                                                                                                                                                                                                                                                   |\n",
      "+-------------------------------------------------------------------------------------------------------------------------------------------------------------------------------------------------------------------------------------------------------------------------------------------------------------------------------------------------------------------------------------------------------------------------------------------------------------------------------------------------------------------------------------------------------------------------------------------------------------------------------------------------------------------------------------------------------------------------------------------------------------------------------------------------------------------------------------------------------------------------------------------------------------------------------------------------------------------------+\n",
      "|[-1.4238931150085783,-1.5248168270830211,0.07802196146653365,0.47103466749526995,-0.35054769547818926,0.6302582913486303,0.9590711871791082,-0.37569786197160626,-0.2907284299387723,-1.0030959603318255,0.5035376085027575,-0.7599830468953955,-1.2080872086427112,-0.9994875043117543,-0.1287439082275513,-0.14741156151473833,-0.49537096277637355,-0.13645353401551158,0.0,-0.0638896820013784,-0.14566061985721382,0.141585521470416,0.23507671324954088,-0.15631553293218184,-0.08112131694135093,-0.02069304874680548,0.9621178587412925,2.668776073097375,0.5535903184682912,0.36282292092816654,2.065839209139787,0.013454095703419528,-0.3623644836282453,0.4529313904336894,0.06946264899157126,0.5126231311510122,-0.15034356353903625,0.9704976728560194,-0.020853384599482924,-0.15778277151800682,-0.5599997057107147,-0.0626023987120369,-1.0557031364728535,-0.3628097414777991,-0.1593079969181365,0.6214027715603329,0.8816226405165757]              |\n",
      "|[-1.4238931150085783,-1.5248168270830211,-0.48797984764248575,-0.12634958923794598,-0.35054769547818926,-0.6306498047610705,-0.2765274057531701,-0.37569786197160626,-0.5693464566255254,-1.4832491684623452,0.07519814153393098,-0.7792883054342401,-1.1885957874065822,-0.994556188880209,-0.1287439082275513,-0.14741156151473833,-0.49537096277637355,-0.13645353401551158,0.0,-0.0638896820013784,-0.14566061985721382,0.1869571852250492,-0.005985435468703054,-0.7993476000689498,-0.08112131694135093,-0.02069304874680548,-1.3621722501187816,1.1484537526930696,-0.62484899702178,-0.5842742955948248,1.4878493075712353,-0.6572929727552866,-0.3623644836282453,-0.4341464714191074,-0.25326009674162,-0.8767179916167602,0.6207108672701543,-0.27024984817748543,-0.020853384599482924,-0.15778277151800682,-0.0069716632073653795,0.6454315527517307,-1.0557031364728535,-0.3628097414777991,-0.1593079969181365,0.2458634307965862,-0.7479616634434637]    |\n",
      "|[-1.4238931150085783,-1.5248168270830211,-0.41594325375588326,-0.48712940720884895,-0.35054769547818926,0.6302582913486303,-0.10001332104855887,-0.37569786197160626,-0.25736595469968554,-0.20822048132583856,0.6748733952902882,-0.7704900494225587,-1.1987556583696375,-1.0015358230756353,-0.1287439082275513,-0.14741156151473833,-0.49537096277637355,-0.13645353401551158,0.0,-0.0638896820013784,-0.14566061985721382,0.42854929163282157,-0.30584323021578697,-0.7993476000689498,-0.08112131694135093,-0.02069304874680548,-0.5408065725516877,-0.6419258219935797,-0.196325609570845,0.2575898968700564,-0.24612039713441877,-0.4133849478612117,-0.3623644836282453,-0.7298390920367064,0.39218539472476255,0.2347549065974577,0.749219939071686,-0.09300020231555617,-0.020853384599482924,-0.15778277151800682,-0.5599997057107147,0.6454315527517307,-0.5925062779408594,-0.3628097414777991,-0.1593079969181365,0.37123410731693113,-0.08996536373254546]|\n",
      "|[-1.4238931150085783,-0.7258187792622897,-0.31303383391787976,-0.8876229725843009,-0.35054769547818926,0.6302582913486303,-0.6295555751623925,-0.37569786197160626,-0.6978792985590317,-1.8100761420637916,0.1608660349276963,-0.8314972529137205,-1.1438691295830012,-1.0108180170056351,-0.1287439082275513,-0.14741156151473833,-0.34977479697310937,-0.13645353401551158,0.0,-0.0638896820013784,-0.14566061985721382,-0.8634088337803585,0.06456933976590493,3.701876869888426,-0.08112131694135093,-0.02069304874680548,-1.1349859988768194,-0.8919788352179722,-0.6784144204531468,-0.689507319652935,-0.8241102987029701,-0.6877814758670461,-0.3623644836282453,-1.0255317126543053,0.39218539472476255,-0.8767179916167602,1.1347471544762813,-0.624749139901344,-0.020853384599482924,-0.15778277151800682,2.758168549309381,0.6454315527517307,-1.0557031364728535,-0.3628097414777991,-0.1593079969181365,-0.7761452219339408,-0.9483018864334256]          |\n",
      "|[-1.4238931150085783,-0.3476522275024771,0.4073321049481449,-0.7164623147562446,-0.35054769547818926,-0.6306498047610705,-0.8060696598670036,1.3508611195719922,-0.3863123810369822,0.2154441140834437,-0.6958128990099569,-0.8314972529137205,-1.1454435196047523,-1.0166559653326686,-0.1287439082275513,-0.14741156151473833,-0.429685374257073,-0.13645353401551158,0.0,-0.0638896820013784,-0.14566061985721382,-0.7409533539854464,-0.6057010249628709,-0.15631553293218184,-0.08112131694135093,-0.02069304874680548,0.36793843241616075,1.718574622844684,-0.24989103300221188,0.15235687281194626,-0.24612039713441877,-0.44387345097297104,0.331801026705519,-0.13845385080150846,-0.8987055882080025,-0.7377838793399829,-0.27885263534056803,-0.8019987857632732,-0.020853384599482924,-0.15778277151800682,-0.0069716632073653795,-0.08312512194286957,1.7179307469522613,2.2819730865063583,-0.1593079969181365,-0.7986674131394399,-0.5286145145089893]   |\n"
     ]
    },
    {
     "name": "stdout",
     "output_type": "stream",
     "text": [
      "+-------------------------------------------------------------------------------------------------------------------------------------------------------------------------------------------------------------------------------------------------------------------------------------------------------------------------------------------------------------------------------------------------------------------------------------------------------------------------------------------------------------------------------------------------------------------------------------------------------------------------------------------------------------------------------------------------------------------------------------------------------------------------------------------------------------------------------------------------------------------------------------------------------------------------------------------------------------------------+\n",
      "only showing top 5 rows\n",
      "\n"
     ]
    }
   ],
   "source": [
    "allFeatureColumns.foreach{ f =>\n",
    "    prediction.select(f).show(5,false)\n",
    "}"
   ]
  },
  {
   "cell_type": "markdown",
   "metadata": {},
   "source": [
    "#### length of feature vector for catogirical variables\n",
    "```\n",
    "term_vec: 3\n",
    "grade_vec: 8\n",
    "sub_grade_vec: 36\n",
    "emp_title_vec: 9192\n",
    "emp_length_vec: 13\n",
    "home_ownership_vec: 5\n",
    "verification_status_vec: 4\n",
    "issue_d_vec: 13\n",
    "purpose_vec: 13\n",
    "title_vec: 13\n",
    "zip_code_vec: 835\n",
    "addr_state_vec: 51\n",
    "earliest_cr_line_vec: 563\n",
    "initial_list_status_vec: 3\n",
    "last_pymnt_d_vec: 27\n",
    "last_credit_pull_d_vec: 27\n",
    "application_type_vec: 3\n",
    "```"
   ]
  },
  {
   "cell_type": "markdown",
   "metadata": {},
   "source": [
    "#### numerical vector order"
   ]
  },
  {
   "cell_type": "code",
   "execution_count": 106,
   "metadata": {},
   "outputs": [
    {
     "name": "stdout",
     "output_type": "stream",
     "text": [
      "loan_amnt\n",
      "int_rate\n",
      "annual_inc\n",
      "dti\n",
      "delinq_2yrs\n",
      "inq_last_6mths\n",
      "open_acc\n",
      "pub_rec\n",
      "revol_bal\n",
      "revol_util\n",
      "total_acc\n",
      "out_prncp\n",
      "total_pymnt\n",
      "total_rec_int\n",
      "total_rec_late_fee\n",
      "collection_recovery_fee\n",
      "last_pymnt_amnt\n",
      "collections_12_mths_ex_med\n",
      "policy_code\n",
      "acc_now_delinq\n",
      "tot_coll_amt\n",
      "tot_cur_bal\n",
      "total_rev_hi_lim\n",
      "acc_open_past_24mths\n",
      "chargeoff_within_12_mths\n",
      "delinq_amnt\n",
      "mo_sin_old_il_acct\n",
      "mo_sin_old_rev_tl_op\n",
      "mo_sin_rcnt_rev_tl_op\n",
      "mo_sin_rcnt_tl\n",
      "mort_acc\n",
      "mths_since_recent_bc\n",
      "num_accts_ever_120_pd\n",
      "num_actv_rev_tl\n",
      "num_bc_sats\n",
      "num_il_tl\n",
      "num_rev_accts\n",
      "num_sats\n",
      "num_tl_120dpd_2m\n",
      "num_tl_90g_dpd_24m\n",
      "num_tl_op_past_12m\n",
      "pct_tl_nvr_dlq\n",
      "percent_bc_gt_75\n",
      "pub_rec_bankruptcies\n",
      "tax_liens\n",
      "tot_hi_cred_lim\n",
      "total_il_high_credit_limit\n"
     ]
    }
   ],
   "source": [
    "numericColumns.foreach(println)"
   ]
  },
  {
   "cell_type": "code",
   "execution_count": 107,
   "metadata": {},
   "outputs": [
    {
     "data": {
      "text/plain": [
       "res30: Int = 47\n"
      ]
     },
     "execution_count": 107,
     "metadata": {},
     "output_type": "execute_result"
    }
   ],
   "source": [
    "numericColumns.length"
   ]
  },
  {
   "cell_type": "markdown",
   "metadata": {},
   "source": [
    "#### Length of feature vectors = Length of coeff vector\n",
    "* catogirical var = 3+8+36+9192+13+5+4+13+13+13+835+51+563+3+27+27+3 = 10809\n",
    "* numeric var = 47\n",
    "* total = 10809+47 = 10856\n",
    "\n",
    "All the top 10 largest and smallest coefficients indexes are with the one hot encoder vector range of string field 'emp_title'\n",
    "\n",
    "Now try to feed only emp_title field into logistic regression to see what happens"
   ]
  },
  {
   "cell_type": "markdown",
   "metadata": {},
   "source": [
    "## Using onle emp_title for training"
   ]
  },
  {
   "cell_type": "code",
   "execution_count": 155,
   "metadata": {},
   "outputs": [
    {
     "data": {
      "text/plain": [
       "categoricalFeatures: Array[org.apache.spark.ml.Estimator[_ >: org.apache.spark.ml.feature.OneHotEncoderModel with org.apache.spark.ml.feature.StringIndexerModel <: org.apache.spark.ml.Model[_ >: org.apache.spark.ml.feature.OneHotEncoderModel with org.apache.spark.ml.feature.StringIndexerModel <: org.apache.spark.ml.Transformer with org.apache.spark.ml.param.shared.HasHandleInvalid with org.apache.spark.ml.util.MLWritable] with org.apache.spark.ml.param.shared.HasHandleInvalid with org.apache.spark.ml.util.MLWritable] with org.apache.spark.ml.param.shared.HasHandleInvalid with org.apache.spark.ml.util.DefaultParamsWritable{def copy(extra: org.apache.spark.ml.param.ParamMap): org.apache.spark.ml.Estimator[_ >: org.apache.spark.ml.feature.OneHotEncoderModel with org.apache.spark.ml.feature..."
      ]
     },
     "execution_count": 155,
     "metadata": {},
     "output_type": "execute_result"
    }
   ],
   "source": [
    "val categoricalFeatures = Array(\"emp_title\").flatMap{ name =>\n",
    "    \n",
    "    val stringIndexer = new StringIndexer()\n",
    "      .setInputCol(name)\n",
    "      .setOutputCol(name + \"_index\")\n",
    "      .setHandleInvalid(\"keep\")\n",
    "    \n",
    "    val oneHotEncoder = new OneHotEncoderEstimator()\n",
    "      .setInputCols(Array(name + \"_index\"))\n",
    "      .setOutputCols(Array(name + \"_vec\"))\n",
    "      .setDropLast(false)\n",
    "    \n",
    "    Array(stringIndexer, oneHotEncoder)\n",
    "}\n",
    "\n",
    "val allFeatureColumns = Array(\"emp_title\").map(x => x + \"_vec\")\n",
    "val featureColumnsAssembler = new VectorAssembler()\n",
    "  .setInputCols(allFeatureColumns)\n",
    "  .setOutputCol(\"features\")\n",
    "\n",
    "var featureEngineeringPipeline = Array[org.apache.spark.ml.PipelineStage]()\n",
    "featureEngineeringPipeline = featureEngineeringPipeline ++ categoricalFeatures\n",
    "featureEngineeringPipeline = featureEngineeringPipeline ++ Array(featureColumnsAssembler)"
   ]
  },
  {
   "cell_type": "code",
   "execution_count": 156,
   "metadata": {},
   "outputs": [
    {
     "data": {
      "text/plain": [
       "lr: org.apache.spark.ml.PipelineModel = pipeline_adfda3686e93\n",
       "lrModel: org.apache.spark.ml.classification.LogisticRegressionModel = LogisticRegressionModel: uid = logreg_67dcb834aee8, numClasses = 2, numFeatures = 7715\n"
      ]
     },
     "execution_count": 156,
     "metadata": {},
     "output_type": "execute_result"
    }
   ],
   "source": [
    "// Fit the logistic regression model \n",
    "val lr = runModel(trainingData,\"lr\",featureEngineeringPipeline = featureEngineeringPipeline)\n",
    "val lrModel = lr.stages(lr.stages.length-1).asInstanceOf[LogisticRegressionModel]"
   ]
  },
  {
   "cell_type": "code",
   "execution_count": 157,
   "metadata": {},
   "outputs": [
    {
     "name": "stdout",
     "output_type": "stream",
     "text": [
      "Accuracy: 0.9352294603490033\n",
      "FPR: 0.5584276402093028\n",
      "TPR: 0.9352294603490033\n",
      "F-measure: 0.9219273540736255\n",
      "Precision: 0.9383653479593199\n",
      "Recall: 0.9352294603490033\n",
      "+--------------------+--------------------+\n",
      "|                 FPR|                 TPR|\n",
      "+--------------------+--------------------+\n",
      "|                 0.0|                 0.0|\n",
      "|                 0.0|0.001809408926417...|\n",
      "|                 0.0|0.005428226779252111|\n",
      "|                 0.0|   0.364897466827503|\n",
      "|4.153686396677051E-4|  0.3721351025331725|\n",
      "|6.230529595015577E-4| 0.37575392038600725|\n",
      "| 7.61509172724126E-4|  0.3775633293124246|\n",
      "|9.691934925579786E-4|   0.379372738238842|\n",
      "|0.001246105919003...| 0.38178528347406515|\n",
      "|0.001661474558670...|  0.3854041013268999|\n",
      "|0.001938386985115...| 0.38781664656212306|\n",
      "|0.008168916580131533| 0.44209891435464416|\n",
      "| 0.00844582900657667|  0.4439083232810615|\n",
      "|0.008722741433021807|  0.4457177322074789|\n",
      "|0.009207338179300795|  0.4487334137515078|\n",
      "|0.010661128418137765|  0.4571773220747889|\n",
      "|0.011491865697473173|  0.4620024125452352|\n",
      "|0.012045690550363447|  0.4650180940892642|\n",
      "|0.013014884042921426| 0.46984318455971047|\n",
      "|0.013776393215645551|  0.4734620024125452|\n",
      "+--------------------+--------------------+\n",
      "only showing top 20 rows\n",
      "\n",
      "areaUnderROC: 0.915675009530347\n",
      "+-----+----------+--------+\n",
      "|label|prediction|count(1)|\n",
      "+-----+----------+--------+\n",
      "|1    |0.0       |420     |\n",
      "|0    |0.0       |3513    |\n",
      "|1    |1.0       |8       |\n",
      "|0    |1.0       |26      |\n",
      "+-----+----------+--------+\n",
      "\n",
      "+--------+---------+------+----+----+----+----+----+\n",
      "|Accuracy|Precision|Recall|F1  |TPR |FPR |TNR |FNR |\n",
      "+--------+---------+------+----+----+----+----+----+\n",
      "|0.89    |0.24     |0.02  |0.03|0.02|0.01|0.99|0.98|\n",
      "+--------+---------+------+----+----+----+----+----+\n",
      "\n"
     ]
    },
    {
     "data": {
      "text/plain": [
       "trainingSummary: org.apache.spark.ml.classification.BinaryLogisticRegressionTrainingSummary = org.apache.spark.ml.classification.BinaryLogisticRegressionTrainingSummaryImpl@a46c0bd\n",
       "accuracy: Double = 0.9352294603490033\n",
       "falsePositiveRate: Double = 0.5584276402093028\n",
       "truePositiveRate: Double = 0.9352294603490033\n",
       "fMeasure: Double = 0.9219273540736255\n",
       "precision: Double = 0.9383653479593199\n",
       "recall: Double = 0.9352294603490033\n",
       "roc: org.apache.spark.sql.DataFrame = [FPR: double, TPR: double]\n",
       "prediction: org.apache.spark.sql.DataFrame = [loan_amnt: int, term: string ... 69 more fields]\n"
      ]
     },
     "execution_count": 157,
     "metadata": {},
     "output_type": "execute_result"
    }
   ],
   "source": [
    "// Evaluate Model\n",
    "val trainingSummary = lrModel.binarySummary\n",
    "val accuracy = trainingSummary.accuracy\n",
    "val falsePositiveRate = trainingSummary.weightedFalsePositiveRate\n",
    "val truePositiveRate = trainingSummary.weightedTruePositiveRate\n",
    "val fMeasure = trainingSummary.weightedFMeasure\n",
    "val precision = trainingSummary.weightedPrecision\n",
    "val recall = trainingSummary.weightedRecall\n",
    "println(s\"Accuracy: $accuracy\\nFPR: $falsePositiveRate\\nTPR: $truePositiveRate\\n\" +\n",
    "  s\"F-measure: $fMeasure\\nPrecision: $precision\\nRecall: $recall\")\n",
    "val roc = trainingSummary.roc\n",
    "roc.createOrReplaceTempView(\"roc\")\n",
    "roc.show()\n",
    "println(s\"areaUnderROC: ${trainingSummary.areaUnderROC}\")\n",
    "\n",
    "val prediction = lr.transform(testData)\n",
    "evaluatePrediction(prediction)"
   ]
  },
  {
   "cell_type": "code",
   "execution_count": 159,
   "metadata": {},
   "outputs": [
    {
     "name": "stdout",
     "output_type": "stream",
     "text": [
      "        FPR       TPR\n",
      "0  0.000000  0.000000\n",
      "1  0.000000  0.001809\n",
      "2  0.000000  0.005428\n",
      "3  0.000000  0.364897\n",
      "4  0.000415  0.372135\n"
     ]
    },
    {
     "data": {
      "image/png": "[encoded data removed]",
      "text/plain": [
       "<IPython.core.display.Image object>"
      ]
     },
     "execution_count": 159,
     "metadata": {},
     "output_type": "execute_result"
    }
   ],
   "source": [
    "%%python\n",
    "import pandas as pd\n",
    "import matplotlib.pyplot as plt\n",
    "import tempfile\n",
    "from IPython.display import Image\n",
    "\n",
    "roc = spark.sql(\"select * from roc\")\n",
    "rocPandas = roc.toPandas()\n",
    "print(rocPandas.head())\n",
    "plt.clf()\n",
    "plt.plot(rocPandas['FPR'],rocPandas['TPR'])\n",
    "with tempfile.NamedTemporaryFile(suffix=\".png\") as fo:\n",
    "    plt.savefig(fo.name)\n",
    "    retval = Image(filename=fo.name)"
   ]
  },
  {
   "cell_type": "markdown",
   "metadata": {},
   "source": [
    "## Observation\n",
    "\n",
    "Using only the `emp_title` field for training still achives good result in training, while model performs poorly in test set:\n",
    "\n",
    "| Data| Accuracy | Precision | Recall | F1 |\n",
    "|------|------|------|------|------|\n",
    "|   Training Set  | 0.94    |0.94     |0.94  |0.92|\n",
    "|   Test Set | 0.89    |0.24     |0.02  |0.03|\n",
    "\n",
    "\n",
    "That suggestes the model performs very well on training data but has high error rates on test data, due to the model has\n",
    "* high variance\n",
    "* low bias"
   ]
  }
 ],
 "metadata": {
  "kernelspec": {
   "display_name": "spylon-kernel",
   "language": "scala",
   "name": "spylon-kernel"
  },
  "language_info": {
   "codemirror_mode": "text/x-scala",
   "file_extension": ".scala",
   "help_links": [
    {
     "text": "MetaKernel Magics",
     "url": "https://metakernel.readthedocs.io/en/latest/source/README.html"
    }
   ],
   "mimetype": "text/x-scala",
   "name": "scala",
   "pygments_lexer": "scala",
   "version": "0.4.1"
  }
 },
 "nbformat": 4,
 "nbformat_minor": 2
}
