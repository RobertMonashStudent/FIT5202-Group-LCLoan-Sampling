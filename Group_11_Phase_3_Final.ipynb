{
 "cells": [
  {
   "cell_type": "markdown",
   "metadata": {},
   "source": [
    "# Table of Content\n",
    "* [Read-CSV](#Read-CSV)\n",
    "* [Helper-Functions](#Helper-Functions)\n",
    "  * [Helper-function-1:-Generic-Modelling-Fuction](#Helper-function-1:-Generic-Modelling-Fuction)\n",
    "  * [Helper-function-2:--Evaluation](#Helper-function-2:--Evaluation)\n",
    "* [Split-training-set-and-test-set](#Split-training-set-and-test-set)\n",
    "* [Categorical-variables-handling](#Categorical-variables-handling)\n",
    "* [Numeric-variables-handing](#Numeric-variables-handing)\n",
    "* [Feature-Assembler-to-combine-categorical-and-numeric-features](#Feature-Assembler-to-combine-categorical-and-numeric-features)\n",
    "* [Logistic-Regression-fitting](#Logistic-Regression-fitting)\n",
    "  * [Training-Summary](#Training-Summary)\n",
    "  * [Prediction-on-test-set](#Prediction-on-test-set)\n",
    "* [Decision-Tree-fitting](#Decision-Tree-fitting)\n",
    "* [Random-Forest-fitting](#Random-Forest-fitting)\n",
    "* [Compare-3-models](#Compare-3-models)\n",
    "* [Hyperparameter-Tuning-of-Logistic-Regression](#Hyperparameter-Tuning-of-Logistic-Regression)\n",
    "  * [Observation-of-default-Logistic-Regression-Model-Parameters](#Observation-of-default-Logistic-Regression-Model-Parameters)\n",
    "  * [Define-pipeline-with-feature-engineering-and-logistic-regression](#Define-pipeline-with-feature-engineering-and-logistic-regression)\n",
    "  * [Construct-a-grid-of-parameters-to-search-over](#Construct-a-grid-of-parameters-to-search-over)\n",
    "  * [Configure-Cross-Validator](#Configure-Cross-Validator)\n",
    "  * [Inspect-Best-Model](#Inspect-Best-Model)\n",
    "  * [Observation-of-parameters-of-best-model](#Observation-of-parameters-of-best-model)\n",
    "  * [Use-Best-Model-to-predict-test-set](#Use-Best-Model-to-predict-test-set)\n",
    "  * [Compare-with-previous-Logistic-Regression](#Compare-with-previous-Logistic-Regression)\n",
    "* [Inspect-Logistic-Regression-Model-Coefficients](#Inspect-Logistic-Regression-Model-Coefficients)\n",
    "  * [Get-coefficient-vector-from-logistic-regression-model](#Get-coefficient-vector-from-logistic-regression-model)\n",
    "  * [Look-for-the-feature-vector-indexes-of-10-largest-and-smallest-coefficients](#Look-for-the-feature-vector-indexes-of-10-largest-and-smallest-coefficients)\n",
    "  * [Look-at-how-the-feature-vector-been-created](#Look-at-how-the-feature-vector-been-created)\n",
    "  * [Using-onle-emp_title-for-training](#Using-onle-emp_title-for-training)\n",
    "  * [Observation](#Observation)"
   ]
  },
  {
   "cell_type": "code",
   "execution_count": 1,
   "metadata": {},
   "outputs": [
    {
     "data": {
      "text/plain": [
       "Intitializing Scala interpreter ..."
      ]
     },
     "metadata": {},
     "output_type": "display_data"
    },
    {
     "data": {
      "text/plain": [
       "Spark Web UI available at http://7aceb35ad0ee:4040\n",
       "SparkContext available as 'sc' (version = 2.4.3, master = local[*], app id = local-1560160243955)\n",
       "SparkSession available as 'spark'\n"
      ]
     },
     "metadata": {},
     "output_type": "display_data"
    },
    {
     "data": {
      "text/plain": [
       "import org.apache.spark.ml.feature.{StringIndexer, OneHotEncoderEstimator, MinMaxScaler, VectorAssembler}\n",
       "import org.apache.spark.ml.{Pipeline, PipelineModel, PipelineStage}\n",
       "import org.apache.spark.sql._\n",
       "import org.apache.spark.ml.classification.{LogisticRegression, LogisticRegressionModel}\n",
       "import org.apache.spark.ml.classification.{DecisionTreeClassifier, DecisionTreeClassificationModel}\n",
       "import org.apache.spark.ml.classification.{RandomForestClassifier, RandomForestClassificationModel}\n",
       "import org.apache.spark.ml.evaluation.MulticlassClassificationEvaluator\n"
      ]
     },
     "execution_count": 1,
     "metadata": {},
     "output_type": "execute_result"
    }
   ],
   "source": [
    "import org.apache.spark.ml.feature.{StringIndexer, OneHotEncoderEstimator, MinMaxScaler, VectorAssembler}\n",
    "import org.apache.spark.ml.{Pipeline, PipelineModel, PipelineStage}\n",
    "\n",
    "import org.apache.spark.sql._\n",
    "\n",
    "import org.apache.spark.ml.classification.{LogisticRegression, LogisticRegressionModel}\n",
    "import org.apache.spark.ml.classification.{DecisionTreeClassifier, DecisionTreeClassificationModel}\n",
    "import org.apache.spark.ml.classification.{RandomForestClassifier, RandomForestClassificationModel}\n",
    "\n",
    "import org.apache.spark.ml.evaluation.MulticlassClassificationEvaluator"
   ]
  },
  {
   "cell_type": "markdown",
   "metadata": {},
   "source": [
    "# Read CSV\n",
    "\n",
    "Also invert the label\n",
    "* 1: bad loan\n",
    "* 0: good loan"
   ]
  },
  {
   "cell_type": "code",
   "execution_count": 2,
   "metadata": {},
   "outputs": [
    {
     "data": {
      "text/plain": [
       "invertLabel: org.apache.spark.sql.expressions.UserDefinedFunction = UserDefinedFunction(<function1>,IntegerType,Some(List(IntegerType)))\n"
      ]
     },
     "execution_count": 2,
     "metadata": {},
     "output_type": "execute_result"
    }
   ],
   "source": [
    "val invertLabel = udf((v: Int) => v match {\n",
    "    case 0 => 1\n",
    "    case 1 => 0\n",
    "})"
   ]
  },
  {
   "cell_type": "code",
   "execution_count": 3,
   "metadata": {},
   "outputs": [
    {
     "data": {
      "text/plain": [
       "df: org.apache.spark.sql.DataFrame = [loan_amnt: int, term: string ... 63 more fields]\n"
      ]
     },
     "execution_count": 3,
     "metadata": {},
     "output_type": "execute_result"
    }
   ],
   "source": [
    "val df = spark.read.format(\"csv\")\n",
    "  .option(\"inferSchema\", \"true\")\n",
    "  .option(\"header\", \"true\")\n",
    "  .load(\"LCLoan_Wrangled.csv\")\n",
    "  .withColumn(\"loan_status\",invertLabel($\"loan_status\"))                // inverting the label, now 1 indicates bad loan\n",
    "  .withColumn(\"label\",col(\"loan_status\"))                               // update the column name to label, to be used in ML models\n",
    "  .drop(\"loan_status\")                                                  // drop the original column used as label"
   ]
  },
  {
   "cell_type": "markdown",
   "metadata": {},
   "source": [
    "# Helper Functions"
   ]
  },
  {
   "cell_type": "markdown",
   "metadata": {},
   "source": [
    "## Helper function 1: Generic Modelling Fuction\n",
    "The function will accept inputs to determine the appropriate Models, options are:\n",
    "* logistic regression\n",
    "* decision tree\n",
    "* random forest"
   ]
  },
  {
   "cell_type": "code",
   "execution_count": 4,
   "metadata": {},
   "outputs": [
    {
     "data": {
      "text/plain": [
       "runModel: (df: org.apache.spark.sql.DataFrame, modelType: String, threshold: Double, weighted: Boolean, maxIter: Int, regParam: Double, featureEngineeringPipeline: Array[org.apache.spark.ml.PipelineStage])org.apache.spark.ml.PipelineModel\n"
      ]
     },
     "execution_count": 4,
     "metadata": {},
     "output_type": "execute_result"
    }
   ],
   "source": [
    "def runModel (df: DataFrame, \n",
    "              modelType: String, \n",
    "              threshold: Double = 0.5, \n",
    "              weighted: Boolean = false,\n",
    "              maxIter: Int = 10,\n",
    "              regParam: Double = 0.0,\n",
    "              featureEngineeringPipeline: Array[org.apache.spark.ml.PipelineStage]) : PipelineModel = {\n",
    "        \n",
    "    val pipelineOrder: Array[org.apache.spark.ml.PipelineStage] = \n",
    "    \n",
    "    //depending on the model chosen,\n",
    "    if (modelType == \"lr\"){\n",
    "        //logistic regression option\n",
    "       featureEngineeringPipeline :+\n",
    "            new LogisticRegression()\n",
    "                .setMaxIter(maxIter)\n",
    "                .setRegParam(regParam)\n",
    "                .setThreshold(threshold)\n",
    "    }\n",
    "    else if (modelType == \"dt\"){\n",
    "        //decision tree option\n",
    "        featureEngineeringPipeline :+\n",
    "            new DecisionTreeClassifier()\n",
    "                  .setLabelCol(\"label\")\n",
    "                  .setFeaturesCol(\"features\")\n",
    "    }\n",
    "    else if (modelType == \"rf\"){\n",
    "        //random forest option\n",
    "        featureEngineeringPipeline :+\n",
    "            new RandomForestClassifier()\n",
    "                  .setLabelCol(\"label\")\n",
    "                  .setFeaturesCol(\"features\")\n",
    "    }\n",
    "    else {\n",
    "        featureEngineeringPipeline\n",
    "    }    \n",
    "\n",
    "    //set the pipeline for the model\n",
    "    val pipeline = new Pipeline()\n",
    "        .setStages(pipelineOrder)\n",
    "    \n",
    "    //return a model fitted on the dataframe\n",
    "    return pipeline.fit(df)\n",
    "}"
   ]
  },
  {
   "cell_type": "markdown",
   "metadata": {},
   "source": [
    "## Helper function 2:  Evaluation"
   ]
  },
  {
   "cell_type": "code",
   "execution_count": 5,
   "metadata": {},
   "outputs": [
    {
     "data": {
      "text/plain": [
       "evaluatePrediction: (prediction: org.apache.spark.sql.DataFrame)Unit\n"
      ]
     },
     "execution_count": 5,
     "metadata": {},
     "output_type": "execute_result"
    }
   ],
   "source": [
    "def evaluatePrediction(prediction: DataFrame) = {\n",
    "    prediction.createOrReplaceTempView(\"prediction\")\n",
    "    \n",
    "    spark.sql(\"\"\"\n",
    "select label,prediction,count(1) from prediction group by label,prediction\n",
    "\"\"\").show(false)\n",
    "    \n",
    "    spark.sql(\"\"\"\n",
    "select \n",
    "round((TP+TN)/(P+N),2) as Accuracy,\n",
    "round(TP/(TP+FP),2) as Precision,\n",
    "round(TP/(TP+FN),2) as Recall,\n",
    "round(2*TP/(2*TP+FP+FN),2) as F1,\n",
    "round(TP/(TP+FN),2) as TPR,\n",
    "round(FP/(TN+FP),2) as FPR,\n",
    "round(TN/(TN+FP),2) as TNR,\n",
    "round(FN/(TP+FN),2) as FNR\n",
    "from (\n",
    "    select \n",
    "    count(1) as total, \n",
    "    sum(case when label = 1 and prediction = 1 then 1 else 0 end) as TP,\n",
    "    sum(case when label = 0 and prediction = 0 then 1 else 0 end) as TN,\n",
    "    sum(case when label = 0 and prediction = 1 then 1 else 0 end) as FP,\n",
    "    sum(case when label = 1 and prediction = 0 then 1 else 0 end) as FN,\n",
    "    sum(case when label = 1 then 1 else 0 end) as P,\n",
    "    sum(case when label = 0 then 1 else 0 end) as N\n",
    "    from prediction\n",
    "    )\n",
    "\"\"\").show(false)\n",
    "}"
   ]
  },
  {
   "cell_type": "markdown",
   "metadata": {},
   "source": [
    "# Split training set and test set"
   ]
  },
  {
   "cell_type": "code",
   "execution_count": 6,
   "metadata": {},
   "outputs": [
    {
     "data": {
      "text/plain": [
       "trainingData: org.apache.spark.sql.Dataset[org.apache.spark.sql.Row] = [loan_amnt: int, term: string ... 63 more fields]\n",
       "testData: org.apache.spark.sql.Dataset[org.apache.spark.sql.Row] = [loan_amnt: int, term: string ... 63 more fields]\n"
      ]
     },
     "execution_count": 6,
     "metadata": {},
     "output_type": "execute_result"
    }
   ],
   "source": [
    "val Array(trainingData, testData) = df.randomSplit(Array(0.8, 0.2), seed = 1234L)"
   ]
  },
  {
   "cell_type": "code",
   "execution_count": 7,
   "metadata": {},
   "outputs": [
    {
     "name": "stdout",
     "output_type": "stream",
     "text": [
      "2019-06-10 09:51:59,274 WARN  [Thread-4] util.Utils (Logging.scala:logWarning(66)) - Truncated the string representation of a plan since it was too large. This behavior can be adjusted by setting 'spark.debug.maxToStringFields' in SparkEnv.conf.\n"
     ]
    },
    {
     "data": {
      "text/plain": [
       "res0: Long = 3967\n"
      ]
     },
     "execution_count": 7,
     "metadata": {},
     "output_type": "execute_result"
    }
   ],
   "source": [
    "testData.count"
   ]
  },
  {
   "cell_type": "code",
   "execution_count": 8,
   "metadata": {},
   "outputs": [
    {
     "data": {
      "text/plain": [
       "res1: Long = 16103\n"
      ]
     },
     "execution_count": 8,
     "metadata": {},
     "output_type": "execute_result"
    }
   ],
   "source": [
    "trainingData.count"
   ]
  },
  {
   "cell_type": "markdown",
   "metadata": {},
   "source": [
    "# Categorical variables handling"
   ]
  },
  {
   "cell_type": "code",
   "execution_count": 9,
   "metadata": {},
   "outputs": [
    {
     "data": {
      "text/plain": [
       "categoricalColumns: Array[String] = Array(term, grade, sub_grade, emp_title, emp_length, home_ownership, verification_status, issue_d, purpose, title, zip_code, addr_state, earliest_cr_line, initial_list_status, last_pymnt_d, last_credit_pull_d, application_type)\n"
      ]
     },
     "execution_count": 9,
     "metadata": {},
     "output_type": "execute_result"
    }
   ],
   "source": [
    "/*\n",
    " * Generate a list of categorical columns\n",
    " */\n",
    "\n",
    "val categoricalColumns = df.dtypes.filter(column => column._2 == \"StringType\").map(_._1)"
   ]
  },
  {
   "cell_type": "code",
   "execution_count": 10,
   "metadata": {},
   "outputs": [
    {
     "data": {
      "text/plain": [
       "categoricalFeatures: Array[org.apache.spark.ml.Estimator[_ >: org.apache.spark.ml.feature.OneHotEncoderModel with org.apache.spark.ml.feature.StringIndexerModel <: org.apache.spark.ml.Model[_ >: org.apache.spark.ml.feature.OneHotEncoderModel with org.apache.spark.ml.feature.StringIndexerModel <: org.apache.spark.ml.Transformer with org.apache.spark.ml.param.shared.HasHandleInvalid with org.apache.spark.ml.util.MLWritable] with org.apache.spark.ml.param.shared.HasHandleInvalid with org.apache.spark.ml.util.MLWritable] with org.apache.spark.ml.param.shared.HasHandleInvalid with org.apache.spark.ml.util.DefaultParamsWritable{def copy(extra: org.apache.spark.ml.param.ParamMap): org.apache.spark.ml.Estimator[_ >: org.apache.spark.ml.feature.OneHotEncoderModel with org.apache.spark.ml.feature..."
      ]
     },
     "execution_count": 10,
     "metadata": {},
     "output_type": "execute_result"
    }
   ],
   "source": [
    "/*\n",
    " * Create 2 transformer for categorical columns\n",
    " */\n",
    "\n",
    "val categoricalFeatures = categoricalColumns.flatMap{ name =>\n",
    "    \n",
    "    val stringIndexer = new StringIndexer()\n",
    "      .setInputCol(name)\n",
    "      .setOutputCol(name + \"_index\")\n",
    "      .setHandleInvalid(\"keep\")\n",
    "    \n",
    "    val oneHotEncoder = new OneHotEncoderEstimator()\n",
    "      .setInputCols(Array(name + \"_index\"))\n",
    "      .setOutputCols(Array(name + \"_vec\"))\n",
    "      .setDropLast(false)\n",
    "    \n",
    "    Array(stringIndexer, oneHotEncoder)\n",
    "}"
   ]
  },
  {
   "cell_type": "markdown",
   "metadata": {},
   "source": [
    "\n",
    "# Numeric variables handing"
   ]
  },
  {
   "cell_type": "code",
   "execution_count": 11,
   "metadata": {},
   "outputs": [
    {
     "data": {
      "text/plain": [
       "numericColumns: Array[String] = Array(loan_amnt, int_rate, annual_inc, dti, delinq_2yrs, inq_last_6mths, open_acc, pub_rec, revol_bal, revol_util, total_acc, out_prncp, total_pymnt, total_rec_int, total_rec_late_fee, collection_recovery_fee, last_pymnt_amnt, collections_12_mths_ex_med, policy_code, acc_now_delinq, tot_coll_amt, tot_cur_bal, total_rev_hi_lim, acc_open_past_24mths, chargeoff_within_12_mths, delinq_amnt, mo_sin_old_il_acct, mo_sin_old_rev_tl_op, mo_sin_rcnt_rev_tl_op, mo_sin_rcnt_tl, mort_acc, mths_since_recent_bc, num_accts_ever_120_pd, num_actv_rev_tl, num_bc_sats, num_il_tl, num_rev_accts, num_sats, num_tl_120dpd_2m, num_tl_90g_dpd_24m, num_tl_op_past_12m, pct_tl_nvr_dlq, percent_bc_gt_75, pub_rec_bankruptcies, tax_liens, tot_hi_cred_lim, total_il_high_credit_limit)\n"
      ]
     },
     "execution_count": 11,
     "metadata": {},
     "output_type": "execute_result"
    }
   ],
   "source": [
    "/*\n",
    " * Generate a list of categorical columns\n",
    " * \n",
    " * Dropping the label, otherwise will get model 100% correct\n",
    " */\n",
    "\n",
    "val numericColumns = df.dtypes.filter(column => column._2 == \"IntegerType\" || column._2 == \"DoubleType\").map(_._1)\n",
    "                    .filterNot( c => c == \"label\" )"
   ]
  },
  {
   "cell_type": "code",
   "execution_count": 12,
   "metadata": {},
   "outputs": [
    {
     "data": {
      "text/plain": [
       "numericColumnsAssembler: org.apache.spark.ml.feature.VectorAssembler = vecAssembler_6b3f2a348d39\n"
      ]
     },
     "execution_count": 12,
     "metadata": {},
     "output_type": "execute_result"
    }
   ],
   "source": [
    "val numericColumnsAssembler = new VectorAssembler()\n",
    "  .setInputCols(numericColumns)\n",
    "  .setOutputCol(\"numerical_features\")"
   ]
  },
  {
   "cell_type": "code",
   "execution_count": 15,
   "metadata": {},
   "outputs": [
    {
     "data": {
      "text/plain": [
       "numericColumnsScaler: org.apache.spark.ml.feature.MinMaxScaler = minMaxScal_f56622a8e097\n"
      ]
     },
     "execution_count": 15,
     "metadata": {},
     "output_type": "execute_result"
    }
   ],
   "source": [
    "val numericColumnsScaler = new MinMaxScaler()\n",
    "      .setInputCol(\"numerical_features\")\n",
    "      .setOutputCol(\"numerical_features\" + \"_vec\")"
   ]
  },
  {
   "cell_type": "code",
   "execution_count": 16,
   "metadata": {},
   "outputs": [
    {
     "data": {
      "text/plain": [
       "res2: Array[org.apache.spark.ml.PipelineStage with org.apache.spark.ml.util.DefaultParamsWritable{def copy(extra: org.apache.spark.ml.param.ParamMap): org.apache.spark.ml.PipelineStage with org.apache.spark.ml.util.DefaultParamsWritable{def copy(extra: org.apache.spark.ml.param.ParamMap): org.apache.spark.ml.PipelineStage with org.apache.spark.ml.util.DefaultParamsWritable}}] = Array(strIdx_36080a16bfcb, oneHotEncoder_2a92ba597fd6, strIdx_05d9224e355f, oneHotEncoder_9ddbd7ab4717, strIdx_3eaa3319bcad, oneHotEncoder_90fbf3de28ae, strIdx_1575787794ad, oneHotEncoder_6fc8ded6097e, strIdx_b219abf4541e, oneHotEncoder_062be98abab9, strIdx_3de2a1bb0850, oneHotEncoder_cd2d03d17b33, strIdx_db9af7d784d9, oneHotEncoder_d2c09a01ed1c, strIdx_779b15705c30, oneHotEncoder_178c585552ac, strIdx_62a9539c807..."
      ]
     },
     "execution_count": 16,
     "metadata": {},
     "output_type": "execute_result"
    }
   ],
   "source": [
    "categoricalFeatures ++ Array(numericColumnsAssembler,numericColumnsScaler)"
   ]
  },
  {
   "cell_type": "markdown",
   "metadata": {},
   "source": [
    "# Feature Assembler to combine categorical and numeric features"
   ]
  },
  {
   "cell_type": "code",
   "execution_count": 17,
   "metadata": {},
   "outputs": [
    {
     "data": {
      "text/plain": [
       "allFeatureColumns: Array[String] = Array(term_vec, grade_vec, sub_grade_vec, emp_title_vec, emp_length_vec, home_ownership_vec, verification_status_vec, issue_d_vec, purpose_vec, title_vec, zip_code_vec, addr_state_vec, earliest_cr_line_vec, initial_list_status_vec, last_pymnt_d_vec, last_credit_pull_d_vec, application_type_vec, numerical_features_vec)\n",
       "featureColumnsAssembler: org.apache.spark.ml.feature.VectorAssembler = vecAssembler_c7290ec52307\n"
      ]
     },
     "execution_count": 17,
     "metadata": {},
     "output_type": "execute_result"
    }
   ],
   "source": [
    "val allFeatureColumns = categoricalColumns.map(x => x + \"_vec\") :+ \"numerical_features_vec\"\n",
    "val featureColumnsAssembler = new VectorAssembler()\n",
    "  .setInputCols(allFeatureColumns)\n",
    "  .setOutputCol(\"features\")"
   ]
  },
  {
   "cell_type": "code",
   "execution_count": 18,
   "metadata": {},
   "outputs": [
    {
     "data": {
      "text/plain": [
       "featureEngineeringPipeline: Array[org.apache.spark.ml.PipelineStage] = Array(strIdx_36080a16bfcb, oneHotEncoder_2a92ba597fd6, strIdx_05d9224e355f, oneHotEncoder_9ddbd7ab4717, strIdx_3eaa3319bcad, oneHotEncoder_90fbf3de28ae, strIdx_1575787794ad, oneHotEncoder_6fc8ded6097e, strIdx_b219abf4541e, oneHotEncoder_062be98abab9, strIdx_3de2a1bb0850, oneHotEncoder_cd2d03d17b33, strIdx_db9af7d784d9, oneHotEncoder_d2c09a01ed1c, strIdx_779b15705c30, oneHotEncoder_178c585552ac, strIdx_62a9539c8070, oneHotEncoder_401665d3a1f6, strIdx_b87c4ce83347, oneHotEncoder_7619c2a53d1a, strIdx_e44ba3543fe0, oneHotEncoder_a62c588035a3, strIdx_f2c94c452e05, oneHotEncoder_8ae57062abc8, strIdx_cea5916ddf2e, oneHotEncoder_b4c80707ab4d, strIdx_8d05847e7b48, oneHotEncoder_667c243f2430, strIdx_5f555f3c5fc4, oneHotEncoder..."
      ]
     },
     "execution_count": 18,
     "metadata": {},
     "output_type": "execute_result"
    }
   ],
   "source": [
    "var featureEngineeringPipeline = Array[org.apache.spark.ml.PipelineStage]()\n",
    "featureEngineeringPipeline = featureEngineeringPipeline ++ categoricalFeatures\n",
    "featureEngineeringPipeline = featureEngineeringPipeline ++ Array(numericColumnsAssembler,numericColumnsScaler)\n",
    "featureEngineeringPipeline = featureEngineeringPipeline ++ Array(featureColumnsAssembler)"
   ]
  },
  {
   "cell_type": "markdown",
   "metadata": {},
   "source": [
    "# Logistic Regression fitting"
   ]
  },
  {
   "cell_type": "code",
   "execution_count": 19,
   "metadata": {},
   "outputs": [
    {
     "name": "stdout",
     "output_type": "stream",
     "text": [
      "2019-06-10 09:53:18,847 WARN  [Thread-4] netlib.BLAS (BLAS.java:<clinit>(61)) - Failed to load implementation from: com.github.fommil.netlib.NativeSystemBLAS\n",
      "2019-06-10 09:53:18,848 WARN  [Thread-4] netlib.BLAS (BLAS.java:<clinit>(61)) - Failed to load implementation from: com.github.fommil.netlib.NativeRefBLAS\n"
     ]
    },
    {
     "data": {
      "text/plain": [
       "lr: org.apache.spark.ml.PipelineModel = pipeline_247ff326d397\n",
       "lrModel: org.apache.spark.ml.classification.LogisticRegressionModel = LogisticRegressionModel: uid = logreg_6793fed68cd8, numClasses = 2, numFeatures = 9357\n"
      ]
     },
     "execution_count": 19,
     "metadata": {},
     "output_type": "execute_result"
    }
   ],
   "source": [
    "// Fit the logistic regression model \n",
    "val lr = runModel(trainingData,\"lr\",featureEngineeringPipeline = featureEngineeringPipeline)\n",
    "val lrModel = lr.stages(lr.stages.length-1).asInstanceOf[LogisticRegressionModel]"
   ]
  },
  {
   "cell_type": "markdown",
   "metadata": {},
   "source": [
    "## Training Summary"
   ]
  },
  {
   "cell_type": "code",
   "execution_count": 20,
   "metadata": {},
   "outputs": [
    {
     "name": "stdout",
     "output_type": "stream",
     "text": [
      "Accuracy: 0.997515990809166\n",
      "FPR: 0.01363282012848001\n",
      "TPR: 0.997515990809166\n",
      "F-measure: 0.9975126637488336\n",
      "Precision: 0.9975114125092305\n",
      "Recall: 0.997515990809166\n"
     ]
    },
    {
     "data": {
      "text/plain": [
       "trainingSummary: org.apache.spark.ml.classification.BinaryLogisticRegressionTrainingSummary = org.apache.spark.ml.classification.BinaryLogisticRegressionTrainingSummaryImpl@47841915\n",
       "accuracy: Double = 0.997515990809166\n",
       "falsePositiveRate: Double = 0.01363282012848001\n",
       "truePositiveRate: Double = 0.997515990809166\n",
       "fMeasure: Double = 0.9975126637488336\n",
       "precision: Double = 0.9975114125092305\n",
       "recall: Double = 0.997515990809166\n"
      ]
     },
     "execution_count": 20,
     "metadata": {},
     "output_type": "execute_result"
    }
   ],
   "source": [
    "// Extract the summary from the returned LogisticRegressionModel instance trained in the earlier\n",
    "// example\n",
    "val trainingSummary = lrModel.binarySummary\n",
    "val accuracy = trainingSummary.accuracy\n",
    "val falsePositiveRate = trainingSummary.weightedFalsePositiveRate\n",
    "val truePositiveRate = trainingSummary.weightedTruePositiveRate\n",
    "val fMeasure = trainingSummary.weightedFMeasure\n",
    "val precision = trainingSummary.weightedPrecision\n",
    "val recall = trainingSummary.weightedRecall\n",
    "println(s\"Accuracy: $accuracy\\nFPR: $falsePositiveRate\\nTPR: $truePositiveRate\\n\" +\n",
    "  s\"F-measure: $fMeasure\\nPrecision: $precision\\nRecall: $recall\")"
   ]
  },
  {
   "cell_type": "code",
   "execution_count": 21,
   "metadata": {},
   "outputs": [
    {
     "name": "stdout",
     "output_type": "stream",
     "text": [
      "+--------------------+-------------------+\n",
      "|                 FPR|                TPR|\n",
      "+--------------------+-------------------+\n",
      "|                 0.0|                0.0|\n",
      "|                 0.0|0.10615199034981906|\n",
      "|                 0.0|0.20265379975874548|\n",
      "|                 0.0| 0.2991556091676719|\n",
      "|                 0.0| 0.3956574185765983|\n",
      "|                 0.0|0.49215922798552475|\n",
      "|6.922810661128418E-5| 0.5880579010856454|\n",
      "|1.384562132225683...| 0.6839565741857659|\n",
      "|1.384562132225683...| 0.7804583835946924|\n",
      "|2.769124264451367E-4| 0.8757539203860072|\n",
      "|3.461405330564209...| 0.9716525934861279|\n",
      "|0.008653513326410523| 0.9957780458383595|\n",
      "|0.019522326064382138| 0.9975874547647768|\n",
      "|0.030529595015576325| 0.9981905910735827|\n",
      "| 0.04160609207338179| 0.9981905910735827|\n",
      "| 0.05254413291796469| 0.9993968636911942|\n",
      "| 0.06362062997577016| 0.9993968636911942|\n",
      "| 0.07469712703357563| 0.9993968636911942|\n",
      "| 0.08570439598476981|                1.0|\n",
      "| 0.09678089304257528|                1.0|\n",
      "+--------------------+-------------------+\n",
      "only showing top 20 rows\n",
      "\n",
      "areaUnderROC: 0.9996693919492472\n"
     ]
    },
    {
     "data": {
      "text/plain": [
       "roc: org.apache.spark.sql.DataFrame = [FPR: double, TPR: double]\n"
      ]
     },
     "execution_count": 21,
     "metadata": {},
     "output_type": "execute_result"
    }
   ],
   "source": [
    "val roc = trainingSummary.roc\n",
    "roc.createOrReplaceTempView(\"roc\")\n",
    "roc.show()\n",
    "println(s\"areaUnderROC: ${trainingSummary.areaUnderROC}\")"
   ]
  },
  {
   "cell_type": "code",
   "execution_count": 180,
   "metadata": {},
   "outputs": [
    {
     "name": "stdout",
     "output_type": "stream",
     "text": [
      "Requirement already satisfied: pandas in /usr/local/lib/python3.6/dist-packages (0.24.2)\n",
      "Requirement already satisfied: numpy>=1.12.0 in /usr/local/lib/python3.6/dist-packages (from pandas) (1.16.4)\n",
      "Requirement already satisfied: pytz>=2011k in /usr/local/lib/python3.6/dist-packages (from pandas) (2019.1)\n",
      "Requirement already satisfied: python-dateutil>=2.5.0 in /usr/local/lib/python3.6/dist-packages (from pandas) (2.8.0)\n",
      "Requirement already satisfied: six>=1.5 in /usr/lib/python3/dist-packages (from python-dateutil>=2.5.0->pandas) (1.11.0)\n",
      "Requirement already satisfied: matplotlib in /usr/local/lib/python3.6/dist-packages (3.1.0)\n",
      "Requirement already satisfied: kiwisolver>=1.0.1 in /usr/local/lib/python3.6/dist-packages (from matplotlib) (1.1.0)\n",
      "Requirement already satisfied: pyparsing!=2.0.4,!=2.1.2,!=2.1.6,>=2.0.1 in /usr/local/lib/python3.6/dist-packages (from matplotlib) (2.4.0)\n",
      "Requirement already satisfied: cycler>=0.10 in /usr/local/lib/python3.6/dist-packages (from matplotlib) (0.10.0)\n",
      "Requirement already satisfied: python-dateutil>=2.1 in /usr/local/lib/python3.6/dist-packages (from matplotlib) (2.8.0)\n",
      "Requirement already satisfied: numpy>=1.11 in /usr/local/lib/python3.6/dist-packages (from matplotlib) (1.16.4)\n",
      "Requirement already satisfied: setuptools in /usr/lib/python3/dist-packages (from kiwisolver>=1.0.1->matplotlib) (39.0.1)\n",
      "Requirement already satisfied: six in /usr/lib/python3/dist-packages (from cycler>=0.10->matplotlib) (1.11.0)\n"
     ]
    }
   ],
   "source": [
    "! pip install pandas\n",
    "! pip install matplotlib"
   ]
  },
  {
   "cell_type": "code",
   "execution_count": 22,
   "metadata": {},
   "outputs": [
    {
     "name": "stdout",
     "output_type": "stream",
     "text": [
      "   FPR       TPR\n",
      "0  0.0  0.000000\n",
      "1  0.0  0.106152\n",
      "2  0.0  0.202654\n",
      "3  0.0  0.299156\n",
      "4  0.0  0.395657\n"
     ]
    },
    {
     "data": {
      "image/png": "[encoded data removed]",
      "text/plain": [
       "<IPython.core.display.Image object>"
      ]
     },
     "execution_count": 22,
     "metadata": {},
     "output_type": "execute_result"
    }
   ],
   "source": [
    "%%python\n",
    "import pandas as pd\n",
    "import matplotlib.pyplot as plt\n",
    "import tempfile\n",
    "from IPython.display import Image\n",
    "\n",
    "roc = spark.sql(\"select * from roc\")\n",
    "rocPandas = roc.toPandas()\n",
    "print(rocPandas.head())\n",
    "plt.clf()\n",
    "plt.plot(rocPandas['FPR'],rocPandas['TPR'])\n",
    "with tempfile.NamedTemporaryFile(suffix=\".png\") as fo:\n",
    "    plt.savefig(fo.name)\n",
    "    retval = Image(filename=fo.name)"
   ]
  },
  {
   "cell_type": "markdown",
   "metadata": {},
   "source": [
    "## Prediction on test set"
   ]
  },
  {
   "cell_type": "code",
   "execution_count": 23,
   "metadata": {},
   "outputs": [
    {
     "name": "stdout",
     "output_type": "stream",
     "text": [
      "+-----+----------+--------+\n",
      "|label|prediction|count(1)|\n",
      "+-----+----------+--------+\n",
      "|1    |0.0       |132     |\n",
      "|0    |0.0       |3426    |\n",
      "|1    |1.0       |296     |\n",
      "|0    |1.0       |113     |\n",
      "+-----+----------+--------+\n",
      "\n",
      "+--------+---------+------+----+----+----+----+----+\n",
      "|Accuracy|Precision|Recall|F1  |TPR |FPR |TNR |FNR |\n",
      "+--------+---------+------+----+----+----+----+----+\n",
      "|0.94    |0.72     |0.69  |0.71|0.69|0.03|0.97|0.31|\n",
      "+--------+---------+------+----+----+----+----+----+\n",
      "\n"
     ]
    },
    {
     "data": {
      "text/plain": [
       "prediction: org.apache.spark.sql.DataFrame = [loan_amnt: int, term: string ... 103 more fields]\n"
      ]
     },
     "execution_count": 23,
     "metadata": {},
     "output_type": "execute_result"
    }
   ],
   "source": [
    "val prediction = lr.transform(testData)\n",
    "evaluatePrediction(prediction)"
   ]
  },
  {
   "cell_type": "markdown",
   "metadata": {},
   "source": [
    "# Decision Tree fitting"
   ]
  },
  {
   "cell_type": "code",
   "execution_count": 24,
   "metadata": {},
   "outputs": [
    {
     "name": "stdout",
     "output_type": "stream",
     "text": [
      "2019-06-10 09:54:31,787 WARN  [Executor task launch worker for task 432] memory.MemoryStore (Logging.scala:logWarning(66)) - Not enough space to cache rdd_488_0 in memory! (computed 121.0 MB so far)\n",
      "2019-06-10 09:54:31,791 WARN  [Executor task launch worker for task 432] storage.BlockManager (Logging.scala:logWarning(66)) - Persisting block rdd_488_0 to disk instead.\n",
      "2019-06-10 09:54:35,422 WARN  [Executor task launch worker for task 432] memory.MemoryStore (Logging.scala:logWarning(66)) - Not enough space to cache rdd_488_0 in memory! (computed 121.0 MB so far)\n",
      "2019-06-10 09:54:36,314 WARN  [Executor task launch worker for task 436] memory.MemoryStore (Logging.scala:logWarning(66)) - Not enough space to cache rdd_488_0 in memory! (computed 121.0 MB so far)\n",
      "2019-06-10 09:54:37,456 WARN  [Executor task launch worker for task 440] memory.MemoryStore (Logging.scala:logWarning(66)) - Not enough space to cache rdd_488_0 in memory! (computed 121.0 MB so far)\n",
      "2019-06-10 09:54:38,212 WARN  [Executor task launch worker for task 444] memory.MemoryStore (Logging.scala:logWarning(66)) - Not enough space to cache rdd_488_0 in memory! (computed 121.0 MB so far)\n",
      "2019-06-10 09:54:39,001 WARN  [Executor task launch worker for task 448] memory.MemoryStore (Logging.scala:logWarning(66)) - Not enough space to cache rdd_488_0 in memory! (computed 121.0 MB so far)\n"
     ]
    },
    {
     "data": {
      "text/plain": [
       "dt: org.apache.spark.ml.PipelineModel = pipeline_e164d67d5522\n",
       "model: org.apache.spark.ml.classification.DecisionTreeClassificationModel = DecisionTreeClassificationModel (uid=dtc_e66149bec95a) of depth 5 with 27 nodes\n",
       "prediction: org.apache.spark.sql.DataFrame = [loan_amnt: int, term: string ... 103 more fields]\n"
      ]
     },
     "execution_count": 24,
     "metadata": {},
     "output_type": "execute_result"
    }
   ],
   "source": [
    "// fitting decision tree model\n",
    "val dt = runModel(trainingData,\"dt\",featureEngineeringPipeline = featureEngineeringPipeline)\n",
    "\n",
    "val model = dt.stages(dt.stages.length-1).asInstanceOf[DecisionTreeClassificationModel]\n",
    "val prediction = dt.transform(testData)"
   ]
  },
  {
   "cell_type": "code",
   "execution_count": 25,
   "metadata": {},
   "outputs": [
    {
     "name": "stdout",
     "output_type": "stream",
     "text": [
      "+-----+----------+--------+\n",
      "|label|prediction|count(1)|\n",
      "+-----+----------+--------+\n",
      "|1    |0.0       |60      |\n",
      "|0    |0.0       |3478    |\n",
      "|1    |1.0       |368     |\n",
      "|0    |1.0       |61      |\n",
      "+-----+----------+--------+\n",
      "\n",
      "+--------+---------+------+----+----+----+----+----+\n",
      "|Accuracy|Precision|Recall|F1  |TPR |FPR |TNR |FNR |\n",
      "+--------+---------+------+----+----+----+----+----+\n",
      "|0.97    |0.86     |0.86  |0.86|0.86|0.02|0.98|0.14|\n",
      "+--------+---------+------+----+----+----+----+----+\n",
      "\n"
     ]
    }
   ],
   "source": [
    "evaluatePrediction(prediction)"
   ]
  },
  {
   "cell_type": "markdown",
   "metadata": {},
   "source": [
    "# Random Forest fitting"
   ]
  },
  {
   "cell_type": "code",
   "execution_count": 26,
   "metadata": {},
   "outputs": [
    {
     "name": "stdout",
     "output_type": "stream",
     "text": [
      "2019-06-10 09:55:08,696 WARN  [Executor task launch worker for task 740] memory.MemoryStore (Logging.scala:logWarning(66)) - Not enough space to cache rdd_725_1 in memory! (computed 121.5 MB so far)\n",
      "2019-06-10 09:55:08,697 WARN  [Executor task launch worker for task 740] storage.BlockManager (Logging.scala:logWarning(66)) - Persisting block rdd_725_1 to disk instead.\n",
      "2019-06-10 09:55:11,341 WARN  [Executor task launch worker for task 740] memory.MemoryStore (Logging.scala:logWarning(66)) - Not enough space to cache rdd_725_1 in memory! (computed 79.1 MB so far)\n",
      "2019-06-10 09:55:11,342 WARN  [Executor task launch worker for task 740] memory.MemoryStore (Logging.scala:logWarning(66)) - Failed to reserve initial memory threshold of 1024.0 KB for computing block broadcast_278 in memory.\n",
      "2019-06-10 09:55:11,343 WARN  [Executor task launch worker for task 740] memory.MemoryStore (Logging.scala:logWarning(66)) - Not enough space to cache broadcast_278 in memory! (computed 384.0 B so far)\n",
      "2019-06-10 09:55:11,794 WARN  [Executor task launch worker for task 739] memory.MemoryStore (Logging.scala:logWarning(66)) - Not enough space to cache rdd_725_0 in memory! (computed 274.0 MB so far)\n",
      "2019-06-10 09:55:11,794 WARN  [Executor task launch worker for task 739] storage.BlockManager (Logging.scala:logWarning(66)) - Persisting block rdd_725_0 to disk instead.\n",
      "2019-06-10 09:55:13,816 WARN  [Executor task launch worker for task 739] memory.MemoryStore (Logging.scala:logWarning(66)) - Not enough space to cache rdd_725_0 in memory! (computed 274.0 MB so far)\n",
      "2019-06-10 09:55:14,545 WARN  [Executor task launch worker for task 744] memory.MemoryStore (Logging.scala:logWarning(66)) - Not enough space to cache rdd_725_1 in memory! (computed 121.5 MB so far)\n",
      "2019-06-10 09:55:14,576 WARN  [Executor task launch worker for task 743] memory.MemoryStore (Logging.scala:logWarning(66)) - Not enough space to cache rdd_725_0 in memory! (computed 182.6 MB so far)\n",
      "2019-06-10 09:55:15,699 WARN  [Executor task launch worker for task 748] memory.MemoryStore (Logging.scala:logWarning(66)) - Not enough space to cache rdd_725_1 in memory! (computed 121.5 MB so far)\n",
      "2019-06-10 09:55:15,925 WARN  [Executor task launch worker for task 747] memory.MemoryStore (Logging.scala:logWarning(66)) - Not enough space to cache rdd_725_0 in memory! (computed 274.0 MB so far)\n",
      "2019-06-10 09:55:17,071 WARN  [Executor task launch worker for task 752] memory.MemoryStore (Logging.scala:logWarning(66)) - Not enough space to cache rdd_725_1 in memory! (computed 121.5 MB so far)\n",
      "2019-06-10 09:55:17,590 WARN  [Executor task launch worker for task 751] memory.MemoryStore (Logging.scala:logWarning(66)) - Not enough space to cache rdd_725_0 in memory! (computed 274.0 MB so far)\n",
      "2019-06-10 09:55:18,830 WARN  [Executor task launch worker for task 755] memory.MemoryStore (Logging.scala:logWarning(66)) - Not enough space to cache rdd_725_0 in memory! (computed 121.5 MB so far)\n"
     ]
    },
    {
     "data": {
      "text/plain": [
       "rf: org.apache.spark.ml.PipelineModel = pipeline_e4db96ed9aab\n",
       "model: org.apache.spark.ml.classification.RandomForestClassificationModel = RandomForestClassificationModel (uid=rfc_dad95fb6de25) with 20 trees\n",
       "prediction: org.apache.spark.sql.DataFrame = [loan_amnt: int, term: string ... 103 more fields]\n"
      ]
     },
     "execution_count": 26,
     "metadata": {},
     "output_type": "execute_result"
    }
   ],
   "source": [
    "// fitting random forest model\n",
    "val rf = runModel(trainingData,\"rf\",featureEngineeringPipeline = featureEngineeringPipeline)\n",
    "\n",
    "val model = rf.stages(rf.stages.length-1).asInstanceOf[RandomForestClassificationModel]\n",
    "val prediction = rf.transform(testData)"
   ]
  },
  {
   "cell_type": "code",
   "execution_count": 27,
   "metadata": {},
   "outputs": [
    {
     "name": "stdout",
     "output_type": "stream",
     "text": [
      "+-----+----------+--------+\n",
      "|label|prediction|count(1)|\n",
      "+-----+----------+--------+\n",
      "|1    |0.0       |428     |\n",
      "|0    |0.0       |3539    |\n",
      "+-----+----------+--------+\n",
      "\n",
      "+--------+---------+------+---+---+---+---+---+\n",
      "|Accuracy|Precision|Recall|F1 |TPR|FPR|TNR|FNR|\n",
      "+--------+---------+------+---+---+---+---+---+\n",
      "|0.89    |null     |0.0   |0.0|0.0|0.0|1.0|1.0|\n",
      "+--------+---------+------+---+---+---+---+---+\n",
      "\n"
     ]
    }
   ],
   "source": [
    "evaluatePrediction(prediction)"
   ]
  },
  {
   "cell_type": "markdown",
   "metadata": {},
   "source": [
    "# Compare 3 models\n",
    "\n",
    "| Model| Accuracy | Precision | Recall | F1 | TPR | FPR | TNR | FNR |\n",
    "|------|------|------|------|------|------|------|------|------|\n",
    "|   logistic  | 0.94    |0.72     |0.69  |0.71|0.69|0.03|0.97|0.31|\n",
    "|   decision tree | 0.97    |0.86     |0.86  |0.86|0.86|0.02|0.98|0.14|\n",
    "|   random forest | 0.89    |0.0     |0.0   |0.0|0.0|0.0|1.0|1.0|\n",
    "\n",
    "Decistion Tree performs the best. Logistic Regression performs worse than decision tree in all metrics. Particularly, false negative rate of logistic regression is more than double of decistion tree model. Any falst negative imposes a much larger risk to the financial institution than false positive. \n",
    "\n",
    "Random forest somehow predicts all test set to be negative, so false negative rate is 100%. That shows random forest is not a good option for imbalance data."
   ]
  },
  {
   "cell_type": "markdown",
   "metadata": {},
   "source": [
    "# Hyperparameter Tuning of Logistic Regression"
   ]
  },
  {
   "cell_type": "code",
   "execution_count": 28,
   "metadata": {},
   "outputs": [
    {
     "data": {
      "text/plain": [
       "import org.apache.spark.ml.evaluation.BinaryClassificationEvaluator\n",
       "import org.apache.spark.ml.tuning.{CrossValidator, ParamGridBuilder}\n"
      ]
     },
     "execution_count": 28,
     "metadata": {},
     "output_type": "execute_result"
    }
   ],
   "source": [
    "import org.apache.spark.ml.evaluation.BinaryClassificationEvaluator\n",
    "import org.apache.spark.ml.tuning.{CrossValidator, ParamGridBuilder}"
   ]
  },
  {
   "cell_type": "code",
   "execution_count": 29,
   "metadata": {},
   "outputs": [
    {
     "data": {
      "text/plain": [
       "lr: org.apache.spark.ml.classification.LogisticRegression = logreg_eaf94072f63a\n"
      ]
     },
     "execution_count": 29,
     "metadata": {},
     "output_type": "execute_result"
    }
   ],
   "source": [
    "val lr = new LogisticRegression()"
   ]
  },
  {
   "cell_type": "code",
   "execution_count": 98,
   "metadata": {},
   "outputs": [
    {
     "data": {
      "text/plain": [
       "res55: org.apache.spark.ml.param.ParamMap =\n",
       "{\n",
       "\tlogreg_eaf94072f63a-aggregationDepth: 2,\n",
       "\tlogreg_eaf94072f63a-elasticNetParam: 0.0,\n",
       "\tlogreg_eaf94072f63a-family: auto,\n",
       "\tlogreg_eaf94072f63a-featuresCol: features,\n",
       "\tlogreg_eaf94072f63a-fitIntercept: true,\n",
       "\tlogreg_eaf94072f63a-labelCol: label,\n",
       "\tlogreg_eaf94072f63a-maxIter: 100,\n",
       "\tlogreg_eaf94072f63a-predictionCol: prediction,\n",
       "\tlogreg_eaf94072f63a-probabilityCol: probability,\n",
       "\tlogreg_eaf94072f63a-rawPredictionCol: rawPrediction,\n",
       "\tlogreg_eaf94072f63a-regParam: 0.0,\n",
       "\tlogreg_eaf94072f63a-standardization: true,\n",
       "\tlogreg_eaf94072f63a-threshold: 0.5,\n",
       "\tlogreg_eaf94072f63a-tol: 1.0E-6\n",
       "}\n"
      ]
     },
     "execution_count": 98,
     "metadata": {},
     "output_type": "execute_result"
    }
   ],
   "source": [
    "lr.\textractParamMap"
   ]
  },
  {
   "cell_type": "markdown",
   "metadata": {},
   "source": [
    "## Observation of default Logistic Regression Model Parameters\n",
    "* maxIter: 100\n",
    "* regParam: 0.0\n",
    "* threshold: 0.5"
   ]
  },
  {
   "cell_type": "markdown",
   "metadata": {},
   "source": [
    "## Define pipeline with feature engineering and logistic regression"
   ]
  },
  {
   "cell_type": "code",
   "execution_count": 30,
   "metadata": {},
   "outputs": [
    {
     "data": {
      "text/plain": [
       "pipeline: org.apache.spark.ml.Pipeline = pipeline_f3773d13c132\n"
      ]
     },
     "execution_count": 30,
     "metadata": {},
     "output_type": "execute_result"
    }
   ],
   "source": [
    "val pipeline = new Pipeline()\n",
    "  .setStages(featureEngineeringPipeline ++ Array(lr))"
   ]
  },
  {
   "cell_type": "markdown",
   "metadata": {},
   "source": [
    "## Construct a grid of parameters to search over\n",
    "\n",
    "Total combination to search over: 3 * 4 * 3 = 36"
   ]
  },
  {
   "cell_type": "code",
   "execution_count": 31,
   "metadata": {},
   "outputs": [
    {
     "data": {
      "text/plain": [
       "paramGrid: Array[org.apache.spark.ml.param.ParamMap] =\n",
       "Array({\n",
       "\tlogreg_eaf94072f63a-maxIter: 10,\n",
       "\tlogreg_eaf94072f63a-regParam: 0.3,\n",
       "\tlogreg_eaf94072f63a-threshold: 0.4\n",
       "}, {\n",
       "\tlogreg_eaf94072f63a-maxIter: 10,\n",
       "\tlogreg_eaf94072f63a-regParam: 0.3,\n",
       "\tlogreg_eaf94072f63a-threshold: 0.5\n",
       "}, {\n",
       "\tlogreg_eaf94072f63a-maxIter: 10,\n",
       "\tlogreg_eaf94072f63a-regParam: 0.3,\n",
       "\tlogreg_eaf94072f63a-threshold: 0.6\n",
       "}, {\n",
       "\tlogreg_eaf94072f63a-maxIter: 10,\n",
       "\tlogreg_eaf94072f63a-regParam: 0.1,\n",
       "\tlogreg_eaf94072f63a-threshold: 0.4\n",
       "}, {\n",
       "\tlogreg_eaf94072f63a-maxIter: 10,\n",
       "\tlogreg_eaf94072f63a-regParam: 0.1,\n",
       "\tlogreg_eaf94072f63a-threshold: 0.5\n",
       "}, {\n",
       "\tlogreg_eaf94072f63a-maxIter: 10,\n",
       "\tlogreg_eaf94072f63a-regParam: 0.1,\n",
       "\tlogreg_eaf94072f63a-threshold: 0.6\n",
       "}, {\n",
       "\tlogreg_eaf94072f63a-maxIter: 10,\n",
       "\tlogreg_eaf94072f63a-regParam: 0.0..."
      ]
     },
     "execution_count": 31,
     "metadata": {},
     "output_type": "execute_result"
    }
   ],
   "source": [
    "val paramGrid = new ParamGridBuilder()\n",
    "  .addGrid(lr.maxIter, Array(10,100,1000))\n",
    "  .addGrid(lr.regParam, Array(0.3, 0.1, 0.01, 0.0))\n",
    "  .addGrid(lr.threshold, Array(0.4,0.5,0.6))\n",
    "  .build()"
   ]
  },
  {
   "cell_type": "code",
   "execution_count": 32,
   "metadata": {},
   "outputs": [
    {
     "data": {
      "text/plain": [
       "res8: Int = 36\n"
      ]
     },
     "execution_count": 32,
     "metadata": {},
     "output_type": "execute_result"
    }
   ],
   "source": [
    "paramGrid.length"
   ]
  },
  {
   "cell_type": "markdown",
   "metadata": {},
   "source": [
    "## Configure Cross Validator\n",
    "* set number of folds = 4, CrossValidator will generate 4 (training, test) dataset pairs, each of which uses 3/4 of the data for training and 1/4 for testing. To evaluate a particular ParamMap, CrossValidator computes the average evaluation metric for the 4 Models produced by fitting the Estimator on the 4 different (training, test) dataset pairs.\n",
    "* parallelism = 2, evaluate up to 2 parameter settings in parallel"
   ]
  },
  {
   "cell_type": "code",
   "execution_count": 33,
   "metadata": {},
   "outputs": [
    {
     "data": {
      "text/plain": [
       "cv: org.apache.spark.ml.tuning.CrossValidator = cv_85001ef6fd5c\n"
      ]
     },
     "execution_count": 33,
     "metadata": {},
     "output_type": "execute_result"
    }
   ],
   "source": [
    "val cv = new CrossValidator()\n",
    "  .setEstimator(pipeline)\n",
    "  .setEvaluator(new BinaryClassificationEvaluator)\n",
    "  .setEstimatorParamMaps(paramGrid)\n",
    "  .setNumFolds(4)  // Use 3+ in practice\n",
    "  .setParallelism(2)  // Evaluate up to 2 parameter settings in parallel"
   ]
  },
  {
   "cell_type": "code",
   "execution_count": 34,
   "metadata": {},
   "outputs": [
    {
     "name": "stdout",
     "output_type": "stream",
     "text": [
      "2019-06-10 09:59:49,124 WARN  [block-manager-slave-async-thread-pool-236] storage.BlockManager (Logging.scala:logWarning(66)) - Asked to remove block broadcast_4305, which does not exist\n",
      "2019-06-10 09:59:49,125 WARN  [block-manager-slave-async-thread-pool-236] storage.BlockManager (Logging.scala:logWarning(66)) - Asked to remove block broadcast_4305_piece0, which does not exist\n"
     ]
    },
    {
     "data": {
      "text/plain": [
       "cvModel: org.apache.spark.ml.tuning.CrossValidatorModel = cv_85001ef6fd5c\n"
      ]
     },
     "execution_count": 34,
     "metadata": {},
     "output_type": "execute_result"
    }
   ],
   "source": [
    "// Run cross-validation, and choose the best set of parameters.\n",
    "val cvModel = cv.fit(trainingData)"
   ]
  },
  {
   "cell_type": "markdown",
   "metadata": {},
   "source": [
    "## Inspect Best Model"
   ]
  },
  {
   "cell_type": "code",
   "execution_count": 92,
   "metadata": {},
   "outputs": [
    {
     "data": {
      "text/plain": [
       "bestPipeline: org.apache.spark.ml.PipelineModel = pipeline_f3773d13c132\n"
      ]
     },
     "execution_count": 92,
     "metadata": {},
     "output_type": "execute_result"
    }
   ],
   "source": [
    "val bestPipeline = cvModel.bestModel.asInstanceOf[org.apache.spark.ml.PipelineModel]"
   ]
  },
  {
   "cell_type": "code",
   "execution_count": 95,
   "metadata": {},
   "outputs": [
    {
     "data": {
      "text/plain": [
       "bestModel: org.apache.spark.ml.classification.LogisticRegressionModel = LogisticRegressionModel: uid = logreg_eaf94072f63a, numClasses = 2, numFeatures = 9357\n"
      ]
     },
     "execution_count": 95,
     "metadata": {},
     "output_type": "execute_result"
    }
   ],
   "source": [
    "val bestModel = bestPipeline.stages(bestPipeline.stages.length-1).asInstanceOf[LogisticRegressionModel]"
   ]
  },
  {
   "cell_type": "code",
   "execution_count": 97,
   "metadata": {},
   "outputs": [
    {
     "data": {
      "text/plain": [
       "res54: org.apache.spark.ml.param.ParamMap =\n",
       "{\n",
       "\tlogreg_eaf94072f63a-aggregationDepth: 2,\n",
       "\tlogreg_eaf94072f63a-elasticNetParam: 0.0,\n",
       "\tlogreg_eaf94072f63a-family: auto,\n",
       "\tlogreg_eaf94072f63a-featuresCol: features,\n",
       "\tlogreg_eaf94072f63a-fitIntercept: true,\n",
       "\tlogreg_eaf94072f63a-labelCol: label,\n",
       "\tlogreg_eaf94072f63a-maxIter: 100,\n",
       "\tlogreg_eaf94072f63a-predictionCol: prediction,\n",
       "\tlogreg_eaf94072f63a-probabilityCol: probability,\n",
       "\tlogreg_eaf94072f63a-rawPredictionCol: rawPrediction,\n",
       "\tlogreg_eaf94072f63a-regParam: 0.01,\n",
       "\tlogreg_eaf94072f63a-standardization: true,\n",
       "\tlogreg_eaf94072f63a-threshold: 0.4,\n",
       "\tlogreg_eaf94072f63a-tol: 1.0E-6\n",
       "}\n"
      ]
     },
     "execution_count": 97,
     "metadata": {},
     "output_type": "execute_result"
    }
   ],
   "source": [
    "bestModel.extractParamMap"
   ]
  },
  {
   "cell_type": "markdown",
   "metadata": {},
   "source": [
    "## Observation of parameters of best model\n",
    "* maxIter: 100 (default value = 100)\n",
    "* regParam: 0.01 (default value = 0.0)\n",
    "* threshold: 0.4 (default value = 0.5)\n",
    "\n",
    "So the best model selected by Cross Validator actually has different parameters to default LR model"
   ]
  },
  {
   "cell_type": "markdown",
   "metadata": {},
   "source": [
    "## Use Best Model to predict test set"
   ]
  },
  {
   "cell_type": "code",
   "execution_count": 65,
   "metadata": {},
   "outputs": [
    {
     "data": {
      "text/plain": [
       "prediction: org.apache.spark.sql.DataFrame = [loan_amnt: int, term: string ... 103 more fields]\n"
      ]
     },
     "execution_count": 65,
     "metadata": {},
     "output_type": "execute_result"
    }
   ],
   "source": [
    "val prediction = cvModel.transform(testData)"
   ]
  },
  {
   "cell_type": "code",
   "execution_count": 66,
   "metadata": {},
   "outputs": [
    {
     "name": "stdout",
     "output_type": "stream",
     "text": [
      "+-----+----------+--------+\n",
      "|label|prediction|count(1)|\n",
      "+-----+----------+--------+\n",
      "|1    |0.0       |168     |\n",
      "|0    |0.0       |3476    |\n",
      "|1    |1.0       |260     |\n",
      "|0    |1.0       |63      |\n",
      "+-----+----------+--------+\n",
      "\n",
      "+--------+---------+------+----+----+----+----+----+\n",
      "|Accuracy|Precision|Recall|F1  |TPR |FPR |TNR |FNR |\n",
      "+--------+---------+------+----+----+----+----+----+\n",
      "|0.94    |0.8      |0.61  |0.69|0.61|0.02|0.98|0.39|\n",
      "+--------+---------+------+----+----+----+----+----+\n",
      "\n"
     ]
    }
   ],
   "source": [
    "evaluatePrediction(prediction)"
   ]
  },
  {
   "cell_type": "markdown",
   "metadata": {},
   "source": [
    "## Compare with previous Logistic Regression\n",
    "\n",
    "| Model| Accuracy | Precision | Recall | F1 | TPR | FPR | TNR | FNR |\n",
    "|------|------|------|------|------|------|------|------|------|\n",
    "|   logistic  | 0.94    |0.72     |0.69  |0.71|0.69|0.03|0.97|0.31|\n",
    "| cross validation logistic | 0.94    |0.8      |0.61  |0.69|0.61|0.02|0.98|0.39|\n",
    "\n",
    "It doesn't seem to have hugh improvement."
   ]
  },
  {
   "cell_type": "markdown",
   "metadata": {},
   "source": [
    "# Inspect Logistic Regression Model Coefficients"
   ]
  },
  {
   "cell_type": "markdown",
   "metadata": {},
   "source": [
    "## Get coefficient vector from logistic regression model"
   ]
  },
  {
   "cell_type": "code",
   "execution_count": 100,
   "metadata": {},
   "outputs": [
    {
     "data": {
      "text/plain": [
       "coefficients: org.apache.spark.sql.DataFrame = [coeff: double]\n"
      ]
     },
     "execution_count": 100,
     "metadata": {},
     "output_type": "execute_result"
    }
   ],
   "source": [
    "val coefficients = lrModel.coefficients.toArray.toList.toDF(\"coeff\")"
   ]
  },
  {
   "cell_type": "code",
   "execution_count": 101,
   "metadata": {},
   "outputs": [
    {
     "name": "stdout",
     "output_type": "stream",
     "text": [
      "+-------+-------------------+\n",
      "|summary|              coeff|\n",
      "+-------+-------------------+\n",
      "|  count|               9357|\n",
      "|   mean|-0.4200897660885377|\n",
      "| stddev|  4.433245901842764|\n",
      "|    min|-20.190229418363103|\n",
      "|    max|  85.47951343472026|\n",
      "+-------+-------------------+\n",
      "\n"
     ]
    }
   ],
   "source": [
    "coefficients.describe().show()"
   ]
  },
  {
   "cell_type": "code",
   "execution_count": 102,
   "metadata": {},
   "outputs": [],
   "source": [
    "coefficients.createOrReplaceTempView(\"coeff\")"
   ]
  },
  {
   "cell_type": "code",
   "execution_count": 103,
   "metadata": {},
   "outputs": [
    {
     "name": "stdout",
     "output_type": "stream",
     "text": [
      "      coeff\n",
      "0 -0.431518\n",
      "1  0.166681\n",
      "2  0.000000\n",
      "3  0.130699\n",
      "4 -0.317859\n"
     ]
    },
    {
     "data": {
      "image/png": "[encoded data removed]",
      "text/plain": [
       "<IPython.core.display.Image object>"
      ]
     },
     "execution_count": 103,
     "metadata": {},
     "output_type": "execute_result"
    }
   ],
   "source": [
    "%%python\n",
    "import pandas as pd\n",
    "import matplotlib.pyplot as plt\n",
    "import tempfile\n",
    "from IPython.display import Image\n",
    "\n",
    "coeff = spark.sql(\"select * from coeff\")\n",
    "coeffPandas = coeff.toPandas()\n",
    "print(coeffPandas.head())\n",
    "plt.clf()\n",
    "plt.boxplot(coeffPandas['coeff'])\n",
    "# plt.plot(rocPandas['FPR'],rocPandas['TPR'])\n",
    "with tempfile.NamedTemporaryFile(suffix=\".png\") as fo:\n",
    "    plt.savefig(fo.name)\n",
    "    retval = Image(filename=fo.name)"
   ]
  },
  {
   "cell_type": "code",
   "execution_count": 104,
   "metadata": {},
   "outputs": [
    {
     "name": "stdout",
     "output_type": "stream",
     "text": [
      "+------------------+\n",
      "|             coeff|\n",
      "+------------------+\n",
      "| 85.47951343472026|\n",
      "| 22.77081842673796|\n",
      "|19.469411834911064|\n",
      "|19.138571952913146|\n",
      "|18.935964476852543|\n",
      "|18.505920853921747|\n",
      "| 17.84811145324859|\n",
      "|17.648888023555312|\n",
      "|  17.5211297142109|\n",
      "| 17.43581356269886|\n",
      "+------------------+\n",
      "only showing top 10 rows\n",
      "\n"
     ]
    }
   ],
   "source": [
    "coefficients.orderBy(desc(\"coeff\")).show(10)"
   ]
  },
  {
   "cell_type": "code",
   "execution_count": 105,
   "metadata": {},
   "outputs": [
    {
     "name": "stdout",
     "output_type": "stream",
     "text": [
      "+-------------------+\n",
      "|              coeff|\n",
      "+-------------------+\n",
      "|-20.190229418363103|\n",
      "|-14.644224093501567|\n",
      "|-13.724353138772477|\n",
      "|-12.848148776111886|\n",
      "| -12.75263072196487|\n",
      "|-12.592897227491578|\n",
      "|-12.410188742154562|\n",
      "|-12.109321150597998|\n",
      "| -12.05967456736664|\n",
      "|-11.162664447977567|\n",
      "+-------------------+\n",
      "only showing top 10 rows\n",
      "\n"
     ]
    }
   ],
   "source": [
    "coefficients.orderBy(asc(\"coeff\")).show(10)"
   ]
  },
  {
   "cell_type": "markdown",
   "metadata": {},
   "source": [
    "## Look for the feature vector indexes of 10 largest and smallest coefficients\n"
   ]
  },
  {
   "cell_type": "code",
   "execution_count": 107,
   "metadata": {},
   "outputs": [
    {
     "data": {
      "text/plain": [
       "coefficientsArr: Array[Double] = Array(-0.4315184409697574, 0.16668143479907688, 0.0, 0.1306991843897785, -0.31785925516163815, -0.6666474492595454, 0.4206662845842923, 0.6396571524425809, 0.07006494007137694, 1.2136415758181158, 0.0, 0.04251499355116222, -0.19990422323107324, 0.2968956959691074, -0.20502921915127667, 0.2998066225719562, -0.03434488763289823, 0.3150576843496801, -0.6982980766346993, -0.4260611994672941, -0.1323350657034423, -0.2732812284560593, -0.8867795565670317, -0.18595526654164465, -0.541624012565455, 0.17445177703392956, 0.3973358267884245, 0.8304619932200182, -1.0235564112752698, -0.09176195149526267, 0.4091656752128516, 1.0184517260824413, -0.7283713346518035, 1.3525327054296787, 0.5532308900286937, 1.1966714754052354, -0.4721410700222022, 0.03154260779317063, 1..."
      ]
     },
     "execution_count": 107,
     "metadata": {},
     "output_type": "execute_result"
    }
   ],
   "source": [
    "val coefficientsArr = lrModel.coefficients.toArray"
   ]
  },
  {
   "cell_type": "code",
   "execution_count": 114,
   "metadata": {},
   "outputs": [
    {
     "data": {
      "text/plain": [
       "lowestIndex: Array[Int] = Array(1030, 3081, 3165, 4239, 4568, 5350, 5385, 5671, 9322, 9326)\n"
      ]
     },
     "execution_count": 114,
     "metadata": {},
     "output_type": "execute_result"
    }
   ],
   "source": [
    "val lowestIndex = for { i <- coefficientsArr.zipWithIndex\n",
    "     if i._1 <= -11.162664447977567} yield i._2"
   ]
  },
  {
   "cell_type": "code",
   "execution_count": 113,
   "metadata": {},
   "outputs": [
    {
     "data": {
      "text/plain": [
       "highestIndex: Array[Int] = Array(549, 1733, 1999, 2010, 2144, 4403, 6736, 7409, 9324, 9325)\n"
      ]
     },
     "execution_count": 113,
     "metadata": {},
     "output_type": "execute_result"
    }
   ],
   "source": [
    "val highestIndex = for { i <- coefficientsArr.zipWithIndex\n",
    "     if i._1 >= 17.43581356269886} yield i._2"
   ]
  },
  {
   "cell_type": "markdown",
   "metadata": {},
   "source": [
    "## Look at how the feature vector been created"
   ]
  },
  {
   "cell_type": "code",
   "execution_count": 105,
   "metadata": {},
   "outputs": [
    {
     "name": "stdout",
     "output_type": "stream",
     "text": [
      "+-------------+\n",
      "|term_vec     |\n",
      "+-------------+\n",
      "|(3,[0],[1.0])|\n",
      "|(3,[0],[1.0])|\n",
      "|(3,[0],[1.0])|\n",
      "|(3,[0],[1.0])|\n",
      "|(3,[0],[1.0])|\n",
      "+-------------+\n",
      "only showing top 5 rows\n",
      "\n",
      "+-------------+\n",
      "|grade_vec    |\n",
      "+-------------+\n",
      "|(8,[2],[1.0])|\n",
      "|(8,[2],[1.0])|\n",
      "|(8,[2],[1.0])|\n",
      "|(8,[1],[1.0])|\n",
      "|(8,[1],[1.0])|\n",
      "+-------------+\n",
      "only showing top 5 rows\n",
      "\n",
      "+---------------+\n",
      "|sub_grade_vec  |\n",
      "+---------------+\n",
      "|(36,[11],[1.0])|\n",
      "|(36,[11],[1.0])|\n",
      "|(36,[11],[1.0])|\n",
      "|(36,[5],[1.0]) |\n",
      "|(36,[7],[1.0]) |\n",
      "+---------------+\n",
      "only showing top 5 rows\n",
      "\n",
      "+-------------------+\n",
      "|emp_title_vec      |\n",
      "+-------------------+\n",
      "|(7715,[7714],[1.0])|\n",
      "|(7715,[7714],[1.0])|\n",
      "|(7715,[5418],[1.0])|\n",
      "|(7715,[616],[1.0]) |\n",
      "|(7715,[7714],[1.0])|\n",
      "+-------------------+\n",
      "only showing top 5 rows\n",
      "\n",
      "+---------------+\n",
      "|emp_length_vec |\n",
      "+---------------+\n",
      "|(13,[4],[1.0]) |\n",
      "|(13,[0],[1.0]) |\n",
      "|(13,[3],[1.0]) |\n",
      "|(13,[10],[1.0])|\n",
      "|(13,[0],[1.0]) |\n",
      "+---------------+\n",
      "only showing top 5 rows\n",
      "\n",
      "+------------------+\n",
      "|home_ownership_vec|\n",
      "+------------------+\n",
      "|(5,[0],[1.0])     |\n",
      "|(5,[0],[1.0])     |\n",
      "|(5,[0],[1.0])     |\n",
      "|(5,[0],[1.0])     |\n",
      "|(5,[0],[1.0])     |\n",
      "+------------------+\n",
      "only showing top 5 rows\n",
      "\n",
      "+-----------------------+\n",
      "|verification_status_vec|\n",
      "+-----------------------+\n",
      "|(4,[1],[1.0])          |\n",
      "|(4,[1],[1.0])          |\n",
      "|(4,[1],[1.0])          |\n",
      "|(4,[0],[1.0])          |\n",
      "|(4,[1],[1.0])          |\n",
      "+-----------------------+\n",
      "only showing top 5 rows\n",
      "\n",
      "+---------------+\n",
      "|issue_d_vec    |\n",
      "+---------------+\n",
      "|(13,[0],[1.0]) |\n",
      "|(13,[8],[1.0]) |\n",
      "|(13,[0],[1.0]) |\n",
      "|(13,[0],[1.0]) |\n",
      "|(13,[10],[1.0])|\n",
      "+---------------+\n",
      "only showing top 5 rows\n",
      "\n",
      "+--------------+\n",
      "|purpose_vec   |\n",
      "+--------------+\n",
      "|(13,[4],[1.0])|\n",
      "|(13,[5],[1.0])|\n",
      "|(13,[3],[1.0])|\n",
      "|(13,[3],[1.0])|\n",
      "|(13,[0],[1.0])|\n",
      "+--------------+\n",
      "only showing top 5 rows\n",
      "\n",
      "+--------------+\n",
      "|title_vec     |\n",
      "+--------------+\n",
      "|(13,[4],[1.0])|\n",
      "|(13,[5],[1.0])|\n",
      "|(13,[3],[1.0])|\n",
      "|(13,[3],[1.0])|\n",
      "|(13,[0],[1.0])|\n",
      "+--------------+\n",
      "only showing top 5 rows\n",
      "\n",
      "+-----------------+\n",
      "|zip_code_vec     |\n",
      "+-----------------+\n",
      "|(824,[136],[1.0])|\n",
      "|(824,[84],[1.0]) |\n",
      "|(824,[334],[1.0])|\n",
      "|(824,[292],[1.0])|\n",
      "|(824,[55],[1.0]) |\n",
      "+-----------------+\n",
      "only showing top 5 rows\n",
      "\n",
      "+---------------+\n",
      "|addr_state_vec |\n",
      "+---------------+\n",
      "|(51,[19],[1.0])|\n",
      "|(51,[0],[1.0]) |\n",
      "|(51,[6],[1.0]) |\n",
      "|(51,[9],[1.0]) |\n",
      "|(51,[4],[1.0]) |\n",
      "+---------------+\n",
      "only showing top 5 rows\n",
      "\n",
      "+--------------------+\n",
      "|earliest_cr_line_vec|\n",
      "+--------------------+\n",
      "|(552,[385],[1.0])   |\n",
      "|(552,[196],[1.0])   |\n",
      "|(552,[129],[1.0])   |\n",
      "|(552,[165],[1.0])   |\n",
      "|(552,[340],[1.0])   |\n",
      "+--------------------+\n",
      "only showing top 5 rows\n",
      "\n",
      "+-----------------------+\n",
      "|initial_list_status_vec|\n",
      "+-----------------------+\n",
      "|(3,[0],[1.0])          |\n",
      "|(3,[0],[1.0])          |\n",
      "|(3,[0],[1.0])          |\n",
      "|(3,[1],[1.0])          |\n",
      "|(3,[0],[1.0])          |\n",
      "+-----------------------+\n",
      "only showing top 5 rows\n",
      "\n",
      "+----------------+\n",
      "|last_pymnt_d_vec|\n",
      "+----------------+\n",
      "|(27,[0],[1.0])  |\n",
      "|(27,[0],[1.0])  |\n",
      "|(27,[0],[1.0])  |\n",
      "|(27,[13],[1.0]) |\n",
      "|(27,[20],[1.0]) |\n",
      "+----------------+\n",
      "only showing top 5 rows\n",
      "\n",
      "+----------------------+\n",
      "|last_credit_pull_d_vec|\n",
      "+----------------------+\n",
      "|(27,[0],[1.0])        |\n",
      "|(27,[0],[1.0])        |\n",
      "|(27,[0],[1.0])        |\n",
      "|(27,[0],[1.0])        |\n",
      "|(27,[3],[1.0])        |\n",
      "+----------------------+\n",
      "only showing top 5 rows\n",
      "\n",
      "+--------------------+\n",
      "|application_type_vec|\n",
      "+--------------------+\n",
      "|(3,[0],[1.0])       |\n",
      "|(3,[0],[1.0])       |\n",
      "|(3,[0],[1.0])       |\n",
      "|(3,[0],[1.0])       |\n",
      "|(3,[0],[1.0])       |\n",
      "+--------------------+\n",
      "only showing top 5 rows\n",
      "\n",
      "+-------------------------------------------------------------------------------------------------------------------------------------------------------------------------------------------------------------------------------------------------------------------------------------------------------------------------------------------------------------------------------------------------------------------------------------------------------------------------------------------------------------------------------------------------------------------------------------------------------------------------------------------------------------------------------------------------------------------------------------------------------------------------------------------------------------------------------------------------------------------------------------------------------------------------------------------------------------------------+\n",
      "|numerical_features_vec                                                                                                                                                                                                                                                                                                                                                                                                                                                                                                                                                                                                                                                                                                                                                                                                                                                                                                                                                   |\n",
      "+-------------------------------------------------------------------------------------------------------------------------------------------------------------------------------------------------------------------------------------------------------------------------------------------------------------------------------------------------------------------------------------------------------------------------------------------------------------------------------------------------------------------------------------------------------------------------------------------------------------------------------------------------------------------------------------------------------------------------------------------------------------------------------------------------------------------------------------------------------------------------------------------------------------------------------------------------------------------------+\n",
      "|[-1.4238931150085783,-1.5248168270830211,0.07802196146653365,0.47103466749526995,-0.35054769547818926,0.6302582913486303,0.9590711871791082,-0.37569786197160626,-0.2907284299387723,-1.0030959603318255,0.5035376085027575,-0.7599830468953955,-1.2080872086427112,-0.9994875043117543,-0.1287439082275513,-0.14741156151473833,-0.49537096277637355,-0.13645353401551158,0.0,-0.0638896820013784,-0.14566061985721382,0.141585521470416,0.23507671324954088,-0.15631553293218184,-0.08112131694135093,-0.02069304874680548,0.9621178587412925,2.668776073097375,0.5535903184682912,0.36282292092816654,2.065839209139787,0.013454095703419528,-0.3623644836282453,0.4529313904336894,0.06946264899157126,0.5126231311510122,-0.15034356353903625,0.9704976728560194,-0.020853384599482924,-0.15778277151800682,-0.5599997057107147,-0.0626023987120369,-1.0557031364728535,-0.3628097414777991,-0.1593079969181365,0.6214027715603329,0.8816226405165757]              |\n",
      "|[-1.4238931150085783,-1.5248168270830211,-0.48797984764248575,-0.12634958923794598,-0.35054769547818926,-0.6306498047610705,-0.2765274057531701,-0.37569786197160626,-0.5693464566255254,-1.4832491684623452,0.07519814153393098,-0.7792883054342401,-1.1885957874065822,-0.994556188880209,-0.1287439082275513,-0.14741156151473833,-0.49537096277637355,-0.13645353401551158,0.0,-0.0638896820013784,-0.14566061985721382,0.1869571852250492,-0.005985435468703054,-0.7993476000689498,-0.08112131694135093,-0.02069304874680548,-1.3621722501187816,1.1484537526930696,-0.62484899702178,-0.5842742955948248,1.4878493075712353,-0.6572929727552866,-0.3623644836282453,-0.4341464714191074,-0.25326009674162,-0.8767179916167602,0.6207108672701543,-0.27024984817748543,-0.020853384599482924,-0.15778277151800682,-0.0069716632073653795,0.6454315527517307,-1.0557031364728535,-0.3628097414777991,-0.1593079969181365,0.2458634307965862,-0.7479616634434637]    |\n",
      "|[-1.4238931150085783,-1.5248168270830211,-0.41594325375588326,-0.48712940720884895,-0.35054769547818926,0.6302582913486303,-0.10001332104855887,-0.37569786197160626,-0.25736595469968554,-0.20822048132583856,0.6748733952902882,-0.7704900494225587,-1.1987556583696375,-1.0015358230756353,-0.1287439082275513,-0.14741156151473833,-0.49537096277637355,-0.13645353401551158,0.0,-0.0638896820013784,-0.14566061985721382,0.42854929163282157,-0.30584323021578697,-0.7993476000689498,-0.08112131694135093,-0.02069304874680548,-0.5408065725516877,-0.6419258219935797,-0.196325609570845,0.2575898968700564,-0.24612039713441877,-0.4133849478612117,-0.3623644836282453,-0.7298390920367064,0.39218539472476255,0.2347549065974577,0.749219939071686,-0.09300020231555617,-0.020853384599482924,-0.15778277151800682,-0.5599997057107147,0.6454315527517307,-0.5925062779408594,-0.3628097414777991,-0.1593079969181365,0.37123410731693113,-0.08996536373254546]|\n",
      "|[-1.4238931150085783,-0.7258187792622897,-0.31303383391787976,-0.8876229725843009,-0.35054769547818926,0.6302582913486303,-0.6295555751623925,-0.37569786197160626,-0.6978792985590317,-1.8100761420637916,0.1608660349276963,-0.8314972529137205,-1.1438691295830012,-1.0108180170056351,-0.1287439082275513,-0.14741156151473833,-0.34977479697310937,-0.13645353401551158,0.0,-0.0638896820013784,-0.14566061985721382,-0.8634088337803585,0.06456933976590493,3.701876869888426,-0.08112131694135093,-0.02069304874680548,-1.1349859988768194,-0.8919788352179722,-0.6784144204531468,-0.689507319652935,-0.8241102987029701,-0.6877814758670461,-0.3623644836282453,-1.0255317126543053,0.39218539472476255,-0.8767179916167602,1.1347471544762813,-0.624749139901344,-0.020853384599482924,-0.15778277151800682,2.758168549309381,0.6454315527517307,-1.0557031364728535,-0.3628097414777991,-0.1593079969181365,-0.7761452219339408,-0.9483018864334256]          |\n",
      "|[-1.4238931150085783,-0.3476522275024771,0.4073321049481449,-0.7164623147562446,-0.35054769547818926,-0.6306498047610705,-0.8060696598670036,1.3508611195719922,-0.3863123810369822,0.2154441140834437,-0.6958128990099569,-0.8314972529137205,-1.1454435196047523,-1.0166559653326686,-0.1287439082275513,-0.14741156151473833,-0.429685374257073,-0.13645353401551158,0.0,-0.0638896820013784,-0.14566061985721382,-0.7409533539854464,-0.6057010249628709,-0.15631553293218184,-0.08112131694135093,-0.02069304874680548,0.36793843241616075,1.718574622844684,-0.24989103300221188,0.15235687281194626,-0.24612039713441877,-0.44387345097297104,0.331801026705519,-0.13845385080150846,-0.8987055882080025,-0.7377838793399829,-0.27885263534056803,-0.8019987857632732,-0.020853384599482924,-0.15778277151800682,-0.0069716632073653795,-0.08312512194286957,1.7179307469522613,2.2819730865063583,-0.1593079969181365,-0.7986674131394399,-0.5286145145089893]   |\n"
     ]
    },
    {
     "name": "stdout",
     "output_type": "stream",
     "text": [
      "+-------------------------------------------------------------------------------------------------------------------------------------------------------------------------------------------------------------------------------------------------------------------------------------------------------------------------------------------------------------------------------------------------------------------------------------------------------------------------------------------------------------------------------------------------------------------------------------------------------------------------------------------------------------------------------------------------------------------------------------------------------------------------------------------------------------------------------------------------------------------------------------------------------------------------------------------------------------------------+\n",
      "only showing top 5 rows\n",
      "\n"
     ]
    }
   ],
   "source": [
    "allFeatureColumns.foreach{ f =>\n",
    "    prediction.select(f).show(5,false)\n",
    "}"
   ]
  },
  {
   "cell_type": "markdown",
   "metadata": {},
   "source": [
    "#### length of feature vector for catogirical variables\n",
    "```\n",
    "term_vec: 3\n",
    "grade_vec: 8\n",
    "sub_grade_vec: 36\n",
    "emp_title_vec: 9192\n",
    "emp_length_vec: 13\n",
    "home_ownership_vec: 5\n",
    "verification_status_vec: 4\n",
    "issue_d_vec: 13\n",
    "purpose_vec: 13\n",
    "title_vec: 13\n",
    "zip_code_vec: 835\n",
    "addr_state_vec: 51\n",
    "earliest_cr_line_vec: 563\n",
    "initial_list_status_vec: 3\n",
    "last_pymnt_d_vec: 27\n",
    "last_credit_pull_d_vec: 27\n",
    "application_type_vec: 3\n",
    "```"
   ]
  },
  {
   "cell_type": "markdown",
   "metadata": {},
   "source": [
    "#### numerical vector order"
   ]
  },
  {
   "cell_type": "code",
   "execution_count": 106,
   "metadata": {},
   "outputs": [
    {
     "name": "stdout",
     "output_type": "stream",
     "text": [
      "loan_amnt\n",
      "int_rate\n",
      "annual_inc\n",
      "dti\n",
      "delinq_2yrs\n",
      "inq_last_6mths\n",
      "open_acc\n",
      "pub_rec\n",
      "revol_bal\n",
      "revol_util\n",
      "total_acc\n",
      "out_prncp\n",
      "total_pymnt\n",
      "total_rec_int\n",
      "total_rec_late_fee\n",
      "collection_recovery_fee\n",
      "last_pymnt_amnt\n",
      "collections_12_mths_ex_med\n",
      "policy_code\n",
      "acc_now_delinq\n",
      "tot_coll_amt\n",
      "tot_cur_bal\n",
      "total_rev_hi_lim\n",
      "acc_open_past_24mths\n",
      "chargeoff_within_12_mths\n",
      "delinq_amnt\n",
      "mo_sin_old_il_acct\n",
      "mo_sin_old_rev_tl_op\n",
      "mo_sin_rcnt_rev_tl_op\n",
      "mo_sin_rcnt_tl\n",
      "mort_acc\n",
      "mths_since_recent_bc\n",
      "num_accts_ever_120_pd\n",
      "num_actv_rev_tl\n",
      "num_bc_sats\n",
      "num_il_tl\n",
      "num_rev_accts\n",
      "num_sats\n",
      "num_tl_120dpd_2m\n",
      "num_tl_90g_dpd_24m\n",
      "num_tl_op_past_12m\n",
      "pct_tl_nvr_dlq\n",
      "percent_bc_gt_75\n",
      "pub_rec_bankruptcies\n",
      "tax_liens\n",
      "tot_hi_cred_lim\n",
      "total_il_high_credit_limit\n"
     ]
    }
   ],
   "source": [
    "numericColumns.foreach(println)"
   ]
  },
  {
   "cell_type": "code",
   "execution_count": 107,
   "metadata": {},
   "outputs": [
    {
     "data": {
      "text/plain": [
       "res30: Int = 47\n"
      ]
     },
     "execution_count": 107,
     "metadata": {},
     "output_type": "execute_result"
    }
   ],
   "source": [
    "numericColumns.length"
   ]
  },
  {
   "cell_type": "markdown",
   "metadata": {},
   "source": [
    "#### Length of feature vectors = Length of coeff vector\n",
    "* catogirical var = 3+8+36+9192+13+5+4+13+13+13+835+51+563+3+27+27+3 = 10809\n",
    "* numeric var = 47\n",
    "* total = 10809+47 = 10856\n",
    "\n",
    "All the top 10 largest and smallest coefficients indexes are with the one hot encoder vector range of string field 'emp_title' and 'zip_code'\n",
    "\n",
    "Now try to feed only emp_title and zip_code field into logistic regression to see what happens"
   ]
  },
  {
   "cell_type": "markdown",
   "metadata": {},
   "source": [
    "## Using onle emp_title for training"
   ]
  },
  {
   "cell_type": "code",
   "execution_count": 116,
   "metadata": {},
   "outputs": [
    {
     "data": {
      "text/plain": [
       "categoricalFeatures: Array[org.apache.spark.ml.Estimator[_ >: org.apache.spark.ml.feature.OneHotEncoderModel with org.apache.spark.ml.feature.StringIndexerModel <: org.apache.spark.ml.Model[_ >: org.apache.spark.ml.feature.OneHotEncoderModel with org.apache.spark.ml.feature.StringIndexerModel <: org.apache.spark.ml.Transformer with org.apache.spark.ml.param.shared.HasHandleInvalid with org.apache.spark.ml.util.MLWritable] with org.apache.spark.ml.param.shared.HasHandleInvalid with org.apache.spark.ml.util.MLWritable] with org.apache.spark.ml.param.shared.HasHandleInvalid with org.apache.spark.ml.util.DefaultParamsWritable{def copy(extra: org.apache.spark.ml.param.ParamMap): org.apache.spark.ml.Estimator[_ >: org.apache.spark.ml.feature.OneHotEncoderModel with org.apache.spark.ml.feature..."
      ]
     },
     "execution_count": 116,
     "metadata": {},
     "output_type": "execute_result"
    }
   ],
   "source": [
    "val categoricalFeatures = Array(\"emp_title\",\"zip_code\").flatMap{ name =>\n",
    "    \n",
    "    val stringIndexer = new StringIndexer()\n",
    "      .setInputCol(name)\n",
    "      .setOutputCol(name + \"_index\")\n",
    "      .setHandleInvalid(\"keep\")\n",
    "    \n",
    "    val oneHotEncoder = new OneHotEncoderEstimator()\n",
    "      .setInputCols(Array(name + \"_index\"))\n",
    "      .setOutputCols(Array(name + \"_vec\"))\n",
    "      .setDropLast(false)\n",
    "    \n",
    "    Array(stringIndexer, oneHotEncoder)\n",
    "}\n",
    "\n",
    "val allFeatureColumns = Array(\"emp_title\",\"zip_code\").map(x => x + \"_vec\")\n",
    "val featureColumnsAssembler = new VectorAssembler()\n",
    "  .setInputCols(allFeatureColumns)\n",
    "  .setOutputCol(\"features\")\n",
    "\n",
    "var featureEngineeringPipeline = Array[org.apache.spark.ml.PipelineStage]()\n",
    "featureEngineeringPipeline = featureEngineeringPipeline ++ categoricalFeatures\n",
    "featureEngineeringPipeline = featureEngineeringPipeline ++ Array(featureColumnsAssembler)"
   ]
  },
  {
   "cell_type": "code",
   "execution_count": 117,
   "metadata": {},
   "outputs": [
    {
     "data": {
      "text/plain": [
       "lr: org.apache.spark.ml.PipelineModel = pipeline_2492bf2a41a2\n",
       "lrModel: org.apache.spark.ml.classification.LogisticRegressionModel = LogisticRegressionModel: uid = logreg_f8090e4d1479, numClasses = 2, numFeatures = 8539\n"
      ]
     },
     "execution_count": 117,
     "metadata": {},
     "output_type": "execute_result"
    }
   ],
   "source": [
    "// Fit the logistic regression model \n",
    "val lr = runModel(trainingData,\"lr\",featureEngineeringPipeline = featureEngineeringPipeline)\n",
    "val lrModel = lr.stages(lr.stages.length-1).asInstanceOf[LogisticRegressionModel]"
   ]
  },
  {
   "cell_type": "code",
   "execution_count": 118,
   "metadata": {},
   "outputs": [
    {
     "name": "stdout",
     "output_type": "stream",
     "text": [
      "Accuracy: 0.9414394833260883\n",
      "FPR: 0.4610774679280538\n",
      "TPR: 0.9414394833260883\n",
      "F-measure: 0.9334977194801429\n",
      "Precision: 0.939254167763662\n",
      "Recall: 0.9414394833260883\n",
      "+--------------------+-------------------+\n",
      "|                 FPR|                TPR|\n",
      "+--------------------+-------------------+\n",
      "|                 0.0|                0.0|\n",
      "|                 0.0|0.09951749095295537|\n",
      "|                 0.0|0.23462002412545235|\n",
      "|                 0.0|0.31544028950542824|\n",
      "|                 0.0|0.38721351025331724|\n",
      "|0.001523018345448252|0.43063932448733416|\n",
      "| 0.00380754586362063| 0.4674306393244873|\n",
      "|0.007061266874350987|0.49638118214716526|\n",
      "|0.010384215991692628| 0.5271411338962606|\n",
      "|0.014053305642090688| 0.5536791314837153|\n",
      "| 0.01855313257182416| 0.5753920386007237|\n",
      "|0.022983731394946347|  0.594692400482509|\n",
      "|0.028175839390792663| 0.6158021712907117|\n",
      "| 0.03302180685358255| 0.6363088057901085|\n",
      "|0.038352371062651436| 0.6501809408926418|\n",
      "|0.043821391484942886| 0.6670687575392038|\n",
      "| 0.05012114918656975| 0.6809408926417371|\n",
      "|0.055036344755970926| 0.6978287092882992|\n",
      "| 0.06078227760470751| 0.7177322074788902|\n",
      "| 0.06666666666666667|  0.732810615199035|\n",
      "+--------------------+-------------------+\n",
      "only showing top 20 rows\n",
      "\n",
      "areaUnderROC: 0.9497819398149714\n",
      "+-----+----------+--------+\n",
      "|label|prediction|count(1)|\n",
      "+-----+----------+--------+\n",
      "|1    |0.0       |405     |\n",
      "|0    |0.0       |3415    |\n",
      "|1    |1.0       |23      |\n",
      "|0    |1.0       |124     |\n",
      "+-----+----------+--------+\n",
      "\n",
      "+--------+---------+------+----+----+----+----+----+\n",
      "|Accuracy|Precision|Recall|F1  |TPR |FPR |TNR |FNR |\n",
      "+--------+---------+------+----+----+----+----+----+\n",
      "|0.87    |0.16     |0.05  |0.08|0.05|0.04|0.96|0.95|\n",
      "+--------+---------+------+----+----+----+----+----+\n",
      "\n"
     ]
    },
    {
     "data": {
      "text/plain": [
       "trainingSummary: org.apache.spark.ml.classification.BinaryLogisticRegressionTrainingSummary = org.apache.spark.ml.classification.BinaryLogisticRegressionTrainingSummaryImpl@3482490f\n",
       "accuracy: Double = 0.9414394833260883\n",
       "falsePositiveRate: Double = 0.4610774679280538\n",
       "truePositiveRate: Double = 0.9414394833260883\n",
       "fMeasure: Double = 0.9334977194801429\n",
       "precision: Double = 0.939254167763662\n",
       "recall: Double = 0.9414394833260883\n",
       "roc: org.apache.spark.sql.DataFrame = [FPR: double, TPR: double]\n",
       "prediction: org.apache.spark.sql.DataFrame = [loan_amnt: int, term: string ... 71 more fields]\n"
      ]
     },
     "execution_count": 118,
     "metadata": {},
     "output_type": "execute_result"
    }
   ],
   "source": [
    "// Evaluate Model\n",
    "val trainingSummary = lrModel.binarySummary\n",
    "val accuracy = trainingSummary.accuracy\n",
    "val falsePositiveRate = trainingSummary.weightedFalsePositiveRate\n",
    "val truePositiveRate = trainingSummary.weightedTruePositiveRate\n",
    "val fMeasure = trainingSummary.weightedFMeasure\n",
    "val precision = trainingSummary.weightedPrecision\n",
    "val recall = trainingSummary.weightedRecall\n",
    "println(s\"Accuracy: $accuracy\\nFPR: $falsePositiveRate\\nTPR: $truePositiveRate\\n\" +\n",
    "  s\"F-measure: $fMeasure\\nPrecision: $precision\\nRecall: $recall\")\n",
    "val roc = trainingSummary.roc\n",
    "roc.createOrReplaceTempView(\"roc\")\n",
    "roc.show()\n",
    "println(s\"areaUnderROC: ${trainingSummary.areaUnderROC}\")\n",
    "\n",
    "val prediction = lr.transform(testData)\n",
    "evaluatePrediction(prediction)"
   ]
  },
  {
   "cell_type": "code",
   "execution_count": 119,
   "metadata": {},
   "outputs": [
    {
     "name": "stdout",
     "output_type": "stream",
     "text": [
      "   FPR       TPR\n",
      "0  0.0  0.000000\n",
      "1  0.0  0.099517\n",
      "2  0.0  0.234620\n",
      "3  0.0  0.315440\n",
      "4  0.0  0.387214\n"
     ]
    },
    {
     "data": {
      "image/png": "[encoded data removed]",
      "text/plain": [
       "<IPython.core.display.Image object>"
      ]
     },
     "execution_count": 119,
     "metadata": {},
     "output_type": "execute_result"
    }
   ],
   "source": [
    "%%python\n",
    "import pandas as pd\n",
    "import matplotlib.pyplot as plt\n",
    "import tempfile\n",
    "from IPython.display import Image\n",
    "\n",
    "roc = spark.sql(\"select * from roc\")\n",
    "rocPandas = roc.toPandas()\n",
    "print(rocPandas.head())\n",
    "plt.clf()\n",
    "plt.plot(rocPandas['FPR'],rocPandas['TPR'])\n",
    "with tempfile.NamedTemporaryFile(suffix=\".png\") as fo:\n",
    "    plt.savefig(fo.name)\n",
    "    retval = Image(filename=fo.name)"
   ]
  },
  {
   "cell_type": "markdown",
   "metadata": {},
   "source": [
    "## Observation\n",
    "\n",
    "Using only the `emp_title` field for training still achives good result in training, while model performs poorly in test set:\n",
    "\n",
    "| Data| Accuracy | Precision | Recall | F1 |\n",
    "|------|------|------|------|------|\n",
    "|   Training Set  | 0.94    |0.94     |0.94  |0.93|\n",
    "|   Test Set | 0.87    |0.16     |0.05  |0.08|\n",
    "\n",
    "\n",
    "That suggestes the model performs very well on training data but has high error rates on test data, due to the model has\n",
    "* high variance\n",
    "* low bias"
   ]
  }
 ],
 "metadata": {
  "kernelspec": {
   "display_name": "spylon-kernel",
   "language": "scala",
   "name": "spylon-kernel"
  },
  "language_info": {
   "codemirror_mode": "text/x-scala",
   "file_extension": ".scala",
   "help_links": [
    {
     "text": "MetaKernel Magics",
     "url": "https://metakernel.readthedocs.io/en/latest/source/README.html"
    }
   ],
   "mimetype": "text/x-scala",
   "name": "scala",
   "pygments_lexer": "scala",
   "version": "0.4.1"
  }
 },
 "nbformat": 4,
 "nbformat_minor": 2
}
