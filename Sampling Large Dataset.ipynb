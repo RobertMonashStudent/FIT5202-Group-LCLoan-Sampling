{
 "cells": [
  {
   "cell_type": "code",
   "execution_count": 27,
   "metadata": {},
   "outputs": [
    {
     "name": "stdout",
     "output_type": "stream",
     "text": [
      "+--------------------+-------+\n",
      "|         loan_status|  count|\n",
      "+--------------------+-------+\n",
      "|          Fully Paid|1041952|\n",
      "|             Default|     31|\n",
      "|     In Grace Period|   8952|\n",
      "|Does not meet the...|   1988|\n",
      "|         Charged Off| 261654|\n",
      "|            Oct-2015|      1|\n",
      "|  Late (31-120 days)|  21897|\n",
      "|             Current| 919695|\n",
      "|Does not meet the...|    761|\n",
      "|   Late (16-30 days)|   3737|\n",
      "+--------------------+-------+\n",
      "\n"
     ]
    },
    {
     "data": {
      "text/plain": [
       "import org.apache.spark.sql.SparkSession\n",
       "import spark.implicits._\n",
       "df: org.apache.spark.sql.DataFrame = [id: string, member_id: string ... 143 more fields]\n"
      ]
     },
     "execution_count": 27,
     "metadata": {},
     "output_type": "execute_result"
    }
   ],
   "source": [
    "//importing spark packages for this task\n",
    "\n",
    "import org.apache.spark.sql.SparkSession\n",
    "import spark.implicits._\n",
    "\n",
    "\n",
    "//create a datafram by reading in the large csv file\n",
    "\n",
    "val df = spark.read.format(\"csv\").option(\"header\", \"true\").load(\"LCLoan.csv\")\n",
    "\n",
    "\n",
    "//show a summary of our target variable\n",
    "\n",
    "df.groupBy(\"loan_status\").count().show()"
   ]
  },
  {
   "cell_type": "code",
   "execution_count": 28,
   "metadata": {},
   "outputs": [
    {
     "name": "stdout",
     "output_type": "stream",
     "text": [
      "+--------------------+-----+\n",
      "|         loan_status|count|\n",
      "+--------------------+-----+\n",
      "|          Fully Paid|10520|\n",
      "|     In Grace Period|   80|\n",
      "|Does not meet the...|   27|\n",
      "|         Charged Off| 2622|\n",
      "|  Late (31-120 days)|  201|\n",
      "|             Current| 9015|\n",
      "|Does not meet the...|    5|\n",
      "|   Late (16-30 days)|   45|\n",
      "+--------------------+-----+\n",
      "\n"
     ]
    },
    {
     "data": {
      "text/plain": [
       "subsetDF: org.apache.spark.sql.Dataset[org.apache.spark.sql.Row] = [id: string, member_id: string ... 143 more fields]\n"
      ]
     },
     "execution_count": 28,
     "metadata": {},
     "output_type": "execute_result"
    }
   ],
   "source": [
    "//created a subset of our large dataset\n",
    "//at 1% of our data, this should result in about 20,000 rows\n",
    "\n",
    "var subsetDF = df.sample(false, 0.01)\n",
    "\n",
    "\n",
    "\n",
    "//display a summary of our target variable, \n",
    "//and ensure that none of the counts are too out-of-line with the large dataset\n",
    "\n",
    "subsetDF.groupBy(\"loan_status\").count().show()"
   ]
  },
  {
   "cell_type": "code",
   "execution_count": 29,
   "metadata": {},
   "outputs": [],
   "source": [
    "//Write a Folder that contains a new csv file. (it will be called part-0000-...)\n",
    "\n",
    "subsetDF.coalesce(1).write.format(\"com.databricks.spark.csv\").option(\"header\", \"true\").save(\"SubsetLCLoan\")"
   ]
  },
  {
   "cell_type": "code",
   "execution_count": null,
   "metadata": {},
   "outputs": [],
   "source": [
    "//last,"
   ]
  }
 ],
 "metadata": {
  "kernelspec": {
   "display_name": "spylon-kernel",
   "language": "scala",
   "name": "spylon-kernel"
  },
  "language_info": {
   "codemirror_mode": "text/x-scala",
   "file_extension": ".scala",
   "help_links": [
    {
     "text": "MetaKernel Magics",
     "url": "https://metakernel.readthedocs.io/en/latest/source/README.html"
    }
   ],
   "mimetype": "text/x-scala",
   "name": "scala",
   "pygments_lexer": "scala",
   "version": "0.4.1"
  }
 },
 "nbformat": 4,
 "nbformat_minor": 2
}
