{
 "cells": [
  {
   "cell_type": "markdown",
   "metadata": {},
   "source": [
    "## EDA Analysis of Columns / Robert"
   ]
  },
  {
   "cell_type": "code",
   "execution_count": 2,
   "metadata": {},
   "outputs": [
    {
     "data": {
      "text/plain": [
       "df_2017_20k: org.apache.spark.sql.DataFrame = [loan_amnt: int, funded_amnt: int ... 84 more fields]\n"
      ]
     },
     "execution_count": 2,
     "metadata": {},
     "output_type": "execute_result"
    }
   ],
   "source": [
    "val df_2017_20k = spark.read.format(\"csv\")\n",
    "  .option(\"inferSchema\", \"true\")\n",
    "  .option(\"header\", \"true\")\n",
    "  .load(\"Loan_2017_20k.csv\")"
   ]
  },
  {
   "cell_type": "code",
   "execution_count": 3,
   "metadata": {},
   "outputs": [
    {
     "data": {
      "text/plain": [
       "res0: Double = 1.0\n"
      ]
     },
     "execution_count": 3,
     "metadata": {},
     "output_type": "execute_result"
    }
   ],
   "source": [
    "df_2017_20k.stat.corr(\"loan_amnt\",\"funded_amnt\")"
   ]
  },
  {
   "cell_type": "code",
   "execution_count": 4,
   "metadata": {},
   "outputs": [
    {
     "data": {
      "text/plain": [
       "res1: Double = 0.9999945720567341\n"
      ]
     },
     "execution_count": 4,
     "metadata": {},
     "output_type": "execute_result"
    }
   ],
   "source": [
    "df_2017_20k.stat.corr(\"loan_amnt\",\"funded_amnt_inv\")"
   ]
  },
  {
   "cell_type": "code",
   "execution_count": 12,
   "metadata": {},
   "outputs": [
    {
     "name": "stdout",
     "output_type": "stream",
     "text": [
      "+-------+-----------------+\n",
      "|summary|        loan_amnt|\n",
      "+-------+-----------------+\n",
      "|  count|            20070|\n",
      "|   mean|14727.77279521674|\n",
      "| stddev|9605.943924842915|\n",
      "|    min|             1000|\n",
      "|    max|            40000|\n",
      "+-------+-----------------+\n",
      "\n"
     ]
    }
   ],
   "source": [
    "df_2017_20k.describe(\"loan_amnt\").show()"
   ]
  },
  {
   "cell_type": "code",
   "execution_count": 7,
   "metadata": {},
   "outputs": [
    {
     "name": "stdout",
     "output_type": "stream",
     "text": [
      "2019-05-26 01:37:41,310 WARN  [Thread-4] util.Utils (Logging.scala:logWarning(66)) - Truncated the string representation of a plan since it was too large. This behavior can be adjusted by setting 'spark.debug.maxToStringFields' in SparkEnv.conf.\n",
      "+---------+-----+\n",
      "|     term|count|\n",
      "+---------+-----+\n",
      "|36 months|14523|\n",
      "|60 months| 5547|\n",
      "+---------+-----+\n",
      "\n"
     ]
    }
   ],
   "source": [
    "//show term\n",
    "df_2017_20k.groupBy(\"term\").count.show()\n",
    "\n",
    "//term can be categorized as 1 or 2 for 36 and 60 months. no missing values."
   ]
  },
  {
   "cell_type": "code",
   "execution_count": 13,
   "metadata": {},
   "outputs": [
    {
     "name": "stdout",
     "output_type": "stream",
     "text": [
      "+-------+------------------+\n",
      "|summary|          int_rate|\n",
      "+-------+------------------+\n",
      "|  count|             20070|\n",
      "|   mean|13.181286995514402|\n",
      "| stddev| 5.160479853400303|\n",
      "|    min|              5.32|\n",
      "|    max|             30.99|\n",
      "+-------+------------------+\n",
      "\n"
     ]
    }
   ],
   "source": [
    "df_2017_20k.describe(\"int_rate\").show()"
   ]
  },
  {
   "cell_type": "code",
   "execution_count": 14,
   "metadata": {},
   "outputs": [
    {
     "name": "stdout",
     "output_type": "stream",
     "text": [
      "+-------+------------------+\n",
      "|summary|       installment|\n",
      "+-------+------------------+\n",
      "|  count|             20070|\n",
      "|   mean|  438.537950672646|\n",
      "| stddev|282.00868318404736|\n",
      "|    min|             30.12|\n",
      "|    max|            1566.8|\n",
      "+-------+------------------+\n",
      "\n"
     ]
    }
   ],
   "source": [
    "df_2017_20k.describe(\"installment\").show()"
   ]
  },
  {
   "cell_type": "code",
   "execution_count": 22,
   "metadata": {},
   "outputs": [
    {
     "data": {
      "text/plain": [
       "res19: Long = 9192\n"
      ]
     },
     "execution_count": 22,
     "metadata": {},
     "output_type": "execute_result"
    }
   ],
   "source": [
    "df_2017_20k.groupBy(\"emp_title\").count.count\n",
    "//9000 different titles, this is safe to remove."
   ]
  },
  {
   "cell_type": "code",
   "execution_count": 24,
   "metadata": {},
   "outputs": [
    {
     "name": "stdout",
     "output_type": "stream",
     "text": [
      "+----------+-----+\n",
      "|emp_length|count|\n",
      "+----------+-----+\n",
      "|   9 years|  722|\n",
      "|   5 years| 1206|\n",
      "|    1 year| 1351|\n",
      "|       n/a| 1411|\n",
      "|   2 years| 1860|\n",
      "|   7 years|  748|\n",
      "|   8 years|  630|\n",
      "|   4 years| 1233|\n",
      "|   6 years|  836|\n",
      "|   3 years| 1619|\n",
      "| 10+ years| 6512|\n",
      "|  < 1 year| 1942|\n",
      "+----------+-----+\n",
      "\n"
     ]
    }
   ],
   "source": [
    "df_2017_20k.groupBy(\"emp_length\").count.show()"
   ]
  },
  {
   "cell_type": "code",
   "execution_count": 25,
   "metadata": {},
   "outputs": [
    {
     "name": "stdout",
     "output_type": "stream",
     "text": [
      "+--------------+-----+\n",
      "|home_ownership|count|\n",
      "+--------------+-----+\n",
      "|           OWN| 2370|\n",
      "|          RENT| 7899|\n",
      "|      MORTGAGE| 9784|\n",
      "|           ANY|   17|\n",
      "+--------------+-----+\n",
      "\n"
     ]
    }
   ],
   "source": [
    "df_2017_20k.groupBy(\"home_ownership\").count.show()"
   ]
  },
  {
   "cell_type": "code",
   "execution_count": 27,
   "metadata": {},
   "outputs": [
    {
     "data": {
      "text/plain": [
       "res24: Long = 2436\n"
      ]
     },
     "execution_count": 27,
     "metadata": {},
     "output_type": "execute_result"
    }
   ],
   "source": [
    "df_2017_20k.groupBy(\"annual_inc\").count.count"
   ]
  },
  {
   "cell_type": "code",
   "execution_count": 28,
   "metadata": {},
   "outputs": [
    {
     "name": "stdout",
     "output_type": "stream",
     "text": [
      "+------------------+-----+\n",
      "|           purpose|count|\n",
      "+------------------+-----+\n",
      "|             other| 1523|\n",
      "|    small_business|  208|\n",
      "|debt_consolidation|11029|\n",
      "|       credit_card| 4184|\n",
      "|            moving|  183|\n",
      "|          vacation|  194|\n",
      "|  renewable_energy|   17|\n",
      "|             house|  131|\n",
      "|               car|  238|\n",
      "|    major_purchase|  508|\n",
      "|           medical|  320|\n",
      "|  home_improvement| 1535|\n",
      "+------------------+-----+\n",
      "\n"
     ]
    }
   ],
   "source": [
    "df_2017_20k.groupBy(\"purpose\").count.show()"
   ]
  },
  {
   "cell_type": "code",
   "execution_count": 29,
   "metadata": {},
   "outputs": [
    {
     "name": "stdout",
     "output_type": "stream",
     "text": [
      "+--------------------+-----+\n",
      "|               title|count|\n",
      "+--------------------+-----+\n",
      "|      Major purchase|  507|\n",
      "|               Other| 1523|\n",
      "|Credit card refin...| 4185|\n",
      "|         Home buying|  131|\n",
      "|    Home improvement| 1535|\n",
      "|            Business|  208|\n",
      "|          Green loan|   17|\n",
      "|            Vacation|  194|\n",
      "|    Medical expenses|  320|\n",
      "|       Car financing|  238|\n",
      "|  Debt consolidation|11029|\n",
      "|Moving and reloca...|  183|\n",
      "+--------------------+-----+\n",
      "\n"
     ]
    }
   ],
   "source": [
    "df_2017_20k.groupBy(\"title\").count.show()"
   ]
  },
  {
   "cell_type": "code",
   "execution_count": null,
   "metadata": {},
   "outputs": [],
   "source": []
  }
 ],
 "metadata": {
  "kernelspec": {
   "display_name": "spylon-kernel",
   "language": "scala",
   "name": "spylon-kernel"
  },
  "language_info": {
   "codemirror_mode": "text/x-scala",
   "file_extension": ".scala",
   "help_links": [
    {
     "text": "MetaKernel Magics",
     "url": "https://metakernel.readthedocs.io/en/latest/source/README.html"
    }
   ],
   "mimetype": "text/x-scala",
   "name": "scala",
   "pygments_lexer": "scala",
   "version": "0.4.1"
  }
 },
 "nbformat": 4,
 "nbformat_minor": 2
}
