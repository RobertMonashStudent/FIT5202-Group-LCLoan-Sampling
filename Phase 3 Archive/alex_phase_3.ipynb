{
 "cells": [
  {
   "cell_type": "markdown",
   "metadata": {},
   "source": [
    "# Table of Content\n",
    "* [Read-CSV](#Read-CSV)\n",
    "* [Categorical-variables-handling](#Categorical-variables-handling)\n",
    "* [Numeric-variables-handing](#Numeric-variables-handing)\n",
    "* [Pipeline-to-process-all-variables](#Pipeline-to-process-all-variables)\n",
    "* [Create-features-and-label](#Create-features-and-label)\n",
    "* [Split-training-set-and-test-set](#Split-training-set-and-test-set)\n",
    "* [Generic-Modelling-Fuction](#Generic-Modelling-Fuction)\n",
    "* [Logistic-Regression-fitting](#Logistic-Regression-fitting)\n",
    "  * [Training-Summary](#Training-Summary)\n",
    "  * [Prediction-on-test-set](#Prediction-on-test-set)\n",
    "  * [Evaluation](#Evaluation)\n",
    "* [Decision-Tree-fitting](#Decision-Tree-fitting)\n",
    "* [Random-Forest-fitting](#Random-Forest-fitting)\n",
    "* [Compare-3-models](#Compare-3-models)\n",
    "* [Inspect-Logistic-Regression-Model-Coefficients](#Inspect-Logistic-Regression-Model-Coefficients)\n",
    "  * [Get-coefficient-vector-from-logistic-regression-model](#Get-coefficient-vector-from-logistic-regression-model)\n",
    "  * [Look-for-the-feature-vector-indexes-of-10-largest-and-smallest-coefficients](#Look-for-the-feature-vector-indexes-of-10-largest-and-smallest-coefficients)\n",
    "  * [Look-at-how-the-feature-vector-been-created](#Look-at-how-the-feature-vector-been-created)\n",
    "  * [Using-onle-emp_title-for-training](#Using-onle-emp_title-for-training)\n",
    "  * [Observation](#Observation)"
   ]
  },
  {
   "cell_type": "code",
   "execution_count": 178,
   "metadata": {},
   "outputs": [
    {
     "data": {
      "text/plain": [
       "import org.apache.spark.ml.feature.StringIndexer\n",
       "import org.apache.spark.ml.feature.OneHotEncoderEstimator\n",
       "import org.apache.spark.ml.{Pipeline, PipelineModel}\n",
       "import org.apache.spark.ml.feature.StandardScaler\n",
       "import org.apache.spark.mllib.feature.Normalizer\n",
       "import org.apache.spark.ml.feature.VectorAssembler\n",
       "import org.apache.spark.ml.classification.{LogisticRegression, LogisticRegressionModel}\n",
       "import org.apache.spark.sql._\n",
       "import org.apache.spark.ml.classification.{DecisionTreeClassifier, DecisionTreeClassificationModel}\n",
       "import org.apache.spark.ml.evaluation.MulticlassClassificationEvaluator\n",
       "import org.apache.spark.ml.classification.{RandomForestClassifier, RandomForestClassificationModel}\n"
      ]
     },
     "execution_count": 178,
     "metadata": {},
     "output_type": "execute_result"
    }
   ],
   "source": [
    "import org.apache.spark.ml.feature.StringIndexer\n",
    "import org.apache.spark.ml.feature.OneHotEncoderEstimator\n",
    "import org.apache.spark.ml.{Pipeline, PipelineModel}\n",
    "import org.apache.spark.ml.feature.StandardScaler\n",
    "import org.apache.spark.mllib.feature.Normalizer\n",
    "import org.apache.spark.ml.feature.VectorAssembler\n",
    "import org.apache.spark.ml.classification.{LogisticRegression, LogisticRegressionModel}\n",
    "import org.apache.spark.sql._\n",
    "\n",
    "import org.apache.spark.ml.classification.{DecisionTreeClassifier, DecisionTreeClassificationModel}\n",
    "import org.apache.spark.ml.evaluation.MulticlassClassificationEvaluator\n",
    "import org.apache.spark.ml.classification.{RandomForestClassifier, RandomForestClassificationModel}"
   ]
  },
  {
   "cell_type": "markdown",
   "metadata": {},
   "source": [
    "# Read CSV\n",
    "\n",
    "Also invert the label\n",
    "* 1: bad loan\n",
    "* 0: good loan"
   ]
  },
  {
   "cell_type": "code",
   "execution_count": 140,
   "metadata": {},
   "outputs": [
    {
     "data": {
      "text/plain": [
       "invertLabel: org.apache.spark.sql.expressions.UserDefinedFunction = UserDefinedFunction(<function1>,IntegerType,Some(List(IntegerType)))\n"
      ]
     },
     "execution_count": 140,
     "metadata": {},
     "output_type": "execute_result"
    }
   ],
   "source": [
    "val invertLabel = udf((v: Int) => v match {\n",
    "    case 0 => 1\n",
    "    case 1 => 0\n",
    "})"
   ]
  },
  {
   "cell_type": "code",
   "execution_count": 141,
   "metadata": {},
   "outputs": [
    {
     "data": {
      "text/plain": [
       "df: org.apache.spark.sql.DataFrame = [loan_amnt: int, term: string ... 63 more fields]\n"
      ]
     },
     "execution_count": 141,
     "metadata": {},
     "output_type": "execute_result"
    }
   ],
   "source": [
    "val df = spark.read.format(\"csv\")\n",
    "  .option(\"inferSchema\", \"true\")\n",
    "  .option(\"header\", \"true\")\n",
    "  .load(\"LCLoan_Wrangled.csv\")\n",
    "  .withColumn(\"loan_status\",invertLabel($\"loan_status\"))"
   ]
  },
  {
   "cell_type": "markdown",
   "metadata": {},
   "source": [
    "# Categorical variables handling"
   ]
  },
  {
   "cell_type": "code",
   "execution_count": 142,
   "metadata": {},
   "outputs": [
    {
     "data": {
      "text/plain": [
       "categoricalColumns: Array[String] = Array(term, grade, sub_grade, emp_title, emp_length, home_ownership, verification_status, issue_d, purpose, title, zip_code, addr_state, earliest_cr_line, initial_list_status, last_pymnt_d, last_credit_pull_d, application_type)\n"
      ]
     },
     "execution_count": 142,
     "metadata": {},
     "output_type": "execute_result"
    }
   ],
   "source": [
    "val categoricalColumns = df.dtypes.filter(column => column._2 == \"StringType\").map(_._1)"
   ]
  },
  {
   "cell_type": "code",
   "execution_count": 143,
   "metadata": {},
   "outputs": [
    {
     "data": {
      "text/plain": [
       "categoricalFeatures: Array[org.apache.spark.ml.Estimator[_ >: org.apache.spark.ml.feature.OneHotEncoderModel with org.apache.spark.ml.feature.StringIndexerModel <: org.apache.spark.ml.Model[_ >: org.apache.spark.ml.feature.OneHotEncoderModel with org.apache.spark.ml.feature.StringIndexerModel <: org.apache.spark.ml.Transformer with org.apache.spark.ml.param.shared.HasHandleInvalid with org.apache.spark.ml.util.MLWritable] with org.apache.spark.ml.param.shared.HasHandleInvalid with org.apache.spark.ml.util.MLWritable] with org.apache.spark.ml.param.shared.HasHandleInvalid with org.apache.spark.ml.util.DefaultParamsWritable{def copy(extra: org.apache.spark.ml.param.ParamMap): org.apache.spark.ml.Estimator[_ >: org.apache.spark.ml.feature.OneHotEncoderModel with org.apache.spark.ml.feature..."
      ]
     },
     "execution_count": 143,
     "metadata": {},
     "output_type": "execute_result"
    }
   ],
   "source": [
    "val categoricalFeatures = categoricalColumns.flatMap{ name =>\n",
    "    \n",
    "    val stringIndexer = new StringIndexer()\n",
    "      .setInputCol(name)\n",
    "      .setOutputCol(name + \"_index\")\n",
    "      .setHandleInvalid(\"keep\")\n",
    "    \n",
    "    val oneHotEncoder = new OneHotEncoderEstimator()\n",
    "      .setInputCols(Array(name + \"_index\"))\n",
    "      .setOutputCols(Array(name + \"_vec\"))\n",
    "      .setDropLast(false)\n",
    "    \n",
    "    Array(stringIndexer, oneHotEncoder)\n",
    "}"
   ]
  },
  {
   "cell_type": "markdown",
   "metadata": {},
   "source": [
    "\n",
    "# Numeric variables handing"
   ]
  },
  {
   "cell_type": "code",
   "execution_count": 144,
   "metadata": {},
   "outputs": [
    {
     "data": {
      "text/plain": [
       "numericColumns: Array[String] = Array(loan_amnt, int_rate, annual_inc, dti, delinq_2yrs, inq_last_6mths, open_acc, pub_rec, revol_bal, revol_util, total_acc, out_prncp, total_pymnt, total_rec_int, total_rec_late_fee, collection_recovery_fee, last_pymnt_amnt, collections_12_mths_ex_med, policy_code, acc_now_delinq, tot_coll_amt, tot_cur_bal, total_rev_hi_lim, acc_open_past_24mths, chargeoff_within_12_mths, delinq_amnt, mo_sin_old_il_acct, mo_sin_old_rev_tl_op, mo_sin_rcnt_rev_tl_op, mo_sin_rcnt_tl, mort_acc, mths_since_recent_bc, num_accts_ever_120_pd, num_actv_rev_tl, num_bc_sats, num_il_tl, num_rev_accts, num_sats, num_tl_120dpd_2m, num_tl_90g_dpd_24m, num_tl_op_past_12m, pct_tl_nvr_dlq, percent_bc_gt_75, pub_rec_bankruptcies, tax_liens, tot_hi_cred_lim, total_il_high_credit_limit)\n"
      ]
     },
     "execution_count": 144,
     "metadata": {},
     "output_type": "execute_result"
    }
   ],
   "source": [
    "val numericColumns = df.dtypes.filter(column => column._2 == \"IntegerType\" || column._2 == \"DoubleType\").map(_._1)\n",
    "                    .filterNot( c => c == \"loan_status\" )"
   ]
  },
  {
   "cell_type": "code",
   "execution_count": 145,
   "metadata": {},
   "outputs": [
    {
     "data": {
      "text/plain": [
       "numericColumnsAssembler: org.apache.spark.ml.feature.VectorAssembler = vecAssembler_6fc74515a96f\n"
      ]
     },
     "execution_count": 145,
     "metadata": {},
     "output_type": "execute_result"
    }
   ],
   "source": [
    "val numericColumnsAssembler = new VectorAssembler()\n",
    "  .setInputCols(numericColumns)\n",
    "  .setOutputCol(\"numerical_features\")"
   ]
  },
  {
   "cell_type": "code",
   "execution_count": 146,
   "metadata": {},
   "outputs": [
    {
     "data": {
      "text/plain": [
       "numericColumnsScaler: org.apache.spark.ml.feature.StandardScaler = stdScal_ee53836da63d\n"
      ]
     },
     "execution_count": 146,
     "metadata": {},
     "output_type": "execute_result"
    }
   ],
   "source": [
    "val numericColumnsScaler = new StandardScaler()\n",
    "      .setInputCol(\"numerical_features\")\n",
    "      .setOutputCol(\"numerical_features\" + \"_vec\")\n",
    "      .setWithStd(true)\n",
    "      .setWithMean(true)"
   ]
  },
  {
   "cell_type": "code",
   "execution_count": 147,
   "metadata": {},
   "outputs": [
    {
     "data": {
      "text/plain": [
       "res57: Array[org.apache.spark.ml.PipelineStage with org.apache.spark.ml.util.DefaultParamsWritable{def copy(extra: org.apache.spark.ml.param.ParamMap): org.apache.spark.ml.PipelineStage with org.apache.spark.ml.util.DefaultParamsWritable{def copy(extra: org.apache.spark.ml.param.ParamMap): org.apache.spark.ml.PipelineStage with org.apache.spark.ml.util.DefaultParamsWritable}}] = Array(strIdx_aade2de7aa95, oneHotEncoder_1a31a11dd8cd, strIdx_a7175e751545, oneHotEncoder_a9dbad5cbb39, strIdx_320a6153ce36, oneHotEncoder_99a6e295fad5, strIdx_deb7cddce7f2, oneHotEncoder_48948b9ea42d, strIdx_a7fce7b7908b, oneHotEncoder_9fc7660e8e45, strIdx_af546bc9f2c2, oneHotEncoder_3aae1ea73550, strIdx_7c640534197c, oneHotEncoder_46a30eaae288, strIdx_7e6aebadc6cc, oneHotEncoder_37557f7842f6, strIdx_b27471ff96..."
      ]
     },
     "execution_count": 147,
     "metadata": {},
     "output_type": "execute_result"
    }
   ],
   "source": [
    "categoricalFeatures ++ Array(numericColumnsAssembler,numericColumnsScaler)"
   ]
  },
  {
   "cell_type": "markdown",
   "metadata": {},
   "source": [
    "# Pipeline to process all variables"
   ]
  },
  {
   "cell_type": "code",
   "execution_count": 148,
   "metadata": {},
   "outputs": [
    {
     "data": {
      "text/plain": [
       "pipeline: org.apache.spark.ml.Pipeline = pipeline_bc592b214658\n",
       "df_transformed: org.apache.spark.sql.DataFrame = [loan_amnt: int, term: string ... 99 more fields]\n"
      ]
     },
     "execution_count": 148,
     "metadata": {},
     "output_type": "execute_result"
    }
   ],
   "source": [
    "val pipeline = new Pipeline()\n",
    "  .setStages(categoricalFeatures ++ Array(numericColumnsAssembler,numericColumnsScaler) )\n",
    "\n",
    "val df_transformed = pipeline\n",
    "  .fit(df)\n",
    "  .transform(df)"
   ]
  },
  {
   "cell_type": "markdown",
   "metadata": {},
   "source": [
    "# Create features and label"
   ]
  },
  {
   "cell_type": "code",
   "execution_count": 149,
   "metadata": {},
   "outputs": [
    {
     "data": {
      "text/plain": [
       "featureColumns: Array[String] = Array(term_vec, grade_vec, sub_grade_vec, emp_title_vec, emp_length_vec, home_ownership_vec, verification_status_vec, issue_d_vec, purpose_vec, title_vec, zip_code_vec, addr_state_vec, earliest_cr_line_vec, initial_list_status_vec, last_pymnt_d_vec, last_credit_pull_d_vec, application_type_vec, numerical_features_vec)\n"
      ]
     },
     "execution_count": 149,
     "metadata": {},
     "output_type": "execute_result"
    }
   ],
   "source": [
    "val featureColumns = df_transformed.columns.filter(_.contains(\"_vec\"))"
   ]
  },
  {
   "cell_type": "code",
   "execution_count": 150,
   "metadata": {},
   "outputs": [
    {
     "data": {
      "text/plain": [
       "featureColumnsAssembler: org.apache.spark.ml.feature.VectorAssembler = vecAssembler_c5e3bd5601e6\n",
       "df_input: org.apache.spark.sql.DataFrame = [loan_amnt: int, term: string ... 101 more fields]\n"
      ]
     },
     "execution_count": 150,
     "metadata": {},
     "output_type": "execute_result"
    }
   ],
   "source": [
    "val featureColumnsAssembler = new VectorAssembler()\n",
    "  .setInputCols(featureColumns)\n",
    "  .setOutputCol(\"features\")\n",
    "\n",
    "val df_input = featureColumnsAssembler.transform(df_transformed).withColumn(\"label\",col(\"loan_status\"))"
   ]
  },
  {
   "cell_type": "markdown",
   "metadata": {},
   "source": [
    "# Split training set and test set"
   ]
  },
  {
   "cell_type": "code",
   "execution_count": 151,
   "metadata": {},
   "outputs": [
    {
     "data": {
      "text/plain": [
       "trainingData: org.apache.spark.sql.Dataset[org.apache.spark.sql.Row] = [loan_amnt: int, term: string ... 101 more fields]\n",
       "testData: org.apache.spark.sql.Dataset[org.apache.spark.sql.Row] = [loan_amnt: int, term: string ... 101 more fields]\n"
      ]
     },
     "execution_count": 151,
     "metadata": {},
     "output_type": "execute_result"
    }
   ],
   "source": [
    "val Array(trainingData, testData) = df_input.randomSplit(Array(0.8, 0.2), seed = 1234L)"
   ]
  },
  {
   "cell_type": "code",
   "execution_count": 152,
   "metadata": {},
   "outputs": [
    {
     "data": {
      "text/plain": [
       "res58: Long = 3967\n"
      ]
     },
     "execution_count": 152,
     "metadata": {},
     "output_type": "execute_result"
    }
   ],
   "source": [
    "testData.count"
   ]
  },
  {
   "cell_type": "code",
   "execution_count": 153,
   "metadata": {},
   "outputs": [
    {
     "data": {
      "text/plain": [
       "res59: Long = 16103\n"
      ]
     },
     "execution_count": 153,
     "metadata": {},
     "output_type": "execute_result"
    }
   ],
   "source": [
    "trainingData.count"
   ]
  },
  {
   "cell_type": "markdown",
   "metadata": {},
   "source": [
    "# Generic Modelling Fuction\n",
    "The function will accept inputs to determine the appropriate Models, options are:\n",
    "* logistic regression\n",
    "* decision tree\n",
    "* random forest"
   ]
  },
  {
   "cell_type": "code",
   "execution_count": 212,
   "metadata": {},
   "outputs": [
    {
     "data": {
      "text/plain": [
       "runModel: (df: org.apache.spark.sql.DataFrame, modelType: String, threshold: Double, weighted: Boolean, maxIter: Int, regParam: Double)org.apache.spark.ml.PipelineModel\n"
      ]
     },
     "execution_count": 212,
     "metadata": {},
     "output_type": "execute_result"
    }
   ],
   "source": [
    "def runModel (df: DataFrame, \n",
    "              modelType: String, \n",
    "              threshold: Double = 0.5, \n",
    "              weighted: Boolean = false,\n",
    "              maxIter: Int = 10,\n",
    "              regParam: Double = 0.0) : PipelineModel = {\n",
    "        \n",
    "    val pipelineOrder: Array[org.apache.spark.ml.PipelineStage] = \n",
    "    \n",
    "    //depending on the model chosen,\n",
    "    if (modelType == \"lr\"){\n",
    "        //logistic regression option\n",
    "        Array(\n",
    "            new LogisticRegression()\n",
    "                .setMaxIter(maxIter)\n",
    "                .setRegParam(regParam)\n",
    "                .setThreshold(threshold)\n",
    "              )\n",
    "    }\n",
    "    else if (modelType == \"dt\"){\n",
    "        //decision tree option\n",
    "        Array(\n",
    "            new DecisionTreeClassifier()\n",
    "                  .setLabelCol(\"label\")\n",
    "                  .setFeaturesCol(\"features\")\n",
    "              )\n",
    "    }\n",
    "    else if (modelType == \"rf\"){\n",
    "        //random forest option\n",
    "        Array(\n",
    "            new RandomForestClassifier()\n",
    "                  .setLabelCol(\"label\")\n",
    "                  .setFeaturesCol(\"features\")\n",
    "        )\n",
    "    }\n",
    "    else {\n",
    "        Array[org.apache.spark.ml.PipelineStage]()\n",
    "    }    \n",
    "\n",
    "    //set the pipeline for the model\n",
    "    val pipeline = new Pipeline()\n",
    "        .setStages(pipelineOrder)\n",
    "    \n",
    "    //return a model fitted on the dataframe\n",
    "    return pipeline.fit(df)\n",
    "}"
   ]
  },
  {
   "cell_type": "markdown",
   "metadata": {},
   "source": [
    "# Logistic Regression fitting"
   ]
  },
  {
   "cell_type": "code",
   "execution_count": 213,
   "metadata": {},
   "outputs": [
    {
     "data": {
      "text/plain": [
       "lr: org.apache.spark.ml.PipelineModel = pipeline_432ba0605a6f\n"
      ]
     },
     "execution_count": 213,
     "metadata": {},
     "output_type": "execute_result"
    }
   ],
   "source": [
    "// Fit the logistic regression model \n",
    "val lr = runModel(trainingData,\"lr\")"
   ]
  },
  {
   "cell_type": "code",
   "execution_count": 214,
   "metadata": {},
   "outputs": [
    {
     "data": {
      "text/plain": [
       "lrModel: org.apache.spark.ml.classification.LogisticRegressionModel = LogisticRegressionModel: uid = logreg_9bd96f7fca84, numClasses = 2, numFeatures = 10856\n"
      ]
     },
     "execution_count": 214,
     "metadata": {},
     "output_type": "execute_result"
    }
   ],
   "source": [
    "val lrModel = lr.stages(new_lr.stages.length-1).asInstanceOf[LogisticRegressionModel]"
   ]
  },
  {
   "cell_type": "markdown",
   "metadata": {},
   "source": [
    "## Training Summary"
   ]
  },
  {
   "cell_type": "code",
   "execution_count": 215,
   "metadata": {},
   "outputs": [
    {
     "name": "stdout",
     "output_type": "stream",
     "text": [
      "Accuracy: 0.9985716947152704\n",
      "FPR: 0.006570839593664054\n",
      "TPR: 0.9985716947152705\n",
      "F-measure: 0.9985715040034712\n",
      "Precision: 0.9985713340480937\n",
      "Recall: 0.9985716947152705\n"
     ]
    },
    {
     "data": {
      "text/plain": [
       "trainingSummary: org.apache.spark.ml.classification.BinaryLogisticRegressionTrainingSummary = org.apache.spark.ml.classification.BinaryLogisticRegressionTrainingSummaryImpl@a8ea413\n",
       "accuracy: Double = 0.9985716947152704\n",
       "falsePositiveRate: Double = 0.006570839593664054\n",
       "truePositiveRate: Double = 0.9985716947152705\n",
       "fMeasure: Double = 0.9985715040034712\n",
       "precision: Double = 0.9985713340480937\n",
       "recall: Double = 0.9985716947152705\n"
      ]
     },
     "execution_count": 215,
     "metadata": {},
     "output_type": "execute_result"
    }
   ],
   "source": [
    "// Extract the summary from the returned LogisticRegressionModel instance trained in the earlier\n",
    "// example\n",
    "val trainingSummary = lrModel.binarySummary\n",
    "val accuracy = trainingSummary.accuracy\n",
    "val falsePositiveRate = trainingSummary.weightedFalsePositiveRate\n",
    "val truePositiveRate = trainingSummary.weightedTruePositiveRate\n",
    "val fMeasure = trainingSummary.weightedFMeasure\n",
    "val precision = trainingSummary.weightedPrecision\n",
    "val recall = trainingSummary.weightedRecall\n",
    "println(s\"Accuracy: $accuracy\\nFPR: $falsePositiveRate\\nTPR: $truePositiveRate\\n\" +\n",
    "  s\"F-measure: $fMeasure\\nPrecision: $precision\\nRecall: $recall\")"
   ]
  },
  {
   "cell_type": "code",
   "execution_count": 216,
   "metadata": {},
   "outputs": [
    {
     "name": "stdout",
     "output_type": "stream",
     "text": [
      "+--------------------+-------------------+\n",
      "|                 FPR|                TPR|\n",
      "+--------------------+-------------------+\n",
      "|                 0.0|                0.0|\n",
      "|                 0.0|0.10313630880579011|\n",
      "|                 0.0|0.19963811821471653|\n",
      "|                 0.0|0.29613992762364294|\n",
      "|                 0.0| 0.3926417370325694|\n",
      "|                 0.0|0.48914354644149577|\n",
      "|                 0.0| 0.5856453558504222|\n",
      "|                 0.0| 0.6821471652593486|\n",
      "|6.922810661128418E-5| 0.7780458383594693|\n",
      "|6.922810661128418E-5| 0.8745476477683957|\n",
      "|1.384562132225683...| 0.9704463208685162|\n",
      "|0.008168916580131533|  0.996984318455971|\n",
      "|0.019106957424714435| 0.9981905910735827|\n",
      "|0.030114226375908618| 0.9987937273823885|\n",
      "| 0.04119072343371409| 0.9987937273823885|\n",
      "| 0.05219799238490827| 0.9993968636911942|\n",
      "| 0.06327448944271374| 0.9993968636911942|\n",
      "| 0.07428175839390792|                1.0|\n",
      "|  0.0853582554517134|                1.0|\n",
      "| 0.09643475250951887|                1.0|\n",
      "+--------------------+-------------------+\n",
      "only showing top 20 rows\n",
      "\n",
      "areaUnderROC: 0.9997688708177643\n"
     ]
    },
    {
     "data": {
      "text/plain": [
       "roc: org.apache.spark.sql.DataFrame = [FPR: double, TPR: double]\n"
      ]
     },
     "execution_count": 216,
     "metadata": {},
     "output_type": "execute_result"
    }
   ],
   "source": [
    "val roc = trainingSummary.roc\n",
    "roc.show()\n",
    "println(s\"areaUnderROC: ${trainingSummary.areaUnderROC}\")"
   ]
  },
  {
   "cell_type": "code",
   "execution_count": 217,
   "metadata": {},
   "outputs": [],
   "source": [
    "roc.createOrReplaceTempView(\"roc\")"
   ]
  },
  {
   "cell_type": "code",
   "execution_count": 20,
   "metadata": {},
   "outputs": [
    {
     "name": "stdout",
     "output_type": "stream",
     "text": [
      "Collecting pandas\n",
      "\u001b[?25l  Downloading https://files.pythonhosted.org/packages/19/74/e50234bc82c553fecdbd566d8650801e3fe2d6d8c8d940638e3d8a7c5522/pandas-0.24.2-cp36-cp36m-manylinux1_x86_64.whl (10.1MB)\n",
      "\u001b[K     |################################| 10.1MB 27.6MB/s eta 0:00:01\n",
      "\u001b[?25hCollecting pytz>=2011k (from pandas)\n",
      "\u001b[?25l  Downloading https://files.pythonhosted.org/packages/3d/73/fe30c2daaaa0713420d0382b16fbb761409f532c56bdcc514bf7b6262bb6/pytz-2019.1-py2.py3-none-any.whl (510kB)\n",
      "\u001b[K     |################################| 512kB 62.6MB/s eta 0:00:01\n",
      "\u001b[?25hRequirement already satisfied: python-dateutil>=2.5.0 in /usr/local/lib/python3.6/dist-packages (from pandas) (2.8.0)\n",
      "Collecting numpy>=1.12.0 (from pandas)\n",
      "\u001b[?25l  Downloading https://files.pythonhosted.org/packages/87/2d/e4656149cbadd3a8a0369fcd1a9c7d61cc7b87b3903b85389c70c989a696/numpy-1.16.4-cp36-cp36m-manylinux1_x86_64.whl (17.3MB)\n",
      "\u001b[K     |############################    | 15.4MB 50.0MB/s eta 0:00:01\r"
     ]
    },
    {
     "name": "stderr",
     "output_type": "stream",
     "text": [
      "IOPub message rate exceeded.\n",
      "The notebook server will temporarily stop sending output\n",
      "to the client in order to avoid crashing it.\n",
      "To change this limit, set the config variable\n",
      "`--NotebookApp.iopub_msg_rate_limit`.\n",
      "\n",
      "Current values:\n",
      "NotebookApp.iopub_msg_rate_limit=1000.0 (msgs/sec)\n",
      "NotebookApp.rate_limit_window=3.0 (secs)\n",
      "\n"
     ]
    },
    {
     "name": "stdout",
     "output_type": "stream",
     "text": [
      "Successfully installed numpy-1.16.4 pandas-0.24.2 pytz-2019.1\n",
      "Collecting matplotlib\n",
      "\u001b[?25l  Downloading https://files.pythonhosted.org/packages/da/83/d989ee20c78117c737ab40e0318ea221f1aed4e3f5a40b4f93541b369b93/matplotlib-3.1.0-cp36-cp36m-manylinux1_x86_64.whl (13.1MB)\n",
      "\u001b[K     |################################| 13.1MB 21.2MB/s eta 0:00:01\n",
      "\u001b[?25hCollecting kiwisolver>=1.0.1 (from matplotlib)\n",
      "\u001b[?25l  Downloading https://files.pythonhosted.org/packages/f8/a1/5742b56282449b1c0968197f63eae486eca2c35dcd334bab75ad524e0de1/kiwisolver-1.1.0-cp36-cp36m-manylinux1_x86_64.whl (90kB)\n",
      "\u001b[K     |################################| 92kB 29.2MB/s eta 0:00:01\n",
      "\u001b[?25hRequirement already satisfied: numpy>=1.11 in /usr/local/lib/python3.6/dist-packages (from matplotlib) (1.16.4)\n",
      "Collecting pyparsing!=2.0.4,!=2.1.2,!=2.1.6,>=2.0.1 (from matplotlib)\n",
      "\u001b[?25l  Downloading https://files.pythonhosted.org/packages/dd/d9/3ec19e966301a6e25769976999bd7bbe552016f0d32b577dc9d63d2e0c49/pyparsing-2.4.0-py2.py3-none-any.whl (62kB)\n",
      "\u001b[K     |################################| 71kB 29.5MB/s eta 0:00:01\n",
      "\u001b[?25hCollecting cycler>=0.10 (from matplotlib)\n",
      "  Downloading https://files.pythonhosted.org/packages/f7/d2/e07d3ebb2bd7af696440ce7e754c59dd546ffe1bbe732c8ab68b9c834e61/cycler-0.10.0-py2.py3-none-any.whl\n",
      "Requirement already satisfied: python-dateutil>=2.1 in /usr/local/lib/python3.6/dist-packages (from matplotlib) (2.8.0)\n",
      "Requirement already satisfied: setuptools in /usr/lib/python3/dist-packages (from kiwisolver>=1.0.1->matplotlib) (39.0.1)\n",
      "Requirement already satisfied: six in /usr/lib/python3/dist-packages (from cycler>=0.10->matplotlib) (1.11.0)\n",
      "Installing collected packages: kiwisolver, pyparsing, cycler, matplotlib\n",
      "Successfully installed cycler-0.10.0 kiwisolver-1.1.0 matplotlib-3.1.0 pyparsing-2.4.0\n"
     ]
    }
   ],
   "source": [
    "! pip install pandas\n",
    "! pip install matplotlib"
   ]
  },
  {
   "cell_type": "code",
   "execution_count": 218,
   "metadata": {},
   "outputs": [
    {
     "name": "stdout",
     "output_type": "stream",
     "text": [
      "   FPR       TPR\n",
      "0  0.0  0.000000\n",
      "1  0.0  0.103136\n",
      "2  0.0  0.199638\n",
      "3  0.0  0.296140\n",
      "4  0.0  0.392642\n"
     ]
    },
    {
     "data": {
      "image/png": "[encoded data removed]",
      "text/plain": [
       "<IPython.core.display.Image object>"
      ]
     },
     "execution_count": 218,
     "metadata": {},
     "output_type": "execute_result"
    }
   ],
   "source": [
    "%%python\n",
    "import pandas as pd\n",
    "import matplotlib.pyplot as plt\n",
    "import tempfile\n",
    "from IPython.display import Image\n",
    "\n",
    "roc = spark.sql(\"select * from roc\")\n",
    "rocPandas = roc.toPandas()\n",
    "print(rocPandas.head())\n",
    "plt.clf()\n",
    "plt.plot(rocPandas['FPR'],rocPandas['TPR'])\n",
    "with tempfile.NamedTemporaryFile(suffix=\".png\") as fo:\n",
    "    plt.savefig(fo.name)\n",
    "    retval = Image(filename=fo.name)"
   ]
  },
  {
   "cell_type": "markdown",
   "metadata": {},
   "source": [
    "## Evaluation"
   ]
  },
  {
   "cell_type": "code",
   "execution_count": 198,
   "metadata": {},
   "outputs": [
    {
     "data": {
      "text/plain": [
       "evaluatePrediction: (prediction: org.apache.spark.sql.DataFrame)Unit\n"
      ]
     },
     "execution_count": 198,
     "metadata": {},
     "output_type": "execute_result"
    }
   ],
   "source": [
    "def evaluatePrediction(prediction: DataFrame) = {\n",
    "    prediction.createOrReplaceTempView(\"prediction\")\n",
    "    \n",
    "    spark.sql(\"\"\"\n",
    "select label,prediction,count(1) from prediction group by label,prediction\n",
    "\"\"\").show(false)\n",
    "    \n",
    "    spark.sql(\"\"\"\n",
    "select \n",
    "round((TP+TN)/(P+N),2) as Accuracy,\n",
    "round(TP/(TP+FP),2) as Precision,\n",
    "round(TP/(TP+FN),2) as Recall,\n",
    "round(2*TP/(2*TP+FP+FN),2) as F1,\n",
    "round(TP/P,2) as TPR,\n",
    "round(FP/P,2) as FPR,\n",
    "round(TN/N,2) as TNR,\n",
    "round(FN/N,2) as FNR\n",
    "from (\n",
    "    select \n",
    "    count(1) as total, \n",
    "    sum(case when label = 1 and prediction = 1 then 1 else 0 end) as TP,\n",
    "    sum(case when label = 0 and prediction = 0 then 1 else 0 end) as TN,\n",
    "    sum(case when label = 0 and prediction = 1 then 1 else 0 end) as FP,\n",
    "    sum(case when label = 1 and prediction = 0 then 1 else 0 end) as FN,\n",
    "    sum(case when label = 1 then 1 else 0 end) as P,\n",
    "    sum(case when label = 0 then 1 else 0 end) as N\n",
    "    from prediction\n",
    "    )\n",
    "\"\"\").show(false)\n",
    "}"
   ]
  },
  {
   "cell_type": "markdown",
   "metadata": {},
   "source": [
    "## Prediction on test set"
   ]
  },
  {
   "cell_type": "code",
   "execution_count": 219,
   "metadata": {},
   "outputs": [
    {
     "name": "stdout",
     "output_type": "stream",
     "text": [
      "+-----+----------+--------+\n",
      "|label|prediction|count(1)|\n",
      "+-----+----------+--------+\n",
      "|1    |0.0       |149     |\n",
      "|0    |0.0       |3429    |\n",
      "|1    |1.0       |279     |\n",
      "|0    |1.0       |110     |\n",
      "+-----+----------+--------+\n",
      "\n",
      "+--------+---------+------+----+----+----+----+----+\n",
      "|Accuracy|Precision|Recall|F1  |TPR |FPR |TNR |FNR |\n",
      "+--------+---------+------+----+----+----+----+----+\n",
      "|0.93    |0.72     |0.65  |0.68|0.65|0.26|0.97|0.04|\n",
      "+--------+---------+------+----+----+----+----+----+\n",
      "\n"
     ]
    },
    {
     "data": {
      "text/plain": [
       "prediction: org.apache.spark.sql.DataFrame = [loan_amnt: int, term: string ... 104 more fields]\n"
      ]
     },
     "execution_count": 219,
     "metadata": {},
     "output_type": "execute_result"
    }
   ],
   "source": [
    "val prediction = lrModel.transform(testData)\n",
    "evaluatePrediction(prediction)"
   ]
  },
  {
   "cell_type": "markdown",
   "metadata": {},
   "source": [
    "# Decision Tree fitting"
   ]
  },
  {
   "cell_type": "code",
   "execution_count": 200,
   "metadata": {},
   "outputs": [
    {
     "name": "stdout",
     "output_type": "stream",
     "text": [
      "2019-06-09 04:30:45,512 WARN  [Executor task launch worker for task 5125] memory.MemoryStore (Logging.scala:logWarning(66)) - Not enough space to cache rdd_2969_1 in memory! (computed 140.4 MB so far)\n",
      "2019-06-09 04:30:45,513 WARN  [Executor task launch worker for task 5125] storage.BlockManager (Logging.scala:logWarning(66)) - Persisting block rdd_2969_1 to disk instead.\n",
      "2019-06-09 04:30:48,519 WARN  [Executor task launch worker for task 5124] memory.MemoryStore (Logging.scala:logWarning(66)) - Not enough space to cache rdd_2969_0 in memory! (computed 210.9 MB so far)\n",
      "2019-06-09 04:30:48,519 WARN  [Executor task launch worker for task 5124] storage.BlockManager (Logging.scala:logWarning(66)) - Persisting block rdd_2969_0 to disk instead.\n",
      "2019-06-09 04:30:49,627 WARN  [Executor task launch worker for task 5125] memory.MemoryStore (Logging.scala:logWarning(66)) - Not enough space to cache rdd_2969_1 in memory! (computed 210.9 MB so far)\n",
      "2019-06-09 04:30:52,588 WARN  [Executor task launch worker for task 5124] memory.MemoryStore (Logging.scala:logWarning(66)) - Not enough space to cache rdd_2969_0 in memory! (computed 316.5 MB so far)\n",
      "2019-06-09 04:30:53,869 WARN  [Executor task launch worker for task 5128] memory.MemoryStore (Logging.scala:logWarning(66)) - Not enough space to cache rdd_2969_0 in memory! (computed 140.4 MB so far)\n",
      "2019-06-09 04:30:56,512 WARN  [Executor task launch worker for task 5132] memory.MemoryStore (Logging.scala:logWarning(66)) - Not enough space to cache rdd_2969_0 in memory! (computed 91.3 MB so far)\n",
      "2019-06-09 04:30:59,154 WARN  [Executor task launch worker for task 5136] memory.MemoryStore (Logging.scala:logWarning(66)) - Not enough space to cache rdd_2969_0 in memory! (computed 91.3 MB so far)\n",
      "2019-06-09 04:31:02,544 WARN  [Executor task launch worker for task 5140] memory.MemoryStore (Logging.scala:logWarning(66)) - Not enough space to cache rdd_2969_0 in memory! (computed 91.3 MB so far)\n"
     ]
    },
    {
     "data": {
      "text/plain": [
       "dt: org.apache.spark.ml.PipelineModel = pipeline_f81acbabedd0\n",
       "model: org.apache.spark.ml.classification.DecisionTreeClassificationModel = DecisionTreeClassificationModel (uid=dtc_cb438767e8fa) of depth 5 with 27 nodes\n",
       "prediction: org.apache.spark.sql.DataFrame = [loan_amnt: int, term: string ... 104 more fields]\n"
      ]
     },
     "execution_count": 200,
     "metadata": {},
     "output_type": "execute_result"
    }
   ],
   "source": [
    "// fitting decision tree model\n",
    "val dt = runModel(trainingData,\"dt\")\n",
    "\n",
    "val model = dt.stages(dt.stages.length-1).asInstanceOf[DecisionTreeClassificationModel]\n",
    "val prediction = model.transform(testData)"
   ]
  },
  {
   "cell_type": "code",
   "execution_count": 201,
   "metadata": {},
   "outputs": [
    {
     "name": "stdout",
     "output_type": "stream",
     "text": [
      "+-----+----------+--------+\n",
      "|label|prediction|count(1)|\n",
      "+-----+----------+--------+\n",
      "|1    |0.0       |59      |\n",
      "|0    |0.0       |3477    |\n",
      "|1    |1.0       |369     |\n",
      "|0    |1.0       |62      |\n",
      "+-----+----------+--------+\n",
      "\n",
      "+--------+---------+------+----+----+----+----+----+\n",
      "|Accuracy|Precision|Recall|F1  |TPR |FPR |TNR |FNR |\n",
      "+--------+---------+------+----+----+----+----+----+\n",
      "|0.97    |0.86     |0.86  |0.86|0.86|0.14|0.98|0.02|\n",
      "+--------+---------+------+----+----+----+----+----+\n",
      "\n"
     ]
    }
   ],
   "source": [
    "evaluatePrediction(prediction)"
   ]
  },
  {
   "cell_type": "markdown",
   "metadata": {},
   "source": [
    "# Random Forest fitting"
   ]
  },
  {
   "cell_type": "code",
   "execution_count": 202,
   "metadata": {},
   "outputs": [
    {
     "name": "stdout",
     "output_type": "stream",
     "text": [
      "2019-06-09 04:31:38,469 WARN  [Executor task launch worker for task 5360] memory.MemoryStore (Logging.scala:logWarning(66)) - Not enough space to cache rdd_3102_1 in memory! (computed 140.9 MB so far)\n",
      "2019-06-09 04:31:38,469 WARN  [Executor task launch worker for task 5360] storage.BlockManager (Logging.scala:logWarning(66)) - Persisting block rdd_3102_1 to disk instead.\n",
      "2019-06-09 04:31:41,173 WARN  [Executor task launch worker for task 5359] memory.MemoryStore (Logging.scala:logWarning(66)) - Not enough space to cache rdd_3102_0 in memory! (computed 211.6 MB so far)\n",
      "2019-06-09 04:31:41,173 WARN  [Executor task launch worker for task 5359] storage.BlockManager (Logging.scala:logWarning(66)) - Persisting block rdd_3102_0 to disk instead.\n",
      "2019-06-09 04:31:42,421 WARN  [Executor task launch worker for task 5360] memory.MemoryStore (Logging.scala:logWarning(66)) - Not enough space to cache rdd_3102_1 in memory! (computed 211.6 MB so far)\n",
      "2019-06-09 04:31:45,759 WARN  [Executor task launch worker for task 5359] memory.MemoryStore (Logging.scala:logWarning(66)) - Not enough space to cache rdd_3102_0 in memory! (computed 317.6 MB so far)\n",
      "2019-06-09 04:31:46,985 WARN  [Executor task launch worker for task 5364] memory.MemoryStore (Logging.scala:logWarning(66)) - Not enough space to cache rdd_3102_1 in memory! (computed 140.9 MB so far)\n",
      "2019-06-09 04:31:48,031 WARN  [Executor task launch worker for task 5363] memory.MemoryStore (Logging.scala:logWarning(66)) - Not enough space to cache rdd_3102_0 in memory! (computed 317.6 MB so far)\n",
      "2019-06-09 04:31:49,352 WARN  [Executor task launch worker for task 5368] memory.MemoryStore (Logging.scala:logWarning(66)) - Not enough space to cache rdd_3102_1 in memory! (computed 140.9 MB so far)\n",
      "2019-06-09 04:31:50,096 WARN  [Executor task launch worker for task 5367] memory.MemoryStore (Logging.scala:logWarning(66)) - Not enough space to cache rdd_3102_0 in memory! (computed 317.6 MB so far)\n",
      "2019-06-09 04:31:51,848 WARN  [Executor task launch worker for task 5371] memory.MemoryStore (Logging.scala:logWarning(66)) - Not enough space to cache rdd_3102_0 in memory! (computed 140.9 MB so far)\n",
      "2019-06-09 04:31:55,415 WARN  [Executor task launch worker for task 5375] memory.MemoryStore (Logging.scala:logWarning(66)) - Not enough space to cache rdd_3102_0 in memory! (computed 91.6 MB so far)\n"
     ]
    },
    {
     "data": {
      "text/plain": [
       "rf: org.apache.spark.ml.PipelineModel = pipeline_554a6f325386\n",
       "model: org.apache.spark.ml.classification.RandomForestClassificationModel = RandomForestClassificationModel (uid=rfc_df13c8889b4b) with 20 trees\n",
       "prediction: org.apache.spark.sql.DataFrame = [loan_amnt: int, term: string ... 104 more fields]\n"
      ]
     },
     "execution_count": 202,
     "metadata": {},
     "output_type": "execute_result"
    }
   ],
   "source": [
    "// fitting random forest model\n",
    "val rf = runModel(trainingData,\"rf\")\n",
    "\n",
    "val model = rf.stages(rf.stages.length-1).asInstanceOf[RandomForestClassificationModel]\n",
    "val prediction = model.transform(testData)"
   ]
  },
  {
   "cell_type": "code",
   "execution_count": 203,
   "metadata": {},
   "outputs": [
    {
     "name": "stdout",
     "output_type": "stream",
     "text": [
      "+-----+----------+--------+\n",
      "|label|prediction|count(1)|\n",
      "+-----+----------+--------+\n",
      "|1    |0.0       |428     |\n",
      "|0    |0.0       |3539    |\n",
      "+-----+----------+--------+\n",
      "\n",
      "+--------+---------+------+---+---+---+---+----+\n",
      "|Accuracy|Precision|Recall|F1 |TPR|FPR|TNR|FNR |\n",
      "+--------+---------+------+---+---+---+---+----+\n",
      "|0.89    |null     |0.0   |0.0|0.0|0.0|1.0|0.12|\n",
      "+--------+---------+------+---+---+---+---+----+\n",
      "\n"
     ]
    }
   ],
   "source": [
    "evaluatePrediction(prediction)"
   ]
  },
  {
   "cell_type": "markdown",
   "metadata": {},
   "source": [
    "# Compare 3 models\n",
    "\n",
    "| Model| Accuracy | Precision | Recall | F1 | TPR | FPR | TNR | FNR |\n",
    "|------|------|------|------|------|------|------|------|------|\n",
    "|   logistic  | 0.93    |0.72     |0.65  |0.68|0.65|0.26|0.97|0.04|\n",
    "|   decision tree | 0.97    |0.86     |0.86  |0.86|0.86|0.14|0.98|0.02|\n",
    "|   random forest | 0.89    |0     |0.0   |0.0|0.0|0.0|1.0|0.12|"
   ]
  },
  {
   "cell_type": "markdown",
   "metadata": {},
   "source": [
    "# Inspect Logistic Regression Model Coefficients"
   ]
  },
  {
   "cell_type": "markdown",
   "metadata": {},
   "source": [
    "## Get coefficient vector from logistic regression model"
   ]
  },
  {
   "cell_type": "code",
   "execution_count": 220,
   "metadata": {},
   "outputs": [
    {
     "data": {
      "text/plain": [
       "coefficients: org.apache.spark.sql.DataFrame = [coeff: double]\n"
      ]
     },
     "execution_count": 220,
     "metadata": {},
     "output_type": "execute_result"
    }
   ],
   "source": [
    "val coefficients = lrModel.coefficients.toArray.toList.toDF(\"coeff\")"
   ]
  },
  {
   "cell_type": "code",
   "execution_count": 221,
   "metadata": {},
   "outputs": [
    {
     "name": "stdout",
     "output_type": "stream",
     "text": [
      "+-------+-------------------+\n",
      "|summary|              coeff|\n",
      "+-------+-------------------+\n",
      "|  count|              10856|\n",
      "|   mean|-0.5439098696228306|\n",
      "| stddev|  4.289252199293298|\n",
      "|    min|-25.490231210213928|\n",
      "|    max| 33.813368497639075|\n",
      "+-------+-------------------+\n",
      "\n"
     ]
    }
   ],
   "source": [
    "coefficients.describe().show()"
   ]
  },
  {
   "cell_type": "code",
   "execution_count": 222,
   "metadata": {},
   "outputs": [],
   "source": [
    "coefficients.createOrReplaceTempView(\"coeff\")"
   ]
  },
  {
   "cell_type": "code",
   "execution_count": 223,
   "metadata": {},
   "outputs": [
    {
     "name": "stdout",
     "output_type": "stream",
     "text": [
      "      coeff\n",
      "0 -0.583154\n",
      "1 -0.093431\n",
      "2  0.000000\n",
      "3 -0.013596\n",
      "4 -0.400551\n"
     ]
    },
    {
     "data": {
      "image/png": "[encoded data removed]",
      "text/plain": [
       "<IPython.core.display.Image object>"
      ]
     },
     "execution_count": 223,
     "metadata": {},
     "output_type": "execute_result"
    }
   ],
   "source": [
    "%%python\n",
    "import pandas as pd\n",
    "import matplotlib.pyplot as plt\n",
    "import tempfile\n",
    "from IPython.display import Image\n",
    "\n",
    "coeff = spark.sql(\"select * from coeff\")\n",
    "coeffPandas = coeff.toPandas()\n",
    "print(coeffPandas.head())\n",
    "plt.clf()\n",
    "plt.boxplot(coeffPandas['coeff'])\n",
    "# plt.plot(rocPandas['FPR'],rocPandas['TPR'])\n",
    "with tempfile.NamedTemporaryFile(suffix=\".png\") as fo:\n",
    "    plt.savefig(fo.name)\n",
    "    retval = Image(filename=fo.name)"
   ]
  },
  {
   "cell_type": "code",
   "execution_count": 224,
   "metadata": {},
   "outputs": [
    {
     "name": "stdout",
     "output_type": "stream",
     "text": [
      "+------------------+\n",
      "|             coeff|\n",
      "+------------------+\n",
      "|33.813368497639075|\n",
      "| 33.65072471496433|\n",
      "|  30.4135332281183|\n",
      "| 30.40365343637535|\n",
      "|28.275282727692524|\n",
      "|28.176961573033108|\n",
      "| 26.69809917500336|\n",
      "|26.280674869143354|\n",
      "| 25.97292200586868|\n",
      "| 25.86774631152381|\n",
      "+------------------+\n",
      "only showing top 10 rows\n",
      "\n"
     ]
    }
   ],
   "source": [
    "coefficients.orderBy(desc(\"coeff\")).show(10)"
   ]
  },
  {
   "cell_type": "code",
   "execution_count": 225,
   "metadata": {},
   "outputs": [
    {
     "name": "stdout",
     "output_type": "stream",
     "text": [
      "+-------------------+\n",
      "|              coeff|\n",
      "+-------------------+\n",
      "|-25.490231210213928|\n",
      "|-13.572545915678091|\n",
      "| -13.00281014951679|\n",
      "|-12.863165758653262|\n",
      "|-11.984210644352753|\n",
      "|-11.817932551974218|\n",
      "|-11.596705235984121|\n",
      "|-11.341870123541144|\n",
      "| -11.33521945458005|\n",
      "|-11.167556597043053|\n",
      "+-------------------+\n",
      "only showing top 10 rows\n",
      "\n"
     ]
    }
   ],
   "source": [
    "coefficients.orderBy(asc(\"coeff\")).show(10)"
   ]
  },
  {
   "cell_type": "markdown",
   "metadata": {},
   "source": [
    "## Look for the feature vector indexes of 10 largest and smallest coefficients\n"
   ]
  },
  {
   "cell_type": "code",
   "execution_count": 236,
   "metadata": {},
   "outputs": [
    {
     "data": {
      "text/plain": [
       "coefficientsArr: Array[Double] = Array(-0.5831544260438446, -0.09343093897890228, 0.0, -0.013596155355772173, -0.40055117879549546, -0.6596497812765124, 0.3413068493139472, 0.3495310764739197, -0.5081591257961061, 0.5171841899053049, 0.0, -0.25020235741289515, -0.036646960363771776, 0.12893571028099804, -0.29616885170160695, 0.20662921643533066, -0.05493919653525222, 0.19396733675127042, -0.7662222848844302, -0.585835107937805, -0.10325701801461512, -0.2603126625612386, -0.8469617651604308, -0.14970597377622438, -0.6041589524907764, -0.03348230224315892, 0.3487712931791639, 0.9571933161523904, -1.031834984801371, -0.2097148658316922, 0.24703260226817825, 0.6115206789256162, -1.0330074570569345, 0.19825886832736173, 1.0705051261778467, 1.2247006023859677, -1.6252579273855616, -0.09440759..."
      ]
     },
     "execution_count": 236,
     "metadata": {},
     "output_type": "execute_result"
    }
   ],
   "source": [
    "val coefficientsArr = lrModel.coefficients.toArray"
   ]
  },
  {
   "cell_type": "code",
   "execution_count": 237,
   "metadata": {},
   "outputs": [
    {
     "data": {
      "text/plain": [
       "lowestIndex: Array[Int] = Array(875, 2937, 3066, 4814, 5444, 6421, 6762, 8802, 8844)\n"
      ]
     },
     "execution_count": 237,
     "metadata": {},
     "output_type": "execute_result"
    }
   ],
   "source": [
    "val lowestIndex = for { i <- coefficientsArr.zipWithIndex\n",
    "     if i._1 < -11.167556597043053} yield i._2"
   ]
  },
  {
   "cell_type": "code",
   "execution_count": 240,
   "metadata": {},
   "outputs": [
    {
     "data": {
      "text/plain": [
       "res94: Int = 8844\n"
      ]
     },
     "execution_count": 240,
     "metadata": {},
     "output_type": "execute_result"
    }
   ],
   "source": [
    "lowestIndex.max"
   ]
  },
  {
   "cell_type": "code",
   "execution_count": 238,
   "metadata": {},
   "outputs": [
    {
     "data": {
      "text/plain": [
       "highestIndex: Array[Int] = Array(2090, 2413, 2639, 4529, 5748, 6260, 6638, 6994, 8827)\n"
      ]
     },
     "execution_count": 238,
     "metadata": {},
     "output_type": "execute_result"
    }
   ],
   "source": [
    "val highestIndex = for { i <- coefficientsArr.zipWithIndex\n",
    "     if i._1 > 25.86774631152381} yield i._2"
   ]
  },
  {
   "cell_type": "code",
   "execution_count": 239,
   "metadata": {},
   "outputs": [
    {
     "data": {
      "text/plain": [
       "res93: Int = 8827\n"
      ]
     },
     "execution_count": 239,
     "metadata": {},
     "output_type": "execute_result"
    }
   ],
   "source": [
    "highestIndex.max"
   ]
  },
  {
   "cell_type": "markdown",
   "metadata": {},
   "source": [
    "## Look at how the feature vector been created"
   ]
  },
  {
   "cell_type": "code",
   "execution_count": 241,
   "metadata": {},
   "outputs": [
    {
     "name": "stdout",
     "output_type": "stream",
     "text": [
      "+-------------+\n",
      "|term_vec     |\n",
      "+-------------+\n",
      "|(3,[0],[1.0])|\n",
      "|(3,[0],[1.0])|\n",
      "|(3,[0],[1.0])|\n",
      "|(3,[0],[1.0])|\n",
      "|(3,[0],[1.0])|\n",
      "+-------------+\n",
      "only showing top 5 rows\n",
      "\n",
      "+-------------+\n",
      "|grade_vec    |\n",
      "+-------------+\n",
      "|(8,[0],[1.0])|\n",
      "|(8,[2],[1.0])|\n",
      "|(8,[4],[1.0])|\n",
      "|(8,[1],[1.0])|\n",
      "|(8,[2],[1.0])|\n",
      "+-------------+\n",
      "only showing top 5 rows\n",
      "\n",
      "+---------------+\n",
      "|sub_grade_vec  |\n",
      "+---------------+\n",
      "|(36,[2],[1.0]) |\n",
      "|(36,[10],[1.0])|\n",
      "|(36,[22],[1.0])|\n",
      "|(36,[8],[1.0]) |\n",
      "|(36,[11],[1.0])|\n",
      "+---------------+\n",
      "only showing top 5 rows\n",
      "\n",
      "+-------------------+\n",
      "|emp_title_vec      |\n",
      "+-------------------+\n",
      "|(9192,[4779],[1.0])|\n",
      "|(9192,[2123],[1.0])|\n",
      "|(9192,[120],[1.0]) |\n",
      "|(9192,[794],[1.0]) |\n",
      "|(9192,[133],[1.0]) |\n",
      "+-------------------+\n",
      "only showing top 5 rows\n",
      "\n",
      "+--------------+\n",
      "|emp_length_vec|\n",
      "+--------------+\n",
      "|(13,[0],[1.0])|\n",
      "|(13,[5],[1.0])|\n",
      "|(13,[0],[1.0])|\n",
      "|(13,[2],[1.0])|\n",
      "|(13,[0],[1.0])|\n",
      "+--------------+\n",
      "only showing top 5 rows\n",
      "\n",
      "+------------------+\n",
      "|home_ownership_vec|\n",
      "+------------------+\n",
      "|(5,[0],[1.0])     |\n",
      "|(5,[1],[1.0])     |\n",
      "|(5,[0],[1.0])     |\n",
      "|(5,[1],[1.0])     |\n",
      "|(5,[0],[1.0])     |\n",
      "+------------------+\n",
      "only showing top 5 rows\n",
      "\n",
      "+-----------------------+\n",
      "|verification_status_vec|\n",
      "+-----------------------+\n",
      "|(4,[0],[1.0])          |\n",
      "|(4,[1],[1.0])          |\n",
      "|(4,[0],[1.0])          |\n",
      "|(4,[0],[1.0])          |\n",
      "|(4,[1],[1.0])          |\n",
      "+-----------------------+\n",
      "only showing top 5 rows\n",
      "\n",
      "+--------------+\n",
      "|issue_d_vec   |\n",
      "+--------------+\n",
      "|(13,[8],[1.0])|\n",
      "|(13,[8],[1.0])|\n",
      "|(13,[8],[1.0])|\n",
      "|(13,[8],[1.0])|\n",
      "|(13,[8],[1.0])|\n",
      "+--------------+\n",
      "only showing top 5 rows\n",
      "\n",
      "+--------------+\n",
      "|purpose_vec   |\n",
      "+--------------+\n",
      "|(13,[1],[1.0])|\n",
      "|(13,[0],[1.0])|\n",
      "|(13,[0],[1.0])|\n",
      "|(13,[4],[1.0])|\n",
      "|(13,[2],[1.0])|\n",
      "+--------------+\n",
      "only showing top 5 rows\n",
      "\n",
      "+--------------+\n",
      "|title_vec     |\n",
      "+--------------+\n",
      "|(13,[1],[1.0])|\n",
      "|(13,[0],[1.0])|\n",
      "|(13,[0],[1.0])|\n",
      "|(13,[4],[1.0])|\n",
      "|(13,[2],[1.0])|\n",
      "+--------------+\n",
      "only showing top 5 rows\n",
      "\n",
      "+-----------------+\n",
      "|zip_code_vec     |\n",
      "+-----------------+\n",
      "|(835,[208],[1.0])|\n",
      "|(835,[455],[1.0])|\n",
      "|(835,[145],[1.0])|\n",
      "|(835,[636],[1.0])|\n",
      "|(835,[104],[1.0])|\n",
      "+-----------------+\n",
      "only showing top 5 rows\n",
      "\n",
      "+---------------+\n",
      "|addr_state_vec |\n",
      "+---------------+\n",
      "|(51,[29],[1.0])|\n",
      "|(51,[6],[1.0]) |\n",
      "|(51,[19],[1.0])|\n",
      "|(51,[1],[1.0]) |\n",
      "|(51,[0],[1.0]) |\n",
      "+---------------+\n",
      "only showing top 5 rows\n",
      "\n",
      "+--------------------+\n",
      "|earliest_cr_line_vec|\n",
      "+--------------------+\n",
      "|(563,[157],[1.0])   |\n",
      "|(563,[69],[1.0])    |\n",
      "|(563,[69],[1.0])    |\n",
      "|(563,[35],[1.0])    |\n",
      "|(563,[60],[1.0])    |\n",
      "+--------------------+\n",
      "only showing top 5 rows\n",
      "\n",
      "+-----------------------+\n",
      "|initial_list_status_vec|\n",
      "+-----------------------+\n",
      "|(3,[0],[1.0])          |\n",
      "|(3,[1],[1.0])          |\n",
      "|(3,[1],[1.0])          |\n",
      "|(3,[0],[1.0])          |\n",
      "|(3,[0],[1.0])          |\n",
      "+-----------------------+\n",
      "only showing top 5 rows\n",
      "\n",
      "+----------------+\n",
      "|last_pymnt_d_vec|\n",
      "+----------------+\n",
      "|(27,[9],[1.0])  |\n",
      "|(27,[0],[1.0])  |\n",
      "|(27,[0],[1.0])  |\n",
      "|(27,[15],[1.0]) |\n",
      "|(27,[4],[1.0])  |\n",
      "+----------------+\n",
      "only showing top 5 rows\n",
      "\n",
      "+----------------------+\n",
      "|last_credit_pull_d_vec|\n",
      "+----------------------+\n",
      "|(27,[0],[1.0])        |\n",
      "|(27,[0],[1.0])        |\n",
      "|(27,[0],[1.0])        |\n",
      "|(27,[8],[1.0])        |\n",
      "|(27,[0],[1.0])        |\n",
      "+----------------------+\n",
      "only showing top 5 rows\n",
      "\n",
      "+--------------------+\n",
      "|application_type_vec|\n",
      "+--------------------+\n",
      "|(3,[0],[1.0])       |\n",
      "|(3,[0],[1.0])       |\n",
      "|(3,[0],[1.0])       |\n",
      "|(3,[0],[1.0])       |\n",
      "|(3,[0],[1.0])       |\n",
      "+--------------------+\n",
      "only showing top 5 rows\n",
      "\n",
      "+------------------------------------------------------------------------------------------------------------------------------------------------------------------------------------------------------------------------------------------------------------------------------------------------------------------------------------------------------------------------------------------------------------------------------------------------------------------------------------------------------------------------------------------------------------------------------------------------------------------------------------------------------------------------------------------------------------------------------------------------------------------------------------------------------------------------------------------------------------------------------------------------------------------------------------------------------------------------+\n",
      "|numerical_features_vec                                                                                                                                                                                                                                                                                                                                                                                                                                                                                                                                                                                                                                                                                                                                                                                                                                                                                                                                                  |\n",
      "+------------------------------------------------------------------------------------------------------------------------------------------------------------------------------------------------------------------------------------------------------------------------------------------------------------------------------------------------------------------------------------------------------------------------------------------------------------------------------------------------------------------------------------------------------------------------------------------------------------------------------------------------------------------------------------------------------------------------------------------------------------------------------------------------------------------------------------------------------------------------------------------------------------------------------------------------------------------------+\n",
      "|[-0.07576275698784321,0.5442736110351457,0.01694873096501393,0.70849135706368,-0.35461075897736477,-0.6338549431462455,1.1109180977965176,-0.3767200317824761,2.391792046776873,0.6259465943271147,0.6592409368137194,-0.8298504147931919,0.8876864534243208,0.3053107550934514,-0.1283640759767059,-0.14935664118579403,0.8008586732404849,-0.13403411239561658,0.0,-0.06520004117322975,-0.1344757580303133,0.32531383864758623,2.136494438711017,-0.48067251870453004,-0.08002445390164946,-0.019953300680917812,0.3324233478408447,0.6884719671552835,-0.08571873797491182,0.4696977699206768,2.6347933322370523,-0.3495278209716797,-0.35953670584209846,1.0292064652935478,1.028643852135264,-0.601399998743296,0.9860823283258879,1.1224780054578085,-0.022326657793992993,-0.16101914910658333,-1.1133469252883823,0.6441444541479473,-0.35860121156860353,-0.3644222803887851,-0.15879619029805858,0.5255515526874672,0.32982016139342435]                     |\n",
      "|[-0.4921716004389476,-1.0059698212163548,-0.12488921911435709,0.5095781788561273,-0.35461075897736477,0.6169039506641099,-0.45724382531334723,1.3629879842953665,-0.3038607302561856,0.21144919501731357,-0.784029076542315,-0.2906718084940551,-0.3471182198137909,-0.507336076285588,-0.1283640759767059,-0.14935664118579403,-0.4499171085995451,-0.13403411239561658,0.0,-0.06520004117322975,0.3316866342707057,-0.5047829555999277,-0.5038997173489381,0.15580550797620593,-0.08002445390164946,-0.019953300680917812,0.6468107155149261,-0.8123429108516463,-0.46216842531767954,-0.263883541388076,-0.8220004038634633,0.8117379834746442,-0.35953670584209846,-0.43390259820280114,-0.5775367780757865,-0.04891691297509206,-0.9194442810143678,-0.4515828297776447,-0.022326657793992993,-0.16101914910658333,-0.014157472523159796,0.6441444541479473,-0.12871832538525038,2.292299538500758,-0.15879619029805858,-0.5075399419715333,0.5699486733763472]    |\n",
      "|[-1.012682654752828,2.3851876868338024,1.468060066392425,-0.7633484615667627,-0.35461075897736477,4.369180632095176,-0.10876339795559946,-0.3767200317824761,-0.3464404707170517,-1.1608188939597945,-0.6142326043827816,-0.5176287134734335,-0.6836704793768257,-0.14377402347626267,-0.1283640759767059,-0.14935664118579403,-0.46849093997335,-0.13403411239561658,0.0,-0.06520004117322975,-0.1344757580303133,-0.6038481262277279,0.3011247974945208,0.4740445213165739,-0.08002445390164946,-0.019953300680917812,-0.6631366497937463,-0.942413533612247,-0.5159469520809321,-0.3686808715750407,-0.8220004038634633,-0.5940048324340638,-0.35953670584209846,-1.0191462236013407,0.707407726093054,-0.18703768441714305,-0.6653740664356671,-0.10179153305865507,-0.022326657793992993,-0.16101914910658333,1.085031980242063,0.6441444541479473,-1.0510195434461733,-0.3644222803887851,-0.15879619029805858,-0.4467306851490002,0.09958766606473378]           |\n",
      "|[-1.116784865615604,-0.5215187486377609,-0.3321908384611301,0.8579704909829653,0.7660061411447757,-0.6338549431462455,-0.28300361163447335,1.3629879842953665,-0.5393307416538159,-0.5813273842451212,0.829037408973253,-0.8298504147931919,-1.0994550555599913,-0.9241562304739355,-0.1283640759767059,0.7628900844795296,-0.4799909009281612,-0.13403411239561658,0.0,-0.06520004117322975,-0.1344757580303133,-0.06556126777636831,-0.6476540949995558,0.4740445213165739,-0.08002445390164946,-0.019953300680917812,0.47215106680710306,-0.18200066208873586,0.021838315551593247,-0.15908621120111133,2.6347933322370523,2.9203522073377064,0.33617305951182647,-0.43390259820280114,-1.220009030160207,0.9179284871192648,-0.15723363727826553,-0.27668718141814985,-0.022326657793992993,-0.16101914910658333,-0.5637521989057711,-0.642036322467451,1.718653784064106,-0.3644222803887851,-0.15879619029805858,-0.17362382373936722,2.097426641756698]          |\n",
      "|[-0.07576275698784321,-1.5233635667302932,0.09332301177698293,-0.40965964469475297,-0.35461075897736477,-0.6338549431462455,0.06547681572327442,-0.3767200317824761,-0.15669759347855639,-1.2654493054360552,0.0649532842553523,-0.8298504147931919,0.632098629307937,-0.6508164314865289,-0.1283640759767059,-0.14935664118579403,0.9579520771023626,-0.13403411239561658,0.0,-0.06520004117322975,-0.1344757580303133,-0.11302496785019518,1.255653865094622,-0.798911532044898,-0.08002445390164946,-0.019953300680917812,0.8738682588350959,-0.6922777206110919,-0.24705431826466942,0.15530577935978274,1.4825287535368803,-0.44120670027007375,-0.35953670584209846,0.44396283989500823,0.38617160005084383,-0.04891691297509206,-0.15723363727826553,0.07310411530083974,-0.022326657793992993,-0.16101914910658333,-0.5637521989057711,0.6441444541479473,-1.0510195434461733,-0.3644222803887851,-0.15879619029805858,0.23263108707604496,0.005008432737879625]|\n"
     ]
    },
    {
     "name": "stdout",
     "output_type": "stream",
     "text": [
      "+------------------------------------------------------------------------------------------------------------------------------------------------------------------------------------------------------------------------------------------------------------------------------------------------------------------------------------------------------------------------------------------------------------------------------------------------------------------------------------------------------------------------------------------------------------------------------------------------------------------------------------------------------------------------------------------------------------------------------------------------------------------------------------------------------------------------------------------------------------------------------------------------------------------------------------------------------------------------+\n",
      "only showing top 5 rows\n",
      "\n"
     ]
    }
   ],
   "source": [
    "featureColumns.foreach{ f =>\n",
    "    df_transformed.select(f).show(5,false)\n",
    "}"
   ]
  },
  {
   "cell_type": "markdown",
   "metadata": {},
   "source": [
    "#### length of feature vector for catogirical variables\n",
    "```\n",
    "term_vec: 3\n",
    "grade_vec: 8\n",
    "sub_grade_vec: 36\n",
    "emp_title_vec: 9192\n",
    "emp_length_vec: 13\n",
    "home_ownership_vec: 5\n",
    "verification_status_vec: 4\n",
    "issue_d_vec: 13\n",
    "purpose_vec: 13\n",
    "title_vec: 13\n",
    "zip_code_vec: 835\n",
    "addr_state_vec: 51\n",
    "earliest_cr_line_vec: 563\n",
    "initial_list_status_vec: 3\n",
    "last_pymnt_d_vec: 27\n",
    "last_credit_pull_d_vec: 27\n",
    "application_type_vec: 3\n",
    "```"
   ]
  },
  {
   "cell_type": "markdown",
   "metadata": {},
   "source": [
    "#### numerical vector order"
   ]
  },
  {
   "cell_type": "code",
   "execution_count": 242,
   "metadata": {},
   "outputs": [
    {
     "name": "stdout",
     "output_type": "stream",
     "text": [
      "loan_amnt\n",
      "int_rate\n",
      "annual_inc\n",
      "dti\n",
      "delinq_2yrs\n",
      "inq_last_6mths\n",
      "open_acc\n",
      "pub_rec\n",
      "revol_bal\n",
      "revol_util\n",
      "total_acc\n",
      "out_prncp\n",
      "total_pymnt\n",
      "total_rec_int\n",
      "total_rec_late_fee\n",
      "collection_recovery_fee\n",
      "last_pymnt_amnt\n",
      "collections_12_mths_ex_med\n",
      "policy_code\n",
      "acc_now_delinq\n",
      "tot_coll_amt\n",
      "tot_cur_bal\n",
      "total_rev_hi_lim\n",
      "acc_open_past_24mths\n",
      "chargeoff_within_12_mths\n",
      "delinq_amnt\n",
      "mo_sin_old_il_acct\n",
      "mo_sin_old_rev_tl_op\n",
      "mo_sin_rcnt_rev_tl_op\n",
      "mo_sin_rcnt_tl\n",
      "mort_acc\n",
      "mths_since_recent_bc\n",
      "num_accts_ever_120_pd\n",
      "num_actv_rev_tl\n",
      "num_bc_sats\n",
      "num_il_tl\n",
      "num_rev_accts\n",
      "num_sats\n",
      "num_tl_120dpd_2m\n",
      "num_tl_90g_dpd_24m\n",
      "num_tl_op_past_12m\n",
      "pct_tl_nvr_dlq\n",
      "percent_bc_gt_75\n",
      "pub_rec_bankruptcies\n",
      "tax_liens\n",
      "tot_hi_cred_lim\n",
      "total_il_high_credit_limit\n"
     ]
    }
   ],
   "source": [
    "numericColumns.foreach(println)"
   ]
  },
  {
   "cell_type": "code",
   "execution_count": 243,
   "metadata": {},
   "outputs": [
    {
     "data": {
      "text/plain": [
       "res97: Int = 47\n"
      ]
     },
     "execution_count": 243,
     "metadata": {},
     "output_type": "execute_result"
    }
   ],
   "source": [
    "numericColumns.length"
   ]
  },
  {
   "cell_type": "markdown",
   "metadata": {},
   "source": [
    "#### Length of feature vectors = Length of coeff vector\n",
    "* catogirical var = 3+8+36+9192+13+5+4+13+13+13+835+51+563+3+27+27+3 = 10809\n",
    "* numeric var = 47\n",
    "* total = 10809+47 = 10856\n",
    "\n",
    "All the top 10 largest and smallest coefficients indexes are with the one hot encoder vector range of string field 'emp_title'\n",
    "\n",
    "Now try to feed only emp_title field into logistic regression to see what happens"
   ]
  },
  {
   "cell_type": "markdown",
   "metadata": {},
   "source": [
    "## Using onle emp_title for training"
   ]
  },
  {
   "cell_type": "code",
   "execution_count": 245,
   "metadata": {},
   "outputs": [
    {
     "name": "stdout",
     "output_type": "stream",
     "text": [
      "Accuracy: 0.9352294603490033\n",
      "FPR: 0.5584276402093028\n",
      "TPR: 0.9352294603490033\n",
      "F-measure: 0.9219273540736255\n",
      "Precision: 0.9383653479593199\n",
      "Recall: 0.9352294603490033\n",
      "+--------------------+--------------------+\n",
      "|                 FPR|                 TPR|\n",
      "+--------------------+--------------------+\n",
      "|                 0.0|                 0.0|\n",
      "|                 0.0|0.001809408926417...|\n",
      "|                 0.0|0.005428226779252111|\n",
      "|                 0.0|   0.364897466827503|\n",
      "|6.230529595015577E-4| 0.37575392038600725|\n",
      "| 7.61509172724126E-4|  0.3775633293124246|\n",
      "|9.691934925579786E-4|   0.379372738238842|\n",
      "|0.001384562132225...| 0.38299155609167673|\n",
      "|0.001661474558670...|  0.3854041013268999|\n",
      "|0.001938386985115...| 0.38781664656212306|\n",
      "|0.008168916580131533| 0.44209891435464416|\n",
      "| 0.00844582900657667|  0.4439083232810615|\n",
      "|0.008722741433021807|  0.4457177322074789|\n",
      "|0.009207338179300795|  0.4487334137515078|\n",
      "| 0.01024575977847006| 0.45476477683956573|\n",
      "|0.010453444098303911|  0.4559710494571773|\n",
      "|0.011491865697473173|  0.4620024125452352|\n",
      "|0.012045690550363447|  0.4650180940892642|\n",
      "|0.013014884042921426| 0.46984318455971047|\n",
      "|0.013776393215645551|  0.4734620024125452|\n",
      "+--------------------+--------------------+\n",
      "only showing top 20 rows\n",
      "\n",
      "areaUnderROC: 0.915675009530347\n",
      "+-----+----------+--------+\n",
      "|label|prediction|count(1)|\n",
      "+-----+----------+--------+\n",
      "|1    |0.0       |420     |\n",
      "|0    |0.0       |3513    |\n",
      "|1    |1.0       |8       |\n",
      "|0    |1.0       |26      |\n",
      "+-----+----------+--------+\n",
      "\n",
      "+--------+---------+------+----+----+----+----+----+\n",
      "|Accuracy|Precision|Recall|F1  |TPR |FPR |TNR |FNR |\n",
      "+--------+---------+------+----+----+----+----+----+\n",
      "|0.89    |0.24     |0.02  |0.03|0.02|0.06|0.99|0.12|\n",
      "+--------+---------+------+----+----+----+----+----+\n",
      "\n"
     ]
    },
    {
     "data": {
      "text/plain": [
       "categoricalFeatures: Array[org.apache.spark.ml.Estimator[_ >: org.apache.spark.ml.feature.OneHotEncoderModel with org.apache.spark.ml.feature.StringIndexerModel <: org.apache.spark.ml.Model[_ >: org.apache.spark.ml.feature.OneHotEncoderModel with org.apache.spark.ml.feature.StringIndexerModel <: org.apache.spark.ml.Transformer with org.apache.spark.ml.param.shared.HasHandleInvalid with org.apache.spark.ml.util.MLWritable] with org.apache.spark.ml.param.shared.HasHandleInvalid with org.apache.spark.ml.util.MLWritable] with org.apache.spark.ml.param.shared.HasHandleInvalid with org.apache.spark.ml.util.DefaultParamsWritable{def copy(extra: org.apache.spark.ml.param.ParamMap): org.apache.spark.ml.Estimator[_ >: org.apache.spark.ml.feature.OneHotEncoderModel with org.apache.spark.ml.feature..."
      ]
     },
     "execution_count": 245,
     "metadata": {},
     "output_type": "execute_result"
    }
   ],
   "source": [
    "val categoricalFeatures = Array(\"emp_title\").flatMap{ name =>\n",
    "    \n",
    "    val stringIndexer = new StringIndexer()\n",
    "      .setInputCol(name)\n",
    "      .setOutputCol(name + \"_index\")\n",
    "      .setHandleInvalid(\"keep\")\n",
    "    \n",
    "    val oneHotEncoder = new OneHotEncoderEstimator()\n",
    "      .setInputCols(Array(name + \"_index\"))\n",
    "      .setOutputCols(Array(name + \"_vec\"))\n",
    "      .setDropLast(false)\n",
    "    \n",
    "    Array(stringIndexer, oneHotEncoder)\n",
    "}\n",
    "\n",
    "val pipeline = new Pipeline()\n",
    "  .setStages(categoricalFeatures)\n",
    "\n",
    "val df_transformed = pipeline\n",
    "  .fit(df)\n",
    "  .transform(df)\n",
    "\n",
    "val featureColumns = df_transformed.columns.filter(_.contains(\"_vec\"))\n",
    "val featureColumnsAssembler = new VectorAssembler()\n",
    "  .setInputCols(featureColumns)\n",
    "  .setOutputCol(\"features\")\n",
    "\n",
    "val df_input = featureColumnsAssembler.transform(df_transformed).withColumn(\"label\",col(\"loan_status\"))\n",
    "\n",
    "val Array(trainingData, testData) = df_input.randomSplit(Array(0.8, 0.2), seed = 1234L)\n",
    "\n",
    "val lr = runModel(trainingData,\"lr\")\n",
    "val lrModel = lr.stages(new_lr.stages.length-1).asInstanceOf[LogisticRegressionModel]\n",
    "\n",
    "val trainingSummary = lrModel.binarySummary\n",
    "val accuracy = trainingSummary.accuracy\n",
    "val falsePositiveRate = trainingSummary.weightedFalsePositiveRate\n",
    "val truePositiveRate = trainingSummary.weightedTruePositiveRate\n",
    "val fMeasure = trainingSummary.weightedFMeasure\n",
    "val precision = trainingSummary.weightedPrecision\n",
    "val recall = trainingSummary.weightedRecall\n",
    "println(s\"Accuracy: $accuracy\\nFPR: $falsePositiveRate\\nTPR: $truePositiveRate\\n\" +\n",
    "  s\"F-measure: $fMeasure\\nPrecision: $precision\\nRecall: $recall\")\n",
    "val roc = trainingSummary.roc\n",
    "roc.createOrReplaceTempView(\"roc\")\n",
    "roc.show()\n",
    "println(s\"areaUnderROC: ${trainingSummary.areaUnderROC}\")\n",
    "\n",
    "val prediction = lrModel.transform(testData)\n",
    "evaluatePrediction(prediction)"
   ]
  },
  {
   "cell_type": "code",
   "execution_count": 246,
   "metadata": {},
   "outputs": [
    {
     "name": "stdout",
     "output_type": "stream",
     "text": [
      "        FPR       TPR\n",
      "0  0.000000  0.000000\n",
      "1  0.000000  0.001809\n",
      "2  0.000000  0.005428\n",
      "3  0.000000  0.364897\n",
      "4  0.000623  0.375754\n"
     ]
    },
    {
     "data": {
      "image/png": "[encoded data removed]",
      "text/plain": [
       "<IPython.core.display.Image object>"
      ]
     },
     "execution_count": 246,
     "metadata": {},
     "output_type": "execute_result"
    }
   ],
   "source": [
    "%%python\n",
    "import pandas as pd\n",
    "import matplotlib.pyplot as plt\n",
    "import tempfile\n",
    "from IPython.display import Image\n",
    "\n",
    "roc = spark.sql(\"select * from roc\")\n",
    "rocPandas = roc.toPandas()\n",
    "print(rocPandas.head())\n",
    "plt.clf()\n",
    "plt.plot(rocPandas['FPR'],rocPandas['TPR'])\n",
    "with tempfile.NamedTemporaryFile(suffix=\".png\") as fo:\n",
    "    plt.savefig(fo.name)\n",
    "    retval = Image(filename=fo.name)"
   ]
  },
  {
   "cell_type": "markdown",
   "metadata": {},
   "source": [
    "## Observation\n",
    "\n",
    "Using only the `emp_title` field for training still achives good result in training, while model performs poorly in test set:\n",
    "\n",
    "| Data| Accuracy | Precision | Recall | F1 |\n",
    "|------|------|------|------|------|\n",
    "|   Training Set  | 0.94    |0.94     |0.94  |0.92|\n",
    "|   Test Set | 0.89    |0.24     |0.02  |0.03|\n",
    "\n",
    "\n",
    "That suggestes the model performs very well on training data but has high error rates on test data, due to the model has\n",
    "* high variance\n",
    "* low bias"
   ]
  }
 ],
 "metadata": {
  "kernelspec": {
   "display_name": "spylon-kernel",
   "language": "scala",
   "name": "spylon-kernel"
  },
  "language_info": {
   "codemirror_mode": "text/x-scala",
   "file_extension": ".scala",
   "help_links": [
    {
     "text": "MetaKernel Magics",
     "url": "https://metakernel.readthedocs.io/en/latest/source/README.html"
    }
   ],
   "mimetype": "text/x-scala",
   "name": "scala",
   "pygments_lexer": "scala",
   "version": "0.4.1"
  }
 },
 "nbformat": 4,
 "nbformat_minor": 2
}
