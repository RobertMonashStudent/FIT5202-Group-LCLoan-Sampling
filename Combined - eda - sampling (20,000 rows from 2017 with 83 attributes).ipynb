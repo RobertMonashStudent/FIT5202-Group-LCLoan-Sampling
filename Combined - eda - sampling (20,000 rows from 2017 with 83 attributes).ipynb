{
 "cells": [
  {
   "cell_type": "markdown",
   "metadata": {},
   "source": [
    "# Load and cache data"
   ]
  },
  {
   "cell_type": "code",
   "execution_count": 1,
   "metadata": {},
   "outputs": [
    {
     "data": {
      "text/plain": [
       "Intitializing Scala interpreter ..."
      ]
     },
     "metadata": {},
     "output_type": "display_data"
    },
    {
     "data": {
      "text/plain": [
       "Spark Web UI available at http://75cd00854c39:4040\n",
       "SparkContext available as 'sc' (version = 2.4.3, master = local[*], app id = local-1558792816683)\n",
       "SparkSession available as 'spark'\n"
      ]
     },
     "metadata": {},
     "output_type": "display_data"
    },
    {
     "name": "stdout",
     "output_type": "stream",
     "text": [
      "2019-05-25 14:00:15,080 WARN  [main] util.NativeCodeLoader (NativeCodeLoader.java:<clinit>(62)) - Unable to load native-hadoop library for your platform... using builtin-java classes where applicable\n"
     ]
    },
    {
     "data": {
      "text/plain": [
       "df: org.apache.spark.sql.DataFrame = [id: string, member_id: string ... 143 more fields]\n"
      ]
     },
     "execution_count": 1,
     "metadata": {},
     "output_type": "execute_result"
    }
   ],
   "source": [
    "val df = spark.read.format(\"csv\")\n",
    "  .option(\"inferSchema\", \"true\")\n",
    "  .option(\"header\", \"true\")\n",
    "  .load(\"LCLoan.csv\")"
   ]
  },
  {
   "cell_type": "code",
   "execution_count": 2,
   "metadata": {},
   "outputs": [],
   "source": [
    "// had to comment these out as i was getting meory errors.\n",
    "//not sure what was wrong butthe below did finish running\n",
    "//df.cache\n",
    "//df.count"
   ]
  },
  {
   "cell_type": "markdown",
   "metadata": {},
   "source": [
    "# Register temp table for use in Spark SQL"
   ]
  },
  {
   "cell_type": "code",
   "execution_count": 3,
   "metadata": {},
   "outputs": [
    {
     "name": "stdout",
     "output_type": "stream",
     "text": [
      "2019-05-25 14:01:56,593 WARN  [Thread-4] util.Utils (Logging.scala:logWarning(66)) - Truncated the string representation of a plan since it was too large. This behavior can be adjusted by setting 'spark.debug.maxToStringFields' in SparkEnv.conf.\n"
     ]
    }
   ],
   "source": [
    "df.createOrReplaceTempView(\"df\")"
   ]
  },
  {
   "cell_type": "code",
   "execution_count": 4,
   "metadata": {},
   "outputs": [
    {
     "name": "stdout",
     "output_type": "stream",
     "text": [
      "+----+---------+---------+-----------+---------------+----------+--------+-----------+-----+---------+--------------+----------+--------------+----------+-------------------+--------+-----------+----------+----+----+------------------+------------------+--------+----------+-----+-----------+----------------+--------------+----------------------+----------------------+--------+-------+---------+----------+---------+-------------------+---------+-------------+-----------+---------------+---------------+-------------+------------------+----------+-----------------------+------------+---------------+------------+------------------+--------------------------+---------------------------+-----------+----------------+----------------+---------+-------------------------+--------------+------------+-----------+-----------+-----------+-----------+-----------+------------------+------------+-------+-----------+-----------+----------+--------+----------------+------+-----------+------------+--------------------+-----------+--------------+-------+------------------------+-----------+------------------+--------------------+---------------------+--------------+--------+--------------------+------------------------+---------------------+------------------------------+---------------------+--------------+---------------+-----------+---------+---------+-------------+-------------+-------------------+--------+----------------+------------+------------------+------------------+--------------+----------------+--------------------+---------+---------------+-----------------+--------------+--------------------------+---------------+------------------------+----------------------+----------------+----------------+------------------+-------------------+---------------------+--------------------------------+----------------------------------+-----------------------------------+-------------+-------------+---------------+---------------+-------------+---------------+-------------------+-----------------+-----------------------+---------------+------------+--------------------+------------------------------------------+------------------------------+----------------------------+-------------------+--------------------+-------------------------+-----------------+---------------+-----------------+---------------------+---------------+\n",
      "|id  |member_id|loan_amnt|funded_amnt|funded_amnt_inv|term      |int_rate|installment|grade|sub_grade|emp_title     |emp_length|home_ownership|annual_inc|verification_status|issue_d |loan_status|pymnt_plan|url |desc|purpose           |title             |zip_code|addr_state|dti  |delinq_2yrs|earliest_cr_line|inq_last_6mths|mths_since_last_delinq|mths_since_last_record|open_acc|pub_rec|revol_bal|revol_util|total_acc|initial_list_status|out_prncp|out_prncp_inv|total_pymnt|total_pymnt_inv|total_rec_prncp|total_rec_int|total_rec_late_fee|recoveries|collection_recovery_fee|last_pymnt_d|last_pymnt_amnt|next_pymnt_d|last_credit_pull_d|collections_12_mths_ex_med|mths_since_last_major_derog|policy_code|application_type|annual_inc_joint|dti_joint|verification_status_joint|acc_now_delinq|tot_coll_amt|tot_cur_bal|open_acc_6m|open_act_il|open_il_12m|open_il_24m|mths_since_rcnt_il|total_bal_il|il_util|open_rv_12m|open_rv_24m|max_bal_bc|all_util|total_rev_hi_lim|inq_fi|total_cu_tl|inq_last_12m|acc_open_past_24mths|avg_cur_bal|bc_open_to_buy|bc_util|chargeoff_within_12_mths|delinq_amnt|mo_sin_old_il_acct|mo_sin_old_rev_tl_op|mo_sin_rcnt_rev_tl_op|mo_sin_rcnt_tl|mort_acc|mths_since_recent_bc|mths_since_recent_bc_dlq|mths_since_recent_inq|mths_since_recent_revol_delinq|num_accts_ever_120_pd|num_actv_bc_tl|num_actv_rev_tl|num_bc_sats|num_bc_tl|num_il_tl|num_op_rev_tl|num_rev_accts|num_rev_tl_bal_gt_0|num_sats|num_tl_120dpd_2m|num_tl_30dpd|num_tl_90g_dpd_24m|num_tl_op_past_12m|pct_tl_nvr_dlq|percent_bc_gt_75|pub_rec_bankruptcies|tax_liens|tot_hi_cred_lim|total_bal_ex_mort|total_bc_limit|total_il_high_credit_limit|revol_bal_joint|sec_app_earliest_cr_line|sec_app_inq_last_6mths|sec_app_mort_acc|sec_app_open_acc|sec_app_revol_util|sec_app_open_act_il|sec_app_num_rev_accts|sec_app_chargeoff_within_12_mths|sec_app_collections_12_mths_ex_med|sec_app_mths_since_last_major_derog|hardship_flag|hardship_type|hardship_reason|hardship_status|deferral_term|hardship_amount|hardship_start_date|hardship_end_date|payment_plan_start_date|hardship_length|hardship_dpd|hardship_loan_status|orig_projected_additional_accrued_interest|hardship_payoff_balance_amount|hardship_last_payment_amount|disbursement_method|debt_settlement_flag|debt_settlement_flag_date|settlement_status|settlement_date|settlement_amount|settlement_percentage|settlement_term|\n",
      "+----+---------+---------+-----------+---------------+----------+--------+-----------+-----+---------+--------------+----------+--------------+----------+-------------------+--------+-----------+----------+----+----+------------------+------------------+--------+----------+-----+-----------+----------------+--------------+----------------------+----------------------+--------+-------+---------+----------+---------+-------------------+---------+-------------+-----------+---------------+---------------+-------------+------------------+----------+-----------------------+------------+---------------+------------+------------------+--------------------------+---------------------------+-----------+----------------+----------------+---------+-------------------------+--------------+------------+-----------+-----------+-----------+-----------+-----------+------------------+------------+-------+-----------+-----------+----------+--------+----------------+------+-----------+------------+--------------------+-----------+--------------+-------+------------------------+-----------+------------------+--------------------+---------------------+--------------+--------+--------------------+------------------------+---------------------+------------------------------+---------------------+--------------+---------------+-----------+---------+---------+-------------+-------------+-------------------+--------+----------------+------------+------------------+------------------+--------------+----------------+--------------------+---------+---------------+-----------------+--------------+--------------------------+---------------+------------------------+----------------------+----------------+----------------+------------------+-------------------+---------------------+--------------------------------+----------------------------------+-----------------------------------+-------------+-------------+---------------+---------------+-------------+---------------+-------------------+-----------------+-----------------------+---------------+------------+--------------------+------------------------------------------+------------------------------+----------------------------+-------------------+--------------------+-------------------------+-----------------+---------------+-----------------+---------------------+---------------+\n",
      "|null|null     |2500     |2500       |2500.0         | 36 months|13.56   |84.92      |C    |C1       |Chef          |10+ years |RENT          |55000     |Not Verified       |Dec-2018|Current    |n         |null|null|debt_consolidation|Debt consolidation|109xx   |NY        |18.24|0          |Apr-2001        |1             |null                  |45                    |9       |1      |4341     |10.3      |34       |w                  |2386.02  |2386.02      |167.02     |167.02         |113.98         |53.04        |0.0               |0.0       |0.0                    |Feb-2019    |84.92          |Mar-2019    |Feb-2019          |0                         |null                       |1          |Individual      |null            |null     |null                     |0             |0           |16901      |2          |2          |1          |2          |2                 |12560       |69     |2          |7          |2137      |28      |42000           |1     |11         |2           |9                   |1878       |34360         |5.9    |0.0                     |0          |140.0             |212                 |1                    |1             |0       |1                   |null                    |2                    |null                          |0                    |2             |5              |3          |3        |16       |7            |18           |5                  |9       |0               |0           |0                 |3                 |100.0         |0.0             |1                   |0        |60124          |16901            |36500         |18124                     |null           |null                    |null                  |null            |null            |null              |null               |null                 |null                            |null                              |null                               |N            |null         |null           |null           |null         |null           |null               |null             |null                   |null           |null        |null                |null                                      |null                          |null                        |Cash               |N                   |null                     |null             |null           |null             |null                 |null           |\n",
      "|null|null     |30000    |30000      |30000.0        | 60 months|18.94   |777.23     |D    |D2       |Postmaster    |10+ years |MORTGAGE      |90000     |Source Verified    |Dec-2018|Current    |n         |null|null|debt_consolidation|Debt consolidation|713xx   |LA        |26.52|0          |Jun-1987        |0             |71                    |75                    |13      |1      |12315    |24.2      |44       |w                  |29387.75 |29387.75     |1507.11    |1507.11        |612.25         |894.86       |0.0               |0.0       |0.0                    |Feb-2019    |777.23         |Mar-2019    |Feb-2019          |0                         |null                       |1          |Individual      |null            |null     |null                     |0             |1208        |321915     |4          |4          |2          |3          |3                 |87153       |88     |4          |5          |998       |57      |50800           |2     |15         |2           |10                  |24763      |13761         |8.3    |0.0                     |0          |163.0             |378                 |4                    |3             |3       |4                   |null                    |4                    |null                          |0                    |2             |4              |4          |9        |27       |8            |14           |4                  |13      |0               |0           |0                 |6                 |95.0          |0.0             |1                   |0        |372872         |99468            |15000         |94072                     |null           |null                    |null                  |null            |null            |null              |null               |null                 |null                            |null                              |null                               |N            |null         |null           |null           |null         |null           |null               |null             |null                   |null           |null        |null                |null                                      |null                          |null                        |Cash               |N                   |null                     |null             |null           |null             |null                 |null           |\n",
      "|null|null     |5000     |5000       |5000.0         | 36 months|17.97   |180.69     |D    |D1       |Administrative|6 years   |MORTGAGE      |59280     |Source Verified    |Dec-2018|Current    |n         |null|null|debt_consolidation|Debt consolidation|490xx   |MI        |10.51|0          |Apr-2011        |0             |null                  |null                  |8       |0      |4599     |19.1      |13       |w                  |4787.21  |4787.21      |353.89     |353.89         |212.79         |141.10       |0.0               |0.0       |0.0                    |Feb-2019    |180.69         |Mar-2019    |Feb-2019          |0                         |null                       |1          |Individual      |null            |null     |null                     |0             |0           |110299     |0          |1          |0          |2          |14                |7150        |72     |0          |2          |0         |35      |24100           |1     |5          |0           |4                   |18383      |13800         |0      |0.0                     |0          |87.0              |92                  |15                   |14            |2       |77                  |null                    |14                   |null                          |0                    |0             |3              |3          |3        |4        |6            |7            |3                  |8       |0               |0           |0                 |0                 |100.0         |0.0             |0                   |0        |136927         |11749            |13800         |10000                     |null           |null                    |null                  |null            |null            |null              |null               |null                 |null                            |null                              |null                               |N            |null         |null           |null           |null         |null           |null               |null             |null                   |null           |null        |null                |null                                      |null                          |null                        |Cash               |N                   |null                     |null             |null           |null             |null                 |null           |\n"
     ]
    },
    {
     "name": "stdout",
     "output_type": "stream",
     "text": [
      "|null|null     |4000     |4000       |4000.0         | 36 months|18.94   |146.51     |D    |D2       |IT Supervisor |10+ years |MORTGAGE      |92000     |Source Verified    |Dec-2018|Current    |n         |null|null|debt_consolidation|Debt consolidation|985xx   |WA        |16.74|0          |Feb-2006        |0             |null                  |null                  |10      |0      |5468     |78.1      |13       |w                  |3831.93  |3831.93      |286.71     |286.71         |168.07         |118.64       |0.0               |0.0       |0.0                    |Feb-2019    |146.51         |Mar-2019    |Feb-2019          |0                         |null                       |1          |Individual      |null            |null     |null                     |0             |686         |305049     |1          |5          |3          |5          |5                 |30683       |68     |0          |0          |3761      |70      |7000            |2     |4          |3           |5                   |30505      |1239          |75.2   |0.0                     |0          |62.0              |154                 |64                   |5             |3       |64                  |null                    |5                    |null                          |0                    |1             |2              |1          |2        |7        |2            |3            |2                  |10      |0               |0           |0                 |3                 |100.0         |100.0           |0                   |0        |385183         |36151            |5000          |44984                     |null           |null                    |null                  |null            |null            |null              |null               |null                 |null                            |null                              |null                               |N            |null         |null           |null           |null         |null           |null               |null             |null                   |null           |null        |null                |null                                      |null                          |null                        |Cash               |N                   |null                     |null             |null           |null             |null                 |null           |\n",
      "|null|null     |30000    |30000      |30000.0        | 60 months|16.14   |731.78     |C    |C4       |Mechanic      |10+ years |MORTGAGE      |57250     |Not Verified       |Dec-2018|Current    |n         |null|null|debt_consolidation|Debt consolidation|212xx   |MD        |26.35|0          |Dec-2000        |0             |null                  |null                  |12      |0      |829      |3.6       |26       |w                  |29339.02 |29339.02     |1423.21    |1423.21        |660.98         |762.23       |0.0               |0.0       |0.0                    |Feb-2019    |731.78         |Mar-2019    |Feb-2019          |0                         |null                       |1          |Individual      |null            |null     |null                     |0             |0           |116007     |3          |5          |3          |5          |4                 |28845       |89     |2          |4          |516       |54      |23100           |1     |0          |0           |9                   |9667       |8471          |8.9    |0.0                     |0          |53.0              |216                 |2                    |2             |2       |2                   |null                    |13                   |null                          |0                    |2             |2              |3          |8        |9        |6            |15           |2                  |12      |0               |0           |0                 |5                 |92.3          |0.0             |0                   |0        |157548         |29674            |9300          |32332                     |null           |null                    |null                  |null            |null            |null              |null               |null                 |null                            |null                              |null                               |N            |null         |null           |null           |null         |null           |null               |null             |null                   |null           |null        |null                |null                                      |null                          |null                        |Cash               |N                   |null                     |null             |null           |null             |null                 |null           |\n",
      "+----+---------+---------+-----------+---------------+----------+--------+-----------+-----+---------+--------------+----------+--------------+----------+-------------------+--------+-----------+----------+----+----+------------------+------------------+--------+----------+-----+-----------+----------------+--------------+----------------------+----------------------+--------+-------+---------+----------+---------+-------------------+---------+-------------+-----------+---------------+---------------+-------------+------------------+----------+-----------------------+------------+---------------+------------+------------------+--------------------------+---------------------------+-----------+----------------+----------------+---------+-------------------------+--------------+------------+-----------+-----------+-----------+-----------+-----------+------------------+------------+-------+-----------+-----------+----------+--------+----------------+------+-----------+------------+--------------------+-----------+--------------+-------+------------------------+-----------+------------------+--------------------+---------------------+--------------+--------+--------------------+------------------------+---------------------+------------------------------+---------------------+--------------+---------------+-----------+---------+---------+-------------+-------------+-------------------+--------+----------------+------------+------------------+------------------+--------------+----------------+--------------------+---------+---------------+-----------------+--------------+--------------------------+---------------+------------------------+----------------------+----------------+----------------+------------------+-------------------+---------------------+--------------------------------+----------------------------------+-----------------------------------+-------------+-------------+---------------+---------------+-------------+---------------+-------------------+-----------------+-----------------------+---------------+------------+--------------------+------------------------------------------+------------------------------+----------------------------+-------------------+--------------------+-------------------------+-----------------+---------------+-----------------+---------------------+---------------+\n",
      "only showing top 5 rows\n",
      "\n"
     ]
    }
   ],
   "source": [
    "spark.sql(\"select * from df\").show(5,false)"
   ]
  },
  {
   "cell_type": "markdown",
   "metadata": {},
   "source": [
    "# Drop fields with population rate lower than 90%"
   ]
  },
  {
   "cell_type": "code",
   "execution_count": 5,
   "metadata": {},
   "outputs": [
    {
     "data": {
      "text/plain": [
       "selectColumns: Array[String] = Array(id, member_id, loan_amnt, funded_amnt, funded_amnt_inv, term, int_rate, installment, grade, sub_grade, emp_title, emp_length, home_ownership, annual_inc, verification_status, issue_d, loan_status, pymnt_plan, url, desc, purpose, title, zip_code, addr_state, dti, delinq_2yrs, earliest_cr_line, inq_last_6mths, mths_since_last_delinq, mths_since_last_record, open_acc, pub_rec, revol_bal, revol_util, total_acc, initial_list_status, out_prncp, out_prncp_inv, total_pymnt, total_pymnt_inv, total_rec_prncp, total_rec_int, total_rec_late_fee, recoveries, collection_recovery_fee, last_pymnt_d, last_pymnt_amnt, next_pymnt_d, last_credit_pull_d, collections_12_mths_ex_med, mths_since_last_major_derog, policy_code, application_type, annual_inc_joint, dti_joint, v..."
      ]
     },
     "execution_count": 5,
     "metadata": {},
     "output_type": "execute_result"
    }
   ],
   "source": [
    "// get all columns\n",
    "val selectColumns = df.columns.toArray"
   ]
  },
  {
   "cell_type": "code",
   "execution_count": 6,
   "metadata": {},
   "outputs": [
    {
     "data": {
      "text/plain": [
       "fileCount: Long = 2260668\n"
      ]
     },
     "execution_count": 6,
     "metadata": {},
     "output_type": "execute_result"
    }
   ],
   "source": [
    "// Whole file count\n",
    "val fileCount = df.count"
   ]
  },
  {
   "cell_type": "code",
   "execution_count": 7,
   "metadata": {},
   "outputs": [
    {
     "data": {
      "text/plain": [
       "sparseThreshold: Double = 0.9\n"
      ]
     },
     "execution_count": 7,
     "metadata": {},
     "output_type": "execute_result"
    }
   ],
   "source": [
    "// Threshold\n",
    "val sparseThreshold = 0.9"
   ]
  },
  {
   "cell_type": "code",
   "execution_count": 8,
   "metadata": {},
   "outputs": [
    {
     "name": "stdout",
     "output_type": "stream",
     "text": [
      "loan_amnt: 2260668.0: 1.0\n",
      "funded_amnt: 2260668.0: 1.0\n",
      "funded_amnt_inv: 2260668.0: 1.0\n",
      "term: 2260668.0: 1.0\n",
      "int_rate: 2260668.0: 1.0\n",
      "installment: 2260668.0: 1.0\n",
      "grade: 2260668.0: 1.0\n",
      "sub_grade: 2260668.0: 1.0\n",
      "emp_title: 2093737.0: 0.9261585513662334\n",
      "emp_length: 2260668.0: 1.0\n",
      "home_ownership: 2260668.0: 1.0\n",
      "annual_inc: 2260664.0: 0.999998230611483\n",
      "verification_status: 2260668.0: 1.0\n",
      "issue_d: 2260668.0: 1.0\n",
      "loan_status: 2260668.0: 1.0\n",
      "pymnt_plan: 2260668.0: 1.0\n",
      "purpose: 2260667.0: 0.9999995576528707\n",
      "title: 2237345.0: 0.9896831379043717\n",
      "zip_code: 2260666.0: 0.9999991153057415\n",
      "addr_state: 2260667.0: 0.9999995576528707\n",
      "dti: 2258956.0: 0.9992427017147144\n",
      "delinq_2yrs: 2260638.0: 0.9999867295861223\n",
      "earliest_cr_line: 2260638.0: 0.9999867295861223\n",
      "inq_last_6mths: 2260637.0: 0.9999862872389931\n",
      "open_acc: 2260558.0: 0.9999513418157819\n",
      "pub_rec: 2260576.0: 0.9999593040641085\n",
      "revol_bal: 2260614.0: 0.9999761132550202\n",
      "revol_util: 2258834.0: 0.9991887353649452\n",
      "total_acc: 2260618.0: 0.9999778826435373\n",
      "initial_list_status: 2260651.0: 0.9999924800988027\n",
      "out_prncp: 2260651.0: 0.9999924800988027\n",
      "out_prncp_inv: 2260647.0: 0.9999907107102857\n",
      "total_pymnt: 2260655.0: 0.9999942494873196\n",
      "total_pymnt_inv: 2260657.0: 0.9999951341815781\n",
      "total_rec_prncp: 2260659.0: 0.9999960188758367\n",
      "total_rec_int: 2260665.0: 0.9999986729586122\n",
      "total_rec_late_fee: 2260665.0: 0.9999986729586122\n",
      "recoveries: 2260666.0: 0.9999991153057415\n",
      "collection_recovery_fee: 2260662.0: 0.9999973459172244\n",
      "last_pymnt_d: 2258235.0: 0.9989237694345211\n",
      "last_pymnt_amnt: 2260665.0: 0.9999986729586122\n",
      "last_credit_pull_d: 2260542.0: 0.9999442642617138\n",
      "collections_12_mths_ex_med: 2260480.0: 0.9999168387396999\n",
      "policy_code: 2260588.0: 0.9999646122296596\n",
      "application_type: 2260607.0: 0.9999730168251154\n",
      "acc_now_delinq: 2260477.0: 0.9999155116983122\n",
      "tot_coll_amt: 2190522.0: 0.9689711182712366\n",
      "tot_cur_bal: 2190491.0: 0.9689574055102297\n",
      "total_rev_hi_lim: 2190395.0: 0.9689149401858211\n",
      "acc_open_past_24mths: 2210641.0: 0.9778707001647301\n",
      "avg_cur_bal: 2190325.0: 0.9688839758867733\n",
      "bc_open_to_buy: 2185735.0: 0.9668536025634901\n",
      "bc_util: 2184598.0: 0.9663506538775265\n",
      "chargeoff_within_12_mths: 2260269.0: 0.999823503495427\n",
      "delinq_amnt: 2260443.0: 0.9999004718959175\n",
      "mo_sin_old_il_acct: 2121698.0: 0.9385270194473492\n",
      "mo_sin_old_rev_tl_op: 2190476.0: 0.9689507703032909\n",
      "mo_sin_rcnt_rev_tl_op: 2190452.0: 0.9689401539721888\n",
      "mo_sin_rcnt_tl: 2190430.0: 0.9689304223353451\n",
      "mort_acc: 2210663.0: 0.9778804318015737\n",
      "mths_since_recent_bc: 2187276.0: 0.967535259489673\n",
      "num_accts_ever_120_pd: 2190404.0: 0.9689189213099845\n",
      "num_actv_bc_tl: 2190401.0: 0.9689175942685967\n",
      "num_actv_rev_tl: 2190394.0: 0.9689144978386919\n",
      "num_bc_sats: 2202080.0: 0.9740837663911729\n",
      "num_bc_tl: 2190394.0: 0.9689144978386919\n",
      "num_il_tl: 2190399.0: 0.9689167095743382\n",
      "num_op_rev_tl: 2190399.0: 0.9689167095743382\n",
      "num_rev_accts: 2190393.0: 0.9689140554915626\n",
      "num_rev_tl_bal_gt_0: 2190394.0: 0.9689144978386919\n",
      "num_sats: 2202080.0: 0.9740837663911729\n",
      "num_tl_120dpd_2m: 2107012.0: 0.9320307095071014\n",
      "num_tl_30dpd: 2190392.0: 0.9689136131444334\n",
      "num_tl_90g_dpd_24m: 2190394.0: 0.9689144978386919\n",
      "num_tl_op_past_12m: 2190394.0: 0.9689144978386919\n",
      "pct_tl_nvr_dlq: 2190238.0: 0.968845491686528\n",
      "percent_bc_gt_75: 2185290.0: 0.9666567580909713\n",
      "pub_rec_bankruptcies: 2259064.0: 0.9992904752046741\n",
      "tax_liens: 2260363.0: 0.9998650841255771\n",
      "tot_hi_cred_lim: 2190489.0: 0.9689565208159712\n",
      "total_bal_ex_mort: 2210720.0: 0.9779056455879412\n",
      "total_bc_limit: 2210698.0: 0.9778959139510977\n",
      "total_il_high_credit_limit: 2190430.0: 0.9689304223353451\n",
      "hardship_flag: 2260419.0: 0.9998898555648154\n",
      "disbursement_method: 2260413.0: 0.9998872014820398\n",
      "debt_settlement_flag: 2260475.0: 0.9999146270040536\n"
     ]
    },
    {
     "data": {
      "text/plain": [
       "goodColumns: Array[String] = Array(loan_amnt, funded_amnt, funded_amnt_inv, term, int_rate, installment, grade, sub_grade, emp_title, emp_length, home_ownership, annual_inc, verification_status, issue_d, loan_status, pymnt_plan, purpose, title, zip_code, addr_state, dti, delinq_2yrs, earliest_cr_line, inq_last_6mths, open_acc, pub_rec, revol_bal, revol_util, total_acc, initial_list_status, out_prncp, out_prncp_inv, total_pymnt, total_pymnt_inv, total_rec_prncp, total_rec_int, total_rec_late_fee, recoveries, collection_recovery_fee, last_pymnt_d, last_pymnt_amnt, last_credit_pull_d, collections_12_mths_ex_med, policy_code, application_type, acc_now_delinq, tot_coll_amt, tot_cur_bal, total_rev_hi_lim, acc_open_past_24mths, avg_cur_bal, bc_open_to_buy, bc_util, chargeoff_within_12_mths, de..."
      ]
     },
     "execution_count": 8,
     "metadata": {},
     "output_type": "execute_result"
    }
   ],
   "source": [
    "// Get the list of good columns\n",
    "var goodColumns = Array[String]()\n",
    "for (s <- selectColumns) {\n",
    "    \n",
    "    // get the counts of not null values for give column\n",
    "    val sqlText = s\"select count(1) as cnt from df where ${s} is not null\"\n",
    "    val not_null_count = spark.sql(sqlText)\n",
    "    val not_null_int = not_null_count.select(\"cnt\").collect().map(_(0)).toList(0).toString.toDouble\n",
    "    \n",
    "    // output the columnss with population rate above threshold\n",
    "    val populationRate = not_null_int / fileCount\n",
    "    if ( populationRate >= sparseThreshold) {\n",
    "        println(s\"${s}: ${not_null_int}: ${populationRate}\")\n",
    "        goodColumns = goodColumns :+ s\n",
    "    }\n",
    "}"
   ]
  },
  {
   "cell_type": "code",
   "execution_count": 9,
   "metadata": {},
   "outputs": [
    {
     "data": {
      "text/plain": [
       "res4: Int = 86\n"
      ]
     },
     "execution_count": 9,
     "metadata": {},
     "output_type": "execute_result"
    }
   ],
   "source": [
    "// Column number reduced to 86\n",
    "goodColumns.size"
   ]
  },
  {
   "cell_type": "code",
   "execution_count": 10,
   "metadata": {},
   "outputs": [
    {
     "data": {
      "text/plain": [
       "goodColumnsStr: String = loan_amnt,funded_amnt,funded_amnt_inv,term,int_rate,installment,grade,sub_grade,emp_title,emp_length,home_ownership,annual_inc,verification_status,issue_d,loan_status,pymnt_plan,purpose,title,zip_code,addr_state,dti,delinq_2yrs,earliest_cr_line,inq_last_6mths,open_acc,pub_rec,revol_bal,revol_util,total_acc,initial_list_status,out_prncp,out_prncp_inv,total_pymnt,total_pymnt_inv,total_rec_prncp,total_rec_int,total_rec_late_fee,recoveries,collection_recovery_fee,last_pymnt_d,last_pymnt_amnt,last_credit_pull_d,collections_12_mths_ex_med,policy_code,application_type,acc_now_delinq,tot_coll_amt,tot_cur_bal,total_rev_hi_lim,acc_open_past_24mths,avg_cur_bal,bc_open_to_buy,bc_util,chargeoff_within_12_mths,delinq_amnt,mo_sin_old_il_acct,mo_sin_old_rev_tl_op,mo_sin_rcnt_re..."
      ]
     },
     "execution_count": 10,
     "metadata": {},
     "output_type": "execute_result"
    }
   ],
   "source": [
    "val goodColumnsStr = goodColumns.mkString(\",\")"
   ]
  },
  {
   "cell_type": "code",
   "execution_count": 11,
   "metadata": {},
   "outputs": [
    {
     "data": {
      "text/plain": [
       "dfGoodColumn: org.apache.spark.sql.DataFrame = [loan_amnt: int, funded_amnt: int ... 84 more fields]\n"
      ]
     },
     "execution_count": 11,
     "metadata": {},
     "output_type": "execute_result"
    }
   ],
   "source": [
    "val dfGoodColumn = spark.sql(s\"select ${goodColumnsStr} from df\")"
   ]
  },
  {
   "cell_type": "code",
   "execution_count": 12,
   "metadata": {},
   "outputs": [
    {
     "name": "stdout",
     "output_type": "stream",
     "text": [
      "root\n",
      " |-- loan_amnt: integer (nullable = true)\n",
      " |-- funded_amnt: integer (nullable = true)\n",
      " |-- funded_amnt_inv: double (nullable = true)\n",
      " |-- term: string (nullable = true)\n",
      " |-- int_rate: double (nullable = true)\n",
      " |-- installment: double (nullable = true)\n",
      " |-- grade: string (nullable = true)\n",
      " |-- sub_grade: string (nullable = true)\n",
      " |-- emp_title: string (nullable = true)\n",
      " |-- emp_length: string (nullable = true)\n",
      " |-- home_ownership: string (nullable = true)\n",
      " |-- annual_inc: string (nullable = true)\n",
      " |-- verification_status: string (nullable = true)\n",
      " |-- issue_d: string (nullable = true)\n",
      " |-- loan_status: string (nullable = true)\n",
      " |-- pymnt_plan: string (nullable = true)\n",
      " |-- purpose: string (nullable = true)\n",
      " |-- title: string (nullable = true)\n",
      " |-- zip_code: string (nullable = true)\n",
      " |-- addr_state: string (nullable = true)\n",
      " |-- dti: string (nullable = true)\n",
      " |-- delinq_2yrs: string (nullable = true)\n",
      " |-- earliest_cr_line: string (nullable = true)\n",
      " |-- inq_last_6mths: string (nullable = true)\n",
      " |-- open_acc: string (nullable = true)\n",
      " |-- pub_rec: string (nullable = true)\n",
      " |-- revol_bal: string (nullable = true)\n",
      " |-- revol_util: string (nullable = true)\n",
      " |-- total_acc: string (nullable = true)\n",
      " |-- initial_list_status: string (nullable = true)\n",
      " |-- out_prncp: string (nullable = true)\n",
      " |-- out_prncp_inv: string (nullable = true)\n",
      " |-- total_pymnt: string (nullable = true)\n",
      " |-- total_pymnt_inv: string (nullable = true)\n",
      " |-- total_rec_prncp: string (nullable = true)\n",
      " |-- total_rec_int: string (nullable = true)\n",
      " |-- total_rec_late_fee: string (nullable = true)\n",
      " |-- recoveries: string (nullable = true)\n",
      " |-- collection_recovery_fee: string (nullable = true)\n",
      " |-- last_pymnt_d: string (nullable = true)\n",
      " |-- last_pymnt_amnt: string (nullable = true)\n",
      " |-- last_credit_pull_d: string (nullable = true)\n",
      " |-- collections_12_mths_ex_med: string (nullable = true)\n",
      " |-- policy_code: string (nullable = true)\n",
      " |-- application_type: string (nullable = true)\n",
      " |-- acc_now_delinq: string (nullable = true)\n",
      " |-- tot_coll_amt: string (nullable = true)\n",
      " |-- tot_cur_bal: string (nullable = true)\n",
      " |-- total_rev_hi_lim: string (nullable = true)\n",
      " |-- acc_open_past_24mths: integer (nullable = true)\n",
      " |-- avg_cur_bal: string (nullable = true)\n",
      " |-- bc_open_to_buy: integer (nullable = true)\n",
      " |-- bc_util: string (nullable = true)\n",
      " |-- chargeoff_within_12_mths: double (nullable = true)\n",
      " |-- delinq_amnt: integer (nullable = true)\n",
      " |-- mo_sin_old_il_acct: double (nullable = true)\n",
      " |-- mo_sin_old_rev_tl_op: integer (nullable = true)\n",
      " |-- mo_sin_rcnt_rev_tl_op: integer (nullable = true)\n",
      " |-- mo_sin_rcnt_tl: integer (nullable = true)\n",
      " |-- mort_acc: integer (nullable = true)\n",
      " |-- mths_since_recent_bc: integer (nullable = true)\n",
      " |-- num_accts_ever_120_pd: integer (nullable = true)\n",
      " |-- num_actv_bc_tl: integer (nullable = true)\n",
      " |-- num_actv_rev_tl: integer (nullable = true)\n",
      " |-- num_bc_sats: integer (nullable = true)\n",
      " |-- num_bc_tl: integer (nullable = true)\n",
      " |-- num_il_tl: integer (nullable = true)\n",
      " |-- num_op_rev_tl: integer (nullable = true)\n",
      " |-- num_rev_accts: integer (nullable = true)\n",
      " |-- num_rev_tl_bal_gt_0: integer (nullable = true)\n",
      " |-- num_sats: integer (nullable = true)\n",
      " |-- num_tl_120dpd_2m: integer (nullable = true)\n",
      " |-- num_tl_30dpd: integer (nullable = true)\n",
      " |-- num_tl_90g_dpd_24m: integer (nullable = true)\n",
      " |-- num_tl_op_past_12m: integer (nullable = true)\n",
      " |-- pct_tl_nvr_dlq: double (nullable = true)\n",
      " |-- percent_bc_gt_75: double (nullable = true)\n",
      " |-- pub_rec_bankruptcies: integer (nullable = true)\n",
      " |-- tax_liens: integer (nullable = true)\n",
      " |-- tot_hi_cred_lim: integer (nullable = true)\n",
      " |-- total_bal_ex_mort: integer (nullable = true)\n",
      " |-- total_bc_limit: integer (nullable = true)\n",
      " |-- total_il_high_credit_limit: integer (nullable = true)\n",
      " |-- hardship_flag: string (nullable = true)\n",
      " |-- disbursement_method: string (nullable = true)\n",
      " |-- debt_settlement_flag: string (nullable = true)\n",
      "\n"
     ]
    }
   ],
   "source": [
    "dfGoodColumn.printSchema"
   ]
  },
  {
   "cell_type": "code",
   "execution_count": 13,
   "metadata": {},
   "outputs": [],
   "source": [
    "dfGoodColumn.createOrReplaceTempView(\"dfGoodColumn\")"
   ]
  },
  {
   "cell_type": "markdown",
   "metadata": {},
   "source": [
    "# Retain only 2017 data"
   ]
  },
  {
   "cell_type": "code",
   "execution_count": 14,
   "metadata": {},
   "outputs": [
    {
     "data": {
      "text/plain": [
       "df_2017: org.apache.spark.sql.DataFrame = [loan_amnt: int, funded_amnt: int ... 84 more fields]\n"
      ]
     },
     "execution_count": 14,
     "metadata": {},
     "output_type": "execute_result"
    }
   ],
   "source": [
    "val df_2017 = spark.sql(\"select * from dfGoodColumn where issue_d like '%2017'\")"
   ]
  },
  {
   "cell_type": "code",
   "execution_count": 15,
   "metadata": {},
   "outputs": [
    {
     "data": {
      "text/plain": [
       "res7: Long = 443579\n"
      ]
     },
     "execution_count": 15,
     "metadata": {},
     "output_type": "execute_result"
    }
   ],
   "source": [
    "// Reduced count to 443579\n",
    "df_2017.count"
   ]
  },
  {
   "cell_type": "code",
   "execution_count": 16,
   "metadata": {},
   "outputs": [
    {
     "name": "stdout",
     "output_type": "stream",
     "text": [
      "+--------+\n",
      "|issue_d |\n",
      "+--------+\n",
      "|Sep-2017|\n",
      "|Jun-2017|\n",
      "|Nov-2017|\n",
      "|Feb-2017|\n",
      "|Dec-2017|\n",
      "|Aug-2017|\n",
      "|May-2017|\n",
      "|Jul-2017|\n",
      "|Jan-2017|\n",
      "|Oct-2017|\n",
      "|Mar-2017|\n",
      "|Apr-2017|\n",
      "+--------+\n",
      "\n"
     ]
    }
   ],
   "source": [
    "// Verify all records from 2017\n",
    "df_2017.select(\"issue_d\").distinct.show(false)"
   ]
  },
  {
   "cell_type": "code",
   "execution_count": 17,
   "metadata": {},
   "outputs": [
    {
     "ename": "org.apache.spark.sql.AnalysisException",
     "evalue": " path file:/home/LCLoan_2017.csv already exists.;",
     "output_type": "error",
     "traceback": [
      "org.apache.spark.sql.AnalysisException: path file:/home/LCLoan_2017.csv already exists.;",
      "  at org.apache.spark.sql.execution.datasources.InsertIntoHadoopFsRelationCommand.run(InsertIntoHadoopFsRelationCommand.scala:114)",
      "  at org.apache.spark.sql.execution.command.DataWritingCommandExec.sideEffectResult$lzycompute(commands.scala:104)",
      "  at org.apache.spark.sql.execution.command.DataWritingCommandExec.sideEffectResult(commands.scala:102)",
      "  at org.apache.spark.sql.execution.command.DataWritingCommandExec.doExecute(commands.scala:122)",
      "  at org.apache.spark.sql.execution.SparkPlan$$anonfun$execute$1.apply(SparkPlan.scala:131)",
      "  at org.apache.spark.sql.execution.SparkPlan$$anonfun$execute$1.apply(SparkPlan.scala:127)",
      "  at org.apache.spark.sql.execution.SparkPlan$$anonfun$executeQuery$1.apply(SparkPlan.scala:155)",
      "  at org.apache.spark.rdd.RDDOperationScope$.withScope(RDDOperationScope.scala:151)",
      "  at org.apache.spark.sql.execution.SparkPlan.executeQuery(SparkPlan.scala:152)",
      "  at org.apache.spark.sql.execution.SparkPlan.execute(SparkPlan.scala:127)",
      "  at org.apache.spark.sql.execution.QueryExecution.toRdd$lzycompute(QueryExecution.scala:80)",
      "  at org.apache.spark.sql.execution.QueryExecution.toRdd(QueryExecution.scala:80)",
      "  at org.apache.spark.sql.DataFrameWriter$$anonfun$runCommand$1.apply(DataFrameWriter.scala:676)",
      "  at org.apache.spark.sql.DataFrameWriter$$anonfun$runCommand$1.apply(DataFrameWriter.scala:676)",
      "  at org.apache.spark.sql.execution.SQLExecution$$anonfun$withNewExecutionId$1.apply(SQLExecution.scala:78)",
      "  at org.apache.spark.sql.execution.SQLExecution$.withSQLConfPropagated(SQLExecution.scala:125)",
      "  at org.apache.spark.sql.execution.SQLExecution$.withNewExecutionId(SQLExecution.scala:73)",
      "  at org.apache.spark.sql.DataFrameWriter.runCommand(DataFrameWriter.scala:676)",
      "  at org.apache.spark.sql.DataFrameWriter.saveToV1Source(DataFrameWriter.scala:285)",
      "  at org.apache.spark.sql.DataFrameWriter.save(DataFrameWriter.scala:271)",
      "  at org.apache.spark.sql.DataFrameWriter.save(DataFrameWriter.scala:229)",
      "  at org.apache.spark.sql.DataFrameWriter.csv(DataFrameWriter.scala:664)",
      "  ... 36 elided",
      ""
     ]
    }
   ],
   "source": [
    "df_2017.repartition(1).write.csv(\"LCLoan_2017.csv\")"
   ]
  },
  {
   "cell_type": "markdown",
   "metadata": {},
   "source": [
    "# Sampling down to ~20,000 rows\n",
    "This is to ensure that we can run further analysis in a timely manner."
   ]
  },
  {
   "cell_type": "code",
   "execution_count": 22,
   "metadata": {},
   "outputs": [
    {
     "data": {
      "text/plain": [
       "df_2017_20k: org.apache.spark.sql.Dataset[org.apache.spark.sql.Row] = [loan_amnt: int, funded_amnt: int ... 84 more fields]\n",
       "res14: Long = 20070\n"
      ]
     },
     "execution_count": 22,
     "metadata": {},
     "output_type": "execute_result"
    }
   ],
   "source": [
    "//created a subset of our large dataset\n",
    "//at 4.5% of the 2017 data, this should result in about 20,000 rows \n",
    "//the random seed here is 5202L, this is to ensre we can repeat this an get the same 20,000 row sample\n",
    "\n",
    "var df_2017_20k = df_2017.sample(false, 0.045, 5202L)\n",
    "\n",
    "\n",
    "\n",
    "//display the size of our final sampled set, and a summary of our target variable, \n",
    "\n",
    "df_2017_20k.count"
   ]
  },
  {
   "cell_type": "code",
   "execution_count": 23,
   "metadata": {},
   "outputs": [
    {
     "name": "stdout",
     "output_type": "stream",
     "text": [
      "+------------------+-----+\n",
      "|       loan_status|count|\n",
      "+------------------+-----+\n",
      "|        Fully Paid| 5446|\n",
      "|           Default|    1|\n",
      "|   In Grace Period|  136|\n",
      "|       Charged Off| 1660|\n",
      "|Late (31-120 days)|  367|\n",
      "|           Current|12402|\n",
      "| Late (16-30 days)|   58|\n",
      "+------------------+-----+\n",
      "\n"
     ]
    }
   ],
   "source": [
    "//and ensure that none of the counts are too out-of-line with the large dataset\n",
    "df_2017_20k.groupBy(\"loan_status\").count().show()"
   ]
  },
  {
   "cell_type": "code",
   "execution_count": 25,
   "metadata": {},
   "outputs": [],
   "source": [
    "//Write a Folder that contains a new csv file. (it will be called part-0000-...)\n",
    "\n",
    "df_2017_20k.coalesce(1).write.format(\"com.databricks.spark.csv\").option(\"header\", \"true\").save(\"SubsetLCLoan_2017_20k\")"
   ]
  },
  {
   "cell_type": "markdown",
   "metadata": {},
   "source": [
    "I have added the resultant csv file ot github, please use this file for your edas on each column"
   ]
  },
  {
   "cell_type": "markdown",
   "metadata": {},
   "source": [
    "#### Please ignore below"
   ]
  },
  {
   "cell_type": "markdown",
   "metadata": {},
   "source": [
    "#### Some random checks"
   ]
  },
  {
   "cell_type": "code",
   "execution_count": null,
   "metadata": {},
   "outputs": [],
   "source": [
    "spark.sql(\"select debt_settlement_flag,count(1) from dfGoodColumn group by debt_settlement_flag order by 2 desc\").show(false)"
   ]
  },
  {
   "cell_type": "code",
   "execution_count": null,
   "metadata": {},
   "outputs": [],
   "source": [
    "spark.sql(\"select loan_status,count(1) from dfGoodColumn group by loan_status order by 2 desc\").show(false)"
   ]
  },
  {
   "cell_type": "markdown",
   "metadata": {},
   "source": [
    "#### Testing Robert's sampling method"
   ]
  },
  {
   "cell_type": "code",
   "execution_count": null,
   "metadata": {},
   "outputs": [],
   "source": [
    "val fractions = Map(\"Default\" -> 1.0)"
   ]
  },
  {
   "cell_type": "code",
   "execution_count": null,
   "metadata": {},
   "outputs": [],
   "source": [
    "val subsetDF_default = dfGoodColumn.stat.sampleBy(\"loan_status\", fractions, 36L)"
   ]
  },
  {
   "cell_type": "code",
   "execution_count": null,
   "metadata": {},
   "outputs": [],
   "source": [
    "subsetDF_default.createOrReplaceTempView(\"subsetDF_default\")"
   ]
  },
  {
   "cell_type": "code",
   "execution_count": null,
   "metadata": {},
   "outputs": [],
   "source": [
    "spark.sql(\"select loan_status,count(1) from subsetDF_default group by loan_status order by 2 desc\").show(false)"
   ]
  },
  {
   "cell_type": "markdown",
   "metadata": {},
   "source": [
    "It seems we need to specify all values in column load_status, other wise they will be treated as 0\n",
    "\n",
    "more here\n",
    "\n",
    "https://spark.apache.org/docs/1.6.0/api/java/org/apache/spark/sql/DataFrameStatFunctions.html#sampleBy(java.lang.String,%20java.util.Map,%20long)"
   ]
  },
  {
   "cell_type": "markdown",
   "metadata": {},
   "source": [
    "#### Checking where is all defaults coming from"
   ]
  },
  {
   "cell_type": "code",
   "execution_count": null,
   "metadata": {},
   "outputs": [],
   "source": [
    "spark.sql(\"select issue_d,count(1) from dfGoodColumn where loan_status = 'Default' group by issue_d order by 2 desc\").show(false)"
   ]
  }
 ],
 "metadata": {
  "kernelspec": {
   "display_name": "spylon-kernel",
   "language": "scala",
   "name": "spylon-kernel"
  },
  "language_info": {
   "codemirror_mode": "text/x-scala",
   "file_extension": ".scala",
   "help_links": [
    {
     "text": "MetaKernel Magics",
     "url": "https://metakernel.readthedocs.io/en/latest/source/README.html"
    }
   ],
   "mimetype": "text/x-scala",
   "name": "scala",
   "pygments_lexer": "scala",
   "version": "0.4.1"
  }
 },
 "nbformat": 4,
 "nbformat_minor": 2
}
