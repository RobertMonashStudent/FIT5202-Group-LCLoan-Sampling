{
 "cells": [
  {
   "cell_type": "markdown",
   "metadata": {},
   "source": [
    "# Load and cache data"
   ]
  },
  {
   "cell_type": "code",
   "execution_count": 1,
   "metadata": {},
   "outputs": [
    {
     "data": {
      "text/plain": [
       "Intitializing Scala interpreter ..."
      ]
     },
     "metadata": {},
     "output_type": "display_data"
    },
    {
     "data": {
      "text/plain": [
       "Spark Web UI available at http://75cd00854c39:4040\n",
       "SparkContext available as 'sc' (version = 2.4.3, master = local[*], app id = local-1558792816683)\n",
       "SparkSession available as 'spark'\n"
      ]
     },
     "metadata": {},
     "output_type": "display_data"
    },
    {
     "name": "stdout",
     "output_type": "stream",
     "text": [
      "2019-05-25 14:00:15,080 WARN  [main] util.NativeCodeLoader (NativeCodeLoader.java:<clinit>(62)) - Unable to load native-hadoop library for your platform... using builtin-java classes where applicable\n"
     ]
    },
    {
     "data": {
      "text/plain": [
       "df: org.apache.spark.sql.DataFrame = [id: string, member_id: string ... 143 more fields]\n"
      ]
     },
     "execution_count": 1,
     "metadata": {},
     "output_type": "execute_result"
    }
   ],
   "source": [
    "val df = spark.read.format(\"csv\")\n",
    "  .option(\"inferSchema\", \"true\")\n",
    "  .option(\"header\", \"true\")\n",
    "  .load(\"LCLoan.csv\")"
   ]
  },
  {
   "cell_type": "code",
   "execution_count": 2,
   "metadata": {},
   "outputs": [],
   "source": [
    "// had to comment these out as i was getting meory errors.\n",
    "//not sure what was wrong butthe below did finish running\n",
    "//df.cache\n",
    "//df.count"
   ]
  },
  {
   "cell_type": "markdown",
   "metadata": {},
   "source": [
    "# Register temp table for use in Spark SQL"
   ]
  },
  {
   "cell_type": "code",
   "execution_count": 3,
   "metadata": {},
   "outputs": [
    {
     "name": "stdout",
     "output_type": "stream",
     "text": [
      "2019-05-25 14:01:56,593 WARN  [Thread-4] util.Utils (Logging.scala:logWarning(66)) - Truncated the string representation of a plan since it was too large. This behavior can be adjusted by setting 'spark.debug.maxToStringFields' in SparkEnv.conf.\n"
     ]
    }
   ],
   "source": [
    "df.createOrReplaceTempView(\"df\")"
   ]
  },
  {
   "cell_type": "code",
   "execution_count": 4,
   "metadata": {},
   "outputs": [
    {
     "name": "stdout",
     "output_type": "stream",
     "text": [
      "+----+---------+---------+-----------+---------------+----------+--------+-----------+-----+---------+--------------+----------+--------------+----------+-------------------+--------+-----------+----------+----+----+------------------+------------------+--------+----------+-----+-----------+----------------+--------------+----------------------+----------------------+--------+-------+---------+----------+---------+-------------------+---------+-------------+-----------+---------------+---------------+-------------+------------------+----------+-----------------------+------------+---------------+------------+------------------+--------------------------+---------------------------+-----------+----------------+----------------+---------+-------------------------+--------------+------------+-----------+-----------+-----------+-----------+-----------+------------------+------------+-------+-----------+-----------+----------+--------+----------------+------+-----------+------------+--------------------+-----------+--------------+-------+------------------------+-----------+------------------+--------------------+---------------------+--------------+--------+--------------------+------------------------+---------------------+------------------------------+---------------------+--------------+---------------+-----------+---------+---------+-------------+-------------+-------------------+--------+----------------+------------+------------------+------------------+--------------+----------------+--------------------+---------+---------------+-----------------+--------------+--------------------------+---------------+------------------------+----------------------+----------------+----------------+------------------+-------------------+---------------------+--------------------------------+----------------------------------+-----------------------------------+-------------+-------------+---------------+---------------+-------------+---------------+-------------------+-----------------+-----------------------+---------------+------------+--------------------+------------------------------------------+------------------------------+----------------------------+-------------------+--------------------+-------------------------+-----------------+---------------+-----------------+---------------------+---------------+\n",
      "|id  |member_id|loan_amnt|funded_amnt|funded_amnt_inv|term      |int_rate|installment|grade|sub_grade|emp_title     |emp_length|home_ownership|annual_inc|verification_status|issue_d |loan_status|pymnt_plan|url |desc|purpose           |title             |zip_code|addr_state|dti  |delinq_2yrs|earliest_cr_line|inq_last_6mths|mths_since_last_delinq|mths_since_last_record|open_acc|pub_rec|revol_bal|revol_util|total_acc|initial_list_status|out_prncp|out_prncp_inv|total_pymnt|total_pymnt_inv|total_rec_prncp|total_rec_int|total_rec_late_fee|recoveries|collection_recovery_fee|last_pymnt_d|last_pymnt_amnt|next_pymnt_d|last_credit_pull_d|collections_12_mths_ex_med|mths_since_last_major_derog|policy_code|application_type|annual_inc_joint|dti_joint|verification_status_joint|acc_now_delinq|tot_coll_amt|tot_cur_bal|open_acc_6m|open_act_il|open_il_12m|open_il_24m|mths_since_rcnt_il|total_bal_il|il_util|open_rv_12m|open_rv_24m|max_bal_bc|all_util|total_rev_hi_lim|inq_fi|total_cu_tl|inq_last_12m|acc_open_past_24mths|avg_cur_bal|bc_open_to_buy|bc_util|chargeoff_within_12_mths|delinq_amnt|mo_sin_old_il_acct|mo_sin_old_rev_tl_op|mo_sin_rcnt_rev_tl_op|mo_sin_rcnt_tl|mort_acc|mths_since_recent_bc|mths_since_recent_bc_dlq|mths_since_recent_inq|mths_since_recent_revol_delinq|num_accts_ever_120_pd|num_actv_bc_tl|num_actv_rev_tl|num_bc_sats|num_bc_tl|num_il_tl|num_op_rev_tl|num_rev_accts|num_rev_tl_bal_gt_0|num_sats|num_tl_120dpd_2m|num_tl_30dpd|num_tl_90g_dpd_24m|num_tl_op_past_12m|pct_tl_nvr_dlq|percent_bc_gt_75|pub_rec_bankruptcies|tax_liens|tot_hi_cred_lim|total_bal_ex_mort|total_bc_limit|total_il_high_credit_limit|revol_bal_joint|sec_app_earliest_cr_line|sec_app_inq_last_6mths|sec_app_mort_acc|sec_app_open_acc|sec_app_revol_util|sec_app_open_act_il|sec_app_num_rev_accts|sec_app_chargeoff_within_12_mths|sec_app_collections_12_mths_ex_med|sec_app_mths_since_last_major_derog|hardship_flag|hardship_type|hardship_reason|hardship_status|deferral_term|hardship_amount|hardship_start_date|hardship_end_date|payment_plan_start_date|hardship_length|hardship_dpd|hardship_loan_status|orig_projected_additional_accrued_interest|hardship_payoff_balance_amount|hardship_last_payment_amount|disbursement_method|debt_settlement_flag|debt_settlement_flag_date|settlement_status|settlement_date|settlement_amount|settlement_percentage|settlement_term|\n",
      "+----+---------+---------+-----------+---------------+----------+--------+-----------+-----+---------+--------------+----------+--------------+----------+-------------------+--------+-----------+----------+----+----+------------------+------------------+--------+----------+-----+-----------+----------------+--------------+----------------------+----------------------+--------+-------+---------+----------+---------+-------------------+---------+-------------+-----------+---------------+---------------+-------------+------------------+----------+-----------------------+------------+---------------+------------+------------------+--------------------------+---------------------------+-----------+----------------+----------------+---------+-------------------------+--------------+------------+-----------+-----------+-----------+-----------+-----------+------------------+------------+-------+-----------+-----------+----------+--------+----------------+------+-----------+------------+--------------------+-----------+--------------+-------+------------------------+-----------+------------------+--------------------+---------------------+--------------+--------+--------------------+------------------------+---------------------+------------------------------+---------------------+--------------+---------------+-----------+---------+---------+-------------+-------------+-------------------+--------+----------------+------------+------------------+------------------+--------------+----------------+--------------------+---------+---------------+-----------------+--------------+--------------------------+---------------+------------------------+----------------------+----------------+----------------+------------------+-------------------+---------------------+--------------------------------+----------------------------------+-----------------------------------+-------------+-------------+---------------+---------------+-------------+---------------+-------------------+-----------------+-----------------------+---------------+------------+--------------------+------------------------------------------+------------------------------+----------------------------+-------------------+--------------------+-------------------------+-----------------+---------------+-----------------+---------------------+---------------+\n",
      "|null|null     |2500     |2500       |2500.0         | 36 months|13.56   |84.92      |C    |C1       |Chef          |10+ years |RENT          |55000     |Not Verified       |Dec-2018|Current    |n         |null|null|debt_consolidation|Debt consolidation|109xx   |NY        |18.24|0          |Apr-2001        |1             |null                  |45                    |9       |1      |4341     |10.3      |34       |w                  |2386.02  |2386.02      |167.02     |167.02         |113.98         |53.04        |0.0               |0.0       |0.0                    |Feb-2019    |84.92          |Mar-2019    |Feb-2019          |0                         |null                       |1          |Individual      |null            |null     |null                     |0             |0           |16901      |2          |2          |1          |2          |2                 |12560       |69     |2          |7          |2137      |28      |42000           |1     |11         |2           |9                   |1878       |34360         |5.9    |0.0                     |0          |140.0             |212                 |1                    |1             |0       |1                   |null                    |2                    |null                          |0                    |2             |5              |3          |3        |16       |7            |18           |5                  |9       |0               |0           |0                 |3                 |100.0         |0.0             |1                   |0        |60124          |16901            |36500         |18124                     |null           |null                    |null                  |null            |null            |null              |null               |null                 |null                            |null                              |null                               |N            |null         |null           |null           |null         |null           |null               |null             |null                   |null           |null        |null                |null                                      |null                          |null                        |Cash               |N                   |null                     |null             |null           |null             |null                 |null           |\n",
      "|null|null     |30000    |30000      |30000.0        | 60 months|18.94   |777.23     |D    |D2       |Postmaster    |10+ years |MORTGAGE      |90000     |Source Verified    |Dec-2018|Current    |n         |null|null|debt_consolidation|Debt consolidation|713xx   |LA        |26.52|0          |Jun-1987        |0             |71                    |75                    |13      |1      |12315    |24.2      |44       |w                  |29387.75 |29387.75     |1507.11    |1507.11        |612.25         |894.86       |0.0               |0.0       |0.0                    |Feb-2019    |777.23         |Mar-2019    |Feb-2019          |0                         |null                       |1          |Individual      |null            |null     |null                     |0             |1208        |321915     |4          |4          |2          |3          |3                 |87153       |88     |4          |5          |998       |57      |50800           |2     |15         |2           |10                  |24763      |13761         |8.3    |0.0                     |0          |163.0             |378                 |4                    |3             |3       |4                   |null                    |4                    |null                          |0                    |2             |4              |4          |9        |27       |8            |14           |4                  |13      |0               |0           |0                 |6                 |95.0          |0.0             |1                   |0        |372872         |99468            |15000         |94072                     |null           |null                    |null                  |null            |null            |null              |null               |null                 |null                            |null                              |null                               |N            |null         |null           |null           |null         |null           |null               |null             |null                   |null           |null        |null                |null                                      |null                          |null                        |Cash               |N                   |null                     |null             |null           |null             |null                 |null           |\n",
      "|null|null     |5000     |5000       |5000.0         | 36 months|17.97   |180.69     |D    |D1       |Administrative|6 years   |MORTGAGE      |59280     |Source Verified    |Dec-2018|Current    |n         |null|null|debt_consolidation|Debt consolidation|490xx   |MI        |10.51|0          |Apr-2011        |0             |null                  |null                  |8       |0      |4599     |19.1      |13       |w                  |4787.21  |4787.21      |353.89     |353.89         |212.79         |141.10       |0.0               |0.0       |0.0                    |Feb-2019    |180.69         |Mar-2019    |Feb-2019          |0                         |null                       |1          |Individual      |null            |null     |null                     |0             |0           |110299     |0          |1          |0          |2          |14                |7150        |72     |0          |2          |0         |35      |24100           |1     |5          |0           |4                   |18383      |13800         |0      |0.0                     |0          |87.0              |92                  |15                   |14            |2       |77                  |null                    |14                   |null                          |0                    |0             |3              |3          |3        |4        |6            |7            |3                  |8       |0               |0           |0                 |0                 |100.0         |0.0             |0                   |0        |136927         |11749            |13800         |10000                     |null           |null                    |null                  |null            |null            |null              |null               |null                 |null                            |null                              |null                               |N            |null         |null           |null           |null         |null           |null               |null             |null                   |null           |null        |null                |null                                      |null                          |null                        |Cash               |N                   |null                     |null             |null           |null             |null                 |null           |\n"
     ]
    },
    {
     "name": "stdout",
     "output_type": "stream",
     "text": [
      "|null|null     |4000     |4000       |4000.0         | 36 months|18.94   |146.51     |D    |D2       |IT Supervisor |10+ years |MORTGAGE      |92000     |Source Verified    |Dec-2018|Current    |n         |null|null|debt_consolidation|Debt consolidation|985xx   |WA        |16.74|0          |Feb-2006        |0             |null                  |null                  |10      |0      |5468     |78.1      |13       |w                  |3831.93  |3831.93      |286.71     |286.71         |168.07         |118.64       |0.0               |0.0       |0.0                    |Feb-2019    |146.51         |Mar-2019    |Feb-2019          |0                         |null                       |1          |Individual      |null            |null     |null                     |0             |686         |305049     |1          |5          |3          |5          |5                 |30683       |68     |0          |0          |3761      |70      |7000            |2     |4          |3           |5                   |30505      |1239          |75.2   |0.0                     |0          |62.0              |154                 |64                   |5             |3       |64                  |null                    |5                    |null                          |0                    |1             |2              |1          |2        |7        |2            |3            |2                  |10      |0               |0           |0                 |3                 |100.0         |100.0           |0                   |0        |385183         |36151            |5000          |44984                     |null           |null                    |null                  |null            |null            |null              |null               |null                 |null                            |null                              |null                               |N            |null         |null           |null           |null         |null           |null               |null             |null                   |null           |null        |null                |null                                      |null                          |null                        |Cash               |N                   |null                     |null             |null           |null             |null                 |null           |\n",
      "|null|null     |30000    |30000      |30000.0        | 60 months|16.14   |731.78     |C    |C4       |Mechanic      |10+ years |MORTGAGE      |57250     |Not Verified       |Dec-2018|Current    |n         |null|null|debt_consolidation|Debt consolidation|212xx   |MD        |26.35|0          |Dec-2000        |0             |null                  |null                  |12      |0      |829      |3.6       |26       |w                  |29339.02 |29339.02     |1423.21    |1423.21        |660.98         |762.23       |0.0               |0.0       |0.0                    |Feb-2019    |731.78         |Mar-2019    |Feb-2019          |0                         |null                       |1          |Individual      |null            |null     |null                     |0             |0           |116007     |3          |5          |3          |5          |4                 |28845       |89     |2          |4          |516       |54      |23100           |1     |0          |0           |9                   |9667       |8471          |8.9    |0.0                     |0          |53.0              |216                 |2                    |2             |2       |2                   |null                    |13                   |null                          |0                    |2             |2              |3          |8        |9        |6            |15           |2                  |12      |0               |0           |0                 |5                 |92.3          |0.0             |0                   |0        |157548         |29674            |9300          |32332                     |null           |null                    |null                  |null            |null            |null              |null               |null                 |null                            |null                              |null                               |N            |null         |null           |null           |null         |null           |null               |null             |null                   |null           |null        |null                |null                                      |null                          |null                        |Cash               |N                   |null                     |null             |null           |null             |null                 |null           |\n",
      "+----+---------+---------+-----------+---------------+----------+--------+-----------+-----+---------+--------------+----------+--------------+----------+-------------------+--------+-----------+----------+----+----+------------------+------------------+--------+----------+-----+-----------+----------------+--------------+----------------------+----------------------+--------+-------+---------+----------+---------+-------------------+---------+-------------+-----------+---------------+---------------+-------------+------------------+----------+-----------------------+------------+---------------+------------+------------------+--------------------------+---------------------------+-----------+----------------+----------------+---------+-------------------------+--------------+------------+-----------+-----------+-----------+-----------+-----------+------------------+------------+-------+-----------+-----------+----------+--------+----------------+------+-----------+------------+--------------------+-----------+--------------+-------+------------------------+-----------+------------------+--------------------+---------------------+--------------+--------+--------------------+------------------------+---------------------+------------------------------+---------------------+--------------+---------------+-----------+---------+---------+-------------+-------------+-------------------+--------+----------------+------------+------------------+------------------+--------------+----------------+--------------------+---------+---------------+-----------------+--------------+--------------------------+---------------+------------------------+----------------------+----------------+----------------+------------------+-------------------+---------------------+--------------------------------+----------------------------------+-----------------------------------+-------------+-------------+---------------+---------------+-------------+---------------+-------------------+-----------------+-----------------------+---------------+------------+--------------------+------------------------------------------+------------------------------+----------------------------+-------------------+--------------------+-------------------------+-----------------+---------------+-----------------+---------------------+---------------+\n",
      "only showing top 5 rows\n",
      "\n"
     ]
    }
   ],
   "source": [
    "spark.sql(\"select * from df\").show(5,false)"
   ]
  },
  {
   "cell_type": "markdown",
   "metadata": {},
   "source": [
    "# Drop fields with population rate lower than 90%"
   ]
  },
  {
   "cell_type": "code",
   "execution_count": 5,
   "metadata": {},
   "outputs": [
    {
     "data": {
      "text/plain": [
       "selectColumns: Array[String] = Array(id, member_id, loan_amnt, funded_amnt, funded_amnt_inv, term, int_rate, installment, grade, sub_grade, emp_title, emp_length, home_ownership, annual_inc, verification_status, issue_d, loan_status, pymnt_plan, url, desc, purpose, title, zip_code, addr_state, dti, delinq_2yrs, earliest_cr_line, inq_last_6mths, mths_since_last_delinq, mths_since_last_record, open_acc, pub_rec, revol_bal, revol_util, total_acc, initial_list_status, out_prncp, out_prncp_inv, total_pymnt, total_pymnt_inv, total_rec_prncp, total_rec_int, total_rec_late_fee, recoveries, collection_recovery_fee, last_pymnt_d, last_pymnt_amnt, next_pymnt_d, last_credit_pull_d, collections_12_mths_ex_med, mths_since_last_major_derog, policy_code, application_type, annual_inc_joint, dti_joint, v..."
      ]
     },
     "execution_count": 5,
     "metadata": {},
     "output_type": "execute_result"
    }
   ],
   "source": [
    "// get all columns\n",
    "val selectColumns = df.columns.toArray"
   ]
  },
  {
   "cell_type": "code",
   "execution_count": 6,
   "metadata": {},
   "outputs": [
    {
     "data": {
      "text/plain": [
       "fileCount: Long = 2260668\n"
      ]
     },
     "execution_count": 6,
     "metadata": {},
     "output_type": "execute_result"
    }
   ],
   "source": [
    "// Whole file count\n",
    "val fileCount = df.count"
   ]
  },
  {
   "cell_type": "code",
   "execution_count": 7,
   "metadata": {},
   "outputs": [
    {
     "data": {
      "text/plain": [
       "sparseThreshold: Double = 0.9\n"
      ]
     },
     "execution_count": 7,
     "metadata": {},
     "output_type": "execute_result"
    }
   ],
   "source": [
    "// Threshold\n",
    "val sparseThreshold = 0.9"
   ]
  },
  {
   "cell_type": "code",
   "execution_count": 8,
   "metadata": {},
   "outputs": [
    {
     "name": "stdout",
     "output_type": "stream",
     "text": [
      "loan_amnt: 2260668.0: 1.0\n",
      "funded_amnt: 2260668.0: 1.0\n",
      "funded_amnt_inv: 2260668.0: 1.0\n",
      "term: 2260668.0: 1.0\n",
      "int_rate: 2260668.0: 1.0\n",
      "installment: 2260668.0: 1.0\n",
      "grade: 2260668.0: 1.0\n",
      "sub_grade: 2260668.0: 1.0\n",
      "emp_title: 2093737.0: 0.9261585513662334\n",
      "emp_length: 2260668.0: 1.0\n",
      "home_ownership: 2260668.0: 1.0\n",
      "annual_inc: 2260664.0: 0.999998230611483\n",
      "verification_status: 2260668.0: 1.0\n",
      "issue_d: 2260668.0: 1.0\n",
      "loan_status: 2260668.0: 1.0\n",
      "pymnt_plan: 2260668.0: 1.0\n",
      "purpose: 2260667.0: 0.9999995576528707\n",
      "title: 2237345.0: 0.9896831379043717\n",
      "zip_code: 2260666.0: 0.9999991153057415\n",
      "addr_state: 2260667.0: 0.9999995576528707\n",
      "dti: 2258956.0: 0.9992427017147144\n",
      "delinq_2yrs: 2260638.0: 0.9999867295861223\n",
      "earliest_cr_line: 2260638.0: 0.9999867295861223\n",
      "inq_last_6mths: 2260637.0: 0.9999862872389931\n",
      "open_acc: 2260558.0: 0.9999513418157819\n",
      "pub_rec: 2260576.0: 0.9999593040641085\n",
      "revol_bal: 2260614.0: 0.9999761132550202\n",
      "revol_util: 2258834.0: 0.9991887353649452\n",
      "total_acc: 2260618.0: 0.9999778826435373\n",
      "initial_list_status: 2260651.0: 0.9999924800988027\n",
      "out_prncp: 2260651.0: 0.9999924800988027\n",
      "out_prncp_inv: 2260647.0: 0.9999907107102857\n",
      "total_pymnt: 2260655.0: 0.9999942494873196\n",
      "total_pymnt_inv: 2260657.0: 0.9999951341815781\n",
      "total_rec_prncp: 2260659.0: 0.9999960188758367\n",
      "total_rec_int: 2260665.0: 0.9999986729586122\n",
      "total_rec_late_fee: 2260665.0: 0.9999986729586122\n",
      "recoveries: 2260666.0: 0.9999991153057415\n",
      "collection_recovery_fee: 2260662.0: 0.9999973459172244\n",
      "last_pymnt_d: 2258235.0: 0.9989237694345211\n",
      "last_pymnt_amnt: 2260665.0: 0.9999986729586122\n",
      "last_credit_pull_d: 2260542.0: 0.9999442642617138\n",
      "collections_12_mths_ex_med: 2260480.0: 0.9999168387396999\n",
      "policy_code: 2260588.0: 0.9999646122296596\n",
      "application_type: 2260607.0: 0.9999730168251154\n",
      "acc_now_delinq: 2260477.0: 0.9999155116983122\n",
      "tot_coll_amt: 2190522.0: 0.9689711182712366\n",
      "tot_cur_bal: 2190491.0: 0.9689574055102297\n",
      "total_rev_hi_lim: 2190395.0: 0.9689149401858211\n",
      "acc_open_past_24mths: 2210641.0: 0.9778707001647301\n",
      "avg_cur_bal: 2190325.0: 0.9688839758867733\n",
      "bc_open_to_buy: 2185735.0: 0.9668536025634901\n",
      "bc_util: 2184598.0: 0.9663506538775265\n",
      "chargeoff_within_12_mths: 2260269.0: 0.999823503495427\n",
      "delinq_amnt: 2260443.0: 0.9999004718959175\n",
      "mo_sin_old_il_acct: 2121698.0: 0.9385270194473492\n",
      "mo_sin_old_rev_tl_op: 2190476.0: 0.9689507703032909\n",
      "mo_sin_rcnt_rev_tl_op: 2190452.0: 0.9689401539721888\n",
      "mo_sin_rcnt_tl: 2190430.0: 0.9689304223353451\n",
      "mort_acc: 2210663.0: 0.9778804318015737\n",
      "mths_since_recent_bc: 2187276.0: 0.967535259489673\n",
      "num_accts_ever_120_pd: 2190404.0: 0.9689189213099845\n",
      "num_actv_bc_tl: 2190401.0: 0.9689175942685967\n",
      "num_actv_rev_tl: 2190394.0: 0.9689144978386919\n",
      "num_bc_sats: 2202080.0: 0.9740837663911729\n",
      "num_bc_tl: 2190394.0: 0.9689144978386919\n",
      "num_il_tl: 2190399.0: 0.9689167095743382\n",
      "num_op_rev_tl: 2190399.0: 0.9689167095743382\n",
      "num_rev_accts: 2190393.0: 0.9689140554915626\n",
      "num_rev_tl_bal_gt_0: 2190394.0: 0.9689144978386919\n",
      "num_sats: 2202080.0: 0.9740837663911729\n",
      "num_tl_120dpd_2m: 2107012.0: 0.9320307095071014\n",
      "num_tl_30dpd: 2190392.0: 0.9689136131444334\n",
      "num_tl_90g_dpd_24m: 2190394.0: 0.9689144978386919\n",
      "num_tl_op_past_12m: 2190394.0: 0.9689144978386919\n",
      "pct_tl_nvr_dlq: 2190238.0: 0.968845491686528\n",
      "percent_bc_gt_75: 2185290.0: 0.9666567580909713\n",
      "pub_rec_bankruptcies: 2259064.0: 0.9992904752046741\n",
      "tax_liens: 2260363.0: 0.9998650841255771\n",
      "tot_hi_cred_lim: 2190489.0: 0.9689565208159712\n",
      "total_bal_ex_mort: 2210720.0: 0.9779056455879412\n",
      "total_bc_limit: 2210698.0: 0.9778959139510977\n",
      "total_il_high_credit_limit: 2190430.0: 0.9689304223353451\n",
      "hardship_flag: 2260419.0: 0.9998898555648154\n",
      "disbursement_method: 2260413.0: 0.9998872014820398\n",
      "debt_settlement_flag: 2260475.0: 0.9999146270040536\n"
     ]
    },
    {
     "data": {
      "text/plain": [
       "goodColumns: Array[String] = Array(loan_amnt, funded_amnt, funded_amnt_inv, term, int_rate, installment, grade, sub_grade, emp_title, emp_length, home_ownership, annual_inc, verification_status, issue_d, loan_status, pymnt_plan, purpose, title, zip_code, addr_state, dti, delinq_2yrs, earliest_cr_line, inq_last_6mths, open_acc, pub_rec, revol_bal, revol_util, total_acc, initial_list_status, out_prncp, out_prncp_inv, total_pymnt, total_pymnt_inv, total_rec_prncp, total_rec_int, total_rec_late_fee, recoveries, collection_recovery_fee, last_pymnt_d, last_pymnt_amnt, last_credit_pull_d, collections_12_mths_ex_med, policy_code, application_type, acc_now_delinq, tot_coll_amt, tot_cur_bal, total_rev_hi_lim, acc_open_past_24mths, avg_cur_bal, bc_open_to_buy, bc_util, chargeoff_within_12_mths, de..."
      ]
     },
     "execution_count": 8,
     "metadata": {},
     "output_type": "execute_result"
    }
   ],
   "source": [
    "// Get the list of good columns\n",
    "var goodColumns = Array[String]()\n",
    "for (s <- selectColumns) {\n",
    "    \n",
    "    // get the counts of not null values for give column\n",
    "    val sqlText = s\"select count(1) as cnt from df where ${s} is not null\"\n",
    "    val not_null_count = spark.sql(sqlText)\n",
    "    val not_null_int = not_null_count.select(\"cnt\").collect().map(_(0)).toList(0).toString.toDouble\n",
    "    \n",
    "    // output the columnss with population rate above threshold\n",
    "    val populationRate = not_null_int / fileCount\n",
    "    if ( populationRate >= sparseThreshold) {\n",
    "        println(s\"${s}: ${not_null_int}: ${populationRate}\")\n",
    "        goodColumns = goodColumns :+ s\n",
    "    }\n",
    "}"
   ]
  },
  {
   "cell_type": "code",
   "execution_count": 9,
   "metadata": {},
   "outputs": [
    {
     "data": {
      "text/plain": [
       "res4: Int = 86\n"
      ]
     },
     "execution_count": 9,
     "metadata": {},
     "output_type": "execute_result"
    }
   ],
   "source": [
    "// Column number reduced to 86\n",
    "goodColumns.size"
   ]
  },
  {
   "cell_type": "code",
   "execution_count": 10,
   "metadata": {},
   "outputs": [
    {
     "data": {
      "text/plain": [
       "goodColumnsStr: String = loan_amnt,funded_amnt,funded_amnt_inv,term,int_rate,installment,grade,sub_grade,emp_title,emp_length,home_ownership,annual_inc,verification_status,issue_d,loan_status,pymnt_plan,purpose,title,zip_code,addr_state,dti,delinq_2yrs,earliest_cr_line,inq_last_6mths,open_acc,pub_rec,revol_bal,revol_util,total_acc,initial_list_status,out_prncp,out_prncp_inv,total_pymnt,total_pymnt_inv,total_rec_prncp,total_rec_int,total_rec_late_fee,recoveries,collection_recovery_fee,last_pymnt_d,last_pymnt_amnt,last_credit_pull_d,collections_12_mths_ex_med,policy_code,application_type,acc_now_delinq,tot_coll_amt,tot_cur_bal,total_rev_hi_lim,acc_open_past_24mths,avg_cur_bal,bc_open_to_buy,bc_util,chargeoff_within_12_mths,delinq_amnt,mo_sin_old_il_acct,mo_sin_old_rev_tl_op,mo_sin_rcnt_re..."
      ]
     },
     "execution_count": 10,
     "metadata": {},
     "output_type": "execute_result"
    }
   ],
   "source": [
    "val goodColumnsStr = goodColumns.mkString(\",\")"
   ]
  },
  {
   "cell_type": "code",
   "execution_count": 11,
   "metadata": {},
   "outputs": [
    {
     "data": {
      "text/plain": [
       "dfGoodColumn: org.apache.spark.sql.DataFrame = [loan_amnt: int, funded_amnt: int ... 84 more fields]\n"
      ]
     },
     "execution_count": 11,
     "metadata": {},
     "output_type": "execute_result"
    }
   ],
   "source": [
    "val dfGoodColumn = spark.sql(s\"select ${goodColumnsStr} from df\")"
   ]
  },
  {
   "cell_type": "code",
   "execution_count": 12,
   "metadata": {},
   "outputs": [
    {
     "name": "stdout",
     "output_type": "stream",
     "text": [
      "root\n",
      " |-- loan_amnt: integer (nullable = true)\n",
      " |-- funded_amnt: integer (nullable = true)\n",
      " |-- funded_amnt_inv: double (nullable = true)\n",
      " |-- term: string (nullable = true)\n",
      " |-- int_rate: double (nullable = true)\n",
      " |-- installment: double (nullable = true)\n",
      " |-- grade: string (nullable = true)\n",
      " |-- sub_grade: string (nullable = true)\n",
      " |-- emp_title: string (nullable = true)\n",
      " |-- emp_length: string (nullable = true)\n",
      " |-- home_ownership: string (nullable = true)\n",
      " |-- annual_inc: string (nullable = true)\n",
      " |-- verification_status: string (nullable = true)\n",
      " |-- issue_d: string (nullable = true)\n",
      " |-- loan_status: string (nullable = true)\n",
      " |-- pymnt_plan: string (nullable = true)\n",
      " |-- purpose: string (nullable = true)\n",
      " |-- title: string (nullable = true)\n",
      " |-- zip_code: string (nullable = true)\n",
      " |-- addr_state: string (nullable = true)\n",
      " |-- dti: string (nullable = true)\n",
      " |-- delinq_2yrs: string (nullable = true)\n",
      " |-- earliest_cr_line: string (nullable = true)\n",
      " |-- inq_last_6mths: string (nullable = true)\n",
      " |-- open_acc: string (nullable = true)\n",
      " |-- pub_rec: string (nullable = true)\n",
      " |-- revol_bal: string (nullable = true)\n",
      " |-- revol_util: string (nullable = true)\n",
      " |-- total_acc: string (nullable = true)\n",
      " |-- initial_list_status: string (nullable = true)\n",
      " |-- out_prncp: string (nullable = true)\n",
      " |-- out_prncp_inv: string (nullable = true)\n",
      " |-- total_pymnt: string (nullable = true)\n",
      " |-- total_pymnt_inv: string (nullable = true)\n",
      " |-- total_rec_prncp: string (nullable = true)\n",
      " |-- total_rec_int: string (nullable = true)\n",
      " |-- total_rec_late_fee: string (nullable = true)\n",
      " |-- recoveries: string (nullable = true)\n",
      " |-- collection_recovery_fee: string (nullable = true)\n",
      " |-- last_pymnt_d: string (nullable = true)\n",
      " |-- last_pymnt_amnt: string (nullable = true)\n",
      " |-- last_credit_pull_d: string (nullable = true)\n",
      " |-- collections_12_mths_ex_med: string (nullable = true)\n",
      " |-- policy_code: string (nullable = true)\n",
      " |-- application_type: string (nullable = true)\n",
      " |-- acc_now_delinq: string (nullable = true)\n",
      " |-- tot_coll_amt: string (nullable = true)\n",
      " |-- tot_cur_bal: string (nullable = true)\n",
      " |-- total_rev_hi_lim: string (nullable = true)\n",
      " |-- acc_open_past_24mths: integer (nullable = true)\n",
      " |-- avg_cur_bal: string (nullable = true)\n",
      " |-- bc_open_to_buy: integer (nullable = true)\n",
      " |-- bc_util: string (nullable = true)\n",
      " |-- chargeoff_within_12_mths: double (nullable = true)\n",
      " |-- delinq_amnt: integer (nullable = true)\n",
      " |-- mo_sin_old_il_acct: double (nullable = true)\n",
      " |-- mo_sin_old_rev_tl_op: integer (nullable = true)\n",
      " |-- mo_sin_rcnt_rev_tl_op: integer (nullable = true)\n",
      " |-- mo_sin_rcnt_tl: integer (nullable = true)\n",
      " |-- mort_acc: integer (nullable = true)\n",
      " |-- mths_since_recent_bc: integer (nullable = true)\n",
      " |-- num_accts_ever_120_pd: integer (nullable = true)\n",
      " |-- num_actv_bc_tl: integer (nullable = true)\n",
      " |-- num_actv_rev_tl: integer (nullable = true)\n",
      " |-- num_bc_sats: integer (nullable = true)\n",
      " |-- num_bc_tl: integer (nullable = true)\n",
      " |-- num_il_tl: integer (nullable = true)\n",
      " |-- num_op_rev_tl: integer (nullable = true)\n",
      " |-- num_rev_accts: integer (nullable = true)\n",
      " |-- num_rev_tl_bal_gt_0: integer (nullable = true)\n",
      " |-- num_sats: integer (nullable = true)\n",
      " |-- num_tl_120dpd_2m: integer (nullable = true)\n",
      " |-- num_tl_30dpd: integer (nullable = true)\n",
      " |-- num_tl_90g_dpd_24m: integer (nullable = true)\n",
      " |-- num_tl_op_past_12m: integer (nullable = true)\n",
      " |-- pct_tl_nvr_dlq: double (nullable = true)\n",
      " |-- percent_bc_gt_75: double (nullable = true)\n",
      " |-- pub_rec_bankruptcies: integer (nullable = true)\n",
      " |-- tax_liens: integer (nullable = true)\n",
      " |-- tot_hi_cred_lim: integer (nullable = true)\n",
      " |-- total_bal_ex_mort: integer (nullable = true)\n",
      " |-- total_bc_limit: integer (nullable = true)\n",
      " |-- total_il_high_credit_limit: integer (nullable = true)\n",
      " |-- hardship_flag: string (nullable = true)\n",
      " |-- disbursement_method: string (nullable = true)\n",
      " |-- debt_settlement_flag: string (nullable = true)\n",
      "\n"
     ]
    }
   ],
   "source": [
    "dfGoodColumn.printSchema"
   ]
  },
  {
   "cell_type": "code",
   "execution_count": 13,
   "metadata": {},
   "outputs": [],
   "source": [
    "dfGoodColumn.createOrReplaceTempView(\"dfGoodColumn\")"
   ]
  },
  {
   "cell_type": "markdown",
   "metadata": {},
   "source": [
    "# Retain only 2017 data"
   ]
  },
  {
   "cell_type": "code",
   "execution_count": 14,
   "metadata": {},
   "outputs": [
    {
     "data": {
      "text/plain": [
       "df_2017: org.apache.spark.sql.DataFrame = [loan_amnt: int, funded_amnt: int ... 84 more fields]\n"
      ]
     },
     "execution_count": 14,
     "metadata": {},
     "output_type": "execute_result"
    }
   ],
   "source": [
    "val df_2017 = spark.sql(\"select * from dfGoodColumn where issue_d like '%2017'\")"
   ]
  },
  {
   "cell_type": "code",
   "execution_count": 15,
   "metadata": {},
   "outputs": [
    {
     "data": {
      "text/plain": [
       "res7: Long = 443579\n"
      ]
     },
     "execution_count": 15,
     "metadata": {},
     "output_type": "execute_result"
    }
   ],
   "source": [
    "// Reduced count to 443579\n",
    "df_2017.count"
   ]
  },
  {
   "cell_type": "code",
   "execution_count": 16,
   "metadata": {},
   "outputs": [
    {
     "name": "stdout",
     "output_type": "stream",
     "text": [
      "+--------+\n",
      "|issue_d |\n",
      "+--------+\n",
      "|Sep-2017|\n",
      "|Jun-2017|\n",
      "|Nov-2017|\n",
      "|Feb-2017|\n",
      "|Dec-2017|\n",
      "|Aug-2017|\n",
      "|May-2017|\n",
      "|Jul-2017|\n",
      "|Jan-2017|\n",
      "|Oct-2017|\n",
      "|Mar-2017|\n",
      "|Apr-2017|\n",
      "+--------+\n",
      "\n"
     ]
    }
   ],
   "source": [
    "// Verify all records from 2017\n",
    "df_2017.select(\"issue_d\").distinct.show(false)"
   ]
  },
  {
   "cell_type": "code",
   "execution_count": 17,
   "metadata": {},
   "outputs": [
    {
     "ename": "org.apache.spark.sql.AnalysisException",
     "evalue": " path file:/home/LCLoan_2017.csv already exists.;",
     "output_type": "error",
     "traceback": [
      "org.apache.spark.sql.AnalysisException: path file:/home/LCLoan_2017.csv already exists.;",
      "  at org.apache.spark.sql.execution.datasources.InsertIntoHadoopFsRelationCommand.run(InsertIntoHadoopFsRelationCommand.scala:114)",
      "  at org.apache.spark.sql.execution.command.DataWritingCommandExec.sideEffectResult$lzycompute(commands.scala:104)",
      "  at org.apache.spark.sql.execution.command.DataWritingCommandExec.sideEffectResult(commands.scala:102)",
      "  at org.apache.spark.sql.execution.command.DataWritingCommandExec.doExecute(commands.scala:122)",
      "  at org.apache.spark.sql.execution.SparkPlan$$anonfun$execute$1.apply(SparkPlan.scala:131)",
      "  at org.apache.spark.sql.execution.SparkPlan$$anonfun$execute$1.apply(SparkPlan.scala:127)",
      "  at org.apache.spark.sql.execution.SparkPlan$$anonfun$executeQuery$1.apply(SparkPlan.scala:155)",
      "  at org.apache.spark.rdd.RDDOperationScope$.withScope(RDDOperationScope.scala:151)",
      "  at org.apache.spark.sql.execution.SparkPlan.executeQuery(SparkPlan.scala:152)",
      "  at org.apache.spark.sql.execution.SparkPlan.execute(SparkPlan.scala:127)",
      "  at org.apache.spark.sql.execution.QueryExecution.toRdd$lzycompute(QueryExecution.scala:80)",
      "  at org.apache.spark.sql.execution.QueryExecution.toRdd(QueryExecution.scala:80)",
      "  at org.apache.spark.sql.DataFrameWriter$$anonfun$runCommand$1.apply(DataFrameWriter.scala:676)",
      "  at org.apache.spark.sql.DataFrameWriter$$anonfun$runCommand$1.apply(DataFrameWriter.scala:676)",
      "  at org.apache.spark.sql.execution.SQLExecution$$anonfun$withNewExecutionId$1.apply(SQLExecution.scala:78)",
      "  at org.apache.spark.sql.execution.SQLExecution$.withSQLConfPropagated(SQLExecution.scala:125)",
      "  at org.apache.spark.sql.execution.SQLExecution$.withNewExecutionId(SQLExecution.scala:73)",
      "  at org.apache.spark.sql.DataFrameWriter.runCommand(DataFrameWriter.scala:676)",
      "  at org.apache.spark.sql.DataFrameWriter.saveToV1Source(DataFrameWriter.scala:285)",
      "  at org.apache.spark.sql.DataFrameWriter.save(DataFrameWriter.scala:271)",
      "  at org.apache.spark.sql.DataFrameWriter.save(DataFrameWriter.scala:229)",
      "  at org.apache.spark.sql.DataFrameWriter.csv(DataFrameWriter.scala:664)",
      "  ... 36 elided",
      ""
     ]
    }
   ],
   "source": [
    "df_2017.repartition(1).write.csv(\"LCLoan_2017.csv\")"
   ]
  },
  {
   "cell_type": "markdown",
   "metadata": {},
   "source": [
    "# Sampling down to ~20,000 rows\n",
    "This is to ensure that we can run further analysis in a timely manner."
   ]
  },
  {
   "cell_type": "code",
   "execution_count": 22,
   "metadata": {},
   "outputs": [
    {
     "data": {
      "text/plain": [
       "df_2017_20k: org.apache.spark.sql.Dataset[org.apache.spark.sql.Row] = [loan_amnt: int, funded_amnt: int ... 84 more fields]\n",
       "res14: Long = 20070\n"
      ]
     },
     "execution_count": 22,
     "metadata": {},
     "output_type": "execute_result"
    }
   ],
   "source": [
    "//created a subset of our large dataset\n",
    "//at 4.5% of the 2017 data, this should result in about 20,000 rows \n",
    "//the random seed here is 5202L, this is to ensre we can repeat this an get the same 20,000 row sample\n",
    "\n",
    "var df_2017_20k = df_2017.sample(false, 0.045, 5202L)\n",
    "\n",
    "\n",
    "\n",
    "//display the size of our final sampled set, and a summary of our target variable, \n",
    "\n",
    "df_2017_20k.count"
   ]
  },
  {
   "cell_type": "code",
   "execution_count": 23,
   "metadata": {},
   "outputs": [
    {
     "name": "stdout",
     "output_type": "stream",
     "text": [
      "+------------------+-----+\n",
      "|       loan_status|count|\n",
      "+------------------+-----+\n",
      "|        Fully Paid| 5446|\n",
      "|           Default|    1|\n",
      "|   In Grace Period|  136|\n",
      "|       Charged Off| 1660|\n",
      "|Late (31-120 days)|  367|\n",
      "|           Current|12402|\n",
      "| Late (16-30 days)|   58|\n",
      "+------------------+-----+\n",
      "\n"
     ]
    }
   ],
   "source": [
    "//and ensure that none of the counts are too out-of-line with the large dataset\n",
    "df_2017_20k.groupBy(\"loan_status\").count().show()"
   ]
  },
  {
   "cell_type": "code",
   "execution_count": 25,
   "metadata": {},
   "outputs": [],
   "source": [
    "//Write a Folder that contains a new csv file. (it will be called part-0000-...)\n",
    "\n",
    "df_2017_20k.coalesce(1).write.format(\"com.databricks.spark.csv\").option(\"header\", \"true\").save(\"SubsetLCLoan_2017_20k\")"
   ]
  },
  {
   "cell_type": "markdown",
   "metadata": {},
   "source": [
    "I have added the resultant csv file ot github, please use this file for your edas on each column"
   ]
  },
  {
   "cell_type": "markdown",
   "metadata": {},
   "source": [
    "#### Please ignore below"
   ]
  },
  {
   "cell_type": "markdown",
   "metadata": {},
   "source": [
    "#### Some random checks"
   ]
  },
  {
   "cell_type": "code",
   "execution_count": null,
   "metadata": {},
   "outputs": [],
   "source": [
    "spark.sql(\"select debt_settlement_flag,count(1) from dfGoodColumn group by debt_settlement_flag order by 2 desc\").show(false)"
   ]
  },
  {
   "cell_type": "code",
   "execution_count": null,
   "metadata": {},
   "outputs": [],
   "source": [
    "spark.sql(\"select loan_status,count(1) from dfGoodColumn group by loan_status order by 2 desc\").show(false)"
   ]
  },
  {
   "cell_type": "markdown",
   "metadata": {},
   "source": [
    "#### Testing Robert's sampling method"
   ]
  },
  {
   "cell_type": "code",
   "execution_count": null,
   "metadata": {},
   "outputs": [],
   "source": [
    "val fractions = Map(\"Default\" -> 1.0)"
   ]
  },
  {
   "cell_type": "code",
   "execution_count": null,
   "metadata": {},
   "outputs": [],
   "source": [
    "val subsetDF_default = dfGoodColumn.stat.sampleBy(\"loan_status\", fractions, 36L)"
   ]
  },
  {
   "cell_type": "code",
   "execution_count": null,
   "metadata": {},
   "outputs": [],
   "source": [
    "subsetDF_default.createOrReplaceTempView(\"subsetDF_default\")"
   ]
  },
  {
   "cell_type": "code",
   "execution_count": null,
   "metadata": {},
   "outputs": [],
   "source": [
    "spark.sql(\"select loan_status,count(1) from subsetDF_default group by loan_status order by 2 desc\").show(false)"
   ]
  },
  {
   "cell_type": "markdown",
   "metadata": {},
   "source": [
    "It seems we need to specify all values in column load_status, other wise they will be treated as 0\n",
    "\n",
    "more here\n",
    "\n",
    "https://spark.apache.org/docs/1.6.0/api/java/org/apache/spark/sql/DataFrameStatFunctions.html#sampleBy(java.lang.String,%20java.util.Map,%20long)"
   ]
  },
  {
   "cell_type": "markdown",
   "metadata": {},
   "source": [
    "#### Checking where is all defaults coming from"
   ]
  },
  {
   "cell_type": "code",
   "execution_count": null,
   "metadata": {},
   "outputs": [],
   "source": [
    "spark.sql(\"select issue_d,count(1) from dfGoodColumn where loan_status = 'Default' group by issue_d order by 2 desc\").show(false)"
   ]
  }
    {
   "cell_type": "markdown",
   "metadata": {},
   "source": [
    "# Table of Content\n",
    "\n",
    "* [#Read-20k-file](#Read-20k-file)\n",
    "* [#EDA](#EDA)\n",
    "* [#Correlation-Test](#Correlation-Test)"
   ]
  },
  {
   "cell_type": "markdown",
   "metadata": {},
   "source": [
    "# Read 20k file"
   ]
  },
  {
   "cell_type": "code",
   "execution_count": 1,
   "metadata": {},
   "outputs": [
    {
     "data": {
      "text/plain": [
       "Intitializing Scala interpreter ..."
      ]
     },
     "metadata": {},
     "output_type": "display_data"
    },
    {
     "data": {
      "text/plain": [
       "Spark Web UI available at http://317401b136c7:4041\n",
       "SparkContext available as 'sc' (version = 2.4.3, master = local[*], app id = local-1558885296447)\n",
       "SparkSession available as 'spark'\n"
      ]
     },
     "metadata": {},
     "output_type": "display_data"
    },
    {
     "name": "stdout",
     "output_type": "stream",
     "text": [
      "2019-05-26 15:41:34,789 WARN  [main] util.NativeCodeLoader (NativeCodeLoader.java:<clinit>(62)) - Unable to load native-hadoop library for your platform... using builtin-java classes where applicable\n",
      "2019-05-26 15:41:36,234 WARN  [Thread-4] util.Utils (Logging.scala:logWarning(66)) - Service 'SparkUI' could not bind on port 4040. Attempting port 4041.\n"
     ]
    },
    {
     "data": {
      "text/plain": [
       "df: org.apache.spark.sql.DataFrame = [loan_amnt: int, funded_amnt: int ... 84 more fields]\n"
      ]
     },
     "execution_count": 1,
     "metadata": {},
     "output_type": "execute_result"
    }
   ],
   "source": [
    "var df = spark.read.format(\"csv\")\n",
    "  .option(\"inferSchema\", \"true\")\n",
    "  .option(\"header\", \"true\")\n",
    "  .load(\"Loan_2017_20k.csv\")"
   ]
  },
  {
   "cell_type": "code",
   "execution_count": 2,
   "metadata": {},
   "outputs": [
    {
     "name": "stdout",
     "output_type": "stream",
     "text": [
      "2019-05-26 15:41:57,831 WARN  [Thread-4] util.Utils (Logging.scala:logWarning(66)) - Truncated the string representation of a plan since it was too large. This behavior can be adjusted by setting 'spark.debug.maxToStringFields' in SparkEnv.conf.\n"
     ]
    },
    {
     "data": {
      "text/plain": [
       "res0: Long = 20070\n"
      ]
     },
     "execution_count": 2,
     "metadata": {},
     "output_type": "execute_result"
    }
   ],
   "source": [
    "// cache in memory to speed up\n",
    "df.cache\n",
    "df.count"
   ]
  },
  {
   "cell_type": "code",
   "execution_count": 3,
   "metadata": {},
   "outputs": [],
   "source": [
    "df.createOrReplaceTempView(\"df\")"
   ]
  },
  {
   "cell_type": "markdown",
   "metadata": {},
   "source": [
    "# EDA\n",
    "* [#Update-Loan-Status](#Update-Loan-Status)\n",
    "* [#Fill-NA](#Fill-NA)\n",
    "* [#Check-for-String-type-column](#Check-for-String-type-column)\n",
    "* [#Check-for-Integer-type-column](#Check-for-Integer-type-column)\n",
    "* [#Check-for-Double-type-column](#Check-for-Double-type-column)"
   ]
  },
  {
   "cell_type": "markdown",
   "metadata": {},
   "source": [
    "## Update Loan Status\n",
    "\n",
    "Merge the loan status to \n",
    "- 0: indicates for good loan\n",
    "- 1: indicates for bad loan"
   ]
  },
  {
   "cell_type": "code",
   "execution_count": 4,
   "metadata": {},
   "outputs": [
    {
     "name": "stdout",
     "output_type": "stream",
     "text": [
      "+------------------+-----+\n",
      "|       loan_status|count|\n",
      "+------------------+-----+\n",
      "|        Fully Paid| 5446|\n",
      "|           Default|    1|\n",
      "|   In Grace Period|  136|\n",
      "|       Charged Off| 1660|\n",
      "|Late (31-120 days)|  367|\n",
      "|           Current|12402|\n",
      "| Late (16-30 days)|   58|\n",
      "+------------------+-----+\n",
      "\n"
     ]
    }
   ],
   "source": [
    "df.groupBy(\"loan_status\").count().show()"
   ]
  },
  {
   "cell_type": "code",
   "execution_count": 5,
   "metadata": {},
   "outputs": [],
   "source": [
    "df.createOrReplaceTempView(\"df\")"
   ]
  },
  {
   "cell_type": "code",
   "execution_count": 6,
   "metadata": {},
   "outputs": [
    {
     "data": {
      "text/plain": [
       "newDF: org.apache.spark.sql.DataFrame = [loan_amnt: int, funded_amnt: int ... 85 more fields]\n"
      ]
     },
     "execution_count": 6,
     "metadata": {},
     "output_type": "execute_result"
    }
   ],
   "source": [
    "val newDF = spark.sql(\"\"\"\n",
    "    select a.*,\n",
    "    case when loan_status in ('Fully Paid', 'In Grace Period', 'Current') then 1 else 0 end as new_loan_status\n",
    "    from df a\n",
    "\"\"\")"
   ]
  },
  {
   "cell_type": "code",
   "execution_count": 7,
   "metadata": {},
   "outputs": [
    {
     "data": {
      "text/plain": [
       "df: org.apache.spark.sql.DataFrame = [loan_amnt: int, funded_amnt: int ... 84 more fields]\n"
      ]
     },
     "execution_count": 7,
     "metadata": {},
     "output_type": "execute_result"
    }
   ],
   "source": [
    "df = newDF.drop(\"loan_status\").withColumnRenamed(\"new_loan_status\",\"loan_status\")"
   ]
  },
  {
   "cell_type": "code",
   "execution_count": 8,
   "metadata": {},
   "outputs": [
    {
     "name": "stdout",
     "output_type": "stream",
     "text": [
      "+-----------+-----+\n",
      "|loan_status|count|\n",
      "+-----------+-----+\n",
      "|          1|17984|\n",
      "|          0| 2086|\n",
      "+-----------+-----+\n",
      "\n"
     ]
    }
   ],
   "source": [
    "df.groupBy(\"loan_status\").count().show()"
   ]
  },
  {
   "cell_type": "markdown",
   "metadata": {},
   "source": [
    "## Fill NA\n",
    "* for Integer -> 0\n",
    "* for String -> \"\"\n",
    "* for Double -> 0.0"
   ]
  },
  {
   "cell_type": "code",
   "execution_count": 9,
   "metadata": {},
   "outputs": [
    {
     "data": {
      "text/plain": [
       "typeMap: scala.collection.immutable.Map[String,Any] = Map(emp_title -> \"\", tot_coll_amt -> 0, zip_code -> \"\", home_ownership -> \"\", num_bc_sats -> 0, total_pymnt -> 0.0, pct_tl_nvr_dlq -> 0.0, avg_cur_bal -> 0, sub_grade -> \"\", chargeoff_within_12_mths -> 0.0, pymnt_plan -> \"\", collection_recovery_fee -> 0.0, inq_last_6mths -> 0, tot_hi_cred_lim -> 0, total_il_high_credit_limit -> 0, last_credit_pull_d -> \"\", recoveries -> 0.0, total_rec_late_fee -> 0.0, mo_sin_rcnt_tl -> 0, emp_length -> \"\", policy_code -> 0, num_actv_rev_tl -> 0, mo_sin_old_il_acct -> 0.0, mo_sin_rcnt_rev_tl_op -> 0, verification_status -> \"\", revol_bal -> 0, num_actv_bc_tl -> 0, num_tl_90g_dpd_24m -> 0, num_tl_op_past_12m -> 0, num_sats -> 0, term -> \"\", mort_acc -> 0, percent_bc_gt_75 -> 0.0, bc_open_to_buy -> 0, la..."
      ]
     },
     "execution_count": 9,
     "metadata": {},
     "output_type": "execute_result"
    }
   ],
   "source": [
    "// Generate a map for each field and it's filled value if na\n",
    "val typeMap = df.dtypes.map(column => \n",
    "    column._2 match {\n",
    "        case \"IntegerType\" => (column._1 -> 0)\n",
    "        case \"StringType\" => (column._1 -> \"\")\n",
    "        case \"DoubleType\" => (column._1 -> 0.0)\n",
    "    }).toMap"
   ]
  },
  {
   "cell_type": "code",
   "execution_count": 10,
   "metadata": {},
   "outputs": [
    {
     "data": {
      "text/plain": [
       "df: org.apache.spark.sql.DataFrame = [loan_amnt: int, funded_amnt: int ... 84 more fields]\n"
      ]
     },
     "execution_count": 10,
     "metadata": {},
     "output_type": "execute_result"
    }
   ],
   "source": [
    "df = df.na.fill(typeMap)"
   ]
  },
  {
   "cell_type": "code",
   "execution_count": 11,
   "metadata": {},
   "outputs": [
    {
     "data": {
      "text/plain": [
       "res5: Long = 20070\n"
      ]
     },
     "execution_count": 11,
     "metadata": {},
     "output_type": "execute_result"
    }
   ],
   "source": [
    "// Verify there's no NA in dataframe now\n",
    "df.na.drop.count"
   ]
  },
  {
   "cell_type": "markdown",
   "metadata": {},
   "source": [
    "## Check for String type column"
   ]
  },
  {
   "cell_type": "code",
   "execution_count": 12,
   "metadata": {},
   "outputs": [
    {
     "data": {
      "text/plain": [
       "stringColumn: Array[String] = Array(term, grade, sub_grade, emp_title, emp_length, home_ownership, verification_status, issue_d, pymnt_plan, purpose, title, zip_code, addr_state, earliest_cr_line, initial_list_status, last_pymnt_d, last_credit_pull_d, application_type, hardship_flag, disbursement_method, debt_settlement_flag)\n"
      ]
     },
     "execution_count": 12,
     "metadata": {},
     "output_type": "execute_result"
    }
   ],
   "source": [
    "val stringColumn = df.dtypes.filter(column => column._2 == \"StringType\").map(_._1)"
   ]
  },
  {
   "cell_type": "code",
   "execution_count": 13,
   "metadata": {},
   "outputs": [
    {
     "data": {
      "text/plain": [
       "stringDF: org.apache.spark.sql.DataFrame = [term_freqItems: array<string>, grade_freqItems: array<string> ... 19 more fields]\n"
      ]
     },
     "execution_count": 13,
     "metadata": {},
     "output_type": "execute_result"
    }
   ],
   "source": [
    "val stringDF = df.stat.freqItems(stringColumn)"
   ]
  },
  {
   "cell_type": "code",
   "execution_count": 14,
   "metadata": {},
   "outputs": [
    {
     "name": "stdout",
     "output_type": "stream",
     "text": [
      "+----------------------+\n",
      "|term_freqItems        |\n",
      "+----------------------+\n",
      "|[60 months, 36 months]|\n",
      "+----------------------+\n",
      "\n",
      "+---------------------+\n",
      "|grade_freqItems      |\n",
      "+---------------------+\n",
      "|[D, G, A, C, F, E, B]|\n",
      "+---------------------+\n",
      "\n",
      "+--------------------------------------------------------------------------------------------------------------------------------------------+\n",
      "|sub_grade_freqItems                                                                                                                         |\n",
      "+--------------------------------------------------------------------------------------------------------------------------------------------+\n",
      "|[C4, A3, B2, G2, G5, E4, D2, B1, F3, D5, B4, E1, A2, C3, F2, A5, G1, D4, F5, E3, G4, C2, C5, A4, D1, B3, G3, A1, F1, E5, F4, D3, C1, B5, E2]|\n",
      "+--------------------------------------------------------------------------------------------------------------------------------------------+\n",
      "\n",
      "+----------------------------------------------------------------------------------------------------------------------------------------------------------------------------------------------------------------------------------------------------------------------------------------------------+\n",
      "|emp_title_freqItems                                                                                                                                                                                                                                                                                 |\n",
      "+----------------------------------------------------------------------------------------------------------------------------------------------------------------------------------------------------------------------------------------------------------------------------------------------------+\n",
      "|[Driver, General Manager, SHIPPING MANGER, Mechanical engineer, Mechanic, Supervisor, Registered Nurse, Contracts Attorney, Teacher, Sales, Analyst, System Quality Anylist 2, Manager, AVP, Account Manager, RN, Director, Assistant Store Manager, Owner, Medicare D Advisor, Designer, , Barista]|\n",
      "+----------------------------------------------------------------------------------------------------------------------------------------------------------------------------------------------------------------------------------------------------------------------------------------------------+\n",
      "\n",
      "+----------------------------------------------------------------------------------------------------------+\n",
      "|emp_length_freqItems                                                                                      |\n",
      "+----------------------------------------------------------------------------------------------------------+\n",
      "|[1 year, 3 years, < 1 year, 6 years, 9 years, 2 years, 10+ years, 5 years, 8 years, n/a, 4 years, 7 years]|\n",
      "+----------------------------------------------------------------------------------------------------------+\n",
      "\n",
      "+--------------------------+\n",
      "|home_ownership_freqItems  |\n",
      "+--------------------------+\n",
      "|[OWN, RENT, MORTGAGE, ANY]|\n",
      "+--------------------------+\n",
      "\n",
      "+-----------------------------------------+\n",
      "|verification_status_freqItems            |\n",
      "+-----------------------------------------+\n",
      "|[Not Verified, Source Verified, Verified]|\n",
      "+-----------------------------------------+\n",
      "\n",
      "+------------------------------------------------------------------------------------------------------------------------+\n",
      "|issue_d_freqItems                                                                                                       |\n",
      "+------------------------------------------------------------------------------------------------------------------------+\n",
      "|[Apr-2017, Feb-2017, Jul-2017, Aug-2017, Jun-2017, Mar-2017, Jan-2017, Sep-2017, Oct-2017, May-2017, Dec-2017, Nov-2017]|\n",
      "+------------------------------------------------------------------------------------------------------------------------+\n",
      "\n",
      "+--------------------+\n",
      "|pymnt_plan_freqItems|\n",
      "+--------------------+\n",
      "|[n, y]              |\n",
      "+--------------------+\n",
      "\n",
      "+---------------------------------------------------------------------------------------------------------------------------------------------------+\n",
      "|purpose_freqItems                                                                                                                                  |\n",
      "+---------------------------------------------------------------------------------------------------------------------------------------------------+\n",
      "|[moving, home_improvement, renewable_energy, debt_consolidation, major_purchase, small_business, house, car, credit_card, medical, other, vacation]|\n",
      "+---------------------------------------------------------------------------------------------------------------------------------------------------+\n",
      "\n",
      "+-------------------------------------------------------------------------------------------------------------------------------------------------------------------------------------------+\n",
      "|title_freqItems                                                                                                                                                                            |\n",
      "+-------------------------------------------------------------------------------------------------------------------------------------------------------------------------------------------+\n",
      "|[Home improvement, Moving and relocation, Home buying, Debt consolidation, Medical expenses, Major purchase, Car financing, Other, Vacation, Business, Green loan, Credit card refinancing]|\n",
      "+-------------------------------------------------------------------------------------------------------------------------------------------------------------------------------------------+\n",
      "\n",
      "+---------------------------------------------------------------------------------------------------------------------------------------------------------------------------------------------------------------------------------------------------------------------------------------------------------------------------------------------------------------------------------------------------------------------------------------------------------+\n",
      "|zip_code_freqItems                                                                                                                                                                                                                                                                                                                                                                                                                                       |\n",
      "+---------------------------------------------------------------------------------------------------------------------------------------------------------------------------------------------------------------------------------------------------------------------------------------------------------------------------------------------------------------------------------------------------------------------------------------------------------+\n",
      "|[088xx, 610xx, 062xx, 339xx, 275xx, 330xx, 762xx, 935xx, 750xx, 100xx, 770xx, 894xx, 109xx, 462xx, 117xx, 594xx, 212xx, 336xx, 787xx, 272xx, 103xx, 920xx, 900xx, 148xx, 917xx, 937xx, 327xx, 802xx, 021xx, 105xx, 850xx, 606xx, 908xx, 200xx, 914xx, 421xx, 758xx, 853xx, 847xx, 386xx, 902xx, 027xx, 945xx, 300xx, 752xx, 432xx, 363xx, 973xx, 323xx, 729xx, 852xx, 113xx, 334xx, 662xx, 337xx, 293xx, 020xx, 104xx, 331xx, 112xx, 325xx, 809xx, 388xx]|\n",
      "+---------------------------------------------------------------------------------------------------------------------------------------------------------------------------------------------------------------------------------------------------------------------------------------------------------------------------------------------------------------------------------------------------------------------------------------------------------+\n",
      "\n",
      "+--------------------------------------------------------------------------------------------------------------------------------------------------------------------------------------------------------+\n",
      "|addr_state_freqItems                                                                                                                                                                                    |\n",
      "+--------------------------------------------------------------------------------------------------------------------------------------------------------------------------------------------------------+\n",
      "|[SC, MS, CO, MA, GA, AZ, TN, IN, HI, NE, MI, WV, VT, WY, NH, LA, CT, MO, WA, ID, RI, NJ, OR, AL, ND, NV, KY, NM, MT, VA, DC, NY, KS, IL, AR, ME, MN, CA, WI, UT, TX, SD, OK, FL, DE, PA, MD, OH, AK, NC]|\n",
      "+--------------------------------------------------------------------------------------------------------------------------------------------------------------------------------------------------------+\n"
     ]
    },
    {
     "name": "stdout",
     "output_type": "stream",
     "text": [
      "\n",
      "+------------------------------------------------------------------------------------------------------------------------------------------------------------------------------------------------------------------------------------------------------------------------------------------------------------------------------------------------------------------------------------------------------------------------------------------------------------------------------------------------------------------------------------------------------------+\n",
      "|earliest_cr_line_freqItems                                                                                                                                                                                                                                                                                                                                                                                                                                                                                                                                  |\n",
      "+------------------------------------------------------------------------------------------------------------------------------------------------------------------------------------------------------------------------------------------------------------------------------------------------------------------------------------------------------------------------------------------------------------------------------------------------------------------------------------------------------------------------------------------------------------+\n",
      "|[Nov-1998, Jan-1991, Sep-2007, Apr-1986, Mar-1997, Oct-2001, Aug-2006, Jul-2005, Nov-2004, May-2001, Apr-2004, Aug-1996, May-2004, Aug-1978, Oct-1994, Mar-2003, Dec-2000, Oct-1997, Dec-2003, Apr-1997, Nov-2009, Dec-2006, Oct-2000, Aug-2005, Jul-2001, Apr-2009, Oct-2003, Mar-2005, Sep-2005, Jun-2005, Jan-2011, Oct-2006, Jul-2007, Sep-2008, Nov-2006, May-2003, Apr-2003, Mar-1995, Aug-2004, Dec-2005, Oct-1996, Apr-1987, Jan-1986, Jan-2007, Apr-1996, Nov-2011, Aug-2001, Mar-2001, Sep-2001, Sep-2004, Nov-2002, Feb-1999, Jan-2004, Apr-2008]|\n",
      "+------------------------------------------------------------------------------------------------------------------------------------------------------------------------------------------------------------------------------------------------------------------------------------------------------------------------------------------------------------------------------------------------------------------------------------------------------------------------------------------------------------------------------------------------------------+\n",
      "\n",
      "+-----------------------------+\n",
      "|initial_list_status_freqItems|\n",
      "+-----------------------------+\n",
      "|[w, f]                       |\n",
      "+-----------------------------+\n",
      "\n",
      "+----------------------------------------------------------------------------------------------------------------------------------------------------------------------------------------------------------------------------------------------------------------------+\n",
      "|last_pymnt_d_freqItems                                                                                                                                                                                                                                                |\n",
      "+----------------------------------------------------------------------------------------------------------------------------------------------------------------------------------------------------------------------------------------------------------------------+\n",
      "|[Apr-2017, Feb-2017, Aug-2018, Mar-2018, Jul-2017, Jan-2018, Jun-2018, Feb-2019, Sep-2018, Dec-2018, Aug-2017, May-2018, Mar-2017, Jun-2017, Jan-2017, Sep-2017, Nov-2018, Oct-2018, Apr-2018, Feb-2018, Oct-2017, May-2017, Dec-2017, Nov-2017, Jan-2019, Jul-2018, ]|\n",
      "+----------------------------------------------------------------------------------------------------------------------------------------------------------------------------------------------------------------------------------------------------------------------+\n",
      "\n",
      "+--------------------------------------------------------------------------------------------------------------------------------------------------------------------------------------------------------------------------------------------------------------------+\n",
      "|last_credit_pull_d_freqItems                                                                                                                                                                                                                                        |\n",
      "+--------------------------------------------------------------------------------------------------------------------------------------------------------------------------------------------------------------------------------------------------------------------+\n",
      "|[Apr-2017, Feb-2017, Aug-2018, Mar-2018, Jul-2017, Jan-2018, Jun-2018, Feb-2019, Sep-2018, Dec-2018, Aug-2017, May-2018, Mar-2017, Jun-2017, Jan-2017, Sep-2017, Nov-2018, Oct-2018, Apr-2018, Feb-2018, Oct-2017, May-2017, Dec-2017, Nov-2017, Jul-2018, Jan-2019]|\n",
      "+--------------------------------------------------------------------------------------------------------------------------------------------------------------------------------------------------------------------------------------------------------------------+\n",
      "\n",
      "+--------------------------+\n",
      "|application_type_freqItems|\n",
      "+--------------------------+\n",
      "|[Individual, Joint App]   |\n",
      "+--------------------------+\n",
      "\n",
      "+-----------------------+\n",
      "|hardship_flag_freqItems|\n",
      "+-----------------------+\n",
      "|[Y, N]                 |\n",
      "+-----------------------+\n",
      "\n",
      "+-----------------------------+\n",
      "|disbursement_method_freqItems|\n",
      "+-----------------------------+\n",
      "|[Cash, DirectPay]            |\n",
      "+-----------------------------+\n",
      "\n",
      "+------------------------------+\n",
      "|debt_settlement_flag_freqItems|\n",
      "+------------------------------+\n",
      "|[Y, N]                        |\n",
      "+------------------------------+\n",
      "\n"
     ]
    }
   ],
   "source": [
    "stringColumn.foreach(l => stringDF.select(l+\"_freqItems\").show(false))"
   ]
  },
  {
   "cell_type": "code",
   "execution_count": 15,
   "metadata": {},
   "outputs": [
    {
     "name": "stdout",
     "output_type": "stream",
     "text": [
      "+---------+-----+\n",
      "|     term|count|\n",
      "+---------+-----+\n",
      "|36 months|14523|\n",
      "|60 months| 5547|\n",
      "+---------+-----+\n",
      "\n",
      "+-----+-----+\n",
      "|grade|count|\n",
      "+-----+-----+\n",
      "|    F|  267|\n",
      "|    E|  865|\n",
      "|    B| 6064|\n",
      "|    D| 2548|\n",
      "|    C| 6574|\n",
      "|    A| 3590|\n",
      "|    G|  162|\n",
      "+-----+-----+\n",
      "\n",
      "+---------+-----+\n",
      "|sub_grade|count|\n",
      "+---------+-----+\n",
      "|       D5|  321|\n",
      "|       F2|   48|\n",
      "|       B4| 1037|\n",
      "|       A2|  594|\n",
      "|       E4|  166|\n",
      "|       B2| 1102|\n",
      "|       C3| 1232|\n",
      "|       D1|  625|\n",
      "|       C4| 1265|\n",
      "|       F1|   82|\n",
      "|       D3|  613|\n",
      "|       F5|   47|\n",
      "|       G2|   27|\n",
      "|       B1| 1259|\n",
      "|       B3| 1215|\n",
      "|       E5|  201|\n",
      "|       C5| 1347|\n",
      "|       G3|   33|\n",
      "|       A4|  671|\n",
      "|       F4|   41|\n",
      "+---------+-----+\n",
      "only showing top 20 rows\n",
      "\n",
      "+--------------------+-----+\n",
      "|           emp_title|count|\n",
      "+--------------------+-----+\n",
      "|    LEAD UNDERWRITER|    1|\n",
      "|           Scientist|    5|\n",
      "|Commercial Truck ...|    2|\n",
      "|   Patient care Tech|    1|\n",
      "|                 CSR|   10|\n",
      "|Regional sales ma...|    4|\n",
      "|Journeyman Electr...|    4|\n",
      "|           Physician|   22|\n",
      "|Front End Web Dev...|    1|\n",
      "|     Roofing Foreman|    1|\n",
      "|   Production Artist|    1|\n",
      "|Site Merchandisin...|    1|\n",
      "|    VP, Client Sales|    1|\n",
      "|  Testing Specialist|    1|\n",
      "|Administrative As...|    1|\n",
      "|Patent Administrator|    1|\n",
      "| Sr. Pension Analyst|    1|\n",
      "|   Process Scientist|    1|\n",
      "|           machinist|   10|\n",
      "|Assistant to the ...|    1|\n",
      "+--------------------+-----+\n",
      "only showing top 20 rows\n",
      "\n",
      "+----------+-----+\n",
      "|emp_length|count|\n",
      "+----------+-----+\n",
      "|   9 years|  722|\n",
      "|   5 years| 1206|\n",
      "|    1 year| 1351|\n",
      "|       n/a| 1411|\n",
      "|   2 years| 1860|\n",
      "|   7 years|  748|\n",
      "|   8 years|  630|\n",
      "|   4 years| 1233|\n",
      "|   6 years|  836|\n",
      "|   3 years| 1619|\n",
      "| 10+ years| 6512|\n",
      "|  < 1 year| 1942|\n",
      "+----------+-----+\n",
      "\n",
      "+--------------+-----+\n",
      "|home_ownership|count|\n",
      "+--------------+-----+\n",
      "|           OWN| 2370|\n",
      "|          RENT| 7899|\n",
      "|      MORTGAGE| 9784|\n",
      "|           ANY|   17|\n",
      "+--------------+-----+\n",
      "\n",
      "+-------------------+-----+\n",
      "|verification_status|count|\n",
      "+-------------------+-----+\n",
      "|           Verified| 5116|\n",
      "|    Source Verified| 7755|\n",
      "|       Not Verified| 7199|\n",
      "+-------------------+-----+\n",
      "\n",
      "+--------+-----+\n",
      "| issue_d|count|\n",
      "+--------+-----+\n",
      "|Sep-2017| 1812|\n",
      "|Jun-2017| 1743|\n",
      "|Nov-2017| 1879|\n",
      "|Feb-2017| 1285|\n",
      "|Dec-2017| 1716|\n",
      "|Aug-2017| 1929|\n",
      "|May-2017| 1757|\n",
      "|Jul-2017| 1750|\n",
      "|Jan-2017| 1425|\n",
      "|Oct-2017| 1730|\n",
      "|Mar-2017| 1648|\n",
      "|Apr-2017| 1396|\n",
      "+--------+-----+\n",
      "\n",
      "+----------+-----+\n",
      "|pymnt_plan|count|\n",
      "+----------+-----+\n",
      "|         n|20057|\n",
      "|         y|   13|\n",
      "+----------+-----+\n",
      "\n",
      "+------------------+-----+\n",
      "|           purpose|count|\n",
      "+------------------+-----+\n",
      "|             other| 1523|\n",
      "|    small_business|  208|\n",
      "|debt_consolidation|11029|\n",
      "|       credit_card| 4184|\n",
      "|            moving|  183|\n",
      "|          vacation|  194|\n",
      "|  renewable_energy|   17|\n",
      "|             house|  131|\n",
      "|               car|  238|\n",
      "|    major_purchase|  508|\n",
      "|           medical|  320|\n",
      "|  home_improvement| 1535|\n",
      "+------------------+-----+\n",
      "\n",
      "+--------------------+-----+\n",
      "|               title|count|\n",
      "+--------------------+-----+\n",
      "|      Major purchase|  507|\n",
      "|               Other| 1523|\n",
      "|Credit card refin...| 4185|\n",
      "|         Home buying|  131|\n",
      "|    Home improvement| 1535|\n",
      "|            Business|  208|\n",
      "|          Green loan|   17|\n",
      "|            Vacation|  194|\n",
      "|    Medical expenses|  320|\n",
      "|       Car financing|  238|\n",
      "|  Debt consolidation|11029|\n",
      "|Moving and reloca...|  183|\n",
      "+--------------------+-----+\n",
      "\n",
      "+--------+-----+\n",
      "|zip_code|count|\n",
      "+--------+-----+\n",
      "|   471xx|   12|\n",
      "|   957xx|   32|\n",
      "|   223xx|   32|\n",
      "|   143xx|    6|\n",
      "|   230xx|   10|\n",
      "|   183xx|   21|\n",
      "|   371xx|   44|\n",
      "|   751xx|   64|\n",
      "|   591xx|   10|\n",
      "|   831xx|    4|\n",
      "|   154xx|    4|\n",
      "|   287xx|   25|\n",
      "|   179xx|    8|\n",
      "|   535xx|   30|\n",
      "|   756xx|   17|\n",
      "|   216xx|   10|\n",
      "|   895xx|   22|\n",
      "|   625xx|   11|\n",
      "|   387xx|    2|\n",
      "|   244xx|    6|\n",
      "+--------+-----+\n",
      "only showing top 20 rows\n",
      "\n",
      "+----------+-----+\n",
      "|addr_state|count|\n",
      "+----------+-----+\n",
      "|        AZ|  559|\n",
      "|        SC|  241|\n",
      "|        LA|  219|\n",
      "|        MN|  362|\n",
      "|        NJ|  745|\n",
      "|        DC|   44|\n",
      "|        OR|  252|\n",
      "|        VA|  523|\n",
      "|        RI|   95|\n",
      "|        KY|  190|\n",
      "|        WY|   35|\n",
      "|        NH|   78|\n",
      "|        MI|  518|\n",
      "|        NV|  285|\n",
      "|        WI|  290|\n",
      "|        ID|   69|\n",
      "|        CA| 2600|\n",
      "|        CT|  347|\n",
      "|        NE|   88|\n",
      "|        MT|   56|\n",
      "+----------+-----+\n",
      "only showing top 20 rows\n",
      "\n",
      "+----------------+-----+\n",
      "|earliest_cr_line|count|\n",
      "+----------------+-----+\n",
      "|        Jul-1996|   30|\n",
      "|        Jan-1999|   67|\n",
      "|        May-1977|    6|\n",
      "|        Nov-1978|    2|\n",
      "|        Sep-1987|   26|\n",
      "|        Jul-1989|   22|\n",
      "|        Mar-1999|   69|\n",
      "|        Jun-1979|    2|\n",
      "|        May-1993|   33|\n",
      "|        Sep-1998|  102|\n",
      "|        Jun-1985|   10|\n",
      "|        Apr-1988|   19|\n",
      "|        Oct-1975|    3|\n",
      "|        Dec-1981|    3|\n",
      "|        Jun-1989|   22|\n",
      "|        Apr-2003|  111|\n",
      "|        Mar-1990|   29|\n",
      "|        Sep-2003|  130|\n",
      "|        Aug-1995|   54|\n",
      "|        Feb-1988|   28|\n",
      "+----------------+-----+\n",
      "only showing top 20 rows\n",
      "\n",
      "+-------------------+-----+\n",
      "|initial_list_status|count|\n",
      "+-------------------+-----+\n",
      "|                  f| 4533|\n",
      "|                  w|15537|\n",
      "+-------------------+-----+\n",
      "\n",
      "+------------+-----+\n",
      "|last_pymnt_d|count|\n",
      "+------------+-----+\n",
      "|    Sep-2017|  235|\n",
      "|    Feb-2019|12502|\n",
      "|    Mar-2018|  489|\n",
      "|    Sep-2018|  392|\n",
      "|    Jun-2017|  127|\n",
      "|    Nov-2017|  294|\n",
      "|    Feb-2017|   24|\n",
      "|    Nov-2018|  386|\n",
      "|    Jul-2018|  487|\n",
      "|    Apr-2018|  359|\n",
      "|    Dec-2018|  366|\n",
      "|    Dec-2017|  326|\n",
      "|    Jan-2018|  362|\n",
      "|    Aug-2018|  500|\n",
      "|    Jan-2019|  624|\n",
      "|    Aug-2017|  211|\n",
      "|    May-2017|  118|\n",
      "|    Jul-2017|  175|\n",
      "|    Oct-2018|  430|\n",
      "|    Feb-2018|  351|\n",
      "+------------+-----+\n",
      "only showing top 20 rows\n",
      "\n",
      "+------------------+-----+\n",
      "|last_credit_pull_d|count|\n",
      "+------------------+-----+\n",
      "|          Sep-2017|   97|\n",
      "|          Feb-2019|15609|\n",
      "|          Mar-2018|  188|\n",
      "|          Sep-2018|  269|\n",
      "|          Jun-2017|   37|\n",
      "|          Nov-2017|   97|\n",
      "|          Feb-2017|    9|\n",
      "|          Nov-2018|  415|\n",
      "|          Jul-2018|  440|\n",
      "|          Apr-2018|  178|\n",
      "|          Dec-2018|  440|\n",
      "|          Dec-2017|  115|\n",
      "|          Jan-2018|  121|\n",
      "|          Aug-2018|  280|\n",
      "|          Jan-2019|  659|\n",
      "|          May-2017|   32|\n",
      "|          Aug-2017|   60|\n",
      "|          Jul-2017|   38|\n",
      "|          Oct-2018|  452|\n",
      "|          Feb-2018|  144|\n",
      "+------------------+-----+\n",
      "only showing top 20 rows\n",
      "\n",
      "+----------------+-----+\n",
      "|application_type|count|\n",
      "+----------------+-----+\n",
      "|       Joint App| 1823|\n",
      "|      Individual|18247|\n",
      "+----------------+-----+\n",
      "\n",
      "+-------------+-----+\n",
      "|hardship_flag|count|\n",
      "+-------------+-----+\n",
      "|            Y|   18|\n",
      "|            N|20052|\n",
      "+-------------+-----+\n",
      "\n",
      "+-------------------+-----+\n",
      "|disbursement_method|count|\n",
      "+-------------------+-----+\n",
      "|               Cash|19866|\n",
      "|          DirectPay|  204|\n",
      "+-------------------+-----+\n",
      "\n",
      "+--------------------+-----+\n",
      "|debt_settlement_flag|count|\n",
      "+--------------------+-----+\n",
      "|                   Y|  175|\n",
      "|                   N|19895|\n",
      "+--------------------+-----+\n",
      "\n"
     ]
    }
   ],
   "source": [
    "//shows counts of each category - this may be replaced with a visualisation\n",
    "stringColumn.foreach(l => df.groupBy(l).count.show())"
   ]
  },
  {
   "cell_type": "code",
   "execution_count": 16,
   "metadata": {},
   "outputs": [
    {
     "name": "stdout",
     "output_type": "stream",
     "text": [
      "term attribute unique values: \t2\n",
      "grade attribute unique values: \t7\n",
      "sub_grade attribute unique values: \t35\n",
      "emp_title attribute unique values: \t9192\n",
      "emp_length attribute unique values: \t12\n",
      "home_ownership attribute unique values: \t4\n",
      "verification_status attribute unique values: \t3\n",
      "issue_d attribute unique values: \t12\n",
      "pymnt_plan attribute unique values: \t2\n",
      "purpose attribute unique values: \t12\n",
      "title attribute unique values: \t12\n",
      "zip_code attribute unique values: \t834\n",
      "addr_state attribute unique values: \t50\n",
      "earliest_cr_line attribute unique values: \t562\n",
      "initial_list_status attribute unique values: \t2\n",
      "last_pymnt_d attribute unique values: \t27\n",
      "last_credit_pull_d attribute unique values: \t26\n",
      "application_type attribute unique values: \t2\n",
      "hardship_flag attribute unique values: \t2\n",
      "disbursement_method attribute unique values: \t2\n",
      "debt_settlement_flag attribute unique values: \t2\n"
     ]
    }
   ],
   "source": [
    "//unique value \n",
    "stringColumn.foreach(l => println(l + \" attribute unique values: \\t\" + df.groupBy(l).count.count.toString))"
   ]
  },
  {
   "cell_type": "markdown",
   "metadata": {},
   "source": [
    "Below columns with only a few possible values and can be dropped:\n",
    "* term\n",
    "* pymnt_plan\n",
    "* initial_list_status\n",
    "* application_type\n",
    "* hardship_flag\n",
    "* disbursement_method\n",
    "* debt_settlement_flag\n",
    "\n",
    "Columns with too many possible values\n",
    "* emp_title"
   ]
  },
  {
   "cell_type": "code",
   "execution_count": 17,
   "metadata": {},
   "outputs": [
    {
     "data": {
      "text/plain": [
       "df: org.apache.spark.sql.DataFrame = [loan_amnt: int, funded_amnt: int ... 77 more fields]\n"
      ]
     },
     "execution_count": 17,
     "metadata": {},
     "output_type": "execute_result"
    }
   ],
   "source": [
    "df = df.drop(\"term\")\n",
    ".drop(\"pymnt_plan\")\n",
    ".drop(\"initial_list_status\")\n",
    ".drop(\"application_type\")\n",
    ".drop(\"hardship_flag\")\n",
    ".drop(\"disbursement_method\")\n",
    ".drop(\"debt_settlement_flag\")\n",
    ".drop(\"empt_title\")"
   ]
  },
  {
   "cell_type": "markdown",
   "metadata": {},
   "source": [
    "## Check for Integer type column"
   ]
  },
  {
   "cell_type": "code",
   "execution_count": 18,
   "metadata": {},
   "outputs": [
    {
     "data": {
      "text/plain": [
       "integerColumn: Array[String] = Array(loan_amnt, funded_amnt, delinq_2yrs, inq_last_6mths, open_acc, pub_rec, revol_bal, total_acc, collections_12_mths_ex_med, policy_code, acc_now_delinq, tot_coll_amt, tot_cur_bal, total_rev_hi_lim, acc_open_past_24mths, avg_cur_bal, bc_open_to_buy, delinq_amnt, mo_sin_old_rev_tl_op, mo_sin_rcnt_rev_tl_op, mo_sin_rcnt_tl, mort_acc, mths_since_recent_bc, num_accts_ever_120_pd, num_actv_bc_tl, num_actv_rev_tl, num_bc_sats, num_bc_tl, num_il_tl, num_op_rev_tl, num_rev_accts, num_rev_tl_bal_gt_0, num_sats, num_tl_120dpd_2m, num_tl_30dpd, num_tl_90g_dpd_24m, num_tl_op_past_12m, pub_rec_bankruptcies, tax_liens, tot_hi_cred_lim, total_bal_ex_mort, total_bc_limit, total_il_high_credit_limit, loan_status)\n"
      ]
     },
     "execution_count": 18,
     "metadata": {},
     "output_type": "execute_result"
    }
   ],
   "source": [
    "val integerColumn = df.dtypes.filter(column => column._2 == \"IntegerType\").map(_._1)"
   ]
  },
  {
   "cell_type": "code",
   "execution_count": 19,
   "metadata": {},
   "outputs": [
    {
     "name": "stdout",
     "output_type": "stream",
     "text": [
      "loan_amnt\n",
      "+-------+-----------------+\n",
      "|summary|loan_amnt        |\n",
      "+-------+-----------------+\n",
      "|count  |20070            |\n",
      "|mean   |14727.77279521674|\n",
      "|stddev |9605.943924842915|\n",
      "|min    |1000             |\n",
      "|max    |40000            |\n",
      "+-------+-----------------+\n",
      "\n",
      "funded_amnt\n",
      "+-------+-----------------+\n",
      "|summary|funded_amnt      |\n",
      "+-------+-----------------+\n",
      "|count  |20070            |\n",
      "|mean   |14727.77279521674|\n",
      "|stddev |9605.943924842915|\n",
      "|min    |1000             |\n",
      "|max    |40000            |\n",
      "+-------+-----------------+\n",
      "\n",
      "delinq_2yrs\n",
      "+-------+------------------+\n",
      "|summary|delinq_2yrs       |\n",
      "+-------+------------------+\n",
      "|count  |20070             |\n",
      "|mean   |0.3164424514200299|\n",
      "|stddev |0.892365624586786 |\n",
      "|min    |0                 |\n",
      "|max    |25                |\n",
      "+-------+------------------+\n",
      "\n",
      "inq_last_6mths\n",
      "+-------+------------------+\n",
      "|summary|inq_last_6mths    |\n",
      "+-------+------------------+\n",
      "|count  |20070             |\n",
      "|mean   |0.5067762830094669|\n",
      "|stddev |0.7995146026534053|\n",
      "|min    |0                 |\n",
      "|max    |5                 |\n",
      "+-------+------------------+\n",
      "\n",
      "open_acc\n",
      "+-------+------------------+\n",
      "|summary|open_acc          |\n",
      "+-------+------------------+\n",
      "|count  |20070             |\n",
      "|mean   |11.624215246636771|\n",
      "|stddev |5.739203246404463 |\n",
      "|min    |1                 |\n",
      "|max    |63                |\n",
      "+-------+------------------+\n",
      "\n",
      "pub_rec\n",
      "+-------+-------------------+\n",
      "|summary|pub_rec            |\n",
      "+-------+-------------------+\n",
      "|count  |20070              |\n",
      "|mean   |0.21654210264075735|\n",
      "|stddev |0.5748091005837263 |\n",
      "|min    |0                  |\n",
      "|max    |12                 |\n",
      "+-------+-------------------+\n",
      "\n",
      "revol_bal\n",
      "+-------+------------------+\n",
      "|summary|revol_bal         |\n",
      "+-------+------------------+\n",
      "|count  |20070             |\n",
      "|mean   |16383.052267065272|\n",
      "|stddev |22240.624056183777|\n",
      "|min    |0                 |\n",
      "|max    |645072            |\n",
      "+-------+------------------+\n",
      "\n",
      "total_acc\n",
      "+-------+------------------+\n",
      "|summary|total_acc         |\n",
      "+-------+------------------+\n",
      "|count  |20070             |\n",
      "|mean   |23.234927752864973|\n",
      "|stddev |11.778807737070597|\n",
      "|min    |2                 |\n",
      "|max    |122               |\n",
      "+-------+------------------+\n",
      "\n",
      "collections_12_mths_ex_med\n",
      "+-------+--------------------------+\n",
      "|summary|collections_12_mths_ex_med|\n",
      "+-------+--------------------------+\n",
      "|count  |20070                     |\n",
      "|mean   |0.02142501245640259       |\n",
      "|stddev |0.15984746027313024       |\n",
      "|min    |0                         |\n",
      "|max    |5                         |\n",
      "+-------+--------------------------+\n",
      "\n",
      "policy_code\n",
      "+-------+-----------+\n",
      "|summary|policy_code|\n",
      "+-------+-----------+\n",
      "|count  |20070      |\n",
      "|mean   |1.0        |\n",
      "|stddev |0.0        |\n",
      "|min    |1          |\n",
      "|max    |1          |\n",
      "+-------+-----------+\n",
      "\n",
      "acc_now_delinq\n",
      "+-------+---------------------+\n",
      "|summary|acc_now_delinq       |\n",
      "+-------+---------------------+\n",
      "|count  |20070                |\n",
      "|mean   |0.0046836073741903335|\n",
      "|stddev |0.07183442356648946  |\n",
      "|min    |0                    |\n",
      "|max    |2                    |\n",
      "+-------+---------------------+\n",
      "\n",
      "tot_coll_amt\n",
      "+-------+------------------+\n",
      "|summary|tot_coll_amt      |\n",
      "+-------+------------------+\n",
      "|count  |20070             |\n",
      "|mean   |224.14434479322372|\n",
      "|stddev |1666.801125171557 |\n",
      "|min    |0                 |\n",
      "|max    |101936            |\n",
      "+-------+------------------+\n",
      "\n",
      "tot_cur_bal\n",
      "+-------+------------------+\n",
      "|summary|tot_cur_bal       |\n",
      "+-------+------------------+\n",
      "|count  |20070             |\n",
      "|mean   |147346.74524165422|\n",
      "|stddev |169898.25882636599|\n",
      "|min    |0                 |\n",
      "|max    |4348538           |\n",
      "+-------+------------------+\n",
      "\n",
      "total_rev_hi_lim\n",
      "+-------+------------------+\n",
      "|summary|total_rev_hi_lim  |\n",
      "+-------+------------------+\n",
      "|count  |20070             |\n",
      "|mean   |35726.41295465869 |\n",
      "|stddev |34781.549485415024|\n",
      "|min    |0                 |\n",
      "|max    |716800            |\n",
      "+-------+------------------+\n",
      "\n",
      "acc_open_past_24mths\n",
      "+-------+--------------------+\n",
      "|summary|acc_open_past_24mths|\n",
      "+-------+--------------------+\n",
      "|count  |20070               |\n",
      "|mean   |4.5104135525660185  |\n",
      "|stddev |3.142292296295123   |\n",
      "|min    |0                   |\n",
      "|max    |29                  |\n",
      "+-------+--------------------+\n",
      "\n",
      "avg_cur_bal\n",
      "+-------+------------------+\n",
      "|summary|avg_cur_bal       |\n",
      "+-------+------------------+\n",
      "|count  |20070             |\n",
      "|mean   |14026.691629297458|\n",
      "|stddev |17320.316541364162|\n",
      "|min    |0                 |\n",
      "|max    |434854            |\n",
      "+-------+------------------+\n",
      "\n",
      "bc_open_to_buy\n",
      "+-------+------------------+\n",
      "|summary|bc_open_to_buy    |\n",
      "+-------+------------------+\n",
      "|count  |20070             |\n",
      "|mean   |12697.310313901346|\n",
      "|stddev |17812.490056612227|\n",
      "|min    |0                 |\n",
      "|max    |252947            |\n",
      "+-------+------------------+\n",
      "\n",
      "delinq_amnt\n",
      "+-------+------------------+\n",
      "|summary|delinq_amnt       |\n",
      "+-------+------------------+\n",
      "|count  |20070             |\n",
      "|mean   |14.280717488789238|\n",
      "|stddev |715.7070259782366 |\n",
      "|min    |0                 |\n",
      "|max    |65000             |\n",
      "+-------+------------------+\n",
      "\n",
      "mo_sin_old_rev_tl_op\n",
      "+-------+--------------------+\n",
      "|summary|mo_sin_old_rev_tl_op|\n",
      "+-------+--------------------+\n",
      "|count  |20070               |\n",
      "|mean   |181.19018435475834  |\n",
      "|stddev |99.9457042957881    |\n",
      "|min    |8                   |\n",
      "|max    |732                 |\n",
      "+-------+--------------------+\n",
      "\n",
      "mo_sin_rcnt_rev_tl_op\n",
      "+-------+---------------------+\n",
      "|summary|mo_sin_rcnt_rev_tl_op|\n",
      "+-------+---------------------+\n",
      "|count  |20070                |\n",
      "|mean   |14.593921275535624   |\n",
      "|stddev |18.59478234504759    |\n",
      "|min    |0                    |\n",
      "|max    |345                  |\n",
      "+-------+---------------------+\n",
      "\n",
      "mo_sin_rcnt_tl\n",
      "+-------+-----------------+\n",
      "|summary|mo_sin_rcnt_tl   |\n",
      "+-------+-----------------+\n",
      "|count  |20070            |\n",
      "|mean   |8.518036870951669|\n",
      "|stddev |9.542227824086133|\n",
      "|min    |0                |\n",
      "|max    |165              |\n",
      "+-------+-----------------+\n",
      "\n",
      "mort_acc\n",
      "+-------+------------------+\n",
      "|summary|mort_acc          |\n",
      "+-------+------------------+\n",
      "|count  |20070             |\n",
      "|mean   |1.4267563527653213|\n",
      "|stddev |1.735712471745101 |\n",
      "|min    |0                 |\n",
      "|max    |15                |\n",
      "+-------+------------------+\n",
      "\n",
      "mths_since_recent_bc\n",
      "+-------+--------------------+\n",
      "|summary|mths_since_recent_bc|\n",
      "+-------+--------------------+\n",
      "|count  |20070               |\n",
      "|mean   |24.43756851021425   |\n",
      "|stddev |32.722913095781614  |\n",
      "|min    |0                   |\n",
      "|max    |485                 |\n",
      "+-------+--------------------+\n",
      "\n",
      "num_accts_ever_120_pd\n",
      "+-------+---------------------+\n",
      "|summary|num_accts_ever_120_pd|\n",
      "+-------+---------------------+\n",
      "|count  |20070                |\n",
      "|mean   |0.5167912306925759   |\n",
      "|stddev |1.43738100253814     |\n",
      "|min    |0                    |\n",
      "|max    |34                   |\n",
      "+-------+---------------------+\n",
      "\n",
      "num_actv_bc_tl\n",
      "+-------+------------------+\n",
      "|summary|num_actv_bc_tl    |\n",
      "+-------+------------------+\n",
      "|count  |20070             |\n",
      "|mean   |3.630642750373692 |\n",
      "|stddev |2.3495748559077403|\n",
      "|min    |0                 |\n",
      "|max    |22                |\n",
      "+-------+------------------+\n",
      "\n",
      "num_actv_rev_tl\n",
      "+-------+-----------------+\n",
      "|summary|num_actv_rev_tl  |\n",
      "+-------+-----------------+\n",
      "|count  |20070            |\n",
      "|mean   |5.482810164424515|\n",
      "|stddev |3.417380238252128|\n",
      "|min    |0                |\n",
      "|max    |41               |\n",
      "+-------+-----------------+\n",
      "\n",
      "num_bc_sats\n",
      "+-------+------------------+\n",
      "|summary|num_bc_sats       |\n",
      "+-------+------------------+\n",
      "|count  |20070             |\n",
      "|mean   |4.79785749875436  |\n",
      "|stddev |3.1129749082722915|\n",
      "|min    |0                 |\n",
      "|max    |33                |\n",
      "+-------+------------------+\n",
      "\n",
      "num_bc_tl\n",
      "+-------+-----------------+\n",
      "|summary|num_bc_tl        |\n",
      "+-------+-----------------+\n",
      "|count  |20070            |\n",
      "|mean   |7.232536123567514|\n",
      "|stddev |4.48388499746063 |\n",
      "|min    |0                |\n",
      "|max    |66               |\n",
      "+-------+-----------------+\n",
      "\n",
      "num_il_tl\n",
      "+-------+-----------------+\n",
      "|summary|num_il_tl        |\n",
      "+-------+-----------------+\n",
      "|count  |20070            |\n",
      "|mean   |8.354160438465371|\n",
      "|stddev |7.240040651087403|\n",
      "|min    |0                |\n",
      "|max    |80               |\n",
      "+-------+-----------------+\n",
      "\n",
      "num_op_rev_tl\n",
      "+-------+-----------------+\n",
      "|summary|num_op_rev_tl    |\n",
      "+-------+-----------------+\n",
      "|count  |20070            |\n",
      "|mean   |8.112655705032386|\n",
      "|stddev |4.750490246163953|\n",
      "|min    |0                |\n",
      "|max    |50               |\n",
      "+-------+-----------------+\n"
     ]
    },
    {
     "name": "stdout",
     "output_type": "stream",
     "text": [
      "\n",
      "num_rev_accts\n",
      "+-------+------------------+\n",
      "|summary|num_rev_accts     |\n",
      "+-------+------------------+\n",
      "|count  |20070             |\n",
      "|mean   |13.237717987045341|\n",
      "|stddev |7.8718396932768915|\n",
      "|min    |2                 |\n",
      "|max    |107               |\n",
      "+-------+------------------+\n",
      "\n",
      "num_rev_tl_bal_gt_0\n",
      "+-------+-------------------+\n",
      "|summary|num_rev_tl_bal_gt_0|\n",
      "+-------+-------------------+\n",
      "|count  |20070              |\n",
      "|mean   |5.401395117090185  |\n",
      "|stddev |3.2717560894039073 |\n",
      "|min    |0                  |\n",
      "|max    |28                 |\n",
      "+-------+-------------------+\n",
      "\n",
      "num_sats\n",
      "+-------+------------------+\n",
      "|summary|num_sats          |\n",
      "+-------+------------------+\n",
      "|count  |20070             |\n",
      "|mean   |11.582012954658694|\n",
      "|stddev |5.717695147820466 |\n",
      "|min    |1                 |\n",
      "|max    |63                |\n",
      "+-------+------------------+\n",
      "\n",
      "num_tl_120dpd_2m\n",
      "+-------+--------------------+\n",
      "|summary|num_tl_120dpd_2m    |\n",
      "+-------+--------------------+\n",
      "|count  |20070               |\n",
      "|mean   |4.982561036372695E-4|\n",
      "|stddev |0.022316645340948592|\n",
      "|min    |0                   |\n",
      "|max    |1                   |\n",
      "+-------+--------------------+\n",
      "\n",
      "num_tl_30dpd\n",
      "+-------+---------------------+\n",
      "|summary|num_tl_30dpd         |\n",
      "+-------+---------------------+\n",
      "|count  |20070                |\n",
      "|mean   |0.0032386646736422523|\n",
      "|stddev |0.0585461266945128   |\n",
      "|min    |0                    |\n",
      "|max    |2                    |\n",
      "+-------+---------------------+\n",
      "\n",
      "num_tl_90g_dpd_24m\n",
      "+-------+-------------------+\n",
      "|summary|num_tl_90g_dpd_24m |\n",
      "+-------+-------------------+\n",
      "|count  |20070              |\n",
      "|mean   |0.08256103637269556|\n",
      "|stddev |0.512740483543642  |\n",
      "|min    |0                  |\n",
      "|max    |25                 |\n",
      "+-------+-------------------+\n",
      "\n",
      "num_tl_op_past_12m\n",
      "+-------+------------------+\n",
      "|summary|num_tl_op_past_12m|\n",
      "+-------+------------------+\n",
      "|count  |20070             |\n",
      "|mean   |2.025759840558047 |\n",
      "|stddev |1.819522553613133 |\n",
      "|min    |0                 |\n",
      "|max    |20                |\n",
      "+-------+------------------+\n",
      "\n",
      "pub_rec_bankruptcies\n",
      "+-------+--------------------+\n",
      "|summary|pub_rec_bankruptcies|\n",
      "+-------+--------------------+\n",
      "|count  |20070               |\n",
      "|mean   |0.1371699053313403  |\n",
      "|stddev |0.37640372917100523 |\n",
      "|min    |0                   |\n",
      "|max    |6                   |\n",
      "+-------+--------------------+\n",
      "\n",
      "tax_liens\n",
      "+-------+-------------------+\n",
      "|summary|tax_liens          |\n",
      "+-------+-------------------+\n",
      "|count  |20070              |\n",
      "|mean   |0.05809666168410563|\n",
      "|stddev |0.3658567726030392 |\n",
      "|min    |0                  |\n",
      "|max    |9                  |\n",
      "+-------+-------------------+\n",
      "\n",
      "tot_hi_cred_lim\n",
      "+-------+------------------+\n",
      "|summary|tot_hi_cred_lim   |\n",
      "+-------+------------------+\n",
      "|count  |20070             |\n",
      "|mean   |185966.84489287494|\n",
      "|stddev |190727.54060862548|\n",
      "|min    |200               |\n",
      "|max    |4533854           |\n",
      "+-------+------------------+\n",
      "\n",
      "total_bal_ex_mort\n",
      "+-------+-----------------+\n",
      "|summary|total_bal_ex_mort|\n",
      "+-------+-----------------+\n",
      "|count  |20070            |\n",
      "|mean   |51688.9841554559 |\n",
      "|stddev |49909.49197799725|\n",
      "|min    |0                |\n",
      "|max    |728132           |\n",
      "+-------+-----------------+\n",
      "\n",
      "total_bc_limit\n",
      "+-------+------------------+\n",
      "|summary|total_bc_limit    |\n",
      "+-------+------------------+\n",
      "|count  |20070             |\n",
      "|mean   |24478.806028898853|\n",
      "|stddev |23929.262419683255|\n",
      "|min    |0                 |\n",
      "|max    |307300            |\n",
      "+-------+------------------+\n",
      "\n",
      "total_il_high_credit_limit\n",
      "+-------+--------------------------+\n",
      "|summary|total_il_high_credit_limit|\n",
      "+-------+--------------------------+\n",
      "|count  |20070                     |\n",
      "|mean   |45335.78285999003         |\n",
      "|stddev |44967.588025398334        |\n",
      "|min    |0                         |\n",
      "|max    |678695                    |\n",
      "+-------+--------------------------+\n",
      "\n",
      "loan_status\n",
      "+-------+-------------------+\n",
      "|summary|loan_status        |\n",
      "+-------+-------------------+\n",
      "|count  |20070              |\n",
      "|mean   |0.8960637767812656 |\n",
      "|stddev |0.30518539510550896|\n",
      "|min    |0                  |\n",
      "|max    |1                  |\n",
      "+-------+-------------------+\n",
      "\n"
     ]
    }
   ],
   "source": [
    "integerColumn.foreach( l => {\n",
    "    println(l)\n",
    "    df.describe(l).show(false)\n",
    "})"
   ]
  },
  {
   "cell_type": "markdown",
   "metadata": {},
   "source": [
    "## Check for Double type column"
   ]
  },
  {
   "cell_type": "code",
   "execution_count": 20,
   "metadata": {},
   "outputs": [
    {
     "data": {
      "text/plain": [
       "doubleColumn: Array[String] = Array(funded_amnt_inv, int_rate, installment, annual_inc, dti, revol_util, out_prncp, out_prncp_inv, total_pymnt, total_pymnt_inv, total_rec_prncp, total_rec_int, total_rec_late_fee, recoveries, collection_recovery_fee, last_pymnt_amnt, bc_util, chargeoff_within_12_mths, mo_sin_old_il_acct, pct_tl_nvr_dlq, percent_bc_gt_75)\n"
      ]
     },
     "execution_count": 20,
     "metadata": {},
     "output_type": "execute_result"
    }
   ],
   "source": [
    "val doubleColumn = df.dtypes.filter(column => column._2 == \"DoubleType\").map(_._1)"
   ]
  },
  {
   "cell_type": "code",
   "execution_count": 21,
   "metadata": {},
   "outputs": [
    {
     "name": "stdout",
     "output_type": "stream",
     "text": [
      "funded_amnt_inv\n",
      "+-------+-----------------+\n",
      "|summary|funded_amnt_inv  |\n",
      "+-------+-----------------+\n",
      "|count  |20070            |\n",
      "|mean   |14723.55879422023|\n",
      "|stddev |9602.985128010128|\n",
      "|min    |1000.0           |\n",
      "|max    |40000.0          |\n",
      "+-------+-----------------+\n",
      "\n",
      "int_rate\n",
      "+-------+------------------+\n",
      "|summary|int_rate          |\n",
      "+-------+------------------+\n",
      "|count  |20070             |\n",
      "|mean   |13.181286995514402|\n",
      "|stddev |5.160479853400303 |\n",
      "|min    |5.32              |\n",
      "|max    |30.99             |\n",
      "+-------+------------------+\n",
      "\n",
      "installment\n",
      "+-------+------------------+\n",
      "|summary|installment       |\n",
      "+-------+------------------+\n",
      "|count  |20070             |\n",
      "|mean   |438.537950672646  |\n",
      "|stddev |282.00868318404736|\n",
      "|min    |30.12             |\n",
      "|max    |1566.8            |\n",
      "+-------+------------------+\n",
      "\n",
      "annual_inc\n",
      "+-------+-----------------+\n",
      "|summary|annual_inc       |\n",
      "+-------+-----------------+\n",
      "|count  |20070            |\n",
      "|mean   |80446.58286148483|\n",
      "|stddev |91653.89088551638|\n",
      "|min    |0.0              |\n",
      "|max    |7200000.0        |\n",
      "+-------+-----------------+\n",
      "\n",
      "dti\n",
      "+-------+------------------+\n",
      "|summary|dti               |\n",
      "+-------+------------------+\n",
      "|count  |20070             |\n",
      "|mean   |19.03107523667162 |\n",
      "|stddev |16.992338217396508|\n",
      "|min    |0.0               |\n",
      "|max    |999.0             |\n",
      "+-------+------------------+\n",
      "\n",
      "revol_util\n",
      "+-------+------------------+\n",
      "|summary|revol_util        |\n",
      "+-------+------------------+\n",
      "|count  |20070             |\n",
      "|mean   |47.64562032884908 |\n",
      "|stddev |24.849371834783557|\n",
      "|min    |0.0               |\n",
      "|max    |145.6             |\n",
      "+-------+------------------+\n",
      "\n",
      "out_prncp\n",
      "+-------+-----------------+\n",
      "|summary|out_prncp        |\n",
      "+-------+-----------------+\n",
      "|count  |20070            |\n",
      "|mean   |5986.149243647219|\n",
      "|stddev |7213.528049075023|\n",
      "|min    |0.0              |\n",
      "|max    |34853.59         |\n",
      "+-------+-----------------+\n",
      "\n",
      "out_prncp_inv\n",
      "+-------+-----------------+\n",
      "|summary|out_prncp_inv    |\n",
      "+-------+-----------------+\n",
      "|count  |20070            |\n",
      "|mean   |5984.647430493254|\n",
      "|stddev |7212.448287288167|\n",
      "|min    |0.0              |\n",
      "|max    |34853.59         |\n",
      "+-------+-----------------+\n",
      "\n",
      "total_pymnt\n",
      "+-------+-----------------+\n",
      "|summary|total_pymnt      |\n",
      "+-------+-----------------+\n",
      "|count  |20070            |\n",
      "|mean   |9888.739469970378|\n",
      "|stddev |7753.149550645871|\n",
      "|min    |0.0              |\n",
      "|max    |55051.0436082491 |\n",
      "+-------+-----------------+\n",
      "\n",
      "total_pymnt_inv\n",
      "+-------+-----------------+\n",
      "|summary|total_pymnt_inv  |\n",
      "+-------+-----------------+\n",
      "|count  |20070            |\n",
      "|mean   |9885.918338814148|\n",
      "|stddev |7750.466886729854|\n",
      "|min    |0.0              |\n",
      "|max    |55051.04         |\n",
      "+-------+-----------------+\n",
      "\n",
      "total_rec_prncp\n",
      "+-------+-----------------+\n",
      "|summary|total_rec_prncp  |\n",
      "+-------+-----------------+\n",
      "|count  |20070            |\n",
      "|mean   |7668.963155455917|\n",
      "|stddev |6996.584942924148|\n",
      "|min    |0.0              |\n",
      "|max    |40000.0          |\n",
      "+-------+-----------------+\n",
      "\n",
      "total_rec_int\n",
      "+-------+------------------+\n",
      "|summary|total_rec_int     |\n",
      "+-------+------------------+\n",
      "|count  |20070             |\n",
      "|mean   |2138.3386417538522|\n",
      "|stddev |2072.5485351882444|\n",
      "|min    |0.0               |\n",
      "|max    |18947.6           |\n",
      "+-------+------------------+\n",
      "\n",
      "total_rec_late_fee\n",
      "+-------+------------------+\n",
      "|summary|total_rec_late_fee|\n",
      "+-------+------------------+\n",
      "|count  |20070             |\n",
      "|mean   |1.6842571002119884|\n",
      "|stddev |13.120938139403048|\n",
      "|min    |0.0               |\n",
      "|max    |575.25            |\n",
      "+-------+------------------+\n",
      "\n",
      "recoveries\n",
      "+-------+-----------------+\n",
      "|summary|recoveries       |\n",
      "+-------+-----------------+\n",
      "|count  |20070            |\n",
      "|mean   |79.75342252117588|\n",
      "|stddev |519.5436725546591|\n",
      "|min    |0.0              |\n",
      "|max    |19400.0          |\n",
      "+-------+-----------------+\n",
      "\n",
      "collection_recovery_fee\n",
      "+-------+-----------------------+\n",
      "|summary|collection_recovery_fee|\n",
      "+-------+-----------------------+\n",
      "|count  |20070                  |\n",
      "|mean   |13.531588350765054     |\n",
      "|stddev |90.59917418691997      |\n",
      "|min    |0.0                    |\n",
      "|max    |3492.0                 |\n",
      "+-------+-----------------------+\n",
      "\n",
      "last_pymnt_amnt\n",
      "+-------+------------------+\n",
      "|summary|last_pymnt_amnt   |\n",
      "+-------+------------------+\n",
      "|count  |20070             |\n",
      "|mean   |3055.867512705536 |\n",
      "|stddev |6095.6728701476595|\n",
      "|min    |0.0               |\n",
      "|max    |40911.35          |\n",
      "+-------+------------------+\n",
      "\n",
      "bc_util\n",
      "+-------+------------------+\n",
      "|summary|bc_util           |\n",
      "+-------+------------------+\n",
      "|count  |20070             |\n",
      "|mean   |53.790269058295856|\n",
      "|stddev |29.280602644798307|\n",
      "|min    |0.0               |\n",
      "|max    |178.3             |\n",
      "+-------+------------------+\n",
      "\n",
      "chargeoff_within_12_mths\n",
      "+-------+------------------------+\n",
      "|summary|chargeoff_within_12_mths|\n",
      "+-------+------------------------+\n",
      "|count  |20070                   |\n",
      "|mean   |0.007822620827105132    |\n",
      "|stddev |0.09775287984744226     |\n",
      "|min    |0.0                     |\n",
      "|max    |3.0                     |\n",
      "+-------+------------------------+\n",
      "\n",
      "mo_sin_old_il_acct\n",
      "+-------+------------------+\n",
      "|summary|mo_sin_old_il_acct|\n",
      "+-------+------------------+\n",
      "|count  |20070             |\n",
      "|mean   |120.96736422521175|\n",
      "|stddev |57.25420882260193 |\n",
      "|min    |0.0               |\n",
      "|max    |532.0             |\n",
      "+-------+------------------+\n",
      "\n",
      "pct_tl_nvr_dlq\n",
      "+-------+-----------------+\n",
      "|summary|pct_tl_nvr_dlq   |\n",
      "+-------+-----------------+\n",
      "|count  |20070            |\n",
      "|mean   |93.73975585450823|\n",
      "|stddev |9.7186960241265  |\n",
      "|min    |0.0              |\n",
      "|max    |100.0            |\n",
      "+-------+-----------------+\n",
      "\n",
      "percent_bc_gt_75\n",
      "+-------+------------------+\n",
      "|summary|percent_bc_gt_75  |\n",
      "+-------+------------------+\n",
      "|count  |20070             |\n",
      "|mean   |37.947419033383305|\n",
      "|stddev |36.10534101864352 |\n",
      "|min    |0.0               |\n",
      "|max    |100.0             |\n",
      "+-------+------------------+\n",
      "\n"
     ]
    }
   ],
   "source": [
    "doubleColumn.foreach( l => {\n",
    "    println(l)\n",
    "    df.describe(l).show(false)\n",
    "})"
   ]
  },
  {
   "cell_type": "markdown",
   "metadata": {},
   "source": [
    "# Correlation-Test"
   ]
  },
  {
   "cell_type": "code",
   "execution_count": 22,
   "metadata": {},
   "outputs": [
    {
     "data": {
      "text/plain": [
       "corrColumn: Array[String] = Array(loan_amnt, funded_amnt, funded_amnt_inv, int_rate, installment, annual_inc, dti, delinq_2yrs, inq_last_6mths, open_acc, pub_rec, revol_bal, revol_util, total_acc, out_prncp, out_prncp_inv, total_pymnt, total_pymnt_inv, total_rec_prncp, total_rec_int, total_rec_late_fee, recoveries, collection_recovery_fee, last_pymnt_amnt, collections_12_mths_ex_med, policy_code, acc_now_delinq, tot_coll_amt, tot_cur_bal, total_rev_hi_lim, acc_open_past_24mths, avg_cur_bal, bc_open_to_buy, bc_util, chargeoff_within_12_mths, delinq_amnt, mo_sin_old_il_acct, mo_sin_old_rev_tl_op, mo_sin_rcnt_rev_tl_op, mo_sin_rcnt_tl, mort_acc, mths_since_recent_bc, num_accts_ever_120_pd, num_actv_bc_tl, num_actv_rev_tl, num_bc_sats, num_bc_tl, num_il_tl, num_op_rev_tl, num_rev_accts, num..."
      ]
     },
     "execution_count": 22,
     "metadata": {},
     "output_type": "execute_result"
    }
   ],
   "source": [
    "var corrColumn = df.dtypes.filter(column => column._2 == \"IntegerType\" || column._2 == \"DoubleType\").map(_._1)"
   ]
  },
  {
   "cell_type": "code",
   "execution_count": 23,
   "metadata": {},
   "outputs": [
    {
     "data": {
      "text/plain": [
       "pairColumn: Array[(String, String)] = Array((loan_amnt,funded_amnt), (loan_amnt,funded_amnt_inv), (loan_amnt,int_rate), (loan_amnt,installment), (loan_amnt,annual_inc), (loan_amnt,dti), (loan_amnt,delinq_2yrs), (loan_amnt,inq_last_6mths), (loan_amnt,open_acc), (loan_amnt,pub_rec), (loan_amnt,revol_bal), (loan_amnt,revol_util), (loan_amnt,total_acc), (loan_amnt,out_prncp), (loan_amnt,out_prncp_inv), (loan_amnt,total_pymnt), (loan_amnt,total_pymnt_inv), (loan_amnt,total_rec_prncp), (loan_amnt,total_rec_int), (loan_amnt,total_rec_late_fee), (loan_amnt,recoveries), (loan_amnt,collection_recovery_fee), (loan_amnt,last_pymnt_amnt), (loan_amnt,collections_12_mths_ex_med), (loan_amnt,policy_code), (loan_amnt,acc_now_delinq), (loan_amnt,tot_coll_amt), (loan_amnt,tot_cur_bal), (loan_amnt,total_re..."
      ]
     },
     "execution_count": 23,
     "metadata": {},
     "output_type": "execute_result"
    }
   ],
   "source": [
    "var pairColumn = for (i <- corrColumn;\n",
    "                      j <- corrColumn if i != j) \n",
    "                      yield (i,j)"
   ]
  },
  {
   "cell_type": "code",
   "execution_count": 24,
   "metadata": {},
   "outputs": [
    {
     "data": {
      "text/plain": [
       "res11: Array[(String, String)] = Array((loan_amnt,funded_amnt_inv), (loan_amnt,int_rate))\n"
      ]
     },
     "execution_count": 24,
     "metadata": {},
     "output_type": "execute_result"
    }
   ],
   "source": [
    "pairColumn.slice(1,3)"
   ]
  },
  {
   "cell_type": "code",
   "execution_count": 25,
   "metadata": {},
   "outputs": [
    {
     "data": {
      "text/plain": [
       "import spark.implicits._\n"
      ]
     },
     "execution_count": 25,
     "metadata": {},
     "output_type": "execute_result"
    }
   ],
   "source": [
    "import spark.implicits._"
   ]
  },
  {
   "cell_type": "code",
   "execution_count": 26,
   "metadata": {},
   "outputs": [
    {
     "data": {
      "text/plain": [
       "corrMaxtrix: Seq[(String, String, Double)] = WrappedArray((loan_amnt,funded_amnt,1.0), (loan_amnt,funded_amnt_inv,0.9999945720567341), (loan_amnt,int_rate,0.10640651992579322), (loan_amnt,installment,0.9468955766694372), (loan_amnt,annual_inc,0.2658346611625201), (loan_amnt,dti,0.03703341497593725), (loan_amnt,delinq_2yrs,-0.013449464972462471), (loan_amnt,inq_last_6mths,-0.015938323536782824), (loan_amnt,open_acc,0.16595935582738355), (loan_amnt,pub_rec,-0.02637627622449269), (loan_amnt,revol_bal,0.3202576055020393), (loan_amnt,revol_util,0.106734642802165), (loan_amnt,total_acc,0.19088752917165777), (loan_amnt,out_prncp,0.6218975082209901), (loan_amnt,out_prncp_inv,0.6218744366203196), (loan_amnt,total_pymnt,0.7571617972179684), (loan_amnt,total_pymnt_inv,0.7571532331034271), (loan_am..."
      ]
     },
     "execution_count": 26,
     "metadata": {},
     "output_type": "execute_result"
    }
   ],
   "source": [
    "// This could take a while\n",
    "var corrMaxtrix = pairColumn.map{ case (x,y) => {\n",
    "    var corr = df.stat.corr(x,y)\n",
    "    (x,y,corr)\n",
    "}}.toSeq"
   ]
  },
  {
   "cell_type": "code",
   "execution_count": 27,
   "metadata": {},
   "outputs": [
    {
     "data": {
      "text/plain": [
       "corrMatrixDF: org.apache.spark.sql.DataFrame = [colA: string, colB: string ... 1 more field]\n"
      ]
     },
     "execution_count": 27,
     "metadata": {},
     "output_type": "execute_result"
    }
   ],
   "source": [
    "var corrMatrixDF = corrMaxtrix.toDF(\"colA\",\"colB\",\"corr\")"
   ]
  },
  {
   "cell_type": "code",
   "execution_count": 28,
   "metadata": {},
   "outputs": [
    {
     "name": "stdout",
     "output_type": "stream",
     "text": [
      "2019-05-26 15:46:59,283 WARN  [dispatcher-event-loop-1] scheduler.TaskSetManager (Logging.scala:logWarning(66)) - Stage 4572 contains a task of very large size (337 KB). The maximum recommended task size is 100 KB.\n",
      "+--------------------------+--------------------------+------------------+\n",
      "|colA                      |colB                      |corr              |\n",
      "+--------------------------+--------------------------+------------------+\n",
      "|funded_amnt               |loan_amnt                 |1.0               |\n",
      "|loan_amnt                 |funded_amnt               |1.0               |\n",
      "|out_prncp_inv             |out_prncp                 |0.9999980595265876|\n",
      "|out_prncp                 |out_prncp_inv             |0.9999980595265875|\n",
      "|total_pymnt               |total_pymnt_inv           |0.9999957370804069|\n",
      "|total_pymnt_inv           |total_pymnt               |0.9999957370804069|\n",
      "|loan_amnt                 |funded_amnt_inv           |0.9999945720567341|\n",
      "|funded_amnt_inv           |loan_amnt                 |0.9999945720567341|\n",
      "|funded_amnt               |funded_amnt_inv           |0.9999945720567341|\n",
      "|funded_amnt_inv           |funded_amnt               |0.9999945720567341|\n",
      "|open_acc                  |num_sats                  |0.9989371043263645|\n",
      "|num_sats                  |open_acc                  |0.9989371043263645|\n",
      "|tot_hi_cred_lim           |tot_cur_bal               |0.9833639662559486|\n",
      "|tot_cur_bal               |tot_hi_cred_lim           |0.9833639662559486|\n",
      "|recoveries                |collection_recovery_fee   |0.9815228724754784|\n",
      "|collection_recovery_fee   |recoveries                |0.9815228724754784|\n",
      "|num_rev_tl_bal_gt_0       |num_actv_rev_tl           |0.9781374910913118|\n",
      "|num_actv_rev_tl           |num_rev_tl_bal_gt_0       |0.9781374910913118|\n",
      "|total_pymnt               |total_rec_prncp           |0.9632271524648837|\n",
      "|total_rec_prncp           |total_pymnt               |0.9632271524648837|\n",
      "|total_rec_prncp           |total_pymnt_inv           |0.9632050640834173|\n",
      "|total_pymnt_inv           |total_rec_prncp           |0.9632050640834172|\n",
      "|installment               |loan_amnt                 |0.9468955766694372|\n",
      "|installment               |funded_amnt               |0.9468955766694372|\n",
      "|loan_amnt                 |installment               |0.9468955766694372|\n",
      "|funded_amnt               |installment               |0.9468955766694372|\n",
      "|installment               |funded_amnt_inv           |0.9467598319881245|\n",
      "|funded_amnt_inv           |installment               |0.9467598319881244|\n",
      "|total_il_high_credit_limit|total_bal_ex_mort         |0.8841923367894314|\n",
      "|total_bal_ex_mort         |total_il_high_credit_limit|0.8841923367894314|\n",
      "|bc_open_to_buy            |total_bc_limit            |0.8594470372529827|\n",
      "|total_bc_limit            |bc_open_to_buy            |0.8594470372529827|\n",
      "|bc_util                   |revol_util                |0.859043653970124 |\n",
      "|revol_util                |bc_util                   |0.859043653970124 |\n",
      "|bc_util                   |percent_bc_gt_75          |0.8442123383603063|\n",
      "|percent_bc_gt_75          |bc_util                   |0.8442123383603063|\n",
      "|num_op_rev_tl             |open_acc                  |0.8406044615792503|\n",
      "|open_acc                  |num_op_rev_tl             |0.8406044615792502|\n",
      "|num_op_rev_tl             |num_sats                  |0.8394489255062   |\n",
      "|num_sats                  |num_op_rev_tl             |0.8394489255062   |\n",
      "|num_rev_accts             |num_bc_tl                 |0.8371764059989194|\n",
      "|num_bc_tl                 |num_rev_accts             |0.8371764059989194|\n",
      "|num_actv_bc_tl            |num_bc_sats               |0.8309909089640294|\n",
      "|num_bc_sats               |num_actv_bc_tl            |0.8309909089640293|\n",
      "|num_actv_bc_tl            |num_actv_rev_tl           |0.8291271245473227|\n",
      "|num_actv_rev_tl           |num_actv_bc_tl            |0.8291271245473227|\n",
      "|acc_now_delinq            |num_tl_30dpd              |0.8257500982974508|\n",
      "|num_tl_30dpd              |acc_now_delinq            |0.8257500982974508|\n",
      "|num_rev_tl_bal_gt_0       |num_actv_bc_tl            |0.8235321983735234|\n",
      "|num_actv_bc_tl            |num_rev_tl_bal_gt_0       |0.8235321983735234|\n",
      "|tot_cur_bal               |avg_cur_bal               |0.8203004056828906|\n",
      "|avg_cur_bal               |tot_cur_bal               |0.8203004056828906|\n",
      "|total_rev_hi_lim          |total_bc_limit            |0.8199868752371103|\n",
      "|total_bc_limit            |total_rev_hi_lim          |0.8199868752371103|\n",
      "|num_op_rev_tl             |num_rev_accts             |0.8164717391956157|\n",
      "|num_rev_accts             |num_op_rev_tl             |0.8164717391956157|\n",
      "|num_rev_tl_bal_gt_0       |num_op_rev_tl             |0.7929481464194422|\n",
      "|num_op_rev_tl             |num_rev_tl_bal_gt_0       |0.7929481464194422|\n",
      "|revol_bal                 |total_rev_hi_lim          |0.790560807349579 |\n",
      "|total_rev_hi_lim          |revol_bal                 |0.790560807349579 |\n",
      "|num_bc_tl                 |num_bc_sats               |0.7905306042925353|\n",
      "|num_bc_sats               |num_bc_tl                 |0.7905306042925353|\n",
      "|last_pymnt_amnt           |total_rec_prncp           |0.7894679618130127|\n",
      "|total_rec_prncp           |last_pymnt_amnt           |0.7894679618130127|\n",
      "|num_actv_rev_tl           |num_op_rev_tl             |0.7884026653887216|\n",
      "|num_op_rev_tl             |num_actv_rev_tl           |0.7884026653887216|\n",
      "|avg_cur_bal               |tot_hi_cred_lim           |0.7832678155000906|\n",
      "|tot_hi_cred_lim           |avg_cur_bal               |0.7832678155000906|\n",
      "|installment               |total_pymnt               |0.7814073328756374|\n",
      "|total_pymnt               |installment               |0.7814073328756374|\n",
      "|total_pymnt_inv           |installment               |0.7813096208695153|\n",
      "|installment               |total_pymnt_inv           |0.7813096208695153|\n",
      "|num_bc_sats               |num_op_rev_tl             |0.7686209900386458|\n",
      "|num_op_rev_tl             |num_bc_sats               |0.7686209900386458|\n",
      "|total_acc                 |num_rev_accts             |0.7664780227325595|\n",
      "|num_rev_accts             |total_acc                 |0.7664780227325595|\n",
      "|num_tl_op_past_12m        |acc_open_past_24mths      |0.7602415995944196|\n",
      "|acc_open_past_24mths      |num_tl_op_past_12m        |0.7602415995944196|\n",
      "|total_pymnt               |funded_amnt               |0.7571617972179684|\n",
      "|total_pymnt               |loan_amnt                 |0.7571617972179684|\n",
      "|loan_amnt                 |total_pymnt               |0.7571617972179684|\n",
      "|funded_amnt               |total_pymnt               |0.7571617972179684|\n",
      "|total_pymnt_inv           |loan_amnt                 |0.7571532331034271|\n",
      "|total_pymnt_inv           |funded_amnt               |0.7571532331034271|\n",
      "|loan_amnt                 |total_pymnt_inv           |0.7571532331034271|\n",
      "|funded_amnt               |total_pymnt_inv           |0.7571532331034271|\n",
      "|total_pymnt_inv           |funded_amnt_inv           |0.7571264413189286|\n",
      "|funded_amnt_inv           |total_pymnt_inv           |0.7571264413189286|\n",
      "|funded_amnt_inv           |total_pymnt               |0.7571260971668367|\n",
      "|total_pymnt               |funded_amnt_inv           |0.7571260971668367|\n",
      "|revol_util                |percent_bc_gt_75          |0.7375680285220108|\n",
      "|percent_bc_gt_75          |revol_util                |0.7375680285220106|\n",
      "|open_acc                  |total_acc                 |0.7360261485882049|\n",
      "|total_acc                 |open_acc                  |0.7360261485882049|\n",
      "|num_sats                  |total_acc                 |0.7331496633222356|\n",
      "|total_acc                 |num_sats                  |0.7331496633222354|\n",
      "|funded_amnt_inv           |total_rec_int             |0.7201987501633851|\n",
      "|total_rec_int             |funded_amnt_inv           |0.720198750163385 |\n",
      "|loan_amnt                 |total_rec_int             |0.7200689790001893|\n",
      "|funded_amnt               |total_rec_int             |0.7200689790001893|\n",
      "+--------------------------+--------------------------+------------------+\n",
      "only showing top 100 rows\n",
      "\n"
     ]
    }
   ],
   "source": [
    "corrMatrixDF.na.drop.orderBy($\"corr\".desc).show(100,false)"
   ]
  },
  {
   "cell_type": "markdown",
   "metadata": {},
   "source": [
    "Column pairs with very high corr (>= 0.8), keep only the primary one. Drop the below columns:\n",
    "```\n",
    "funded_amnt\n",
    "out_prncp_inv\n",
    "total_pymnt_inv\n",
    "funded_amnt_inv\n",
    "num_stats\n",
    "tot_hi_cred_lim \n",
    "recoveries\n",
    "num_rev_tl_bal_gt_0\n",
    "total_rec_prncp\n",
    "total_pymnt_inv \n",
    "installment\n",
    "total_bal_ex_mort\n",
    "bc_open_to_buy\n",
    "bc_util\n",
    "num_op_rev_tl\n",
    "num_bc_tl\n",
    "num_actv_bc_tl\n",
    "num_tl_30dpd \n",
    "avg_cur_bal\n",
    "total_bc_limit\n",
    "```"
   ]
  },
  {
   "cell_type": "code",
   "execution_count": 29,
   "metadata": {},
   "outputs": [
    {
     "data": {
      "text/plain": [
       "colToDrop: List[String] = List(funded_amnt, out_prncp_inv, total_pymnt_inv, funded_amnt_inv, num_stats, \"tot_hi_cred_lim \", recoveries, num_rev_tl_bal_gt_0, total_pymnt_inv, installment, total_bal_ex_mort, bc_open_to_buy, bc_util, num_op_rev_tl, num_bc_tl, num_actv_bc_tl, num_tl_30dpd, avg_cur_bal, total_bc_limit, num_op_rev_tl)\n"
      ]
     },
     "execution_count": 29,
     "metadata": {},
     "output_type": "execute_result"
    }
   ],
   "source": [
    "//modified this list as there were some duplicates previously\n",
    "val colToDrop = List(\"funded_amnt\",\n",
    "                     \"out_prncp_inv\",\n",
    "                     \"total_pymnt_inv\",\n",
    "                     \"funded_amnt_inv\",\n",
    "                     \"num_stats\",\n",
    "                     \"tot_hi_cred_lim \",\n",
    "                     \"recoveries\",\n",
    "                     \"num_rev_tl_bal_gt_0\",\n",
    "                     \"total_pymnt_inv\",\n",
    "                     \"installment\",\n",
    "                     \"total_bal_ex_mort\",\n",
    "                     \"bc_open_to_buy\",\n",
    "                     \"bc_util\",\n",
    "                     \"num_op_rev_tl\",\n",
    "                     \"num_bc_tl\",\n",
    "                     \"num_actv_bc_tl\",\n",
    "                     \"num_tl_30dpd\",\n",
    "                     \"avg_cur_bal\",\n",
    "                     \"total_bc_limit\",\n",
    "                     \"num_op_rev_tl\")"
   ]
  },
  {
   "cell_type": "code",
   "execution_count": 30,
   "metadata": {},
   "outputs": [],
   "source": [
    "colToDrop.foreach(l => df = df.drop(l))"
   ]
  },
  {
   "cell_type": "code",
   "execution_count": 31,
   "metadata": {},
   "outputs": [
    {
     "data": {
      "text/plain": [
       "res14: Int = 63\n"
      ]
     },
     "execution_count": 31,
     "metadata": {},
     "output_type": "execute_result"
    }
   ],
   "source": [
    "// reduce to 63\n",
    "df.columns.toArray.size"
   ]
  },
  {
   "cell_type": "code",
   "execution_count": 36,
   "metadata": {},
   "outputs": [
    {
     "data": {
      "image/png": "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\n",
      "text/plain": [
       "<IPython.core.display.Image object>"
      ]
     },
     "execution_count": 36,
     "metadata": {},
     "output_type": "execute_result"
    }
   ],
   "source": [
    "%%python\n",
    "import matplotlib.pyplot as plt\n",
    "from IPython.display import Image\n",
    "import tempfile\n",
    "\n",
    "df = pandas.read_csv(\"Loan_2017_20k.csv\", delimiter = ',')\n",
    "\n",
    "plt.clf()\n",
    "plt.boxplot(df['loan_amnt'])\n",
    "plt.ylabel('some numbers')\n",
    "plt.legend()\n",
    "plt.title(\"Example Plot\")\n",
    "with tempfile.NamedTemporaryFile(suffix=\".png\") as fo:\n",
    "    plt.savefig(fo.name)\n",
    "    retval = Image(filename=fo.name)"
   ]
  },
  {
   "cell_type": "code",
   "execution_count": 37,
   "metadata": {},
   "outputs": [
    {
     "name": "stdout",
     "output_type": "stream",
     "text": [
      "root\n",
      " |-- loan_amnt: integer (nullable = false)\n",
      " |-- int_rate: double (nullable = false)\n",
      " |-- grade: string (nullable = false)\n",
      " |-- sub_grade: string (nullable = false)\n",
      " |-- emp_title: string (nullable = false)\n",
      " |-- emp_length: string (nullable = false)\n",
      " |-- home_ownership: string (nullable = false)\n",
      " |-- annual_inc: double (nullable = false)\n",
      " |-- verification_status: string (nullable = false)\n",
      " |-- issue_d: string (nullable = false)\n",
      " |-- purpose: string (nullable = false)\n",
      " |-- title: string (nullable = false)\n",
      " |-- zip_code: string (nullable = false)\n",
      " |-- addr_state: string (nullable = false)\n",
      " |-- dti: double (nullable = false)\n",
      " |-- delinq_2yrs: integer (nullable = false)\n",
      " |-- earliest_cr_line: string (nullable = false)\n",
      " |-- inq_last_6mths: integer (nullable = false)\n",
      " |-- open_acc: integer (nullable = false)\n",
      " |-- pub_rec: integer (nullable = false)\n",
      " |-- revol_bal: integer (nullable = false)\n",
      " |-- revol_util: double (nullable = false)\n",
      " |-- total_acc: integer (nullable = false)\n",
      " |-- out_prncp: double (nullable = false)\n",
      " |-- total_pymnt: double (nullable = false)\n",
      " |-- total_rec_prncp: double (nullable = false)\n",
      " |-- total_rec_int: double (nullable = false)\n",
      " |-- total_rec_late_fee: double (nullable = false)\n",
      " |-- collection_recovery_fee: double (nullable = false)\n",
      " |-- last_pymnt_d: string (nullable = false)\n",
      " |-- last_pymnt_amnt: double (nullable = false)\n",
      " |-- last_credit_pull_d: string (nullable = false)\n",
      " |-- collections_12_mths_ex_med: integer (nullable = false)\n",
      " |-- policy_code: integer (nullable = false)\n",
      " |-- acc_now_delinq: integer (nullable = false)\n",
      " |-- tot_coll_amt: integer (nullable = false)\n",
      " |-- tot_cur_bal: integer (nullable = false)\n",
      " |-- total_rev_hi_lim: integer (nullable = false)\n",
      " |-- acc_open_past_24mths: integer (nullable = false)\n",
      " |-- chargeoff_within_12_mths: double (nullable = false)\n",
      " |-- delinq_amnt: integer (nullable = false)\n",
      " |-- mo_sin_old_il_acct: double (nullable = false)\n",
      " |-- mo_sin_old_rev_tl_op: integer (nullable = false)\n",
      " |-- mo_sin_rcnt_rev_tl_op: integer (nullable = false)\n",
      " |-- mo_sin_rcnt_tl: integer (nullable = false)\n",
      " |-- mort_acc: integer (nullable = false)\n",
      " |-- mths_since_recent_bc: integer (nullable = false)\n",
      " |-- num_accts_ever_120_pd: integer (nullable = false)\n",
      " |-- num_actv_rev_tl: integer (nullable = false)\n",
      " |-- num_bc_sats: integer (nullable = false)\n",
      " |-- num_il_tl: integer (nullable = false)\n",
      " |-- num_rev_accts: integer (nullable = false)\n",
      " |-- num_sats: integer (nullable = false)\n",
      " |-- num_tl_120dpd_2m: integer (nullable = false)\n",
      " |-- num_tl_90g_dpd_24m: integer (nullable = false)\n",
      " |-- num_tl_op_past_12m: integer (nullable = false)\n",
      " |-- pct_tl_nvr_dlq: double (nullable = false)\n",
      " |-- percent_bc_gt_75: double (nullable = false)\n",
      " |-- pub_rec_bankruptcies: integer (nullable = false)\n",
      " |-- tax_liens: integer (nullable = false)\n",
      " |-- tot_hi_cred_lim: integer (nullable = false)\n",
      " |-- total_il_high_credit_limit: integer (nullable = false)\n",
      " |-- loan_status: integer (nullable = false)\n",
      "\n"
     ]
    }
   ],
   "source": [
    "df.printSchema"
   ]
  },
  {
   "cell_type": "code",
   "execution_count": 38,
   "metadata": {},
   "outputs": [],
   "source": [
    "df.repartition(1).write.mode(\"overwrite\").csv(\"Loan_2017_20k_alex.csv\")"
   ]
  },
  {
   "cell_type": "code",
   "execution_count": null,
   "metadata": {},
   "outputs": [],
   "source": []
  }
 ],
 "metadata": {
  "kernelspec": {
   "display_name": "spylon-kernel",
   "language": "scala",
   "name": "spylon-kernel"
  },
  "language_info": {
   "codemirror_mode": "text/x-scala",
   "file_extension": ".scala",
   "help_links": [
    {
     "text": "MetaKernel Magics",
     "url": "https://metakernel.readthedocs.io/en/latest/source/README.html"
    }
   ],
   "mimetype": "text/x-scala",
   "name": "scala",
   "pygments_lexer": "scala",
   "version": "0.4.1"
  }
 },
 "nbformat": 4,
 "nbformat_minor": 2
}
