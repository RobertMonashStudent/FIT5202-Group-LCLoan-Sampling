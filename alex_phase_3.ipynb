{
 "cells": [
  {
   "cell_type": "markdown",
   "metadata": {},
   "source": [
    "# Table of Content\n",
    "* [Read-CSV](#Read-CSV)\n",
    "* [Categorical-variables-handling](#Categorical-variables-handling)\n",
    "* [Numeric-variables-handing](#Numeric-variables-handing)\n",
    "* [Pipeline-to-process-all-variables](#Pipeline-to-process-all-variables)\n",
    "* [Create-features-and-label](#Create-features-and-label)\n",
    "* [Split-training-set-and-test-set](#Split-training-set-and-test-set)\n",
    "* [Logistic-Regression-fitting](#Logistic-Regression-fitting)\n",
    "* [Hyper-parameter-tunning-for-logistic-regression](#Hyper-parameter-tunning-for-logistic-regression)\n",
    "* [Decision-Tree-fitting](#Decision-Tree-fitting)\n",
    "* [Random-Forest-fitting](#Random-Forest-fitting)"
   ]
  },
  {
   "cell_type": "code",
   "execution_count": 1,
   "metadata": {},
   "outputs": [
    {
     "data": {
      "text/plain": [
       "Intitializing Scala interpreter ..."
      ]
     },
     "metadata": {},
     "output_type": "display_data"
    },
    {
     "data": {
      "text/plain": [
       "Spark Web UI available at http://994182a2b062:4040\n",
       "SparkContext available as 'sc' (version = 2.4.3, master = local[*], app id = local-1559706677931)\n",
       "SparkSession available as 'spark'\n"
      ]
     },
     "metadata": {},
     "output_type": "display_data"
    },
    {
     "data": {
      "text/plain": [
       "import org.apache.spark.ml.feature.StringIndexer\n",
       "import org.apache.spark.ml.feature.OneHotEncoderEstimator\n",
       "import org.apache.spark.ml.{Pipeline, PipelineModel}\n",
       "import org.apache.spark.ml.feature.StandardScaler\n",
       "import org.apache.spark.mllib.feature.Normalizer\n",
       "import org.apache.spark.ml.feature.VectorAssembler\n",
       "import org.apache.spark.ml.classification.LogisticRegression\n",
       "import org.apache.spark.sql._\n"
      ]
     },
     "execution_count": 1,
     "metadata": {},
     "output_type": "execute_result"
    }
   ],
   "source": [
    "import org.apache.spark.ml.feature.StringIndexer\n",
    "import org.apache.spark.ml.feature.OneHotEncoderEstimator\n",
    "import org.apache.spark.ml.{Pipeline, PipelineModel}\n",
    "import org.apache.spark.ml.feature.StandardScaler\n",
    "import org.apache.spark.mllib.feature.Normalizer\n",
    "import org.apache.spark.ml.feature.VectorAssembler\n",
    "import org.apache.spark.ml.classification.LogisticRegression\n",
    "import org.apache.spark.sql._"
   ]
  },
  {
   "cell_type": "markdown",
   "metadata": {},
   "source": [
    "# Read CSV\n",
    "\n",
    "Also invert the label\n",
    "* 1: bad loan\n",
    "* 0: good loan"
   ]
  },
  {
   "cell_type": "code",
   "execution_count": 2,
   "metadata": {},
   "outputs": [
    {
     "data": {
      "text/plain": [
       "invertLabel: org.apache.spark.sql.expressions.UserDefinedFunction = UserDefinedFunction(<function1>,IntegerType,Some(List(IntegerType)))\n"
      ]
     },
     "execution_count": 2,
     "metadata": {},
     "output_type": "execute_result"
    }
   ],
   "source": [
    "val invertLabel = udf((v: Int) => v match {\n",
    "    case 0 => 1\n",
    "    case 1 => 0\n",
    "})"
   ]
  },
  {
   "cell_type": "code",
   "execution_count": 3,
   "metadata": {},
   "outputs": [
    {
     "data": {
      "text/plain": [
       "df: org.apache.spark.sql.DataFrame = [loan_amnt: int, term: string ... 63 more fields]\n"
      ]
     },
     "execution_count": 3,
     "metadata": {},
     "output_type": "execute_result"
    }
   ],
   "source": [
    "val df = spark.read.format(\"csv\")\n",
    "  .option(\"inferSchema\", \"true\")\n",
    "  .option(\"header\", \"true\")\n",
    "  .load(\"LCLoan_Wrangled.csv\")\n",
    "  .withColumn(\"loan_status\",invertLabel($\"loan_status\"))"
   ]
  },
  {
   "cell_type": "markdown",
   "metadata": {},
   "source": [
    "# Categorical variables handling"
   ]
  },
  {
   "cell_type": "code",
   "execution_count": 4,
   "metadata": {},
   "outputs": [
    {
     "data": {
      "text/plain": [
       "categoricalColumns: Array[String] = Array(term, grade, sub_grade, emp_title, emp_length, home_ownership, verification_status, issue_d, purpose, title, zip_code, addr_state, earliest_cr_line, initial_list_status, last_pymnt_d, last_credit_pull_d, application_type)\n"
      ]
     },
     "execution_count": 4,
     "metadata": {},
     "output_type": "execute_result"
    }
   ],
   "source": [
    "val categoricalColumns = df.dtypes.filter(column => column._2 == \"StringType\").map(_._1)"
   ]
  },
  {
   "cell_type": "code",
   "execution_count": 5,
   "metadata": {},
   "outputs": [
    {
     "data": {
      "text/plain": [
       "categoricalFeatures: Array[org.apache.spark.ml.Estimator[_ >: org.apache.spark.ml.feature.OneHotEncoderModel with org.apache.spark.ml.feature.StringIndexerModel <: org.apache.spark.ml.Model[_ >: org.apache.spark.ml.feature.OneHotEncoderModel with org.apache.spark.ml.feature.StringIndexerModel <: org.apache.spark.ml.Transformer with org.apache.spark.ml.param.shared.HasHandleInvalid with org.apache.spark.ml.util.MLWritable] with org.apache.spark.ml.param.shared.HasHandleInvalid with org.apache.spark.ml.util.MLWritable] with org.apache.spark.ml.param.shared.HasHandleInvalid with org.apache.spark.ml.util.DefaultParamsWritable{def copy(extra: org.apache.spark.ml.param.ParamMap): org.apache.spark.ml.Estimator[_ >: org.apache.spark.ml.feature.OneHotEncoderModel with org.apache.spark.ml.feature..."
      ]
     },
     "execution_count": 5,
     "metadata": {},
     "output_type": "execute_result"
    }
   ],
   "source": [
    "val categoricalFeatures = categoricalColumns.flatMap{ name =>\n",
    "    \n",
    "    val stringIndexer = new StringIndexer()\n",
    "      .setInputCol(name)\n",
    "      .setOutputCol(name + \"_index\")\n",
    "      .setHandleInvalid(\"keep\")\n",
    "    \n",
    "    val oneHotEncoder = new OneHotEncoderEstimator()\n",
    "      .setInputCols(Array(name + \"_index\"))\n",
    "      .setOutputCols(Array(name + \"_vec\"))\n",
    "      .setDropLast(false)\n",
    "    \n",
    "    Array(stringIndexer, oneHotEncoder)\n",
    "}"
   ]
  },
  {
   "cell_type": "markdown",
   "metadata": {},
   "source": [
    "\n",
    "# Numeric variables handing"
   ]
  },
  {
   "cell_type": "code",
   "execution_count": 12,
   "metadata": {},
   "outputs": [
    {
     "data": {
      "text/plain": [
       "numericColumns: Array[String] = Array(loan_amnt, int_rate, annual_inc, dti, delinq_2yrs, inq_last_6mths, open_acc, pub_rec, revol_bal, revol_util, total_acc, out_prncp, total_pymnt, total_rec_int, total_rec_late_fee, collection_recovery_fee, last_pymnt_amnt, collections_12_mths_ex_med, policy_code, acc_now_delinq, tot_coll_amt, tot_cur_bal, total_rev_hi_lim, acc_open_past_24mths, chargeoff_within_12_mths, delinq_amnt, mo_sin_old_il_acct, mo_sin_old_rev_tl_op, mo_sin_rcnt_rev_tl_op, mo_sin_rcnt_tl, mort_acc, mths_since_recent_bc, num_accts_ever_120_pd, num_actv_rev_tl, num_bc_sats, num_il_tl, num_rev_accts, num_sats, num_tl_120dpd_2m, num_tl_90g_dpd_24m, num_tl_op_past_12m, pct_tl_nvr_dlq, percent_bc_gt_75, pub_rec_bankruptcies, tax_liens, tot_hi_cred_lim, total_il_high_credit_limit)\n"
      ]
     },
     "execution_count": 12,
     "metadata": {},
     "output_type": "execute_result"
    }
   ],
   "source": [
    "val numericColumns = df.dtypes.filter(column => column._2 == \"IntegerType\" || column._2 == \"DoubleType\").map(_._1)\n",
    "                    .filterNot( c => c == \"loan_status\" )"
   ]
  },
  {
   "cell_type": "code",
   "execution_count": 13,
   "metadata": {},
   "outputs": [
    {
     "data": {
      "text/plain": [
       "numericColumnsAssembler: org.apache.spark.ml.feature.VectorAssembler = vecAssembler_d37f19c654da\n"
      ]
     },
     "execution_count": 13,
     "metadata": {},
     "output_type": "execute_result"
    }
   ],
   "source": [
    "val numericColumnsAssembler = new VectorAssembler()\n",
    "  .setInputCols(numericColumns)\n",
    "  .setOutputCol(\"numerical_features\")"
   ]
  },
  {
   "cell_type": "code",
   "execution_count": 14,
   "metadata": {},
   "outputs": [
    {
     "data": {
      "text/plain": [
       "numericColumnsScaler: org.apache.spark.ml.feature.StandardScaler = stdScal_8f9332e793a1\n"
      ]
     },
     "execution_count": 14,
     "metadata": {},
     "output_type": "execute_result"
    }
   ],
   "source": [
    "val numericColumnsScaler = new StandardScaler()\n",
    "      .setInputCol(\"numerical_features\")\n",
    "      .setOutputCol(\"numerical_features\" + \"_vec\")\n",
    "      .setWithStd(true)\n",
    "      .setWithMean(true)"
   ]
  },
  {
   "cell_type": "markdown",
   "metadata": {},
   "source": [
    "# Pipeline to process all variables"
   ]
  },
  {
   "cell_type": "code",
   "execution_count": 15,
   "metadata": {},
   "outputs": [
    {
     "data": {
      "text/plain": [
       "pipeline: org.apache.spark.ml.Pipeline = pipeline_9517c01dfefa\n",
       "df_transformed: org.apache.spark.sql.DataFrame = [loan_amnt: int, term: string ... 99 more fields]\n"
      ]
     },
     "execution_count": 15,
     "metadata": {},
     "output_type": "execute_result"
    }
   ],
   "source": [
    "val pipeline = new Pipeline()\n",
    "  .setStages(categoricalFeatures ++ Array(numericColumnsAssembler,numericColumnsScaler) )\n",
    "\n",
    "val df_transformed = pipeline\n",
    "  .fit(df)\n",
    "  .transform(df)"
   ]
  },
  {
   "cell_type": "markdown",
   "metadata": {},
   "source": [
    "# Create features and label"
   ]
  },
  {
   "cell_type": "code",
   "execution_count": 16,
   "metadata": {},
   "outputs": [
    {
     "data": {
      "text/plain": [
       "featureColumns: Array[String] = Array(term_vec, grade_vec, sub_grade_vec, emp_title_vec, emp_length_vec, home_ownership_vec, verification_status_vec, issue_d_vec, purpose_vec, title_vec, zip_code_vec, addr_state_vec, earliest_cr_line_vec, initial_list_status_vec, last_pymnt_d_vec, last_credit_pull_d_vec, application_type_vec, numerical_features_vec)\n"
      ]
     },
     "execution_count": 16,
     "metadata": {},
     "output_type": "execute_result"
    }
   ],
   "source": [
    "val featureColumns = df_transformed.columns.filter(_.contains(\"_vec\"))"
   ]
  },
  {
   "cell_type": "code",
   "execution_count": 17,
   "metadata": {},
   "outputs": [
    {
     "name": "stdout",
     "output_type": "stream",
     "text": [
      "2019-06-05 03:54:10,601 WARN  [Thread-4] util.Utils (Logging.scala:logWarning(66)) - Truncated the string representation of a plan since it was too large. This behavior can be adjusted by setting 'spark.debug.maxToStringFields' in SparkEnv.conf.\n"
     ]
    },
    {
     "data": {
      "text/plain": [
       "featureColumnsAssembler: org.apache.spark.ml.feature.VectorAssembler = vecAssembler_84cec32346f7\n",
       "df_input: org.apache.spark.sql.DataFrame = [loan_amnt: int, term: string ... 101 more fields]\n"
      ]
     },
     "execution_count": 17,
     "metadata": {},
     "output_type": "execute_result"
    }
   ],
   "source": [
    "val featureColumnsAssembler = new VectorAssembler()\n",
    "  .setInputCols(featureColumns)\n",
    "  .setOutputCol(\"features\")\n",
    "\n",
    "val df_input = featureColumnsAssembler.transform(df_transformed).withColumn(\"label\",col(\"loan_status\"))"
   ]
  },
  {
   "cell_type": "markdown",
   "metadata": {},
   "source": [
    "# Split training set and test set"
   ]
  },
  {
   "cell_type": "code",
   "execution_count": 20,
   "metadata": {},
   "outputs": [
    {
     "data": {
      "text/plain": [
       "trainingData: org.apache.spark.sql.Dataset[org.apache.spark.sql.Row] = [loan_amnt: int, term: string ... 101 more fields]\n",
       "testData: org.apache.spark.sql.Dataset[org.apache.spark.sql.Row] = [loan_amnt: int, term: string ... 101 more fields]\n"
      ]
     },
     "execution_count": 20,
     "metadata": {},
     "output_type": "execute_result"
    }
   ],
   "source": [
    "val Array(trainingData, testData) = df_input.randomSplit(Array(0.8, 0.2), seed = 1234L)"
   ]
  },
  {
   "cell_type": "code",
   "execution_count": 21,
   "metadata": {},
   "outputs": [
    {
     "data": {
      "text/plain": [
       "res1: Long = 3967\n"
      ]
     },
     "execution_count": 21,
     "metadata": {},
     "output_type": "execute_result"
    }
   ],
   "source": [
    "testData.count"
   ]
  },
  {
   "cell_type": "code",
   "execution_count": 22,
   "metadata": {},
   "outputs": [
    {
     "data": {
      "text/plain": [
       "res2: Long = 16103\n"
      ]
     },
     "execution_count": 22,
     "metadata": {},
     "output_type": "execute_result"
    }
   ],
   "source": [
    "trainingData.count"
   ]
  },
  {
   "cell_type": "markdown",
   "metadata": {},
   "source": [
    "# Logistic Regression fitting"
   ]
  },
  {
   "cell_type": "code",
   "execution_count": 23,
   "metadata": {},
   "outputs": [
    {
     "data": {
      "text/plain": [
       "lr: org.apache.spark.ml.classification.LogisticRegression = logreg_b535cc854108\n"
      ]
     },
     "execution_count": 23,
     "metadata": {},
     "output_type": "execute_result"
    }
   ],
   "source": [
    "val lr = new LogisticRegression()\n",
    "//   .setMaxIter(100)\n",
    "//   .setRegParam(0.3)\n",
    "//   .setElasticNetParam(0.8)"
   ]
  },
  {
   "cell_type": "code",
   "execution_count": 24,
   "metadata": {},
   "outputs": [
    {
     "name": "stdout",
     "output_type": "stream",
     "text": [
      "2019-06-05 03:55:07,726 WARN  [Thread-4] netlib.BLAS (BLAS.java:<clinit>(61)) - Failed to load implementation from: com.github.fommil.netlib.NativeSystemBLAS\n",
      "2019-06-05 03:55:07,726 WARN  [Thread-4] netlib.BLAS (BLAS.java:<clinit>(61)) - Failed to load implementation from: com.github.fommil.netlib.NativeRefBLAS\n"
     ]
    },
    {
     "data": {
      "text/plain": [
       "lrModel: org.apache.spark.ml.classification.LogisticRegressionModel = LogisticRegressionModel: uid = logreg_b535cc854108, numClasses = 2, numFeatures = 10856\n"
      ]
     },
     "execution_count": 24,
     "metadata": {},
     "output_type": "execute_result"
    }
   ],
   "source": [
    "// Fit the model\n",
    "val lrModel = lr.fit(trainingData)"
   ]
  },
  {
   "cell_type": "markdown",
   "metadata": {},
   "source": [
    "## Training Summary"
   ]
  },
  {
   "cell_type": "code",
   "execution_count": 25,
   "metadata": {},
   "outputs": [
    {
     "name": "stdout",
     "output_type": "stream",
     "text": [
      "Accuracy: 1.0\n",
      "FPR: 0.0\n",
      "TPR: 1.0\n",
      "F-measure: 1.0\n",
      "Precision: 1.0\n",
      "Recall: 1.0\n"
     ]
    },
    {
     "data": {
      "text/plain": [
       "trainingSummary: org.apache.spark.ml.classification.BinaryLogisticRegressionTrainingSummary = org.apache.spark.ml.classification.BinaryLogisticRegressionTrainingSummaryImpl@1119d9d6\n",
       "accuracy: Double = 1.0\n",
       "falsePositiveRate: Double = 0.0\n",
       "truePositiveRate: Double = 1.0\n",
       "fMeasure: Double = 1.0\n",
       "precision: Double = 1.0\n",
       "recall: Double = 1.0\n"
      ]
     },
     "execution_count": 25,
     "metadata": {},
     "output_type": "execute_result"
    }
   ],
   "source": [
    "// Extract the summary from the returned LogisticRegressionModel instance trained in the earlier\n",
    "// example\n",
    "val trainingSummary = lrModel.binarySummary\n",
    "val accuracy = trainingSummary.accuracy\n",
    "val falsePositiveRate = trainingSummary.weightedFalsePositiveRate\n",
    "val truePositiveRate = trainingSummary.weightedTruePositiveRate\n",
    "val fMeasure = trainingSummary.weightedFMeasure\n",
    "val precision = trainingSummary.weightedPrecision\n",
    "val recall = trainingSummary.weightedRecall\n",
    "println(s\"Accuracy: $accuracy\\nFPR: $falsePositiveRate\\nTPR: $truePositiveRate\\n\" +\n",
    "  s\"F-measure: $fMeasure\\nPrecision: $precision\\nRecall: $recall\")"
   ]
  },
  {
   "cell_type": "code",
   "execution_count": 26,
   "metadata": {},
   "outputs": [
    {
     "name": "stdout",
     "output_type": "stream",
     "text": [
      "+--------------------+------------------+\n",
      "|                 FPR|               TPR|\n",
      "+--------------------+------------------+\n",
      "|                 0.0|               0.0|\n",
      "|                 0.0|0.9270205066344994|\n",
      "|0.001799930771893...|               1.0|\n",
      "|0.011976462443752164|               1.0|\n",
      "| 0.02215299411561094|               1.0|\n",
      "| 0.03232952578746971|               1.0|\n",
      "|0.042506057459328485|               1.0|\n",
      "|0.052682589131187264|               1.0|\n",
      "| 0.06285912080304604|               1.0|\n",
      "| 0.07303565247490482|               1.0|\n",
      "| 0.08321218414676358|               1.0|\n",
      "| 0.09338871581862236|               1.0|\n",
      "| 0.10356524749048114|               1.0|\n",
      "|  0.1137417791623399|               1.0|\n",
      "| 0.12391831083419869|               1.0|\n",
      "| 0.13409484250605747|               1.0|\n",
      "| 0.14427137417791625|               1.0|\n",
      "|   0.154447905849775|               1.0|\n",
      "| 0.16462443752163378|               1.0|\n",
      "| 0.17480096919349256|               1.0|\n",
      "+--------------------+------------------+\n",
      "only showing top 20 rows\n",
      "\n",
      "areaUnderROC: 0.9999343209820871\n"
     ]
    },
    {
     "data": {
      "text/plain": [
       "roc: org.apache.spark.sql.DataFrame = [FPR: double, TPR: double]\n"
      ]
     },
     "execution_count": 26,
     "metadata": {},
     "output_type": "execute_result"
    }
   ],
   "source": [
    "val roc = trainingSummary.roc\n",
    "roc.show()\n",
    "println(s\"areaUnderROC: ${trainingSummary.areaUnderROC}\")"
   ]
  },
  {
   "cell_type": "code",
   "execution_count": 27,
   "metadata": {},
   "outputs": [],
   "source": [
    "roc.createOrReplaceTempView(\"roc\")"
   ]
  },
  {
   "cell_type": "code",
   "execution_count": 28,
   "metadata": {},
   "outputs": [
    {
     "name": "stdout",
     "output_type": "stream",
     "text": [
      "Collecting pandas\n",
      "\u001b[?25l  Downloading https://files.pythonhosted.org/packages/19/74/e50234bc82c553fecdbd566d8650801e3fe2d6d8c8d940638e3d8a7c5522/pandas-0.24.2-cp36-cp36m-manylinux1_x86_64.whl (10.1MB)\n",
      "\u001b[K     |################################| 10.1MB 30.4MB/s eta 0:00:01\n",
      "\u001b[?25hRequirement already satisfied: python-dateutil>=2.5.0 in /usr/local/lib/python3.6/dist-packages (from pandas) (2.8.0)\n",
      "Collecting numpy>=1.12.0 (from pandas)\n",
      "\u001b[?25l  Downloading https://files.pythonhosted.org/packages/87/2d/e4656149cbadd3a8a0369fcd1a9c7d61cc7b87b3903b85389c70c989a696/numpy-1.16.4-cp36-cp36m-manylinux1_x86_64.whl (17.3MB)\n",
      "\u001b[K     |############################    | 15.4MB 51.0MB/s eta 0:00:01"
     ]
    },
    {
     "name": "stderr",
     "output_type": "stream",
     "text": [
      "IOPub message rate exceeded.\n",
      "The notebook server will temporarily stop sending output\n",
      "to the client in order to avoid crashing it.\n",
      "To change this limit, set the config variable\n",
      "`--NotebookApp.iopub_msg_rate_limit`.\n",
      "\n",
      "Current values:\n",
      "NotebookApp.iopub_msg_rate_limit=1000.0 (msgs/sec)\n",
      "NotebookApp.rate_limit_window=3.0 (secs)\n",
      "\n"
     ]
    },
    {
     "name": "stdout",
     "output_type": "stream",
     "text": [
      "Successfully installed numpy-1.16.4 pandas-0.24.2 pytz-2019.1\n",
      "Collecting matplotlib\n",
      "\u001b[?25l  Downloading https://files.pythonhosted.org/packages/da/83/d989ee20c78117c737ab40e0318ea221f1aed4e3f5a40b4f93541b369b93/matplotlib-3.1.0-cp36-cp36m-manylinux1_x86_64.whl (13.1MB)\n",
      "\u001b[K     |################################| 13.1MB 15.7MB/s eta 0:00:01\n",
      "\u001b[?25hRequirement already satisfied: python-dateutil>=2.1 in /usr/local/lib/python3.6/dist-packages (from matplotlib) (2.8.0)\n",
      "Collecting cycler>=0.10 (from matplotlib)\n",
      "  Downloading https://files.pythonhosted.org/packages/f7/d2/e07d3ebb2bd7af696440ce7e754c59dd546ffe1bbe732c8ab68b9c834e61/cycler-0.10.0-py2.py3-none-any.whl\n",
      "Requirement already satisfied: numpy>=1.11 in /usr/local/lib/python3.6/dist-packages (from matplotlib) (1.16.4)\n",
      "Collecting kiwisolver>=1.0.1 (from matplotlib)\n",
      "\u001b[?25l  Downloading https://files.pythonhosted.org/packages/f8/a1/5742b56282449b1c0968197f63eae486eca2c35dcd334bab75ad524e0de1/kiwisolver-1.1.0-cp36-cp36m-manylinux1_x86_64.whl (90kB)\n",
      "\u001b[K     |################################| 92kB 26.4MB/s eta 0:00:01\n",
      "\u001b[?25hCollecting pyparsing!=2.0.4,!=2.1.2,!=2.1.6,>=2.0.1 (from matplotlib)\n",
      "\u001b[?25l  Downloading https://files.pythonhosted.org/packages/dd/d9/3ec19e966301a6e25769976999bd7bbe552016f0d32b577dc9d63d2e0c49/pyparsing-2.4.0-py2.py3-none-any.whl (62kB)\n",
      "\u001b[K     |################################| 71kB 24.8MB/s eta 0:00:01\n",
      "\u001b[?25hRequirement already satisfied: six>=1.5 in /usr/lib/python3/dist-packages (from python-dateutil>=2.1->matplotlib) (1.11.0)\n",
      "Requirement already satisfied: setuptools in /usr/lib/python3/dist-packages (from kiwisolver>=1.0.1->matplotlib) (39.0.1)\n",
      "Installing collected packages: cycler, kiwisolver, pyparsing, matplotlib\n",
      "Successfully installed cycler-0.10.0 kiwisolver-1.1.0 matplotlib-3.1.0 pyparsing-2.4.0\n"
     ]
    }
   ],
   "source": [
    "! pip install pandas\n",
    "! pip install matplotlib"
   ]
  },
  {
   "cell_type": "code",
   "execution_count": 29,
   "metadata": {},
   "outputs": [
    {
     "name": "stdout",
     "output_type": "stream",
     "text": [
      "        FPR       TPR\n",
      "0  0.000000  0.000000\n",
      "1  0.000000  0.927021\n",
      "2  0.001800  1.000000\n",
      "3  0.011976  1.000000\n",
      "4  0.022153  1.000000\n"
     ]
    },
    {
     "data": {
      "image/png": "[encoded data removed]",
      "text/plain": [
       "<IPython.core.display.Image object>"
      ]
     },
     "execution_count": 29,
     "metadata": {},
     "output_type": "execute_result"
    }
   ],
   "source": [
    "%%python\n",
    "import pandas as pd\n",
    "import matplotlib.pyplot as plt\n",
    "import tempfile\n",
    "from IPython.display import Image\n",
    "\n",
    "roc = spark.sql(\"select * from roc\")\n",
    "rocPandas = roc.toPandas()\n",
    "print(rocPandas.head())\n",
    "plt.clf()\n",
    "plt.plot(rocPandas['FPR'],rocPandas['TPR'])\n",
    "with tempfile.NamedTemporaryFile(suffix=\".png\") as fo:\n",
    "    plt.savefig(fo.name)\n",
    "    retval = Image(filename=fo.name)"
   ]
  },
  {
   "cell_type": "markdown",
   "metadata": {},
   "source": [
    "## Prediction on test set"
   ]
  },
  {
   "cell_type": "code",
   "execution_count": 30,
   "metadata": {},
   "outputs": [
    {
     "data": {
      "text/plain": [
       "prediction: org.apache.spark.sql.DataFrame = [loan_amnt: int, term: string ... 104 more fields]\n"
      ]
     },
     "execution_count": 30,
     "metadata": {},
     "output_type": "execute_result"
    }
   ],
   "source": [
    "val prediction = lrModel.transform(testData)"
   ]
  },
  {
   "cell_type": "markdown",
   "metadata": {},
   "source": [
    "## Evaluation"
   ]
  },
  {
   "cell_type": "code",
   "execution_count": 31,
   "metadata": {},
   "outputs": [
    {
     "data": {
      "text/plain": [
       "evaluatePrediction: (prediction: org.apache.spark.sql.DataFrame)Unit\n"
      ]
     },
     "execution_count": 31,
     "metadata": {},
     "output_type": "execute_result"
    }
   ],
   "source": [
    "def evaluatePrediction(prediction: DataFrame) = {\n",
    "    prediction.createOrReplaceTempView(\"prediction\")\n",
    "    \n",
    "    spark.sql(\"\"\"\n",
    "select label,prediction,count(1) from prediction group by label,prediction\n",
    "\"\"\").show(false)\n",
    "    \n",
    "    spark.sql(\"\"\"\n",
    "select \n",
    "(TP+TN)/(P+N) as Accuracy,\n",
    "TP/(TP+FP) as Precision,\n",
    "TP/(TP+FN) as Recall,\n",
    "2*TP/(2*TP+FP+FN) as F1\n",
    "from (\n",
    "    select \n",
    "    count(1) as total, \n",
    "    sum(case when label = 1 and prediction = 1 then 1 else 0 end) as TP,\n",
    "    sum(case when label = 0 and prediction = 0 then 1 else 0 end) as TN,\n",
    "    sum(case when label = 0 and prediction = 1 then 1 else 0 end) as FP,\n",
    "    sum(case when label = 1 and prediction = 0 then 1 else 0 end) as FN,\n",
    "    sum(case when label = 1 then 1 else 0 end) as P,\n",
    "    sum(case when label = 0 then 1 else 0 end) as N\n",
    "    from prediction\n",
    "    )\n",
    "\"\"\").show(false)\n",
    "}"
   ]
  },
  {
   "cell_type": "code",
   "execution_count": 32,
   "metadata": {},
   "outputs": [
    {
     "name": "stdout",
     "output_type": "stream",
     "text": [
      "+-----+----------+--------+\n",
      "|label|prediction|count(1)|\n",
      "+-----+----------+--------+\n",
      "|1    |0.0       |128     |\n",
      "|0    |0.0       |3423    |\n",
      "|1    |1.0       |300     |\n",
      "|0    |1.0       |116     |\n",
      "+-----+----------+--------+\n",
      "\n",
      "+------------------+------------------+------------------+------------------+\n",
      "|Accuracy          |Precision         |Recall            |F1                |\n",
      "+------------------+------------------+------------------+------------------+\n",
      "|0.9384925636501135|0.7211538461538461|0.7009345794392523|0.7109004739336493|\n",
      "+------------------+------------------+------------------+------------------+\n",
      "\n"
     ]
    }
   ],
   "source": [
    "evaluatePrediction(prediction)"
   ]
  },
  {
   "cell_type": "markdown",
   "metadata": {},
   "source": [
    "# Decision Tree fitting"
   ]
  },
  {
   "cell_type": "code",
   "execution_count": 33,
   "metadata": {},
   "outputs": [
    {
     "data": {
      "text/plain": [
       "import org.apache.spark.ml.classification.DecisionTreeClassificationModel\n",
       "import org.apache.spark.ml.classification.DecisionTreeClassifier\n",
       "import org.apache.spark.ml.evaluation.MulticlassClassificationEvaluator\n",
       "dt: org.apache.spark.ml.classification.DecisionTreeClassifier = dtc_b7967bbf6db0\n"
      ]
     },
     "execution_count": 33,
     "metadata": {},
     "output_type": "execute_result"
    }
   ],
   "source": [
    "import org.apache.spark.ml.classification.DecisionTreeClassificationModel\n",
    "import org.apache.spark.ml.classification.DecisionTreeClassifier\n",
    "import org.apache.spark.ml.evaluation.MulticlassClassificationEvaluator\n",
    "\n",
    "val dt = new DecisionTreeClassifier()\n",
    "  .setLabelCol(\"label\")\n",
    "  .setFeaturesCol(\"features\")"
   ]
  },
  {
   "cell_type": "code",
   "execution_count": 34,
   "metadata": {},
   "outputs": [
    {
     "name": "stdout",
     "output_type": "stream",
     "text": [
      "2019-06-05 03:56:29,337 WARN  [Executor task launch worker for task 418] memory.MemoryStore (Logging.scala:logWarning(66)) - Not enough space to cache rdd_495_1 in memory! (computed 140.4 MB so far)\n",
      "2019-06-05 03:56:29,341 WARN  [Executor task launch worker for task 418] storage.BlockManager (Logging.scala:logWarning(66)) - Persisting block rdd_495_1 to disk instead.\n",
      "2019-06-05 03:56:30,778 WARN  [Executor task launch worker for task 417] memory.MemoryStore (Logging.scala:logWarning(66)) - Not enough space to cache rdd_495_0 in memory! (computed 210.9 MB so far)\n",
      "2019-06-05 03:56:30,778 WARN  [Executor task launch worker for task 417] storage.BlockManager (Logging.scala:logWarning(66)) - Persisting block rdd_495_0 to disk instead.\n",
      "2019-06-05 03:56:31,771 WARN  [Executor task launch worker for task 418] memory.MemoryStore (Logging.scala:logWarning(66)) - Not enough space to cache rdd_495_1 in memory! (computed 210.9 MB so far)\n",
      "2019-06-05 03:56:34,408 WARN  [Executor task launch worker for task 417] memory.MemoryStore (Logging.scala:logWarning(66)) - Not enough space to cache rdd_495_0 in memory! (computed 316.5 MB so far)\n",
      "2019-06-05 03:56:35,646 WARN  [Executor task launch worker for task 422] memory.MemoryStore (Logging.scala:logWarning(66)) - Not enough space to cache rdd_495_1 in memory! (computed 140.4 MB so far)\n",
      "2019-06-05 03:56:35,926 WARN  [Executor task launch worker for task 421] memory.MemoryStore (Logging.scala:logWarning(66)) - Not enough space to cache rdd_495_0 in memory! (computed 316.5 MB so far)\n",
      "2019-06-05 03:56:37,167 WARN  [Executor task launch worker for task 425] memory.MemoryStore (Logging.scala:logWarning(66)) - Not enough space to cache rdd_495_0 in memory! (computed 140.4 MB so far)\n",
      "2019-06-05 03:56:38,437 WARN  [Executor task launch worker for task 429] memory.MemoryStore (Logging.scala:logWarning(66)) - Not enough space to cache rdd_495_0 in memory! (computed 91.3 MB so far)\n",
      "2019-06-05 03:56:39,352 WARN  [Executor task launch worker for task 433] memory.MemoryStore (Logging.scala:logWarning(66)) - Not enough space to cache rdd_495_0 in memory! (computed 91.3 MB so far)\n"
     ]
    },
    {
     "data": {
      "text/plain": [
       "model: org.apache.spark.ml.classification.DecisionTreeClassificationModel = DecisionTreeClassificationModel (uid=dtc_b7967bbf6db0) of depth 5 with 27 nodes\n",
       "prediction: org.apache.spark.sql.DataFrame = [loan_amnt: int, term: string ... 104 more fields]\n"
      ]
     },
     "execution_count": 34,
     "metadata": {},
     "output_type": "execute_result"
    }
   ],
   "source": [
    "val model = dt.fit(trainingData)\n",
    "val prediction = model.transform(testData)"
   ]
  },
  {
   "cell_type": "code",
   "execution_count": 35,
   "metadata": {},
   "outputs": [
    {
     "name": "stdout",
     "output_type": "stream",
     "text": [
      "+-----+----------+--------+\n",
      "|label|prediction|count(1)|\n",
      "+-----+----------+--------+\n",
      "|1    |0.0       |59      |\n",
      "|0    |0.0       |3477    |\n",
      "|1    |1.0       |369     |\n",
      "|0    |1.0       |62      |\n",
      "+-----+----------+--------+\n",
      "\n",
      "+------------------+------------------+------------------+------------------+\n",
      "|Accuracy          |Precision         |Recall            |F1                |\n",
      "+------------------+------------------+------------------+------------------+\n",
      "|0.9694983614822283|0.8561484918793504|0.8621495327102804|0.8591385331781141|\n",
      "+------------------+------------------+------------------+------------------+\n",
      "\n"
     ]
    }
   ],
   "source": [
    "evaluatePrediction(prediction)"
   ]
  },
  {
   "cell_type": "markdown",
   "metadata": {},
   "source": [
    "# Random Forest fitting"
   ]
  },
  {
   "cell_type": "code",
   "execution_count": 36,
   "metadata": {},
   "outputs": [
    {
     "data": {
      "text/plain": [
       "import org.apache.spark.ml.classification.{RandomForestClassificationModel, RandomForestClassifier}\n",
       "import org.apache.spark.ml.evaluation.MulticlassClassificationEvaluator\n"
      ]
     },
     "execution_count": 36,
     "metadata": {},
     "output_type": "execute_result"
    }
   ],
   "source": [
    "import org.apache.spark.ml.classification.{RandomForestClassificationModel, RandomForestClassifier}\n",
    "import org.apache.spark.ml.evaluation.MulticlassClassificationEvaluator"
   ]
  },
  {
   "cell_type": "code",
   "execution_count": 40,
   "metadata": {},
   "outputs": [
    {
     "data": {
      "text/plain": [
       "rf: org.apache.spark.ml.classification.RandomForestClassifier = rfc_bd8a1872fcaf\n"
      ]
     },
     "execution_count": 40,
     "metadata": {},
     "output_type": "execute_result"
    }
   ],
   "source": [
    "val rf = new RandomForestClassifier()\n",
    "  .setLabelCol(\"label\")\n",
    "  .setFeaturesCol(\"features\")\n",
    "//   .setNumTrees(100)"
   ]
  },
  {
   "cell_type": "code",
   "execution_count": 41,
   "metadata": {},
   "outputs": [
    {
     "name": "stdout",
     "output_type": "stream",
     "text": [
      "2019-06-05 03:58:18,561 WARN  [Executor task launch worker for task 889] memory.MemoryStore (Logging.scala:logWarning(66)) - Not enough space to cache rdd_761_1 in memory! (computed 140.9 MB so far)\n",
      "2019-06-05 03:58:18,562 WARN  [Executor task launch worker for task 889] storage.BlockManager (Logging.scala:logWarning(66)) - Persisting block rdd_761_1 to disk instead.\n",
      "2019-06-05 03:58:20,649 WARN  [Executor task launch worker for task 888] memory.MemoryStore (Logging.scala:logWarning(66)) - Not enough space to cache rdd_761_0 in memory! (computed 211.6 MB so far)\n",
      "2019-06-05 03:58:20,649 WARN  [Executor task launch worker for task 888] storage.BlockManager (Logging.scala:logWarning(66)) - Persisting block rdd_761_0 to disk instead.\n",
      "2019-06-05 03:58:21,329 WARN  [Executor task launch worker for task 889] memory.MemoryStore (Logging.scala:logWarning(66)) - Not enough space to cache rdd_761_1 in memory! (computed 211.6 MB so far)\n",
      "2019-06-05 03:58:24,105 WARN  [Executor task launch worker for task 888] memory.MemoryStore (Logging.scala:logWarning(66)) - Not enough space to cache rdd_761_0 in memory! (computed 317.6 MB so far)\n",
      "2019-06-05 03:58:25,198 WARN  [Executor task launch worker for task 893] memory.MemoryStore (Logging.scala:logWarning(66)) - Not enough space to cache rdd_761_1 in memory! (computed 140.9 MB so far)\n",
      "2019-06-05 03:58:25,449 WARN  [Executor task launch worker for task 892] memory.MemoryStore (Logging.scala:logWarning(66)) - Not enough space to cache rdd_761_0 in memory! (computed 317.6 MB so far)\n",
      "2019-06-05 03:58:26,573 WARN  [Executor task launch worker for task 896] memory.MemoryStore (Logging.scala:logWarning(66)) - Not enough space to cache rdd_761_0 in memory! (computed 140.9 MB so far)\n",
      "2019-06-05 03:58:27,611 WARN  [Executor task launch worker for task 900] memory.MemoryStore (Logging.scala:logWarning(66)) - Not enough space to cache rdd_761_0 in memory! (computed 91.6 MB so far)\n",
      "2019-06-05 03:58:28,729 WARN  [Executor task launch worker for task 904] memory.MemoryStore (Logging.scala:logWarning(66)) - Not enough space to cache rdd_761_0 in memory! (computed 91.6 MB so far)\n"
     ]
    },
    {
     "data": {
      "text/plain": [
       "model: org.apache.spark.ml.classification.RandomForestClassificationModel = RandomForestClassificationModel (uid=rfc_bd8a1872fcaf) with 20 trees\n",
       "prediction: org.apache.spark.sql.DataFrame = [loan_amnt: int, term: string ... 104 more fields]\n"
      ]
     },
     "execution_count": 41,
     "metadata": {},
     "output_type": "execute_result"
    }
   ],
   "source": [
    "val model = rf.fit(trainingData)\n",
    "val prediction = model.transform(testData)"
   ]
  },
  {
   "cell_type": "code",
   "execution_count": 42,
   "metadata": {},
   "outputs": [
    {
     "name": "stdout",
     "output_type": "stream",
     "text": [
      "+-----+----------+--------+\n",
      "|label|prediction|count(1)|\n",
      "+-----+----------+--------+\n",
      "|1    |0.0       |428     |\n",
      "|0    |0.0       |3539    |\n",
      "+-----+----------+--------+\n",
      "\n",
      "+------------------+---------+------+---+\n",
      "|Accuracy          |Precision|Recall|F1 |\n",
      "+------------------+---------+------+---+\n",
      "|0.8921099067305268|null     |0.0   |0.0|\n",
      "+------------------+---------+------+---+\n",
      "\n"
     ]
    }
   ],
   "source": [
    "evaluatePrediction(prediction)"
   ]
  }
 ],
 "metadata": {
  "kernelspec": {
   "display_name": "spylon-kernel",
   "language": "scala",
   "name": "spylon-kernel"
  },
  "language_info": {
   "codemirror_mode": "text/x-scala",
   "file_extension": ".scala",
   "help_links": [
    {
     "text": "MetaKernel Magics",
     "url": "https://metakernel.readthedocs.io/en/latest/source/README.html"
    }
   ],
   "mimetype": "text/x-scala",
   "name": "scala",
   "pygments_lexer": "scala",
   "version": "0.4.1"
  }
 },
 "nbformat": 4,
 "nbformat_minor": 2
}
