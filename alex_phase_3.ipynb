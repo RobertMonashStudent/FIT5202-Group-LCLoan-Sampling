{
 "cells": [
  {
   "cell_type": "markdown",
   "metadata": {},
   "source": [
    "# Table of Content\n",
    "* [Read-CSV](#Read-CSV)\n",
    "* [Categorical-variables-handling](#Categorical-variables-handling)\n",
    "* [Numeric-variables-handing](#Numeric-variables-handing)\n",
    "* [Pipeline-to-process-all-variables](#Pipeline-to-process-all-variables)\n",
    "* [Create-features-and-label](#Create-features-and-label)\n",
    "* [Split-training-set-and-test-set](#Split-training-set-and-test-set)\n",
    "* [Logistic-Regression-fitting](#Logistic-Regression-fitting)\n",
    "* [Hyper-parameter-tunning-for-logistic-regression](#Hyper-parameter-tunning-for-logistic-regression)\n",
    "* [Decision-Tree-fitting](#Decision-Tree-fitting)\n",
    "* [Random-Forest-fitting](#Random-Forest-fitting)"
   ]
  },
  {
   "cell_type": "code",
   "execution_count": 136,
   "metadata": {},
   "outputs": [
    {
     "data": {
      "text/plain": [
       "import org.apache.spark.ml.feature.StringIndexer\n",
       "import org.apache.spark.ml.feature.OneHotEncoderEstimator\n",
       "import org.apache.spark.ml.{Pipeline, PipelineModel}\n",
       "import org.apache.spark.ml.feature.StandardScaler\n",
       "import org.apache.spark.mllib.feature.Normalizer\n",
       "import org.apache.spark.ml.feature.VectorAssembler\n",
       "import org.apache.spark.ml.classification.LogisticRegression\n",
       "import org.apache.spark.sql._\n"
      ]
     },
     "execution_count": 136,
     "metadata": {},
     "output_type": "execute_result"
    }
   ],
   "source": [
    "import org.apache.spark.ml.feature.StringIndexer\n",
    "import org.apache.spark.ml.feature.OneHotEncoderEstimator\n",
    "import org.apache.spark.ml.{Pipeline, PipelineModel}\n",
    "import org.apache.spark.ml.feature.StandardScaler\n",
    "import org.apache.spark.mllib.feature.Normalizer\n",
    "import org.apache.spark.ml.feature.VectorAssembler\n",
    "import org.apache.spark.ml.classification.LogisticRegression\n",
    "import org.apache.spark.sql._"
   ]
  },
  {
   "cell_type": "markdown",
   "metadata": {},
   "source": [
    "# Read CSV\n",
    "\n",
    "Also invert the label\n",
    "* 1: bad loan\n",
    "* 0: good loan"
   ]
  },
  {
   "cell_type": "code",
   "execution_count": 164,
   "metadata": {},
   "outputs": [
    {
     "data": {
      "text/plain": [
       "invertLabel: org.apache.spark.sql.expressions.UserDefinedFunction = UserDefinedFunction(<function1>,IntegerType,Some(List(IntegerType)))\n"
      ]
     },
     "execution_count": 164,
     "metadata": {},
     "output_type": "execute_result"
    }
   ],
   "source": [
    "val invertLabel = udf((v: Int) => v match {\n",
    "    case 0 => 1\n",
    "    case 1 => 0\n",
    "})"
   ]
  },
  {
   "cell_type": "code",
   "execution_count": 166,
   "metadata": {},
   "outputs": [
    {
     "data": {
      "text/plain": [
       "df: org.apache.spark.sql.DataFrame = [loan_amnt: int, term: string ... 63 more fields]\n"
      ]
     },
     "execution_count": 166,
     "metadata": {},
     "output_type": "execute_result"
    }
   ],
   "source": [
    "val df = spark.read.format(\"csv\")\n",
    "  .option(\"inferSchema\", \"true\")\n",
    "  .option(\"header\", \"true\")\n",
    "  .load(\"LCLoan_Wrangled.csv\")\n",
    "  .withColumn(\"loan_status\",invertLabel($\"loan_status\"))"
   ]
  },
  {
   "cell_type": "markdown",
   "metadata": {},
   "source": [
    "# Categorical variables handling"
   ]
  },
  {
   "cell_type": "code",
   "execution_count": 167,
   "metadata": {},
   "outputs": [
    {
     "data": {
      "text/plain": [
       "categoricalColumns: Array[String] = Array(term, grade, sub_grade, emp_title, emp_length, home_ownership, verification_status, issue_d, purpose, title, zip_code, addr_state, earliest_cr_line, initial_list_status, last_pymnt_d, last_credit_pull_d, application_type)\n"
      ]
     },
     "execution_count": 167,
     "metadata": {},
     "output_type": "execute_result"
    }
   ],
   "source": [
    "val categoricalColumns = df.dtypes.filter(column => column._2 == \"StringType\").map(_._1)"
   ]
  },
  {
   "cell_type": "code",
   "execution_count": 168,
   "metadata": {},
   "outputs": [
    {
     "data": {
      "text/plain": [
       "categoricalFeatures: Array[org.apache.spark.ml.Estimator[_ >: org.apache.spark.ml.feature.OneHotEncoderModel with org.apache.spark.ml.feature.StringIndexerModel <: org.apache.spark.ml.Model[_ >: org.apache.spark.ml.feature.OneHotEncoderModel with org.apache.spark.ml.feature.StringIndexerModel <: org.apache.spark.ml.Transformer with org.apache.spark.ml.param.shared.HasHandleInvalid with org.apache.spark.ml.util.MLWritable] with org.apache.spark.ml.param.shared.HasHandleInvalid with org.apache.spark.ml.util.MLWritable] with org.apache.spark.ml.param.shared.HasHandleInvalid with org.apache.spark.ml.util.DefaultParamsWritable{def copy(extra: org.apache.spark.ml.param.ParamMap): org.apache.spark.ml.Estimator[_ >: org.apache.spark.ml.feature.OneHotEncoderModel with org.apache.spark.ml.feature..."
      ]
     },
     "execution_count": 168,
     "metadata": {},
     "output_type": "execute_result"
    }
   ],
   "source": [
    "val categoricalFeatures = categoricalColumns.flatMap{ name =>\n",
    "    \n",
    "    val stringIndexer = new StringIndexer()\n",
    "      .setInputCol(name)\n",
    "      .setOutputCol(name + \"_index\")\n",
    "      .setHandleInvalid(\"keep\")\n",
    "    \n",
    "    val oneHotEncoder = new OneHotEncoderEstimator()\n",
    "      .setInputCols(Array(name + \"_index\"))\n",
    "      .setOutputCols(Array(name + \"_vec\"))\n",
    "      .setDropLast(false)\n",
    "    \n",
    "    Array(stringIndexer, oneHotEncoder)\n",
    "}"
   ]
  },
  {
   "cell_type": "markdown",
   "metadata": {},
   "source": [
    "\n",
    "# Numeric variables handing"
   ]
  },
  {
   "cell_type": "code",
   "execution_count": 169,
   "metadata": {},
   "outputs": [
    {
     "data": {
      "text/plain": [
       "numericColumns: Array[String] = Array(loan_amnt, int_rate, annual_inc, dti, delinq_2yrs, inq_last_6mths, open_acc, pub_rec, revol_bal, revol_util, total_acc, out_prncp, total_pymnt, total_rec_int, total_rec_late_fee, collection_recovery_fee, last_pymnt_amnt, collections_12_mths_ex_med, policy_code, acc_now_delinq, tot_coll_amt, tot_cur_bal, total_rev_hi_lim, acc_open_past_24mths, chargeoff_within_12_mths, delinq_amnt, mo_sin_old_il_acct, mo_sin_old_rev_tl_op, mo_sin_rcnt_rev_tl_op, mo_sin_rcnt_tl, mort_acc, mths_since_recent_bc, num_accts_ever_120_pd, num_actv_rev_tl, num_bc_sats, num_il_tl, num_rev_accts, num_sats, num_tl_120dpd_2m, num_tl_90g_dpd_24m, num_tl_op_past_12m, pct_tl_nvr_dlq, percent_bc_gt_75, pub_rec_bankruptcies, tax_liens, tot_hi_cred_lim, total_il_high_credit_limit, loa..."
      ]
     },
     "execution_count": 169,
     "metadata": {},
     "output_type": "execute_result"
    }
   ],
   "source": [
    "val numericColumns = df.dtypes.filter(column => column._2 == \"IntegerType\" || column._2 == \"DoubleType\").map(_._1)"
   ]
  },
  {
   "cell_type": "code",
   "execution_count": 170,
   "metadata": {},
   "outputs": [
    {
     "data": {
      "text/plain": [
       "numericColumnsAssembler: org.apache.spark.ml.feature.VectorAssembler = vecAssembler_4660d8d961f4\n"
      ]
     },
     "execution_count": 170,
     "metadata": {},
     "output_type": "execute_result"
    }
   ],
   "source": [
    "val numericColumnsAssembler = new VectorAssembler()\n",
    "  .setInputCols(numericColumns)\n",
    "  .setOutputCol(\"numerical_features\")"
   ]
  },
  {
   "cell_type": "code",
   "execution_count": 171,
   "metadata": {},
   "outputs": [
    {
     "data": {
      "text/plain": [
       "numericColumnsScaler: org.apache.spark.ml.feature.StandardScaler = stdScal_c1fd62652589\n"
      ]
     },
     "execution_count": 171,
     "metadata": {},
     "output_type": "execute_result"
    }
   ],
   "source": [
    "val numericColumnsScaler = new StandardScaler()\n",
    "      .setInputCol(\"numerical_features\")\n",
    "      .setOutputCol(\"numerical_features\" + \"_vec\")\n",
    "      .setWithStd(true)\n",
    "      .setWithMean(true)"
   ]
  },
  {
   "cell_type": "markdown",
   "metadata": {},
   "source": [
    "# Pipeline to process all variables"
   ]
  },
  {
   "cell_type": "code",
   "execution_count": 172,
   "metadata": {},
   "outputs": [
    {
     "data": {
      "text/plain": [
       "pipeline: org.apache.spark.ml.Pipeline = pipeline_643c7147b130\n",
       "df_transformed: org.apache.spark.sql.DataFrame = [loan_amnt: int, term: string ... 99 more fields]\n"
      ]
     },
     "execution_count": 172,
     "metadata": {},
     "output_type": "execute_result"
    }
   ],
   "source": [
    "val pipeline = new Pipeline()\n",
    "  .setStages(categoricalFeatures ++ Array(numericColumnsAssembler,numericColumnsScaler) )\n",
    "\n",
    "val df_transformed = pipeline\n",
    "  .fit(df)\n",
    "  .transform(df)"
   ]
  },
  {
   "cell_type": "markdown",
   "metadata": {},
   "source": [
    "# Create features and label"
   ]
  },
  {
   "cell_type": "code",
   "execution_count": 173,
   "metadata": {},
   "outputs": [
    {
     "data": {
      "text/plain": [
       "featureColumns: Array[String] = Array(term_vec, grade_vec, sub_grade_vec, emp_title_vec, emp_length_vec, home_ownership_vec, verification_status_vec, issue_d_vec, purpose_vec, title_vec, zip_code_vec, addr_state_vec, earliest_cr_line_vec, initial_list_status_vec, last_pymnt_d_vec, last_credit_pull_d_vec, application_type_vec, numerical_features_vec)\n"
      ]
     },
     "execution_count": 173,
     "metadata": {},
     "output_type": "execute_result"
    }
   ],
   "source": [
    "val featureColumns = df_transformed.columns.filter(_.contains(\"_vec\"))"
   ]
  },
  {
   "cell_type": "code",
   "execution_count": 175,
   "metadata": {},
   "outputs": [
    {
     "data": {
      "text/plain": [
       "featureColumnsAssembler: org.apache.spark.ml.feature.VectorAssembler = vecAssembler_bc5d983169de\n",
       "df_input: org.apache.spark.sql.DataFrame = [loan_amnt: int, term: string ... 101 more fields]\n"
      ]
     },
     "execution_count": 175,
     "metadata": {},
     "output_type": "execute_result"
    }
   ],
   "source": [
    "val featureColumnsAssembler = new VectorAssembler()\n",
    "  .setInputCols(featureColumns)\n",
    "  .setOutputCol(\"features\")\n",
    "\n",
    "val df_input = featureColumnsAssembler.transform(df_transformed).withColumn(\"label\",col(\"loan_status\"))"
   ]
  },
  {
   "cell_type": "markdown",
   "metadata": {},
   "source": [
    "# Split training set and test set"
   ]
  },
  {
   "cell_type": "code",
   "execution_count": 179,
   "metadata": {},
   "outputs": [
    {
     "data": {
      "text/plain": [
       "trainingData: org.apache.spark.sql.Dataset[org.apache.spark.sql.Row] = [loan_amnt: int, term: string ... 101 more fields]\n",
       "testData: org.apache.spark.sql.Dataset[org.apache.spark.sql.Row] = [loan_amnt: int, term: string ... 101 more fields]\n"
      ]
     },
     "execution_count": 179,
     "metadata": {},
     "output_type": "execute_result"
    }
   ],
   "source": [
    "val Array(trainingData, testData) = df_input.randomSplit(Array(0.9, 0.1), seed = 1234L)"
   ]
  },
  {
   "cell_type": "code",
   "execution_count": 180,
   "metadata": {},
   "outputs": [
    {
     "data": {
      "text/plain": [
       "res58: Long = 1997\n"
      ]
     },
     "execution_count": 180,
     "metadata": {},
     "output_type": "execute_result"
    }
   ],
   "source": [
    "testData.count"
   ]
  },
  {
   "cell_type": "code",
   "execution_count": 181,
   "metadata": {},
   "outputs": [
    {
     "data": {
      "text/plain": [
       "res59: Long = 18073\n"
      ]
     },
     "execution_count": 181,
     "metadata": {},
     "output_type": "execute_result"
    }
   ],
   "source": [
    "trainingData.count"
   ]
  },
  {
   "cell_type": "markdown",
   "metadata": {},
   "source": [
    "# Logistic Regression fitting"
   ]
  },
  {
   "cell_type": "code",
   "execution_count": 203,
   "metadata": {},
   "outputs": [
    {
     "data": {
      "text/plain": [
       "lr: org.apache.spark.ml.classification.LogisticRegression = logreg_30a0562d0fe0\n"
      ]
     },
     "execution_count": 203,
     "metadata": {},
     "output_type": "execute_result"
    }
   ],
   "source": [
    "val lr = new LogisticRegression()\n",
    "//   .setMaxIter(100)\n",
    "//   .setRegParam(0.3)\n",
    "//   .setElasticNetParam(0.8)"
   ]
  },
  {
   "cell_type": "code",
   "execution_count": 204,
   "metadata": {},
   "outputs": [
    {
     "data": {
      "text/plain": [
       "lrModel: org.apache.spark.ml.classification.LogisticRegressionModel = LogisticRegressionModel: uid = logreg_30a0562d0fe0, numClasses = 2, numFeatures = 10857\n"
      ]
     },
     "execution_count": 204,
     "metadata": {},
     "output_type": "execute_result"
    }
   ],
   "source": [
    "// Fit the model\n",
    "val lrModel = lr.fit(trainingData)"
   ]
  },
  {
   "cell_type": "markdown",
   "metadata": {},
   "source": [
    "## Training Summary"
   ]
  },
  {
   "cell_type": "code",
   "execution_count": 205,
   "metadata": {},
   "outputs": [
    {
     "name": "stdout",
     "output_type": "stream",
     "text": [
      "Accuracy: 1.0\n",
      "FPR: 0.0\n",
      "TPR: 1.0\n",
      "F-measure: 1.0\n",
      "Precision: 1.0\n",
      "Recall: 1.0\n"
     ]
    },
    {
     "data": {
      "text/plain": [
       "trainingSummary: org.apache.spark.ml.classification.BinaryLogisticRegressionTrainingSummary = org.apache.spark.ml.classification.BinaryLogisticRegressionTrainingSummaryImpl@4062040f\n",
       "accuracy: Double = 1.0\n",
       "falsePositiveRate: Double = 0.0\n",
       "truePositiveRate: Double = 1.0\n",
       "fMeasure: Double = 1.0\n",
       "precision: Double = 1.0\n",
       "recall: Double = 1.0\n"
      ]
     },
     "execution_count": 205,
     "metadata": {},
     "output_type": "execute_result"
    }
   ],
   "source": [
    "// Extract the summary from the returned LogisticRegressionModel instance trained in the earlier\n",
    "// example\n",
    "val trainingSummary = lrModel.binarySummary\n",
    "val accuracy = trainingSummary.accuracy\n",
    "val falsePositiveRate = trainingSummary.weightedFalsePositiveRate\n",
    "val truePositiveRate = trainingSummary.weightedTruePositiveRate\n",
    "val fMeasure = trainingSummary.weightedFMeasure\n",
    "val precision = trainingSummary.weightedPrecision\n",
    "val recall = trainingSummary.weightedRecall\n",
    "println(s\"Accuracy: $accuracy\\nFPR: $falsePositiveRate\\nTPR: $truePositiveRate\\n\" +\n",
    "  s\"F-measure: $fMeasure\\nPrecision: $precision\\nRecall: $recall\")"
   ]
  },
  {
   "cell_type": "code",
   "execution_count": 206,
   "metadata": {},
   "outputs": [
    {
     "name": "stdout",
     "output_type": "stream",
     "text": [
      "+--------------------+-------------------+\n",
      "|                 FPR|                TPR|\n",
      "+--------------------+-------------------+\n",
      "|                 0.0|                0.0|\n",
      "|                 0.0|0.17706666666666668|\n",
      "|                 0.0|0.27413333333333334|\n",
      "|                 0.0|             0.3696|\n",
      "|                 0.0| 0.4650666666666667|\n",
      "|                 0.0| 0.5605333333333333|\n",
      "|                 0.0|              0.656|\n",
      "|                 0.0| 0.7514666666666666|\n",
      "|                 0.0| 0.8469333333333333|\n",
      "|                 0.0|             0.9424|\n",
      "|0.004383257192245956|                1.0|\n",
      "|0.015434004198049142|                1.0|\n",
      "|0.026484751203852328|                1.0|\n",
      "|0.037535498209655516|                1.0|\n",
      "|  0.0485862452154587|                1.0|\n",
      "|0.059636992221261884|                1.0|\n",
      "| 0.07068773922706507|                1.0|\n",
      "| 0.08173848623286825|                1.0|\n",
      "| 0.09278923323867144|                1.0|\n",
      "| 0.10383998024447463|                1.0|\n",
      "+--------------------+-------------------+\n",
      "only showing top 20 rows\n",
      "\n",
      "areaUnderROC: 0.9998737621928633\n"
     ]
    },
    {
     "data": {
      "text/plain": [
       "roc: org.apache.spark.sql.DataFrame = [FPR: double, TPR: double]\n"
      ]
     },
     "execution_count": 206,
     "metadata": {},
     "output_type": "execute_result"
    }
   ],
   "source": [
    "val roc = trainingSummary.roc\n",
    "roc.show()\n",
    "println(s\"areaUnderROC: ${trainingSummary.areaUnderROC}\")"
   ]
  },
  {
   "cell_type": "code",
   "execution_count": 207,
   "metadata": {},
   "outputs": [],
   "source": [
    "roc.createOrReplaceTempView(\"roc\")"
   ]
  },
  {
   "cell_type": "code",
   "execution_count": 112,
   "metadata": {},
   "outputs": [
    {
     "name": "stdout",
     "output_type": "stream",
     "text": [
      "Collecting pandas\n",
      "\u001b[?25l  Downloading https://files.pythonhosted.org/packages/19/74/e50234bc82c553fecdbd566d8650801e3fe2d6d8c8d940638e3d8a7c5522/pandas-0.24.2-cp36-cp36m-manylinux1_x86_64.whl (10.1MB)\n",
      "\u001b[K     |################################| 10.1MB 30.8MB/s eta 0:00:01\n",
      "\u001b[?25hCollecting pytz>=2011k (from pandas)\n",
      "\u001b[?25l  Downloading https://files.pythonhosted.org/packages/3d/73/fe30c2daaaa0713420d0382b16fbb761409f532c56bdcc514bf7b6262bb6/pytz-2019.1-py2.py3-none-any.whl (510kB)\n",
      "\u001b[K     |################################| 512kB 42.1MB/s eta 0:00:01\n",
      "\u001b[?25hRequirement already satisfied: python-dateutil>=2.5.0 in /usr/local/lib/python3.6/dist-packages (from pandas) (2.8.0)\n",
      "Collecting numpy>=1.12.0 (from pandas)\n",
      "\u001b[?25l  Downloading https://files.pythonhosted.org/packages/87/2d/e4656149cbadd3a8a0369fcd1a9c7d61cc7b87b3903b85389c70c989a696/numpy-1.16.4-cp36-cp36m-manylinux1_x86_64.whl (17.3MB)\n",
      "\u001b[K     |######################          | 12.1MB 43.4MB/s eta 0:00:01"
     ]
    },
    {
     "name": "stderr",
     "output_type": "stream",
     "text": [
      "IOPub message rate exceeded.\n",
      "The notebook server will temporarily stop sending output\n",
      "to the client in order to avoid crashing it.\n",
      "To change this limit, set the config variable\n",
      "`--NotebookApp.iopub_msg_rate_limit`.\n",
      "\n",
      "Current values:\n",
      "NotebookApp.iopub_msg_rate_limit=1000.0 (msgs/sec)\n",
      "NotebookApp.rate_limit_window=3.0 (secs)\n",
      "\n"
     ]
    },
    {
     "name": "stdout",
     "output_type": "stream",
     "text": [
      "\u001b[K     |################################| 17.3MB 43.4MB/s eta 0:00:01\n",
      "\u001b[?25hRequirement already satisfied: six>=1.5 in /usr/lib/python3/dist-packages (from python-dateutil>=2.5.0->pandas) (1.11.0)\n",
      "Installing collected packages: pytz, numpy, pandas\n",
      "Successfully installed numpy-1.16.4 pandas-0.24.2 pytz-2019.1\n",
      "Collecting matplotlib\n",
      "\u001b[?25l  Downloading https://files.pythonhosted.org/packages/da/83/d989ee20c78117c737ab40e0318ea221f1aed4e3f5a40b4f93541b369b93/matplotlib-3.1.0-cp36-cp36m-manylinux1_x86_64.whl (13.1MB)\n",
      "\u001b[K     |################################| 13.1MB 21.3MB/s eta 0:00:01\n",
      "\u001b[?25hCollecting kiwisolver>=1.0.1 (from matplotlib)\n",
      "\u001b[?25l  Downloading https://files.pythonhosted.org/packages/f8/a1/5742b56282449b1c0968197f63eae486eca2c35dcd334bab75ad524e0de1/kiwisolver-1.1.0-cp36-cp36m-manylinux1_x86_64.whl (90kB)\n",
      "\u001b[K     |################################| 92kB 27.1MB/s eta 0:00:01\n",
      "\u001b[?25hCollecting cycler>=0.10 (from matplotlib)\n",
      "  Downloading https://files.pythonhosted.org/packages/f7/d2/e07d3ebb2bd7af696440ce7e754c59dd546ffe1bbe732c8ab68b9c834e61/cycler-0.10.0-py2.py3-none-any.whl\n",
      "Requirement already satisfied: numpy>=1.11 in /usr/local/lib/python3.6/dist-packages (from matplotlib) (1.16.4)\n",
      "Collecting pyparsing!=2.0.4,!=2.1.2,!=2.1.6,>=2.0.1 (from matplotlib)\n",
      "\u001b[?25l  Downloading https://files.pythonhosted.org/packages/dd/d9/3ec19e966301a6e25769976999bd7bbe552016f0d32b577dc9d63d2e0c49/pyparsing-2.4.0-py2.py3-none-any.whl (62kB)\n",
      "\u001b[K     |################################| 71kB 27.1MB/s eta 0:00:01\n",
      "\u001b[?25hRequirement already satisfied: python-dateutil>=2.1 in /usr/local/lib/python3.6/dist-packages (from matplotlib) (2.8.0)\n",
      "Requirement already satisfied: setuptools in /usr/lib/python3/dist-packages (from kiwisolver>=1.0.1->matplotlib) (39.0.1)\n",
      "Requirement already satisfied: six in /usr/lib/python3/dist-packages (from cycler>=0.10->matplotlib) (1.11.0)\n",
      "Installing collected packages: kiwisolver, cycler, pyparsing, matplotlib\n",
      "Successfully installed cycler-0.10.0 kiwisolver-1.1.0 matplotlib-3.1.0 pyparsing-2.4.0\n"
     ]
    }
   ],
   "source": [
    "! pip install pandas\n",
    "! pip install matplotlib"
   ]
  },
  {
   "cell_type": "code",
   "execution_count": 208,
   "metadata": {},
   "outputs": [
    {
     "name": "stdout",
     "output_type": "stream",
     "text": [
      "   FPR       TPR\n",
      "0  0.0  0.000000\n",
      "1  0.0  0.177067\n",
      "2  0.0  0.274133\n",
      "3  0.0  0.369600\n",
      "4  0.0  0.465067\n"
     ]
    },
    {
     "data": {
      "image/png": "[encoded data removed]",
      "text/plain": [
       "<IPython.core.display.Image object>"
      ]
     },
     "execution_count": 208,
     "metadata": {},
     "output_type": "execute_result"
    }
   ],
   "source": [
    "%%python\n",
    "import pandas as pd\n",
    "import matplotlib.pyplot as plt\n",
    "import tempfile\n",
    "from IPython.display import Image\n",
    "\n",
    "roc = spark.sql(\"select * from roc\")\n",
    "rocPandas = roc.toPandas()\n",
    "print(rocPandas.head())\n",
    "plt.clf()\n",
    "plt.plot(rocPandas['FPR'],rocPandas['TPR'])\n",
    "with tempfile.NamedTemporaryFile(suffix=\".png\") as fo:\n",
    "    plt.savefig(fo.name)\n",
    "    retval = Image(filename=fo.name)"
   ]
  },
  {
   "cell_type": "markdown",
   "metadata": {},
   "source": [
    "## Prediction on test set"
   ]
  },
  {
   "cell_type": "code",
   "execution_count": 209,
   "metadata": {},
   "outputs": [
    {
     "data": {
      "text/plain": [
       "prediction: org.apache.spark.sql.DataFrame = [loan_amnt: int, term: string ... 104 more fields]\n"
      ]
     },
     "execution_count": 209,
     "metadata": {},
     "output_type": "execute_result"
    }
   ],
   "source": [
    "val prediction = lrModel.transform(testData)"
   ]
  },
  {
   "cell_type": "markdown",
   "metadata": {},
   "source": [
    "## Evaluation"
   ]
  },
  {
   "cell_type": "code",
   "execution_count": 189,
   "metadata": {},
   "outputs": [
    {
     "data": {
      "text/plain": [
       "evaluatePrediction: (prediction: org.apache.spark.sql.DataFrame)Unit\n"
      ]
     },
     "execution_count": 189,
     "metadata": {},
     "output_type": "execute_result"
    }
   ],
   "source": [
    "def evaluatePrediction(prediction: DataFrame) = {\n",
    "    prediction.createOrReplaceTempView(\"prediction\")\n",
    "    \n",
    "    spark.sql(\"\"\"\n",
    "select label,prediction,count(1) from prediction group by label,prediction\n",
    "\"\"\").show(false)\n",
    "    \n",
    "    spark.sql(\"\"\"\n",
    "select \n",
    "(TP+TN)/(P+N) as Accuracy,\n",
    "TP/(TP+FP) as Precision,\n",
    "TP/(TP+FN) as Recall,\n",
    "2*TP/(2*TP+FP+FN) as F1\n",
    "from (\n",
    "    select \n",
    "    count(1) as total, \n",
    "    sum(case when label = 1 and prediction = 1 then 1 else 0 end) as TP,\n",
    "    sum(case when label = 0 and prediction = 0 then 1 else 0 end) as TN,\n",
    "    sum(case when label = 0 and prediction = 1 then 1 else 0 end) as FP,\n",
    "    sum(case when label = 1 and prediction = 0 then 1 else 0 end) as FN,\n",
    "    sum(case when label = 1 then 1 else 0 end) as P,\n",
    "    sum(case when label = 0 then 1 else 0 end) as N\n",
    "    from prediction\n",
    "    )\n",
    "\"\"\").show(false)\n",
    "}"
   ]
  },
  {
   "cell_type": "code",
   "execution_count": 210,
   "metadata": {},
   "outputs": [
    {
     "name": "stdout",
     "output_type": "stream",
     "text": [
      "+-----+----------+--------+\n",
      "|label|prediction|count(1)|\n",
      "+-----+----------+--------+\n",
      "|0    |0.0       |1786    |\n",
      "|1    |1.0       |211     |\n",
      "+-----+----------+--------+\n",
      "\n",
      "+--------+---------+------+---+\n",
      "|Accuracy|Precision|Recall|F1 |\n",
      "+--------+---------+------+---+\n",
      "|1.0     |1.0      |1.0   |1.0|\n",
      "+--------+---------+------+---+\n",
      "\n"
     ]
    }
   ],
   "source": [
    "evaluatePrediction(prediction)"
   ]
  },
  {
   "cell_type": "markdown",
   "metadata": {},
   "source": [
    "# Decision Tree fitting"
   ]
  },
  {
   "cell_type": "code",
   "execution_count": 191,
   "metadata": {},
   "outputs": [
    {
     "data": {
      "text/plain": [
       "import org.apache.spark.ml.classification.DecisionTreeClassificationModel\n",
       "import org.apache.spark.ml.classification.DecisionTreeClassifier\n",
       "import org.apache.spark.ml.evaluation.MulticlassClassificationEvaluator\n",
       "dt: org.apache.spark.ml.classification.DecisionTreeClassifier = dtc_07c32a49c1e9\n"
      ]
     },
     "execution_count": 191,
     "metadata": {},
     "output_type": "execute_result"
    }
   ],
   "source": [
    "import org.apache.spark.ml.classification.DecisionTreeClassificationModel\n",
    "import org.apache.spark.ml.classification.DecisionTreeClassifier\n",
    "import org.apache.spark.ml.evaluation.MulticlassClassificationEvaluator\n",
    "\n",
    "val dt = new DecisionTreeClassifier()\n",
    "  .setLabelCol(\"label\")\n",
    "  .setFeaturesCol(\"features\")"
   ]
  },
  {
   "cell_type": "code",
   "execution_count": 192,
   "metadata": {},
   "outputs": [
    {
     "name": "stdout",
     "output_type": "stream",
     "text": [
      "2019-06-04 11:40:16,677 WARN  [Executor task launch worker for task 2330] memory.MemoryStore (Logging.scala:logWarning(66)) - Not enough space to cache rdd_2706_1 in memory! (computed 140.4 MB so far)\n",
      "2019-06-04 11:40:16,677 WARN  [Executor task launch worker for task 2330] storage.BlockManager (Logging.scala:logWarning(66)) - Persisting block rdd_2706_1 to disk instead.\n",
      "2019-06-04 11:40:18,338 WARN  [Executor task launch worker for task 2329] memory.MemoryStore (Logging.scala:logWarning(66)) - Not enough space to cache rdd_2706_0 in memory! (computed 210.9 MB so far)\n",
      "2019-06-04 11:40:18,338 WARN  [Executor task launch worker for task 2329] storage.BlockManager (Logging.scala:logWarning(66)) - Persisting block rdd_2706_0 to disk instead.\n",
      "2019-06-04 11:40:20,769 WARN  [Executor task launch worker for task 2330] memory.MemoryStore (Logging.scala:logWarning(66)) - Not enough space to cache rdd_2706_1 in memory! (computed 210.9 MB so far)\n",
      "2019-06-04 11:40:24,115 WARN  [Executor task launch worker for task 2329] memory.MemoryStore (Logging.scala:logWarning(66)) - Not enough space to cache rdd_2706_0 in memory! (computed 316.5 MB so far)\n"
     ]
    },
    {
     "data": {
      "text/plain": [
       "model: org.apache.spark.ml.classification.DecisionTreeClassificationModel = DecisionTreeClassificationModel (uid=dtc_07c32a49c1e9) of depth 1 with 3 nodes\n",
       "prediction: org.apache.spark.sql.DataFrame = [loan_amnt: int, term: string ... 104 more fields]\n"
      ]
     },
     "execution_count": 192,
     "metadata": {},
     "output_type": "execute_result"
    }
   ],
   "source": [
    "val model = dt.fit(trainingData)\n",
    "val prediction = model.transform(testData)"
   ]
  },
  {
   "cell_type": "code",
   "execution_count": 193,
   "metadata": {},
   "outputs": [
    {
     "name": "stdout",
     "output_type": "stream",
     "text": [
      "+-----+----------+--------+\n",
      "|label|prediction|count(1)|\n",
      "+-----+----------+--------+\n",
      "|0    |0.0       |1786    |\n",
      "|1    |1.0       |211     |\n",
      "+-----+----------+--------+\n",
      "\n",
      "+--------+---------+------+---+\n",
      "|Accuracy|Precision|Recall|F1 |\n",
      "+--------+---------+------+---+\n",
      "|1.0     |1.0      |1.0   |1.0|\n",
      "+--------+---------+------+---+\n",
      "\n"
     ]
    }
   ],
   "source": [
    "evaluatePrediction(prediction)"
   ]
  },
  {
   "cell_type": "markdown",
   "metadata": {},
   "source": [
    "# Random Forest fitting"
   ]
  },
  {
   "cell_type": "code",
   "execution_count": 146,
   "metadata": {},
   "outputs": [
    {
     "data": {
      "text/plain": [
       "import org.apache.spark.ml.classification.{RandomForestClassificationModel, RandomForestClassifier}\n",
       "import org.apache.spark.ml.evaluation.MulticlassClassificationEvaluator\n"
      ]
     },
     "execution_count": 146,
     "metadata": {},
     "output_type": "execute_result"
    }
   ],
   "source": [
    "import org.apache.spark.ml.classification.{RandomForestClassificationModel, RandomForestClassifier}\n",
    "import org.apache.spark.ml.evaluation.MulticlassClassificationEvaluator"
   ]
  },
  {
   "cell_type": "code",
   "execution_count": 200,
   "metadata": {},
   "outputs": [
    {
     "data": {
      "text/plain": [
       "rf: org.apache.spark.ml.classification.RandomForestClassifier = rfc_765948292ea5\n"
      ]
     },
     "execution_count": 200,
     "metadata": {},
     "output_type": "execute_result"
    }
   ],
   "source": [
    "val rf = new RandomForestClassifier()\n",
    "  .setLabelCol(\"label\")\n",
    "  .setFeaturesCol(\"features\")\n",
    "  .setNumTrees(100)"
   ]
  },
  {
   "cell_type": "code",
   "execution_count": 201,
   "metadata": {},
   "outputs": [
    {
     "name": "stdout",
     "output_type": "stream",
     "text": [
      "2019-06-04 11:43:08,874 WARN  [Executor task launch worker for task 3021] memory.MemoryStore (Logging.scala:logWarning(66)) - Not enough space to cache rdd_3093_1 in memory! (computed 142.9 MB so far)\n",
      "2019-06-04 11:43:08,874 WARN  [Executor task launch worker for task 3021] storage.BlockManager (Logging.scala:logWarning(66)) - Persisting block rdd_3093_1 to disk instead.\n",
      "2019-06-04 11:43:10,710 WARN  [Executor task launch worker for task 3020] memory.MemoryStore (Logging.scala:logWarning(66)) - Not enough space to cache rdd_3093_0 in memory! (computed 214.8 MB so far)\n",
      "2019-06-04 11:43:10,711 WARN  [Executor task launch worker for task 3020] storage.BlockManager (Logging.scala:logWarning(66)) - Persisting block rdd_3093_0 to disk instead.\n",
      "2019-06-04 11:43:12,484 WARN  [Executor task launch worker for task 3021] memory.MemoryStore (Logging.scala:logWarning(66)) - Not enough space to cache rdd_3093_1 in memory! (computed 214.8 MB so far)\n",
      "2019-06-04 11:43:15,942 WARN  [Executor task launch worker for task 3020] memory.MemoryStore (Logging.scala:logWarning(66)) - Not enough space to cache rdd_3093_0 in memory! (computed 322.3 MB so far)\n",
      "2019-06-04 11:43:18,153 WARN  [Executor task launch worker for task 3025] memory.MemoryStore (Logging.scala:logWarning(66)) - Not enough space to cache rdd_3093_1 in memory! (computed 142.9 MB so far)\n",
      "2019-06-04 11:43:18,303 WARN  [Executor task launch worker for task 3024] memory.MemoryStore (Logging.scala:logWarning(66)) - Not enough space to cache rdd_3093_0 in memory! (computed 214.8 MB so far)\n",
      "2019-06-04 11:43:21,062 WARN  [Executor task launch worker for task 3029] memory.MemoryStore (Logging.scala:logWarning(66)) - Not enough space to cache rdd_3093_1 in memory! (computed 142.9 MB so far)\n",
      "2019-06-04 11:43:21,592 WARN  [Executor task launch worker for task 3028] memory.MemoryStore (Logging.scala:logWarning(66)) - Not enough space to cache rdd_3093_0 in memory! (computed 214.8 MB so far)\n",
      "2019-06-04 11:43:25,425 WARN  [Executor task launch worker for task 3033] memory.MemoryStore (Logging.scala:logWarning(66)) - Not enough space to cache rdd_3093_1 in memory! (computed 142.9 MB so far)\n",
      "2019-06-04 11:43:25,566 WARN  [Executor task launch worker for task 3032] memory.MemoryStore (Logging.scala:logWarning(66)) - Not enough space to cache rdd_3093_0 in memory! (computed 214.8 MB so far)\n",
      "2019-06-04 11:43:29,781 WARN  [Executor task launch worker for task 3037] memory.MemoryStore (Logging.scala:logWarning(66)) - Not enough space to cache rdd_3093_1 in memory! (computed 142.9 MB so far)\n",
      "2019-06-04 11:43:29,943 WARN  [Executor task launch worker for task 3036] memory.MemoryStore (Logging.scala:logWarning(66)) - Not enough space to cache rdd_3093_0 in memory! (computed 214.8 MB so far)\n"
     ]
    },
    {
     "data": {
      "text/plain": [
       "model: org.apache.spark.ml.classification.RandomForestClassificationModel = RandomForestClassificationModel (uid=rfc_765948292ea5) with 100 trees\n",
       "prediction: org.apache.spark.sql.DataFrame = [loan_amnt: int, term: string ... 104 more fields]\n"
      ]
     },
     "execution_count": 201,
     "metadata": {},
     "output_type": "execute_result"
    }
   ],
   "source": [
    "val model = rf.fit(trainingData)\n",
    "val prediction = model.transform(testData)"
   ]
  },
  {
   "cell_type": "code",
   "execution_count": 202,
   "metadata": {},
   "outputs": [
    {
     "name": "stdout",
     "output_type": "stream",
     "text": [
      "+-----+----------+--------+\n",
      "|label|prediction|count(1)|\n",
      "+-----+----------+--------+\n",
      "|1    |0.0       |211     |\n",
      "|0    |0.0       |1786    |\n",
      "+-----+----------+--------+\n",
      "\n",
      "+------------------+---------+------+---+\n",
      "|Accuracy          |Precision|Recall|F1 |\n",
      "+------------------+---------+------+---+\n",
      "|0.8943415122684026|null     |0.0   |0.0|\n",
      "+------------------+---------+------+---+\n",
      "\n"
     ]
    }
   ],
   "source": [
    "evaluatePrediction(prediction)"
   ]
  }
 ],
 "metadata": {
  "kernelspec": {
   "display_name": "spylon-kernel",
   "language": "scala",
   "name": "spylon-kernel"
  },
  "language_info": {
   "codemirror_mode": "text/x-scala",
   "file_extension": ".scala",
   "help_links": [
    {
     "text": "MetaKernel Magics",
     "url": "https://metakernel.readthedocs.io/en/latest/source/README.html"
    }
   ],
   "mimetype": "text/x-scala",
   "name": "scala",
   "pygments_lexer": "scala",
   "version": "0.4.1"
  }
 },
 "nbformat": 4,
 "nbformat_minor": 2
}
