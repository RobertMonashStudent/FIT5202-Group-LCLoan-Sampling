{
 "cells": [
  {
   "cell_type": "markdown",
   "metadata": {},
   "source": [
    "# Table of Content\n",
    "\n",
    "* [#Read-20k-file](#Read-20k-file)\n",
    "* [#EDA](#EDA)\n",
    "* [#Correlation-Test](#Correlation-Test)"
   ]
  },
  {
   "cell_type": "markdown",
   "metadata": {},
   "source": [
    "# Read 20k file"
   ]
  },
  {
   "cell_type": "code",
   "execution_count": 1,
   "metadata": {},
   "outputs": [
    {
     "data": {
      "text/plain": [
       "Intitializing Scala interpreter ..."
      ]
     },
     "metadata": {},
     "output_type": "display_data"
    },
    {
     "data": {
      "text/plain": [
       "Spark Web UI available at http://221364ec0696:4040\n",
       "SparkContext available as 'sc' (version = 2.4.3, master = local[*], app id = local-1558870758271)\n",
       "SparkSession available as 'spark'\n"
      ]
     },
     "metadata": {},
     "output_type": "display_data"
    },
    {
     "data": {
      "text/plain": [
       "df: org.apache.spark.sql.DataFrame = [loan_amnt: int, funded_amnt: int ... 84 more fields]\n"
      ]
     },
     "execution_count": 1,
     "metadata": {},
     "output_type": "execute_result"
    }
   ],
   "source": [
    "var df = spark.read.format(\"csv\")\n",
    "  .option(\"inferSchema\", \"true\")\n",
    "  .option(\"header\", \"true\")\n",
    "  .load(\"Loan_2017_20k.csv\")"
   ]
  },
  {
   "cell_type": "code",
   "execution_count": 2,
   "metadata": {},
   "outputs": [
    {
     "name": "stdout",
     "output_type": "stream",
     "text": [
      "2019-05-26 11:39:27,550 WARN  [Thread-4] util.Utils (Logging.scala:logWarning(66)) - Truncated the string representation of a plan since it was too large. This behavior can be adjusted by setting 'spark.debug.maxToStringFields' in SparkEnv.conf.\n"
     ]
    },
    {
     "data": {
      "text/plain": [
       "res0: Long = 20070\n"
      ]
     },
     "execution_count": 2,
     "metadata": {},
     "output_type": "execute_result"
    }
   ],
   "source": [
    "// cache in memory to speed up\n",
    "df.cache\n",
    "df.count"
   ]
  },
  {
   "cell_type": "code",
   "execution_count": 3,
   "metadata": {},
   "outputs": [],
   "source": [
    "df.createOrReplaceTempView(\"df\")"
   ]
  },
  {
   "cell_type": "markdown",
   "metadata": {},
   "source": [
    "# EDA\n",
    "* [#Update-Loan-Status](#Update-Loan-Status)\n",
    "* [#Fill-NA](#Fill-NA)\n",
    "* [#Check-for-String-type-column](#Check-for-String-type-column)\n",
    "* [#Check-for-Integer-type-column](#Check-for-Integer-type-column)\n",
    "* [#Check-for-Double-type-column](#Check-for-Double-type-column)"
   ]
  },
  {
   "cell_type": "markdown",
   "metadata": {},
   "source": [
    "## Update Loan Status\n",
    "\n",
    "Merge the loan status to \n",
    "- 0: indicates for good loan\n",
    "- 1: indicates for bad loan"
   ]
  },
  {
   "cell_type": "code",
   "execution_count": 4,
   "metadata": {},
   "outputs": [
    {
     "name": "stdout",
     "output_type": "stream",
     "text": [
      "+------------------+-----+\n",
      "|       loan_status|count|\n",
      "+------------------+-----+\n",
      "|        Fully Paid| 5446|\n",
      "|           Default|    1|\n",
      "|   In Grace Period|  136|\n",
      "|       Charged Off| 1660|\n",
      "|Late (31-120 days)|  367|\n",
      "|           Current|12402|\n",
      "| Late (16-30 days)|   58|\n",
      "+------------------+-----+\n",
      "\n"
     ]
    }
   ],
   "source": [
    "df.groupBy(\"loan_status\").count().show()"
   ]
  },
  {
   "cell_type": "code",
   "execution_count": 5,
   "metadata": {},
   "outputs": [],
   "source": [
    "df.createOrReplaceTempView(\"df\")"
   ]
  },
  {
   "cell_type": "code",
   "execution_count": 6,
   "metadata": {},
   "outputs": [
    {
     "data": {
      "text/plain": [
       "newDF: org.apache.spark.sql.DataFrame = [loan_amnt: int, funded_amnt: int ... 85 more fields]\n"
      ]
     },
     "execution_count": 6,
     "metadata": {},
     "output_type": "execute_result"
    }
   ],
   "source": [
    "val newDF = spark.sql(\"\"\"\n",
    "    select a.*,\n",
    "    case when loan_status in ('Fully Paid', 'In Grace Period', 'Current') then 1 else 0 end as new_loan_status\n",
    "    from df a\n",
    "\"\"\")"
   ]
  },
  {
   "cell_type": "code",
   "execution_count": 7,
   "metadata": {},
   "outputs": [
    {
     "data": {
      "text/plain": [
       "df: org.apache.spark.sql.DataFrame = [loan_amnt: int, funded_amnt: int ... 84 more fields]\n"
      ]
     },
     "execution_count": 7,
     "metadata": {},
     "output_type": "execute_result"
    }
   ],
   "source": [
    "df = newDF.drop(\"loan_status\").withColumnRenamed(\"new_loan_status\",\"loan_status\")"
   ]
  },
  {
   "cell_type": "code",
   "execution_count": 8,
   "metadata": {},
   "outputs": [
    {
     "name": "stdout",
     "output_type": "stream",
     "text": [
      "+-----------+-----+\n",
      "|loan_status|count|\n",
      "+-----------+-----+\n",
      "|          1|17984|\n",
      "|          0| 2086|\n",
      "+-----------+-----+\n",
      "\n"
     ]
    }
   ],
   "source": [
    "df.groupBy(\"loan_status\").count().show()"
   ]
  },
  {
   "cell_type": "markdown",
   "metadata": {},
   "source": [
    "## Fill NA\n",
    "* for Integer -> 0\n",
    "* for String -> \"\"\n",
    "* for Double -> 0.0"
   ]
  },
  {
   "cell_type": "code",
   "execution_count": 9,
   "metadata": {},
   "outputs": [
    {
     "data": {
      "text/plain": [
       "typeMap: scala.collection.immutable.Map[String,Any] = Map(emp_title -> \"\", tot_coll_amt -> 0, zip_code -> \"\", home_ownership -> \"\", num_bc_sats -> 0, total_pymnt -> 0.0, pct_tl_nvr_dlq -> 0.0, avg_cur_bal -> 0, sub_grade -> \"\", chargeoff_within_12_mths -> 0.0, pymnt_plan -> \"\", collection_recovery_fee -> 0.0, inq_last_6mths -> 0, tot_hi_cred_lim -> 0, total_il_high_credit_limit -> 0, last_credit_pull_d -> \"\", recoveries -> 0.0, total_rec_late_fee -> 0.0, mo_sin_rcnt_tl -> 0, emp_length -> \"\", policy_code -> 0, num_actv_rev_tl -> 0, mo_sin_old_il_acct -> 0.0, mo_sin_rcnt_rev_tl_op -> 0, verification_status -> \"\", revol_bal -> 0, num_actv_bc_tl -> 0, num_tl_90g_dpd_24m -> 0, num_tl_op_past_12m -> 0, num_sats -> 0, term -> \"\", mort_acc -> 0, percent_bc_gt_75 -> 0.0, bc_open_to_buy -> 0, la..."
      ]
     },
     "execution_count": 9,
     "metadata": {},
     "output_type": "execute_result"
    }
   ],
   "source": [
    "// Generate a map for each field and it's filled value if na\n",
    "val typeMap = df.dtypes.map(column => \n",
    "    column._2 match {\n",
    "        case \"IntegerType\" => (column._1 -> 0)\n",
    "        case \"StringType\" => (column._1 -> \"\")\n",
    "        case \"DoubleType\" => (column._1 -> 0.0)\n",
    "    }).toMap"
   ]
  },
  {
   "cell_type": "code",
   "execution_count": 10,
   "metadata": {},
   "outputs": [
    {
     "data": {
      "text/plain": [
       "df: org.apache.spark.sql.DataFrame = [loan_amnt: int, funded_amnt: int ... 84 more fields]\n"
      ]
     },
     "execution_count": 10,
     "metadata": {},
     "output_type": "execute_result"
    }
   ],
   "source": [
    "df = df.na.fill(typeMap)"
   ]
  },
  {
   "cell_type": "code",
   "execution_count": 11,
   "metadata": {},
   "outputs": [
    {
     "data": {
      "text/plain": [
       "res5: Long = 20070\n"
      ]
     },
     "execution_count": 11,
     "metadata": {},
     "output_type": "execute_result"
    }
   ],
   "source": [
    "// Verify there's no NA in dataframe now\n",
    "df.na.drop.count"
   ]
  },
  {
   "cell_type": "markdown",
   "metadata": {},
   "source": [
    "## Check for String type column"
   ]
  },
  {
   "cell_type": "code",
   "execution_count": 12,
   "metadata": {},
   "outputs": [
    {
     "data": {
      "text/plain": [
       "stringColumn: Array[String] = Array(term, grade, sub_grade, emp_title, emp_length, home_ownership, verification_status, issue_d, pymnt_plan, purpose, title, zip_code, addr_state, earliest_cr_line, initial_list_status, last_pymnt_d, last_credit_pull_d, application_type, hardship_flag, disbursement_method, debt_settlement_flag)\n"
      ]
     },
     "execution_count": 12,
     "metadata": {},
     "output_type": "execute_result"
    }
   ],
   "source": [
    "val stringColumn = df.dtypes.filter(column => column._2 == \"StringType\").map(_._1)"
   ]
  },
  {
   "cell_type": "code",
   "execution_count": 13,
   "metadata": {},
   "outputs": [
    {
     "data": {
      "text/plain": [
       "stringDF: org.apache.spark.sql.DataFrame = [term_freqItems: array<string>, grade_freqItems: array<string> ... 19 more fields]\n"
      ]
     },
     "execution_count": 13,
     "metadata": {},
     "output_type": "execute_result"
    }
   ],
   "source": [
    "val stringDF = df.stat.freqItems(stringColumn)"
   ]
  },
  {
   "cell_type": "code",
   "execution_count": 14,
   "metadata": {},
   "outputs": [
    {
     "name": "stdout",
     "output_type": "stream",
     "text": [
      "+----------------------+\n",
      "|term_freqItems        |\n",
      "+----------------------+\n",
      "|[60 months, 36 months]|\n",
      "+----------------------+\n",
      "\n",
      "+---------------------+\n",
      "|grade_freqItems      |\n",
      "+---------------------+\n",
      "|[D, G, A, C, F, E, B]|\n",
      "+---------------------+\n",
      "\n",
      "+--------------------------------------------------------------------------------------------------------------------------------------------+\n",
      "|sub_grade_freqItems                                                                                                                         |\n",
      "+--------------------------------------------------------------------------------------------------------------------------------------------+\n",
      "|[C4, A3, B2, G2, G5, E4, D2, F3, B1, D5, B4, E1, A2, C3, F2, A5, G1, D4, F5, E3, G4, C2, C5, A4, D1, B3, G3, A1, F1, E5, F4, D3, C1, B5, E2]|\n",
      "+--------------------------------------------------------------------------------------------------------------------------------------------+\n",
      "\n",
      "+------------------------------------------------------------------------------------------------------------------------------------------------------------------------------------------------------------------------------------------------------------------------------------------------------------------------------------------------------------------------------------------------------------------------------------------------------------------------------------------------------------------------------------------------------------------------------------------------------------------------------------------------------------------------------------------------------------------------------------------------------------------------------------------------------------------------------------------------------------------------------------------------------------------------------------------------------------------------------------------------------------------------------------------------------------------------------------------------------------------------------------------------------------------------------------------------------------------------------------------------------------------------------------------------------------------------------------------------------------------------------------------------------------------------------------------------------------------------------------------------------------------------------------------------------------------------------------------------------------------------------------+\n",
      "|emp_title_freqItems                                                                                                                                                                                                                                                                                                                                                                                                                                                                                                                                                                                                                                                                                                                                                                                                                                                                                                                                                                                                                                                                                                                                                                                                                                                                                                                                                                                                                                                                                                                                                                                                                 |\n",
      "+------------------------------------------------------------------------------------------------------------------------------------------------------------------------------------------------------------------------------------------------------------------------------------------------------------------------------------------------------------------------------------------------------------------------------------------------------------------------------------------------------------------------------------------------------------------------------------------------------------------------------------------------------------------------------------------------------------------------------------------------------------------------------------------------------------------------------------------------------------------------------------------------------------------------------------------------------------------------------------------------------------------------------------------------------------------------------------------------------------------------------------------------------------------------------------------------------------------------------------------------------------------------------------------------------------------------------------------------------------------------------------------------------------------------------------------------------------------------------------------------------------------------------------------------------------------------------------------------------------------------------------+\n",
      "|[Flight Attendant, Client associate, MWR Director, Program Manager, Overnight Support Manager, Financial Analyst, General Manager, Data Analyst, Driver, manager, Management, Business Service Rep, Activities Assistant, Sergeant, Firefighter, Solutions Architect, Facility Manager, ACCOUNTANT, Assistant Manager, Anestesia tech, Senior Buyer, Mechanic, Registered Nurse, Supervisor, Maintenance Engineer, Senior engineer, Business Analyst, Autobagger, Accountant, Home Help Aid, Claims Analyst, Dental assistant, BMV Clerk, Recovery Analyst, Service Manager, IT Applications Engineer, Warehouse Manager, Scheduling Specialist, owner, supervisor, On Air Personality, Team leader, Teacher, Senior Management Analyst, Senior Advisor, cook, Sales, Agent, Lab Technician, Joint Owner, Senior Account Specialist, officer, Adjustor, crane operator, Manager, Personal Banker, Electrician, Assistant manager, Sr. Analyst, CEO, President, Operations Manager, server, Assistant Coach, Examiner Specialist, Patient Care Tech, Message therapy, Realtor, Information Technology Specialist, Office Manager and Executive Assistant, President, Transportation, Floral Supervisor, AR Specialist, painter, Bank Teller, Demand Planning Manager, Fulfillment, Project Manager, RN, Dental asst, security officer, Co-Mgr, Office manager, IT Specialist, clinical engeneer, Sr Customer Success Manager, Director, general manager, Server, Lead whse, Owner, Payroll & Billing, Preloader, Liscensed Massage Therapist, Designer, Attorney, Assistant Superintendent, Senior account Services Representative, ]|\n",
      "+------------------------------------------------------------------------------------------------------------------------------------------------------------------------------------------------------------------------------------------------------------------------------------------------------------------------------------------------------------------------------------------------------------------------------------------------------------------------------------------------------------------------------------------------------------------------------------------------------------------------------------------------------------------------------------------------------------------------------------------------------------------------------------------------------------------------------------------------------------------------------------------------------------------------------------------------------------------------------------------------------------------------------------------------------------------------------------------------------------------------------------------------------------------------------------------------------------------------------------------------------------------------------------------------------------------------------------------------------------------------------------------------------------------------------------------------------------------------------------------------------------------------------------------------------------------------------------------------------------------------------------+\n"
     ]
    },
    {
     "name": "stdout",
     "output_type": "stream",
     "text": [
      "\n",
      "+----------------------------------------------------------------------------------------------------------+\n",
      "|emp_length_freqItems                                                                                      |\n",
      "+----------------------------------------------------------------------------------------------------------+\n",
      "|[1 year, 3 years, < 1 year, 6 years, 9 years, 2 years, 10+ years, 5 years, 8 years, n/a, 4 years, 7 years]|\n",
      "+----------------------------------------------------------------------------------------------------------+\n",
      "\n",
      "+--------------------------+\n",
      "|home_ownership_freqItems  |\n",
      "+--------------------------+\n",
      "|[OWN, RENT, MORTGAGE, ANY]|\n",
      "+--------------------------+\n",
      "\n",
      "+-----------------------------------------+\n",
      "|verification_status_freqItems            |\n",
      "+-----------------------------------------+\n",
      "|[Verified, Not Verified, Source Verified]|\n",
      "+-----------------------------------------+\n",
      "\n",
      "+------------------------------------------------------------------------------------------------------------------------+\n",
      "|issue_d_freqItems                                                                                                       |\n",
      "+------------------------------------------------------------------------------------------------------------------------+\n",
      "|[Apr-2017, Feb-2017, Jul-2017, Aug-2017, Jun-2017, Mar-2017, Jan-2017, Sep-2017, Oct-2017, May-2017, Dec-2017, Nov-2017]|\n",
      "+------------------------------------------------------------------------------------------------------------------------+\n",
      "\n",
      "+--------------------+\n",
      "|pymnt_plan_freqItems|\n",
      "+--------------------+\n",
      "|[n, y]              |\n",
      "+--------------------+\n",
      "\n",
      "+---------------------------------------------------------------------------------------------------------------------------------------------------+\n",
      "|purpose_freqItems                                                                                                                                  |\n",
      "+---------------------------------------------------------------------------------------------------------------------------------------------------+\n",
      "|[moving, home_improvement, renewable_energy, small_business, major_purchase, debt_consolidation, house, car, credit_card, medical, vacation, other]|\n",
      "+---------------------------------------------------------------------------------------------------------------------------------------------------+\n",
      "\n",
      "+-------------------------------------------------------------------------------------------------------------------------------------------------------------------------------------------+\n",
      "|title_freqItems                                                                                                                                                                            |\n",
      "+-------------------------------------------------------------------------------------------------------------------------------------------------------------------------------------------+\n",
      "|[Home improvement, Home buying, Moving and relocation, Debt consolidation, Medical expenses, Major purchase, Car financing, Vacation, Other, Green loan, Business, Credit card refinancing]|\n",
      "+-------------------------------------------------------------------------------------------------------------------------------------------------------------------------------------------+\n",
      "\n",
      "+-----------------------------------------------------------------------------------------------------------------------------------------------------------------------------------------------------------------------------------------------------+\n",
      "|zip_code_freqItems                                                                                                                                                                                                                                   |\n",
      "+-----------------------------------------------------------------------------------------------------------------------------------------------------------------------------------------------------------------------------------------------------+\n",
      "|[088xx, 857xx, 891xx, 330xx, 871xx, 750xx, 100xx, 770xx, 926xx, 117xx, 212xx, 103xx, 900xx, 917xx, 327xx, 802xx, 850xx, 582xx, 606xx, 775xx, 890xx, 945xx, 300xx, 852xx, 080xx, 104xx, 112xx, 331xx, 480xx, 613xx, 460xx, 469xx, 800xx, 071xx, 656xx]|\n",
      "+-----------------------------------------------------------------------------------------------------------------------------------------------------------------------------------------------------------------------------------------------------+\n",
      "\n",
      "+--------------------------------------------------------------------------------------------------------------------------------------------------------------------------------------------------------+\n",
      "|addr_state_freqItems                                                                                                                                                                                    |\n",
      "+--------------------------------------------------------------------------------------------------------------------------------------------------------------------------------------------------------+\n",
      "|[SC, MS, CO, MA, GA, AZ, TN, IN, HI, WV, NE, MI, VT, WY, NH, LA, CT, MO, ID, WA, RI, NJ, OR, AL, ND, NV, KY, NM, MT, VA, DC, KS, NY, IL, AR, ME, MN, CA, WI, UT, TX, SD, OK, FL, DE, PA, MD, OH, AK, NC]|\n",
      "+--------------------------------------------------------------------------------------------------------------------------------------------------------------------------------------------------------+\n",
      "\n",
      "+----------------------------------------------------------------------------------------------------------------------------------------------------------------------------------------------------------------------------------------------------------------------------------------------------------------------------------------------------------------------------------------------------------------------------------------------------------------------------------------------------------------------------------------------------------------------------------------------------------------------------------------------------------------------------------------------------------------------------------------------------------------------------------------------------------------------------------------------------------------------------------------------------------------------------------------------------------------------------+\n",
      "|earliest_cr_line_freqItems                                                                                                                                                                                                                                                                                                                                                                                                                                                                                                                                                                                                                                                                                                                                                                                                                                                                                                                                                  |\n",
      "+----------------------------------------------------------------------------------------------------------------------------------------------------------------------------------------------------------------------------------------------------------------------------------------------------------------------------------------------------------------------------------------------------------------------------------------------------------------------------------------------------------------------------------------------------------------------------------------------------------------------------------------------------------------------------------------------------------------------------------------------------------------------------------------------------------------------------------------------------------------------------------------------------------------------------------------------------------------------------+\n",
      "|[Jun-2007, Sep-2007, Aug-2003, Mar-1994, Dec-2004, Oct-1995, May-2013, Nov-1995, Oct-2001, Aug-2012, May-2007, Aug-2006, Jul-2005, Nov-2004, Aug-2000, May-2001, Jun-2006, Oct-2004, Sep-2006, Mar-2006, Apr-2004, Mar-2000, Jan-2009, Aug-1996, Jun-2009, May-2004, Sep-2003, Apr-2007, Mar-2003, Nov-1997, Jan-1999, Dec-2000, Feb-2007, Jun-1990, Dec-2003, Aug-2002, Jun-1987, Nov-2009, Mar-2002, Dec-2006, Jan-2002, Oct-2000, Jul-2001, Aug-2005, Nov-2003, Oct-2003, Mar-2005, May-2000, Jun-2005, Sep-2005, Dec-1993, Jan-2005, Oct-2006, Jul-2007, Jun-2008, Sep-2008, Mar-2014, Jan-2008, Oct-1999, May-2003, Apr-2003, Aug-1998, May-1984, Aug-2004, Aug-2010, Dec-2005, Apr-2006, Oct-1993, Feb-1976, Feb-2006, Aug-2007, Mar-1998, Jul-1997, Oct-2011, Feb-2000, Jan-2007, Nov-1990, Oct-2005, Sep-2013, Nov-2005, May-2002, Aug-2001, Jul-2000, Jul-2009, Apr-2005, Mar-2001, Jan-2001, Sep-1989, Sep-2004, Sep-2010, Mar-2004, Nov-2002, Jan-2004, Jun-2004]|\n",
      "+----------------------------------------------------------------------------------------------------------------------------------------------------------------------------------------------------------------------------------------------------------------------------------------------------------------------------------------------------------------------------------------------------------------------------------------------------------------------------------------------------------------------------------------------------------------------------------------------------------------------------------------------------------------------------------------------------------------------------------------------------------------------------------------------------------------------------------------------------------------------------------------------------------------------------------------------------------------------------+\n",
      "\n"
     ]
    },
    {
     "name": "stdout",
     "output_type": "stream",
     "text": [
      "+-----------------------------+\n",
      "|initial_list_status_freqItems|\n",
      "+-----------------------------+\n",
      "|[w, f]                       |\n",
      "+-----------------------------+\n",
      "\n",
      "+----------------------------------------------------------------------------------------------------------------------------------------------------------------------------------------------------------------------------------------------------------------------+\n",
      "|last_pymnt_d_freqItems                                                                                                                                                                                                                                                |\n",
      "+----------------------------------------------------------------------------------------------------------------------------------------------------------------------------------------------------------------------------------------------------------------------+\n",
      "|[Apr-2017, Feb-2017, Aug-2018, Mar-2018, Jul-2017, Jan-2018, Jun-2018, Feb-2019, Sep-2018, Dec-2018, Aug-2017, May-2018, Mar-2017, Jun-2017, Jan-2017, Sep-2017, Nov-2018, Oct-2018, Apr-2018, Feb-2018, Oct-2017, May-2017, Dec-2017, Nov-2017, Jul-2018, Jan-2019, ]|\n",
      "+----------------------------------------------------------------------------------------------------------------------------------------------------------------------------------------------------------------------------------------------------------------------+\n",
      "\n",
      "+--------------------------------------------------------------------------------------------------------------------------------------------------------------------------------------------------------------------------------------------------------------------+\n",
      "|last_credit_pull_d_freqItems                                                                                                                                                                                                                                        |\n",
      "+--------------------------------------------------------------------------------------------------------------------------------------------------------------------------------------------------------------------------------------------------------------------+\n",
      "|[Apr-2017, Feb-2017, Aug-2018, Mar-2018, Jul-2017, Jan-2018, Jun-2018, Feb-2019, Sep-2018, Dec-2018, Aug-2017, May-2018, Mar-2017, Jun-2017, Jan-2017, Sep-2017, Nov-2018, Oct-2018, Apr-2018, Feb-2018, Oct-2017, May-2017, Dec-2017, Nov-2017, Jul-2018, Jan-2019]|\n",
      "+--------------------------------------------------------------------------------------------------------------------------------------------------------------------------------------------------------------------------------------------------------------------+\n",
      "\n",
      "+--------------------------+\n",
      "|application_type_freqItems|\n",
      "+--------------------------+\n",
      "|[Individual, Joint App]   |\n",
      "+--------------------------+\n",
      "\n",
      "+-----------------------+\n",
      "|hardship_flag_freqItems|\n",
      "+-----------------------+\n",
      "|[Y, N]                 |\n",
      "+-----------------------+\n",
      "\n",
      "+-----------------------------+\n",
      "|disbursement_method_freqItems|\n",
      "+-----------------------------+\n",
      "|[Cash, DirectPay]            |\n",
      "+-----------------------------+\n",
      "\n",
      "+------------------------------+\n",
      "|debt_settlement_flag_freqItems|\n",
      "+------------------------------+\n",
      "|[Y, N]                        |\n",
      "+------------------------------+\n",
      "\n"
     ]
    }
   ],
   "source": [
    "stringColumn.foreach(l => stringDF.select(l+\"_freqItems\").show(false))"
   ]
  },
  {
   "cell_type": "markdown",
   "metadata": {},
   "source": [
    "Below columns with only a few possible values can be dropped:\n",
    "* term\n",
    "* pymnt_plan\n",
    "* initial_list_status\n",
    "* application_type\n",
    "* hardship_flag\n",
    "* disbursement_method\n",
    "* debt_settlement_flag"
   ]
  },
  {
   "cell_type": "code",
   "execution_count": 15,
   "metadata": {},
   "outputs": [
    {
     "data": {
      "text/plain": [
       "df: org.apache.spark.sql.DataFrame = [loan_amnt: int, funded_amnt: int ... 77 more fields]\n"
      ]
     },
     "execution_count": 15,
     "metadata": {},
     "output_type": "execute_result"
    }
   ],
   "source": [
    "df = df.drop(\"term\")\n",
    ".drop(\"pymnt_plan\")\n",
    ".drop(\"initial_list_status\")\n",
    ".drop(\"application_type\")\n",
    ".drop(\"hardship_flag\")\n",
    ".drop(\"disbursement_method\")\n",
    ".drop(\"debt_settlement_flag\")"
   ]
  },
  {
   "cell_type": "markdown",
   "metadata": {},
   "source": [
    "## Check for Integer type column"
   ]
  },
  {
   "cell_type": "code",
   "execution_count": 16,
   "metadata": {},
   "outputs": [
    {
     "data": {
      "text/plain": [
       "integerColumn: Array[String] = Array(loan_amnt, funded_amnt, delinq_2yrs, inq_last_6mths, open_acc, pub_rec, revol_bal, total_acc, collections_12_mths_ex_med, policy_code, acc_now_delinq, tot_coll_amt, tot_cur_bal, total_rev_hi_lim, acc_open_past_24mths, avg_cur_bal, bc_open_to_buy, delinq_amnt, mo_sin_old_rev_tl_op, mo_sin_rcnt_rev_tl_op, mo_sin_rcnt_tl, mort_acc, mths_since_recent_bc, num_accts_ever_120_pd, num_actv_bc_tl, num_actv_rev_tl, num_bc_sats, num_bc_tl, num_il_tl, num_op_rev_tl, num_rev_accts, num_rev_tl_bal_gt_0, num_sats, num_tl_120dpd_2m, num_tl_30dpd, num_tl_90g_dpd_24m, num_tl_op_past_12m, pub_rec_bankruptcies, tax_liens, tot_hi_cred_lim, total_bal_ex_mort, total_bc_limit, total_il_high_credit_limit, loan_status)\n"
      ]
     },
     "execution_count": 16,
     "metadata": {},
     "output_type": "execute_result"
    }
   ],
   "source": [
    "val integerColumn = df.dtypes.filter(column => column._2 == \"IntegerType\").map(_._1)"
   ]
  },
  {
   "cell_type": "code",
   "execution_count": 17,
   "metadata": {},
   "outputs": [
    {
     "name": "stdout",
     "output_type": "stream",
     "text": [
      "loan_amnt\n",
      "+-------+-----------------+\n",
      "|summary|loan_amnt        |\n",
      "+-------+-----------------+\n",
      "|count  |20070            |\n",
      "|mean   |14727.77279521674|\n",
      "|stddev |9605.943924842913|\n",
      "|min    |1000             |\n",
      "|max    |40000            |\n",
      "+-------+-----------------+\n",
      "\n",
      "funded_amnt\n",
      "+-------+-----------------+\n",
      "|summary|funded_amnt      |\n",
      "+-------+-----------------+\n",
      "|count  |20070            |\n",
      "|mean   |14727.77279521674|\n",
      "|stddev |9605.943924842913|\n",
      "|min    |1000             |\n",
      "|max    |40000            |\n",
      "+-------+-----------------+\n",
      "\n",
      "delinq_2yrs\n",
      "+-------+------------------+\n",
      "|summary|delinq_2yrs       |\n",
      "+-------+------------------+\n",
      "|count  |20070             |\n",
      "|mean   |0.3164424514200299|\n",
      "|stddev |0.8923656245867851|\n",
      "|min    |0                 |\n",
      "|max    |25                |\n",
      "+-------+------------------+\n",
      "\n",
      "inq_last_6mths\n",
      "+-------+------------------+\n",
      "|summary|inq_last_6mths    |\n",
      "+-------+------------------+\n",
      "|count  |20070             |\n",
      "|mean   |0.5067762830094669|\n",
      "|stddev |0.799514602653405 |\n",
      "|min    |0                 |\n",
      "|max    |5                 |\n",
      "+-------+------------------+\n",
      "\n",
      "open_acc\n",
      "+-------+------------------+\n",
      "|summary|open_acc          |\n",
      "+-------+------------------+\n",
      "|count  |20070             |\n",
      "|mean   |11.624215246636771|\n",
      "|stddev |5.739203246404454 |\n",
      "|min    |1                 |\n",
      "|max    |63                |\n",
      "+-------+------------------+\n",
      "\n",
      "pub_rec\n",
      "+-------+-------------------+\n",
      "|summary|pub_rec            |\n",
      "+-------+-------------------+\n",
      "|count  |20070              |\n",
      "|mean   |0.21654210264075735|\n",
      "|stddev |0.5748091005837248 |\n",
      "|min    |0                  |\n",
      "|max    |12                 |\n",
      "+-------+-------------------+\n",
      "\n",
      "revol_bal\n",
      "+-------+------------------+\n",
      "|summary|revol_bal         |\n",
      "+-------+------------------+\n",
      "|count  |20070             |\n",
      "|mean   |16383.052267065272|\n",
      "|stddev |22240.624056183748|\n",
      "|min    |0                 |\n",
      "|max    |645072            |\n",
      "+-------+------------------+\n",
      "\n",
      "total_acc\n",
      "+-------+------------------+\n",
      "|summary|total_acc         |\n",
      "+-------+------------------+\n",
      "|count  |20070             |\n",
      "|mean   |23.234927752864973|\n",
      "|stddev |11.778807737070576|\n",
      "|min    |2                 |\n",
      "|max    |122               |\n",
      "+-------+------------------+\n",
      "\n",
      "collections_12_mths_ex_med\n",
      "+-------+--------------------------+\n",
      "|summary|collections_12_mths_ex_med|\n",
      "+-------+--------------------------+\n",
      "|count  |20070                     |\n",
      "|mean   |0.02142501245640259       |\n",
      "|stddev |0.15984746027312974       |\n",
      "|min    |0                         |\n",
      "|max    |5                         |\n",
      "+-------+--------------------------+\n",
      "\n",
      "policy_code\n",
      "+-------+-----------+\n",
      "|summary|policy_code|\n",
      "+-------+-----------+\n",
      "|count  |20070      |\n",
      "|mean   |1.0        |\n",
      "|stddev |0.0        |\n",
      "|min    |1          |\n",
      "|max    |1          |\n",
      "+-------+-----------+\n",
      "\n",
      "acc_now_delinq\n",
      "+-------+---------------------+\n",
      "|summary|acc_now_delinq       |\n",
      "+-------+---------------------+\n",
      "|count  |20070                |\n",
      "|mean   |0.0046836073741903335|\n",
      "|stddev |0.07183442356648938  |\n",
      "|min    |0                    |\n",
      "|max    |2                    |\n",
      "+-------+---------------------+\n",
      "\n",
      "tot_coll_amt\n",
      "+-------+------------------+\n",
      "|summary|tot_coll_amt      |\n",
      "+-------+------------------+\n",
      "|count  |20070             |\n",
      "|mean   |224.14434479322372|\n",
      "|stddev |1666.8011251715486|\n",
      "|min    |0                 |\n",
      "|max    |101936            |\n",
      "+-------+------------------+\n",
      "\n",
      "tot_cur_bal\n",
      "+-------+------------------+\n",
      "|summary|tot_cur_bal       |\n",
      "+-------+------------------+\n",
      "|count  |20070             |\n",
      "|mean   |147346.74524165422|\n",
      "|stddev |169898.25882636546|\n",
      "|min    |0                 |\n",
      "|max    |4348538           |\n",
      "+-------+------------------+\n",
      "\n",
      "total_rev_hi_lim\n",
      "+-------+-----------------+\n",
      "|summary|total_rev_hi_lim |\n",
      "+-------+-----------------+\n",
      "|count  |20070            |\n",
      "|mean   |35726.41295465869|\n",
      "|stddev |34781.54948541507|\n",
      "|min    |0                |\n",
      "|max    |716800           |\n",
      "+-------+-----------------+\n",
      "\n",
      "acc_open_past_24mths\n",
      "+-------+--------------------+\n",
      "|summary|acc_open_past_24mths|\n",
      "+-------+--------------------+\n",
      "|count  |20070               |\n",
      "|mean   |4.5104135525660185  |\n",
      "|stddev |3.142292296295128   |\n",
      "|min    |0                   |\n",
      "|max    |29                  |\n",
      "+-------+--------------------+\n",
      "\n",
      "avg_cur_bal\n",
      "+-------+------------------+\n",
      "|summary|avg_cur_bal       |\n",
      "+-------+------------------+\n",
      "|count  |20070             |\n",
      "|mean   |14026.691629297458|\n",
      "|stddev |17320.316541364176|\n",
      "|min    |0                 |\n",
      "|max    |434854            |\n",
      "+-------+------------------+\n",
      "\n",
      "bc_open_to_buy\n",
      "+-------+------------------+\n",
      "|summary|bc_open_to_buy    |\n",
      "+-------+------------------+\n",
      "|count  |20070             |\n",
      "|mean   |12697.310313901346|\n",
      "|stddev |17812.490056612227|\n",
      "|min    |0                 |\n",
      "|max    |252947            |\n",
      "+-------+------------------+\n",
      "\n",
      "delinq_amnt\n",
      "+-------+------------------+\n",
      "|summary|delinq_amnt       |\n",
      "+-------+------------------+\n",
      "|count  |20070             |\n",
      "|mean   |14.280717488789238|\n",
      "|stddev |715.7070259782377 |\n",
      "|min    |0                 |\n",
      "|max    |65000             |\n",
      "+-------+------------------+\n",
      "\n",
      "mo_sin_old_rev_tl_op\n",
      "+-------+--------------------+\n",
      "|summary|mo_sin_old_rev_tl_op|\n",
      "+-------+--------------------+\n",
      "|count  |20070               |\n",
      "|mean   |181.19018435475834  |\n",
      "|stddev |99.94570429578813   |\n",
      "|min    |8                   |\n",
      "|max    |732                 |\n",
      "+-------+--------------------+\n",
      "\n",
      "mo_sin_rcnt_rev_tl_op\n",
      "+-------+---------------------+\n",
      "|summary|mo_sin_rcnt_rev_tl_op|\n",
      "+-------+---------------------+\n",
      "|count  |20070                |\n",
      "|mean   |14.593921275535624   |\n",
      "|stddev |18.594782345047587   |\n",
      "|min    |0                    |\n",
      "|max    |345                  |\n",
      "+-------+---------------------+\n",
      "\n",
      "mo_sin_rcnt_tl\n",
      "+-------+-----------------+\n",
      "|summary|mo_sin_rcnt_tl   |\n",
      "+-------+-----------------+\n",
      "|count  |20070            |\n",
      "|mean   |8.518036870951669|\n",
      "|stddev |9.542227824086165|\n",
      "|min    |0                |\n",
      "|max    |165              |\n",
      "+-------+-----------------+\n",
      "\n",
      "mort_acc\n",
      "+-------+------------------+\n",
      "|summary|mort_acc          |\n",
      "+-------+------------------+\n",
      "|count  |20070             |\n",
      "|mean   |1.4267563527653213|\n",
      "|stddev |1.7357124717450982|\n",
      "|min    |0                 |\n",
      "|max    |15                |\n",
      "+-------+------------------+\n",
      "\n",
      "mths_since_recent_bc\n",
      "+-------+--------------------+\n",
      "|summary|mths_since_recent_bc|\n",
      "+-------+--------------------+\n",
      "|count  |20070               |\n",
      "|mean   |24.43756851021425   |\n",
      "|stddev |32.72291309578169   |\n",
      "|min    |0                   |\n",
      "|max    |485                 |\n",
      "+-------+--------------------+\n",
      "\n",
      "num_accts_ever_120_pd\n",
      "+-------+---------------------+\n",
      "|summary|num_accts_ever_120_pd|\n",
      "+-------+---------------------+\n",
      "|count  |20070                |\n",
      "|mean   |0.5167912306925759   |\n",
      "|stddev |1.437381002538141    |\n",
      "|min    |0                    |\n",
      "|max    |34                   |\n",
      "+-------+---------------------+\n",
      "\n",
      "num_actv_bc_tl\n",
      "+-------+------------------+\n",
      "|summary|num_actv_bc_tl    |\n",
      "+-------+------------------+\n",
      "|count  |20070             |\n",
      "|mean   |3.630642750373692 |\n",
      "|stddev |2.3495748559077385|\n",
      "|min    |0                 |\n",
      "|max    |22                |\n",
      "+-------+------------------+\n",
      "\n",
      "num_actv_rev_tl\n",
      "+-------+------------------+\n",
      "|summary|num_actv_rev_tl   |\n",
      "+-------+------------------+\n",
      "|count  |20070             |\n",
      "|mean   |5.482810164424515 |\n",
      "|stddev |3.4173802382521274|\n",
      "|min    |0                 |\n",
      "|max    |41                |\n",
      "+-------+------------------+\n",
      "\n",
      "num_bc_sats\n",
      "+-------+------------------+\n",
      "|summary|num_bc_sats       |\n",
      "+-------+------------------+\n",
      "|count  |20070             |\n",
      "|mean   |4.79785749875436  |\n",
      "|stddev |3.1129749082722977|\n",
      "|min    |0                 |\n",
      "|max    |33                |\n",
      "+-------+------------------+\n",
      "\n",
      "num_bc_tl\n",
      "+-------+-----------------+\n",
      "|summary|num_bc_tl        |\n",
      "+-------+-----------------+\n",
      "|count  |20070            |\n",
      "|mean   |7.232536123567514|\n",
      "|stddev |4.483884997460628|\n",
      "|min    |0                |\n",
      "|max    |66               |\n",
      "+-------+-----------------+\n",
      "\n",
      "num_il_tl\n",
      "+-------+-----------------+\n",
      "|summary|num_il_tl        |\n",
      "+-------+-----------------+\n",
      "|count  |20070            |\n",
      "|mean   |8.354160438465371|\n",
      "|stddev |7.240040651087403|\n",
      "|min    |0                |\n",
      "|max    |80               |\n",
      "+-------+-----------------+\n",
      "\n",
      "num_op_rev_tl\n",
      "+-------+-----------------+\n",
      "|summary|num_op_rev_tl    |\n",
      "+-------+-----------------+\n",
      "|count  |20070            |\n",
      "|mean   |8.112655705032386|\n",
      "|stddev |4.750490246163956|\n",
      "|min    |0                |\n",
      "|max    |50               |\n",
      "+-------+-----------------+\n"
     ]
    },
    {
     "name": "stdout",
     "output_type": "stream",
     "text": [
      "\n",
      "num_rev_accts\n",
      "+-------+------------------+\n",
      "|summary|num_rev_accts     |\n",
      "+-------+------------------+\n",
      "|count  |20070             |\n",
      "|mean   |13.237717987045341|\n",
      "|stddev |7.871839693276913 |\n",
      "|min    |2                 |\n",
      "|max    |107               |\n",
      "+-------+------------------+\n",
      "\n",
      "num_rev_tl_bal_gt_0\n",
      "+-------+-------------------+\n",
      "|summary|num_rev_tl_bal_gt_0|\n",
      "+-------+-------------------+\n",
      "|count  |20070              |\n",
      "|mean   |5.401395117090185  |\n",
      "|stddev |3.271756089403912  |\n",
      "|min    |0                  |\n",
      "|max    |28                 |\n",
      "+-------+-------------------+\n",
      "\n",
      "num_sats\n",
      "+-------+------------------+\n",
      "|summary|num_sats          |\n",
      "+-------+------------------+\n",
      "|count  |20070             |\n",
      "|mean   |11.582012954658694|\n",
      "|stddev |5.717695147820476 |\n",
      "|min    |1                 |\n",
      "|max    |63                |\n",
      "+-------+------------------+\n",
      "\n",
      "num_tl_120dpd_2m\n",
      "+-------+--------------------+\n",
      "|summary|num_tl_120dpd_2m    |\n",
      "+-------+--------------------+\n",
      "|count  |20070               |\n",
      "|mean   |4.982561036372695E-4|\n",
      "|stddev |0.022316645340948696|\n",
      "|min    |0                   |\n",
      "|max    |1                   |\n",
      "+-------+--------------------+\n",
      "\n",
      "num_tl_30dpd\n",
      "+-------+---------------------+\n",
      "|summary|num_tl_30dpd         |\n",
      "+-------+---------------------+\n",
      "|count  |20070                |\n",
      "|mean   |0.0032386646736422523|\n",
      "|stddev |0.058546126694512965 |\n",
      "|min    |0                    |\n",
      "|max    |2                    |\n",
      "+-------+---------------------+\n",
      "\n",
      "num_tl_90g_dpd_24m\n",
      "+-------+-------------------+\n",
      "|summary|num_tl_90g_dpd_24m |\n",
      "+-------+-------------------+\n",
      "|count  |20070              |\n",
      "|mean   |0.08256103637269556|\n",
      "|stddev |0.5127404835436434 |\n",
      "|min    |0                  |\n",
      "|max    |25                 |\n",
      "+-------+-------------------+\n",
      "\n",
      "num_tl_op_past_12m\n",
      "+-------+------------------+\n",
      "|summary|num_tl_op_past_12m|\n",
      "+-------+------------------+\n",
      "|count  |20070             |\n",
      "|mean   |2.025759840558047 |\n",
      "|stddev |1.8195225536131319|\n",
      "|min    |0                 |\n",
      "|max    |20                |\n",
      "+-------+------------------+\n",
      "\n",
      "pub_rec_bankruptcies\n",
      "+-------+--------------------+\n",
      "|summary|pub_rec_bankruptcies|\n",
      "+-------+--------------------+\n",
      "|count  |20070               |\n",
      "|mean   |0.1371699053313403  |\n",
      "|stddev |0.3764037291710053  |\n",
      "|min    |0                   |\n",
      "|max    |6                   |\n",
      "+-------+--------------------+\n",
      "\n",
      "tax_liens\n",
      "+-------+-------------------+\n",
      "|summary|tax_liens          |\n",
      "+-------+-------------------+\n",
      "|count  |20070              |\n",
      "|mean   |0.05809666168410563|\n",
      "|stddev |0.36585677260303795|\n",
      "|min    |0                  |\n",
      "|max    |9                  |\n",
      "+-------+-------------------+\n",
      "\n",
      "tot_hi_cred_lim\n",
      "+-------+------------------+\n",
      "|summary|tot_hi_cred_lim   |\n",
      "+-------+------------------+\n",
      "|count  |20070             |\n",
      "|mean   |185966.84489287494|\n",
      "|stddev |190727.5406086257 |\n",
      "|min    |200               |\n",
      "|max    |4533854           |\n",
      "+-------+------------------+\n",
      "\n",
      "total_bal_ex_mort\n",
      "+-------+-----------------+\n",
      "|summary|total_bal_ex_mort|\n",
      "+-------+-----------------+\n",
      "|count  |20070            |\n",
      "|mean   |51688.9841554559 |\n",
      "|stddev |49909.49197799722|\n",
      "|min    |0                |\n",
      "|max    |728132           |\n",
      "+-------+-----------------+\n",
      "\n",
      "total_bc_limit\n",
      "+-------+------------------+\n",
      "|summary|total_bc_limit    |\n",
      "+-------+------------------+\n",
      "|count  |20070             |\n",
      "|mean   |24478.806028898853|\n",
      "|stddev |23929.262419683273|\n",
      "|min    |0                 |\n",
      "|max    |307300            |\n",
      "+-------+------------------+\n",
      "\n",
      "total_il_high_credit_limit\n",
      "+-------+--------------------------+\n",
      "|summary|total_il_high_credit_limit|\n",
      "+-------+--------------------------+\n",
      "|count  |20070                     |\n",
      "|mean   |45335.78285999003         |\n",
      "|stddev |44967.58802539835         |\n",
      "|min    |0                         |\n",
      "|max    |678695                    |\n",
      "+-------+--------------------------+\n",
      "\n",
      "loan_status\n",
      "+-------+------------------+\n",
      "|summary|loan_status       |\n",
      "+-------+------------------+\n",
      "|count  |20070             |\n",
      "|mean   |0.8960637767812656|\n",
      "|stddev |0.3051853951055083|\n",
      "|min    |0                 |\n",
      "|max    |1                 |\n",
      "+-------+------------------+\n",
      "\n"
     ]
    }
   ],
   "source": [
    "integerColumn.foreach( l => {\n",
    "    println(l)\n",
    "    df.describe(l).show(false)\n",
    "})"
   ]
  },
  {
   "cell_type": "markdown",
   "metadata": {},
   "source": [
    "## Check for Double type column"
   ]
  },
  {
   "cell_type": "code",
   "execution_count": 18,
   "metadata": {},
   "outputs": [
    {
     "data": {
      "text/plain": [
       "doubleColumn: Array[String] = Array(funded_amnt_inv, int_rate, installment, annual_inc, dti, revol_util, out_prncp, out_prncp_inv, total_pymnt, total_pymnt_inv, total_rec_prncp, total_rec_int, total_rec_late_fee, recoveries, collection_recovery_fee, last_pymnt_amnt, bc_util, chargeoff_within_12_mths, mo_sin_old_il_acct, pct_tl_nvr_dlq, percent_bc_gt_75)\n"
      ]
     },
     "execution_count": 18,
     "metadata": {},
     "output_type": "execute_result"
    }
   ],
   "source": [
    "val doubleColumn = df.dtypes.filter(column => column._2 == \"DoubleType\").map(_._1)"
   ]
  },
  {
   "cell_type": "code",
   "execution_count": 19,
   "metadata": {},
   "outputs": [
    {
     "name": "stdout",
     "output_type": "stream",
     "text": [
      "funded_amnt_inv\n",
      "+-------+-----------------+\n",
      "|summary|funded_amnt_inv  |\n",
      "+-------+-----------------+\n",
      "|count  |20070            |\n",
      "|mean   |14723.55879422023|\n",
      "|stddev |9602.98512801013 |\n",
      "|min    |1000.0           |\n",
      "|max    |40000.0          |\n",
      "+-------+-----------------+\n",
      "\n",
      "int_rate\n",
      "+-------+------------------+\n",
      "|summary|int_rate          |\n",
      "+-------+------------------+\n",
      "|count  |20070             |\n",
      "|mean   |13.181286995515938|\n",
      "|stddev |5.160479853400301 |\n",
      "|min    |5.32              |\n",
      "|max    |30.99             |\n",
      "+-------+------------------+\n",
      "\n",
      "installment\n",
      "+-------+------------------+\n",
      "|summary|installment       |\n",
      "+-------+------------------+\n",
      "|count  |20070             |\n",
      "|mean   |438.5379506726432 |\n",
      "|stddev |282.00868318404855|\n",
      "|min    |30.12             |\n",
      "|max    |1566.8            |\n",
      "+-------+------------------+\n",
      "\n",
      "annual_inc\n",
      "+-------+-----------------+\n",
      "|summary|annual_inc       |\n",
      "+-------+-----------------+\n",
      "|count  |20070            |\n",
      "|mean   |80446.58286148479|\n",
      "|stddev |91653.89088551658|\n",
      "|min    |0.0              |\n",
      "|max    |7200000.0        |\n",
      "+-------+-----------------+\n",
      "\n",
      "dti\n",
      "+-------+------------------+\n",
      "|summary|dti               |\n",
      "+-------+------------------+\n",
      "|count  |20070             |\n",
      "|mean   |19.03107523667162 |\n",
      "|stddev |16.992338217396505|\n",
      "|min    |0.0               |\n",
      "|max    |999.0             |\n",
      "+-------+------------------+\n",
      "\n",
      "revol_util\n",
      "+-------+-----------------+\n",
      "|summary|revol_util       |\n",
      "+-------+-----------------+\n",
      "|count  |20070            |\n",
      "|mean   |47.64562032884903|\n",
      "|stddev |24.84937183478352|\n",
      "|min    |0.0              |\n",
      "|max    |145.6            |\n",
      "+-------+-----------------+\n",
      "\n",
      "out_prncp\n",
      "+-------+-----------------+\n",
      "|summary|out_prncp        |\n",
      "+-------+-----------------+\n",
      "|count  |20070            |\n",
      "|mean   |5986.149243647225|\n",
      "|stddev |7213.528049075018|\n",
      "|min    |0.0              |\n",
      "|max    |34853.59         |\n",
      "+-------+-----------------+\n",
      "\n",
      "out_prncp_inv\n",
      "+-------+-----------------+\n",
      "|summary|out_prncp_inv    |\n",
      "+-------+-----------------+\n",
      "|count  |20070            |\n",
      "|mean   |5984.647430493265|\n",
      "|stddev |7212.448287288192|\n",
      "|min    |0.0              |\n",
      "|max    |34853.59         |\n",
      "+-------+-----------------+\n",
      "\n",
      "total_pymnt\n",
      "+-------+-----------------+\n",
      "|summary|total_pymnt      |\n",
      "+-------+-----------------+\n",
      "|count  |20070            |\n",
      "|mean   |9888.739469970325|\n",
      "|stddev |7753.149550645867|\n",
      "|min    |0.0              |\n",
      "|max    |55051.0436082491 |\n",
      "+-------+-----------------+\n",
      "\n",
      "total_pymnt_inv\n",
      "+-------+------------------+\n",
      "|summary|total_pymnt_inv   |\n",
      "+-------+------------------+\n",
      "|count  |20070             |\n",
      "|mean   |9885.918338814125 |\n",
      "|stddev |7750.4668867298515|\n",
      "|min    |0.0               |\n",
      "|max    |55051.04          |\n",
      "+-------+------------------+\n",
      "\n",
      "total_rec_prncp\n",
      "+-------+------------------+\n",
      "|summary|total_rec_prncp   |\n",
      "+-------+------------------+\n",
      "|count  |20070             |\n",
      "|mean   |7668.963155455917 |\n",
      "|stddev |6996.5849429241125|\n",
      "|min    |0.0               |\n",
      "|max    |40000.0           |\n",
      "+-------+------------------+\n",
      "\n",
      "total_rec_int\n",
      "+-------+-----------------+\n",
      "|summary|total_rec_int    |\n",
      "+-------+-----------------+\n",
      "|count  |20070            |\n",
      "|mean   |2138.338641753859|\n",
      "|stddev |2072.548535188245|\n",
      "|min    |0.0              |\n",
      "|max    |18947.6          |\n",
      "+-------+-----------------+\n",
      "\n",
      "total_rec_late_fee\n",
      "+-------+------------------+\n",
      "|summary|total_rec_late_fee|\n",
      "+-------+------------------+\n",
      "|count  |20070             |\n",
      "|mean   |1.6842571002119877|\n",
      "|stddev |13.120938139403037|\n",
      "|min    |0.0               |\n",
      "|max    |575.25            |\n",
      "+-------+------------------+\n",
      "\n",
      "recoveries\n",
      "+-------+-----------------+\n",
      "|summary|recoveries       |\n",
      "+-------+-----------------+\n",
      "|count  |20070            |\n",
      "|mean   |79.75342252117588|\n",
      "|stddev |519.5436725546605|\n",
      "|min    |0.0              |\n",
      "|max    |19400.0          |\n",
      "+-------+-----------------+\n",
      "\n",
      "collection_recovery_fee\n",
      "+-------+-----------------------+\n",
      "|summary|collection_recovery_fee|\n",
      "+-------+-----------------------+\n",
      "|count  |20070                  |\n",
      "|mean   |13.531588350765055     |\n",
      "|stddev |90.59917418691995      |\n",
      "|min    |0.0                    |\n",
      "|max    |3492.0                 |\n",
      "+-------+-----------------------+\n",
      "\n",
      "last_pymnt_amnt\n",
      "+-------+-----------------+\n",
      "|summary|last_pymnt_amnt  |\n",
      "+-------+-----------------+\n",
      "|count  |20070            |\n",
      "|mean   |3055.867512705539|\n",
      "|stddev |6095.672870147654|\n",
      "|min    |0.0              |\n",
      "|max    |40911.35         |\n",
      "+-------+-----------------+\n",
      "\n",
      "bc_util\n",
      "+-------+------------------+\n",
      "|summary|bc_util           |\n",
      "+-------+------------------+\n",
      "|count  |20070             |\n",
      "|mean   |53.790269058296005|\n",
      "|stddev |29.280602644798275|\n",
      "|min    |0.0               |\n",
      "|max    |178.3             |\n",
      "+-------+------------------+\n",
      "\n",
      "chargeoff_within_12_mths\n",
      "+-------+------------------------+\n",
      "|summary|chargeoff_within_12_mths|\n",
      "+-------+------------------------+\n",
      "|count  |20070                   |\n",
      "|mean   |0.007822620827105132    |\n",
      "|stddev |0.09775287984744245     |\n",
      "|min    |0.0                     |\n",
      "|max    |3.0                     |\n",
      "+-------+------------------------+\n",
      "\n",
      "mo_sin_old_il_acct\n",
      "+-------+------------------+\n",
      "|summary|mo_sin_old_il_acct|\n",
      "+-------+------------------+\n",
      "|count  |20070             |\n",
      "|mean   |120.96736422521175|\n",
      "|stddev |57.25420882260196 |\n",
      "|min    |0.0               |\n",
      "|max    |532.0             |\n",
      "+-------+------------------+\n",
      "\n",
      "pct_tl_nvr_dlq\n",
      "+-------+-----------------+\n",
      "|summary|pct_tl_nvr_dlq   |\n",
      "+-------+-----------------+\n",
      "|count  |20070            |\n",
      "|mean   |93.73975585450955|\n",
      "|stddev |9.718696024126492|\n",
      "|min    |0.0              |\n",
      "|max    |100.0            |\n",
      "+-------+-----------------+\n",
      "\n",
      "percent_bc_gt_75\n",
      "+-------+-----------------+\n",
      "|summary|percent_bc_gt_75 |\n",
      "+-------+-----------------+\n",
      "|count  |20070            |\n",
      "|mean   |37.94741903338303|\n",
      "|stddev |36.10534101864361|\n",
      "|min    |0.0              |\n",
      "|max    |100.0            |\n",
      "+-------+-----------------+\n",
      "\n"
     ]
    }
   ],
   "source": [
    "doubleColumn.foreach( l => {\n",
    "    println(l)\n",
    "    df.describe(l).show(false)\n",
    "})"
   ]
  },
  {
   "cell_type": "markdown",
   "metadata": {},
   "source": [
    "# Correlation-Test"
   ]
  },
  {
   "cell_type": "code",
   "execution_count": 30,
   "metadata": {},
   "outputs": [
    {
     "data": {
      "text/plain": [
       "corrColumn: Array[String] = Array(loan_amnt, funded_amnt, funded_amnt_inv, int_rate, installment, annual_inc, dti, delinq_2yrs, inq_last_6mths, open_acc, pub_rec, revol_bal, revol_util, total_acc, out_prncp, out_prncp_inv, total_pymnt, total_pymnt_inv, total_rec_prncp, total_rec_int, total_rec_late_fee, recoveries, collection_recovery_fee, last_pymnt_amnt, collections_12_mths_ex_med, policy_code, acc_now_delinq, tot_coll_amt, tot_cur_bal, total_rev_hi_lim, acc_open_past_24mths, avg_cur_bal, bc_open_to_buy, bc_util, chargeoff_within_12_mths, delinq_amnt, mo_sin_old_il_acct, mo_sin_old_rev_tl_op, mo_sin_rcnt_rev_tl_op, mo_sin_rcnt_tl, mort_acc, mths_since_recent_bc, num_accts_ever_120_pd, num_actv_bc_tl, num_actv_rev_tl, num_bc_sats, num_bc_tl, num_il_tl, num_op_rev_tl, num_rev_accts, num..."
      ]
     },
     "execution_count": 30,
     "metadata": {},
     "output_type": "execute_result"
    }
   ],
   "source": [
    "var corrColumn = df.dtypes.filter(column => column._2 == \"IntegerType\" || column._2 == \"DoubleType\").map(_._1)"
   ]
  },
  {
   "cell_type": "code",
   "execution_count": 31,
   "metadata": {},
   "outputs": [
    {
     "data": {
      "text/plain": [
       "pairColumn: Array[(String, String)] = Array((loan_amnt,funded_amnt), (loan_amnt,funded_amnt_inv), (loan_amnt,int_rate), (loan_amnt,installment), (loan_amnt,annual_inc), (loan_amnt,dti), (loan_amnt,delinq_2yrs), (loan_amnt,inq_last_6mths), (loan_amnt,open_acc), (loan_amnt,pub_rec), (loan_amnt,revol_bal), (loan_amnt,revol_util), (loan_amnt,total_acc), (loan_amnt,out_prncp), (loan_amnt,out_prncp_inv), (loan_amnt,total_pymnt), (loan_amnt,total_pymnt_inv), (loan_amnt,total_rec_prncp), (loan_amnt,total_rec_int), (loan_amnt,total_rec_late_fee), (loan_amnt,recoveries), (loan_amnt,collection_recovery_fee), (loan_amnt,last_pymnt_amnt), (loan_amnt,collections_12_mths_ex_med), (loan_amnt,policy_code), (loan_amnt,acc_now_delinq), (loan_amnt,tot_coll_amt), (loan_amnt,tot_cur_bal), (loan_amnt,total_re..."
      ]
     },
     "execution_count": 31,
     "metadata": {},
     "output_type": "execute_result"
    }
   ],
   "source": [
    "var pairColumn = for (i <- corrColumn;\n",
    "                      j <- corrColumn if i != j) \n",
    "                      yield (i,j)"
   ]
  },
  {
   "cell_type": "code",
   "execution_count": 32,
   "metadata": {},
   "outputs": [
    {
     "data": {
      "text/plain": [
       "res17: Array[(String, String)] = Array((loan_amnt,funded_amnt_inv), (loan_amnt,int_rate))\n"
      ]
     },
     "execution_count": 32,
     "metadata": {},
     "output_type": "execute_result"
    }
   ],
   "source": [
    "pairColumn.slice(1,3)"
   ]
  },
  {
   "cell_type": "code",
   "execution_count": 46,
   "metadata": {},
   "outputs": [
    {
     "data": {
      "text/plain": [
       "import spark.implicits._\n"
      ]
     },
     "execution_count": 46,
     "metadata": {},
     "output_type": "execute_result"
    }
   ],
   "source": [
    "import spark.implicits._"
   ]
  },
  {
   "cell_type": "code",
   "execution_count": 54,
   "metadata": {},
   "outputs": [
    {
     "data": {
      "text/plain": [
       "corrMaxtrix: Seq[(String, String, Double)] = WrappedArray((loan_amnt,funded_amnt,1.0), (loan_amnt,funded_amnt_inv,0.9999945720567341), (loan_amnt,int_rate,0.10640651992579327), (loan_amnt,installment,0.9468955766694314), (loan_amnt,annual_inc,0.26583466116252075), (loan_amnt,dti,0.037033414975937325), (loan_amnt,delinq_2yrs,-0.01344946497246236), (loan_amnt,inq_last_6mths,-0.015938323536782782), (loan_amnt,open_acc,0.1659593558273838), (loan_amnt,pub_rec,-0.02637627622449272), (loan_amnt,revol_bal,0.3202576055020392), (loan_amnt,revol_util,0.10673464280216499), (loan_amnt,total_acc,0.19088752917165852), (loan_amnt,out_prncp,0.6218975082209893), (loan_amnt,out_prncp_inv,0.6218744366203187), (loan_amnt,total_pymnt,0.7571617972179704), (loan_amnt,total_pymnt_inv,0.7571532331034232), (loan_..."
      ]
     },
     "execution_count": 54,
     "metadata": {},
     "output_type": "execute_result"
    }
   ],
   "source": [
    "// This could take a while\n",
    "var corrMaxtrix = pairColumn.map{ case (x,y) => {\n",
    "    var corr = df.stat.corr(x,y)\n",
    "    (x,y,corr)\n",
    "}}.toSeq"
   ]
  },
  {
   "cell_type": "code",
   "execution_count": 55,
   "metadata": {},
   "outputs": [
    {
     "data": {
      "text/plain": [
       "corrMatrixDF: org.apache.spark.sql.DataFrame = [colA: string, colB: string ... 1 more field]\n"
      ]
     },
     "execution_count": 55,
     "metadata": {},
     "output_type": "execute_result"
    }
   ],
   "source": [
    "var corrMatrixDF = corrMaxtrix.toDF(\"colA\",\"colB\",\"corr\")"
   ]
  },
  {
   "cell_type": "code",
   "execution_count": 75,
   "metadata": {},
   "outputs": [
    {
     "name": "stdout",
     "output_type": "stream",
     "text": [
      "+--------------------------+--------------------------+------------------+\n",
      "|colA                      |colB                      |corr              |\n",
      "+--------------------------+--------------------------+------------------+\n",
      "|funded_amnt               |loan_amnt                 |1.0               |\n",
      "|loan_amnt                 |funded_amnt               |1.0               |\n",
      "|out_prncp                 |out_prncp_inv             |0.9999980595265819|\n",
      "|out_prncp_inv             |out_prncp                 |0.9999980595265819|\n",
      "|total_pymnt               |total_pymnt_inv           |0.9999957370804106|\n",
      "|total_pymnt_inv           |total_pymnt               |0.9999957370804106|\n",
      "|loan_amnt                 |funded_amnt_inv           |0.9999945720567341|\n",
      "|funded_amnt_inv           |funded_amnt               |0.9999945720567339|\n",
      "|funded_amnt_inv           |loan_amnt                 |0.9999945720567339|\n",
      "|funded_amnt               |funded_amnt_inv           |0.9999945720567339|\n",
      "|num_sats                  |open_acc                  |0.9989371043263604|\n",
      "|open_acc                  |num_sats                  |0.9989371043263604|\n",
      "|tot_hi_cred_lim           |tot_cur_bal               |0.9833639662559609|\n",
      "|tot_cur_bal               |tot_hi_cred_lim           |0.9833639662559609|\n",
      "|collection_recovery_fee   |recoveries                |0.9815228724754785|\n",
      "|recoveries                |collection_recovery_fee   |0.9815228724754785|\n",
      "|num_actv_rev_tl           |num_rev_tl_bal_gt_0       |0.978137491091304 |\n",
      "|num_rev_tl_bal_gt_0       |num_actv_rev_tl           |0.978137491091304 |\n",
      "|total_rec_prncp           |total_pymnt               |0.9632271524648893|\n",
      "|total_pymnt               |total_rec_prncp           |0.9632271524648892|\n",
      "|total_rec_prncp           |total_pymnt_inv           |0.9632050640834188|\n",
      "|total_pymnt_inv           |total_rec_prncp           |0.9632050640834188|\n",
      "|funded_amnt               |installment               |0.9468955766694314|\n",
      "|installment               |loan_amnt                 |0.9468955766694314|\n",
      "|loan_amnt                 |installment               |0.9468955766694314|\n",
      "|installment               |funded_amnt               |0.9468955766694314|\n",
      "|installment               |funded_amnt_inv           |0.946759831988123 |\n",
      "|funded_amnt_inv           |installment               |0.946759831988123 |\n",
      "|total_il_high_credit_limit|total_bal_ex_mort         |0.8841923367894338|\n",
      "|total_bal_ex_mort         |total_il_high_credit_limit|0.8841923367894335|\n",
      "|total_bc_limit            |bc_open_to_buy            |0.8594470372529839|\n",
      "|bc_open_to_buy            |total_bc_limit            |0.8594470372529839|\n",
      "|revol_util                |bc_util                   |0.8590436539701293|\n",
      "|bc_util                   |revol_util                |0.8590436539701292|\n",
      "|percent_bc_gt_75          |bc_util                   |0.8442123383603054|\n",
      "|bc_util                   |percent_bc_gt_75          |0.8442123383603054|\n",
      "|open_acc                  |num_op_rev_tl             |0.8406044615792545|\n",
      "|num_op_rev_tl             |open_acc                  |0.8406044615792545|\n",
      "|num_op_rev_tl             |num_sats                  |0.8394489255062005|\n",
      "|num_sats                  |num_op_rev_tl             |0.8394489255062005|\n",
      "|num_rev_accts             |num_bc_tl                 |0.8371764059989174|\n",
      "|num_bc_tl                 |num_rev_accts             |0.8371764059989173|\n",
      "|num_bc_sats               |num_actv_bc_tl            |0.830990908964032 |\n",
      "|num_actv_bc_tl            |num_bc_sats               |0.830990908964032 |\n",
      "|num_actv_rev_tl           |num_actv_bc_tl            |0.8291271245473226|\n",
      "|num_actv_bc_tl            |num_actv_rev_tl           |0.8291271245473226|\n",
      "|num_tl_30dpd              |acc_now_delinq            |0.8257500982974475|\n",
      "|acc_now_delinq            |num_tl_30dpd              |0.8257500982974475|\n",
      "|num_rev_tl_bal_gt_0       |num_actv_bc_tl            |0.823532198373523 |\n",
      "|num_actv_bc_tl            |num_rev_tl_bal_gt_0       |0.823532198373523 |\n",
      "|tot_cur_bal               |avg_cur_bal               |0.820300405682892 |\n",
      "|avg_cur_bal               |tot_cur_bal               |0.820300405682892 |\n",
      "|total_rev_hi_lim          |total_bc_limit            |0.8199868752371082|\n",
      "|total_bc_limit            |total_rev_hi_lim          |0.8199868752371082|\n",
      "|num_rev_accts             |num_op_rev_tl             |0.8164717391956114|\n",
      "|num_op_rev_tl             |num_rev_accts             |0.8164717391956114|\n",
      "|num_op_rev_tl             |num_rev_tl_bal_gt_0       |0.7929481464194408|\n",
      "|num_rev_tl_bal_gt_0       |num_op_rev_tl             |0.7929481464194407|\n",
      "|total_rev_hi_lim          |revol_bal                 |0.7905608073495798|\n",
      "|revol_bal                 |total_rev_hi_lim          |0.7905608073495798|\n",
      "|num_bc_tl                 |num_bc_sats               |0.7905306042925316|\n",
      "|num_bc_sats               |num_bc_tl                 |0.7905306042925315|\n",
      "|total_rec_prncp           |last_pymnt_amnt           |0.789467961813017 |\n",
      "|last_pymnt_amnt           |total_rec_prncp           |0.7894679618130169|\n",
      "|num_actv_rev_tl           |num_op_rev_tl             |0.7884026653887185|\n",
      "|num_op_rev_tl             |num_actv_rev_tl           |0.7884026653887185|\n",
      "|avg_cur_bal               |tot_hi_cred_lim           |0.7832678155000868|\n",
      "|tot_hi_cred_lim           |avg_cur_bal               |0.7832678155000867|\n",
      "|total_pymnt               |installment               |0.7814073328756359|\n",
      "|installment               |total_pymnt               |0.7814073328756358|\n",
      "|total_pymnt_inv           |installment               |0.7813096208695138|\n",
      "|installment               |total_pymnt_inv           |0.7813096208695137|\n",
      "|num_bc_sats               |num_op_rev_tl             |0.7686209900386426|\n",
      "|num_op_rev_tl             |num_bc_sats               |0.7686209900386424|\n",
      "|total_acc                 |num_rev_accts             |0.7664780227325602|\n",
      "|num_rev_accts             |total_acc                 |0.7664780227325602|\n",
      "|num_tl_op_past_12m        |acc_open_past_24mths      |0.7602415995944248|\n",
      "|acc_open_past_24mths      |num_tl_op_past_12m        |0.7602415995944246|\n",
      "|loan_amnt                 |total_pymnt               |0.7571617972179704|\n",
      "|funded_amnt               |total_pymnt               |0.7571617972179704|\n",
      "|total_pymnt               |funded_amnt               |0.7571617972179704|\n",
      "|total_pymnt               |loan_amnt                 |0.7571617972179704|\n",
      "|total_pymnt_inv           |funded_amnt               |0.7571532331034232|\n",
      "|total_pymnt_inv           |loan_amnt                 |0.7571532331034232|\n",
      "|funded_amnt               |total_pymnt_inv           |0.7571532331034232|\n",
      "|loan_amnt                 |total_pymnt_inv           |0.7571532331034232|\n",
      "|total_pymnt_inv           |funded_amnt_inv           |0.7571264413189296|\n",
      "|funded_amnt_inv           |total_pymnt_inv           |0.7571264413189294|\n",
      "|funded_amnt_inv           |total_pymnt               |0.7571260971668368|\n",
      "|total_pymnt               |funded_amnt_inv           |0.7571260971668368|\n",
      "|revol_util                |percent_bc_gt_75          |0.7375680285220102|\n",
      "|percent_bc_gt_75          |revol_util                |0.73756802852201  |\n",
      "|open_acc                  |total_acc                 |0.7360261485882086|\n",
      "|total_acc                 |open_acc                  |0.7360261485882086|\n",
      "|num_sats                  |total_acc                 |0.733149663322233 |\n",
      "|total_acc                 |num_sats                  |0.733149663322233 |\n",
      "|total_rec_int             |funded_amnt_inv           |0.7201987501633861|\n",
      "|funded_amnt_inv           |total_rec_int             |0.7201987501633861|\n",
      "|total_rec_int             |funded_amnt               |0.7200689790001924|\n",
      "|funded_amnt               |total_rec_int             |0.7200689790001924|\n",
      "+--------------------------+--------------------------+------------------+\n",
      "only showing top 100 rows\n",
      "\n"
     ]
    }
   ],
   "source": [
    "corrMatrixDF.na.drop.orderBy($\"corr\".desc).show(100,false)"
   ]
  },
  {
   "cell_type": "markdown",
   "metadata": {},
   "source": [
    "Column pairs with very high corr (>= 0.8), keep only the first one.\n",
    "```\n",
    "loan_amnt\n",
    "out_prncp_inv\n",
    "total_pymnt_inv\n",
    "funded_amnt_inv\n",
    "open_acc\n",
    "tot_cur_bal\n",
    "recoveries\n",
    "num_rev_tl_bal_gt_0\n",
    "total_pymnt\n",
    "total_pymnt_inv\n",
    "installment\n",
    "funded_amnt_inv\n",
    "total_bal_ex_mort\n",
    "bc_open_to_buy\n",
    "bc_util\n",
    "num_op_rev_tl\n",
    "num_sats\n",
    "num_bc_tl\n",
    "num_actv_bc_tl\n",
    "acc_now_delinq\n",
    "num_actv_bc_tl\n",
    "avg_cur_bal\n",
    "total_bc_limit\n",
    "num_op_rev_tl\n",
    "```"
   ]
  },
  {
   "cell_type": "code",
   "execution_count": 106,
   "metadata": {},
   "outputs": [
    {
     "data": {
      "text/plain": [
       "colToDrop: List[String] = List(loan_amnt, out_prncp_inv, total_pymnt_inv, funded_amnt_inv, open_acc, tot_cur_bal, recoveries, num_rev_tl_bal_gt_0, total_pymnt, total_pymnt_inv, installment, funded_amnt_inv, total_bal_ex_mort, bc_open_to_buy, bc_util, num_op_rev_tl, num_sats, num_bc_tl, num_actv_bc_tl, acc_now_delinq, num_actv_bc_tl, avg_cur_bal, total_bc_limit, num_op_rev_tl)\n"
      ]
     },
     "execution_count": 106,
     "metadata": {},
     "output_type": "execute_result"
    }
   ],
   "source": [
    "val colToDrop = List(\"loan_amnt\",\"out_prncp_inv\",\"total_pymnt_inv\",\"funded_amnt_inv\",\"open_acc\",\"tot_cur_bal\",\"recoveries\",\"num_rev_tl_bal_gt_0\",\"total_pymnt\",\"total_pymnt_inv\",\"installment\",\"funded_amnt_inv\",\"total_bal_ex_mort\",\"bc_open_to_buy\",\"bc_util\",\"num_op_rev_tl\",\"num_sats\",\"num_bc_tl\",\"num_actv_bc_tl\",\"acc_now_delinq\",\"num_actv_bc_tl\",\"avg_cur_bal\",\"total_bc_limit\",\"num_op_rev_tl\")"
   ]
  },
  {
   "cell_type": "code",
   "execution_count": 107,
   "metadata": {},
   "outputs": [],
   "source": [
    "colToDrop.foreach(l => df = df.drop(l))"
   ]
  },
  {
   "cell_type": "code",
   "execution_count": 109,
   "metadata": {},
   "outputs": [
    {
     "data": {
      "text/plain": [
       "res58: Int = 59\n"
      ]
     },
     "execution_count": 109,
     "metadata": {},
     "output_type": "execute_result"
    }
   ],
   "source": [
    "// reduce to 59\n",
    "df.columns.toArray.size"
   ]
  },
  {
   "cell_type": "code",
   "execution_count": 110,
   "metadata": {},
   "outputs": [
    {
     "name": "stdout",
     "output_type": "stream",
     "text": [
      "root\n",
      " |-- funded_amnt: integer (nullable = false)\n",
      " |-- int_rate: double (nullable = false)\n",
      " |-- grade: string (nullable = false)\n",
      " |-- sub_grade: string (nullable = false)\n",
      " |-- emp_title: string (nullable = false)\n",
      " |-- emp_length: string (nullable = false)\n",
      " |-- home_ownership: string (nullable = false)\n",
      " |-- annual_inc: double (nullable = false)\n",
      " |-- verification_status: string (nullable = false)\n",
      " |-- issue_d: string (nullable = false)\n",
      " |-- purpose: string (nullable = false)\n",
      " |-- title: string (nullable = false)\n",
      " |-- zip_code: string (nullable = false)\n",
      " |-- addr_state: string (nullable = false)\n",
      " |-- dti: double (nullable = false)\n",
      " |-- delinq_2yrs: integer (nullable = false)\n",
      " |-- earliest_cr_line: string (nullable = false)\n",
      " |-- inq_last_6mths: integer (nullable = false)\n",
      " |-- pub_rec: integer (nullable = false)\n",
      " |-- revol_bal: integer (nullable = false)\n",
      " |-- revol_util: double (nullable = false)\n",
      " |-- total_acc: integer (nullable = false)\n",
      " |-- out_prncp: double (nullable = false)\n",
      " |-- total_rec_prncp: double (nullable = false)\n",
      " |-- total_rec_int: double (nullable = false)\n",
      " |-- total_rec_late_fee: double (nullable = false)\n",
      " |-- collection_recovery_fee: double (nullable = false)\n",
      " |-- last_pymnt_d: string (nullable = false)\n",
      " |-- last_pymnt_amnt: double (nullable = false)\n",
      " |-- last_credit_pull_d: string (nullable = false)\n",
      " |-- collections_12_mths_ex_med: integer (nullable = false)\n",
      " |-- policy_code: integer (nullable = false)\n",
      " |-- tot_coll_amt: integer (nullable = false)\n",
      " |-- total_rev_hi_lim: integer (nullable = false)\n",
      " |-- acc_open_past_24mths: integer (nullable = false)\n",
      " |-- chargeoff_within_12_mths: double (nullable = false)\n",
      " |-- delinq_amnt: integer (nullable = false)\n",
      " |-- mo_sin_old_il_acct: double (nullable = false)\n",
      " |-- mo_sin_old_rev_tl_op: integer (nullable = false)\n",
      " |-- mo_sin_rcnt_rev_tl_op: integer (nullable = false)\n",
      " |-- mo_sin_rcnt_tl: integer (nullable = false)\n",
      " |-- mort_acc: integer (nullable = false)\n",
      " |-- mths_since_recent_bc: integer (nullable = false)\n",
      " |-- num_accts_ever_120_pd: integer (nullable = false)\n",
      " |-- num_actv_rev_tl: integer (nullable = false)\n",
      " |-- num_bc_sats: integer (nullable = false)\n",
      " |-- num_il_tl: integer (nullable = false)\n",
      " |-- num_rev_accts: integer (nullable = false)\n",
      " |-- num_tl_120dpd_2m: integer (nullable = false)\n",
      " |-- num_tl_30dpd: integer (nullable = false)\n",
      " |-- num_tl_90g_dpd_24m: integer (nullable = false)\n",
      " |-- num_tl_op_past_12m: integer (nullable = false)\n",
      " |-- pct_tl_nvr_dlq: double (nullable = false)\n",
      " |-- percent_bc_gt_75: double (nullable = false)\n",
      " |-- pub_rec_bankruptcies: integer (nullable = false)\n",
      " |-- tax_liens: integer (nullable = false)\n",
      " |-- tot_hi_cred_lim: integer (nullable = false)\n",
      " |-- total_il_high_credit_limit: integer (nullable = false)\n",
      " |-- loan_status: integer (nullable = false)\n",
      "\n"
     ]
    }
   ],
   "source": [
    "df.printSchema"
   ]
  },
  {
   "cell_type": "code",
   "execution_count": 114,
   "metadata": {},
   "outputs": [],
   "source": [
    "df.repartition(1).write.mode(\"overwrite\").csv(\"Loan_2017_20k_alex.csv\")"
   ]
  }
 ],
 "metadata": {
  "kernelspec": {
   "display_name": "spylon-kernel",
   "language": "scala",
   "name": "spylon-kernel"
  },
  "language_info": {
   "codemirror_mode": "text/x-scala",
   "file_extension": ".scala",
   "help_links": [
    {
     "text": "MetaKernel Magics",
     "url": "https://metakernel.readthedocs.io/en/latest/source/README.html"
    }
   ],
   "mimetype": "text/x-scala",
   "name": "scala",
   "pygments_lexer": "scala",
   "version": "0.4.1"
  }
 },
 "nbformat": 4,
 "nbformat_minor": 2
}
