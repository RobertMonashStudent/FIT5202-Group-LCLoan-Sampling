{
 "cells": [
  {
   "cell_type": "markdown",
   "metadata": {},
   "source": [
    "# Phase 2 Group 11\n",
    "\n",
    "Since the file we have is over 1 GB the first step is to shrink it down to a useable size.\n",
    "\n",
    "We selected to look at only the year 2017 and then removed null and mostly null columns.\n",
    "\n",
    "The data set was sampled down to 20,000 rows so we can perform the rest of the tasks and phases in a timely manner, without running out of memory, or taking hours to compute.\n"
   ]
  },
  {
   "cell_type": "markdown",
   "metadata": {},
   "source": [
    "# Load and cache data"
   ]
  },
  {
   "cell_type": "code",
   "execution_count": 1,
   "metadata": {},
   "outputs": [
    {
     "data": {
      "text/plain": [
       "Intitializing Scala interpreter ..."
      ]
     },
     "metadata": {},
     "output_type": "display_data"
    },
    {
     "data": {
      "text/plain": [
       "Spark Web UI available at http://75cd00854c39:4040\n",
       "SparkContext available as 'sc' (version = 2.4.3, master = local[*], app id = local-1558792816683)\n",
       "SparkSession available as 'spark'\n"
      ]
     },
     "metadata": {},
     "output_type": "display_data"
    },
    {
     "name": "stdout",
     "output_type": "stream",
     "text": [
      "2019-05-25 14:00:15,080 WARN  [main] util.NativeCodeLoader (NativeCodeLoader.java:<clinit>(62)) - Unable to load native-hadoop library for your platform... using builtin-java classes where applicable\n"
     ]
    },
    {
     "data": {
      "text/plain": [
       "df: org.apache.spark.sql.DataFrame = [id: string, member_id: string ... 143 more fields]\n"
      ]
     },
     "execution_count": 1,
     "metadata": {},
     "output_type": "execute_result"
    }
   ],
   "source": [
    "val df = spark.read.format(\"csv\")\n",
    "  .option(\"inferSchema\", \"true\")\n",
    "  .option(\"header\", \"true\")\n",
    "  .load(\"LCLoan.csv\")"
   ]
  },
  {
   "cell_type": "code",
   "execution_count": 2,
   "metadata": {},
   "outputs": [],
   "source": [
    "// cache in memory to speed up\n",
    "df.cache\n",
    "df.count"
   ]
  },
  {
   "cell_type": "markdown",
   "metadata": {},
   "source": [
    "# Register temp table for use in Spark SQL"
   ]
  },
  {
   "cell_type": "code",
   "execution_count": 3,
   "metadata": {},
   "outputs": [
    {
     "name": "stdout",
     "output_type": "stream",
     "text": [
      "2019-05-25 14:01:56,593 WARN  [Thread-4] util.Utils (Logging.scala:logWarning(66)) - Truncated the string representation of a plan since it was too large. This behavior can be adjusted by setting 'spark.debug.maxToStringFields' in SparkEnv.conf.\n"
     ]
    }
   ],
   "source": [
    "df.createOrReplaceTempView(\"df\")"
   ]
  },
  {
   "cell_type": "code",
   "execution_count": 4,
   "metadata": {},
   "outputs": [
    {
     "name": "stdout",
     "output_type": "stream",
     "text": [
      "+----+---------+---------+-----------+---------------+----------+--------+-----------+-----+---------+--------------+----------+--------------+----------+-------------------+--------+-----------+----------+----+----+------------------+------------------+--------+----------+-----+-----------+----------------+--------------+----------------------+----------------------+--------+-------+---------+----------+---------+-------------------+---------+-------------+-----------+---------------+---------------+-------------+------------------+----------+-----------------------+------------+---------------+------------+------------------+--------------------------+---------------------------+-----------+----------------+----------------+---------+-------------------------+--------------+------------+-----------+-----------+-----------+-----------+-----------+------------------+------------+-------+-----------+-----------+----------+--------+----------------+------+-----------+------------+--------------------+-----------+--------------+-------+------------------------+-----------+------------------+--------------------+---------------------+--------------+--------+--------------------+------------------------+---------------------+------------------------------+---------------------+--------------+---------------+-----------+---------+---------+-------------+-------------+-------------------+--------+----------------+------------+------------------+------------------+--------------+----------------+--------------------+---------+---------------+-----------------+--------------+--------------------------+---------------+------------------------+----------------------+----------------+----------------+------------------+-------------------+---------------------+--------------------------------+----------------------------------+-----------------------------------+-------------+-------------+---------------+---------------+-------------+---------------+-------------------+-----------------+-----------------------+---------------+------------+--------------------+------------------------------------------+------------------------------+----------------------------+-------------------+--------------------+-------------------------+-----------------+---------------+-----------------+---------------------+---------------+\n",
      "|id  |member_id|loan_amnt|funded_amnt|funded_amnt_inv|term      |int_rate|installment|grade|sub_grade|emp_title     |emp_length|home_ownership|annual_inc|verification_status|issue_d |loan_status|pymnt_plan|url |desc|purpose           |title             |zip_code|addr_state|dti  |delinq_2yrs|earliest_cr_line|inq_last_6mths|mths_since_last_delinq|mths_since_last_record|open_acc|pub_rec|revol_bal|revol_util|total_acc|initial_list_status|out_prncp|out_prncp_inv|total_pymnt|total_pymnt_inv|total_rec_prncp|total_rec_int|total_rec_late_fee|recoveries|collection_recovery_fee|last_pymnt_d|last_pymnt_amnt|next_pymnt_d|last_credit_pull_d|collections_12_mths_ex_med|mths_since_last_major_derog|policy_code|application_type|annual_inc_joint|dti_joint|verification_status_joint|acc_now_delinq|tot_coll_amt|tot_cur_bal|open_acc_6m|open_act_il|open_il_12m|open_il_24m|mths_since_rcnt_il|total_bal_il|il_util|open_rv_12m|open_rv_24m|max_bal_bc|all_util|total_rev_hi_lim|inq_fi|total_cu_tl|inq_last_12m|acc_open_past_24mths|avg_cur_bal|bc_open_to_buy|bc_util|chargeoff_within_12_mths|delinq_amnt|mo_sin_old_il_acct|mo_sin_old_rev_tl_op|mo_sin_rcnt_rev_tl_op|mo_sin_rcnt_tl|mort_acc|mths_since_recent_bc|mths_since_recent_bc_dlq|mths_since_recent_inq|mths_since_recent_revol_delinq|num_accts_ever_120_pd|num_actv_bc_tl|num_actv_rev_tl|num_bc_sats|num_bc_tl|num_il_tl|num_op_rev_tl|num_rev_accts|num_rev_tl_bal_gt_0|num_sats|num_tl_120dpd_2m|num_tl_30dpd|num_tl_90g_dpd_24m|num_tl_op_past_12m|pct_tl_nvr_dlq|percent_bc_gt_75|pub_rec_bankruptcies|tax_liens|tot_hi_cred_lim|total_bal_ex_mort|total_bc_limit|total_il_high_credit_limit|revol_bal_joint|sec_app_earliest_cr_line|sec_app_inq_last_6mths|sec_app_mort_acc|sec_app_open_acc|sec_app_revol_util|sec_app_open_act_il|sec_app_num_rev_accts|sec_app_chargeoff_within_12_mths|sec_app_collections_12_mths_ex_med|sec_app_mths_since_last_major_derog|hardship_flag|hardship_type|hardship_reason|hardship_status|deferral_term|hardship_amount|hardship_start_date|hardship_end_date|payment_plan_start_date|hardship_length|hardship_dpd|hardship_loan_status|orig_projected_additional_accrued_interest|hardship_payoff_balance_amount|hardship_last_payment_amount|disbursement_method|debt_settlement_flag|debt_settlement_flag_date|settlement_status|settlement_date|settlement_amount|settlement_percentage|settlement_term|\n",
      "+----+---------+---------+-----------+---------------+----------+--------+-----------+-----+---------+--------------+----------+--------------+----------+-------------------+--------+-----------+----------+----+----+------------------+------------------+--------+----------+-----+-----------+----------------+--------------+----------------------+----------------------+--------+-------+---------+----------+---------+-------------------+---------+-------------+-----------+---------------+---------------+-------------+------------------+----------+-----------------------+------------+---------------+------------+------------------+--------------------------+---------------------------+-----------+----------------+----------------+---------+-------------------------+--------------+------------+-----------+-----------+-----------+-----------+-----------+------------------+------------+-------+-----------+-----------+----------+--------+----------------+------+-----------+------------+--------------------+-----------+--------------+-------+------------------------+-----------+------------------+--------------------+---------------------+--------------+--------+--------------------+------------------------+---------------------+------------------------------+---------------------+--------------+---------------+-----------+---------+---------+-------------+-------------+-------------------+--------+----------------+------------+------------------+------------------+--------------+----------------+--------------------+---------+---------------+-----------------+--------------+--------------------------+---------------+------------------------+----------------------+----------------+----------------+------------------+-------------------+---------------------+--------------------------------+----------------------------------+-----------------------------------+-------------+-------------+---------------+---------------+-------------+---------------+-------------------+-----------------+-----------------------+---------------+------------+--------------------+------------------------------------------+------------------------------+----------------------------+-------------------+--------------------+-------------------------+-----------------+---------------+-----------------+---------------------+---------------+\n",
      "|null|null     |2500     |2500       |2500.0         | 36 months|13.56   |84.92      |C    |C1       |Chef          |10+ years |RENT          |55000     |Not Verified       |Dec-2018|Current    |n         |null|null|debt_consolidation|Debt consolidation|109xx   |NY        |18.24|0          |Apr-2001        |1             |null                  |45                    |9       |1      |4341     |10.3      |34       |w                  |2386.02  |2386.02      |167.02     |167.02         |113.98         |53.04        |0.0               |0.0       |0.0                    |Feb-2019    |84.92          |Mar-2019    |Feb-2019          |0                         |null                       |1          |Individual      |null            |null     |null                     |0             |0           |16901      |2          |2          |1          |2          |2                 |12560       |69     |2          |7          |2137      |28      |42000           |1     |11         |2           |9                   |1878       |34360         |5.9    |0.0                     |0          |140.0             |212                 |1                    |1             |0       |1                   |null                    |2                    |null                          |0                    |2             |5              |3          |3        |16       |7            |18           |5                  |9       |0               |0           |0                 |3                 |100.0         |0.0             |1                   |0        |60124          |16901            |36500         |18124                     |null           |null                    |null                  |null            |null            |null              |null               |null                 |null                            |null                              |null                               |N            |null         |null           |null           |null         |null           |null               |null             |null                   |null           |null        |null                |null                                      |null                          |null                        |Cash               |N                   |null                     |null             |null           |null             |null                 |null           |\n",
      "|null|null     |30000    |30000      |30000.0        | 60 months|18.94   |777.23     |D    |D2       |Postmaster    |10+ years |MORTGAGE      |90000     |Source Verified    |Dec-2018|Current    |n         |null|null|debt_consolidation|Debt consolidation|713xx   |LA        |26.52|0          |Jun-1987        |0             |71                    |75                    |13      |1      |12315    |24.2      |44       |w                  |29387.75 |29387.75     |1507.11    |1507.11        |612.25         |894.86       |0.0               |0.0       |0.0                    |Feb-2019    |777.23         |Mar-2019    |Feb-2019          |0                         |null                       |1          |Individual      |null            |null     |null                     |0             |1208        |321915     |4          |4          |2          |3          |3                 |87153       |88     |4          |5          |998       |57      |50800           |2     |15         |2           |10                  |24763      |13761         |8.3    |0.0                     |0          |163.0             |378                 |4                    |3             |3       |4                   |null                    |4                    |null                          |0                    |2             |4              |4          |9        |27       |8            |14           |4                  |13      |0               |0           |0                 |6                 |95.0          |0.0             |1                   |0        |372872         |99468            |15000         |94072                     |null           |null                    |null                  |null            |null            |null              |null               |null                 |null                            |null                              |null                               |N            |null         |null           |null           |null         |null           |null               |null             |null                   |null           |null        |null                |null                                      |null                          |null                        |Cash               |N                   |null                     |null             |null           |null             |null                 |null           |\n",
      "|null|null     |5000     |5000       |5000.0         | 36 months|17.97   |180.69     |D    |D1       |Administrative|6 years   |MORTGAGE      |59280     |Source Verified    |Dec-2018|Current    |n         |null|null|debt_consolidation|Debt consolidation|490xx   |MI        |10.51|0          |Apr-2011        |0             |null                  |null                  |8       |0      |4599     |19.1      |13       |w                  |4787.21  |4787.21      |353.89     |353.89         |212.79         |141.10       |0.0               |0.0       |0.0                    |Feb-2019    |180.69         |Mar-2019    |Feb-2019          |0                         |null                       |1          |Individual      |null            |null     |null                     |0             |0           |110299     |0          |1          |0          |2          |14                |7150        |72     |0          |2          |0         |35      |24100           |1     |5          |0           |4                   |18383      |13800         |0      |0.0                     |0          |87.0              |92                  |15                   |14            |2       |77                  |null                    |14                   |null                          |0                    |0             |3              |3          |3        |4        |6            |7            |3                  |8       |0               |0           |0                 |0                 |100.0         |0.0             |0                   |0        |136927         |11749            |13800         |10000                     |null           |null                    |null                  |null            |null            |null              |null               |null                 |null                            |null                              |null                               |N            |null         |null           |null           |null         |null           |null               |null             |null                   |null           |null        |null                |null                                      |null                          |null                        |Cash               |N                   |null                     |null             |null           |null             |null                 |null           |\n"
     ]
    },
    {
     "name": "stdout",
     "output_type": "stream",
     "text": [
      "|null|null     |4000     |4000       |4000.0         | 36 months|18.94   |146.51     |D    |D2       |IT Supervisor |10+ years |MORTGAGE      |92000     |Source Verified    |Dec-2018|Current    |n         |null|null|debt_consolidation|Debt consolidation|985xx   |WA        |16.74|0          |Feb-2006        |0             |null                  |null                  |10      |0      |5468     |78.1      |13       |w                  |3831.93  |3831.93      |286.71     |286.71         |168.07         |118.64       |0.0               |0.0       |0.0                    |Feb-2019    |146.51         |Mar-2019    |Feb-2019          |0                         |null                       |1          |Individual      |null            |null     |null                     |0             |686         |305049     |1          |5          |3          |5          |5                 |30683       |68     |0          |0          |3761      |70      |7000            |2     |4          |3           |5                   |30505      |1239          |75.2   |0.0                     |0          |62.0              |154                 |64                   |5             |3       |64                  |null                    |5                    |null                          |0                    |1             |2              |1          |2        |7        |2            |3            |2                  |10      |0               |0           |0                 |3                 |100.0         |100.0           |0                   |0        |385183         |36151            |5000          |44984                     |null           |null                    |null                  |null            |null            |null              |null               |null                 |null                            |null                              |null                               |N            |null         |null           |null           |null         |null           |null               |null             |null                   |null           |null        |null                |null                                      |null                          |null                        |Cash               |N                   |null                     |null             |null           |null             |null                 |null           |\n",
      "|null|null     |30000    |30000      |30000.0        | 60 months|16.14   |731.78     |C    |C4       |Mechanic      |10+ years |MORTGAGE      |57250     |Not Verified       |Dec-2018|Current    |n         |null|null|debt_consolidation|Debt consolidation|212xx   |MD        |26.35|0          |Dec-2000        |0             |null                  |null                  |12      |0      |829      |3.6       |26       |w                  |29339.02 |29339.02     |1423.21    |1423.21        |660.98         |762.23       |0.0               |0.0       |0.0                    |Feb-2019    |731.78         |Mar-2019    |Feb-2019          |0                         |null                       |1          |Individual      |null            |null     |null                     |0             |0           |116007     |3          |5          |3          |5          |4                 |28845       |89     |2          |4          |516       |54      |23100           |1     |0          |0           |9                   |9667       |8471          |8.9    |0.0                     |0          |53.0              |216                 |2                    |2             |2       |2                   |null                    |13                   |null                          |0                    |2             |2              |3          |8        |9        |6            |15           |2                  |12      |0               |0           |0                 |5                 |92.3          |0.0             |0                   |0        |157548         |29674            |9300          |32332                     |null           |null                    |null                  |null            |null            |null              |null               |null                 |null                            |null                              |null                               |N            |null         |null           |null           |null         |null           |null               |null             |null                   |null           |null        |null                |null                                      |null                          |null                        |Cash               |N                   |null                     |null             |null           |null             |null                 |null           |\n",
      "+----+---------+---------+-----------+---------------+----------+--------+-----------+-----+---------+--------------+----------+--------------+----------+-------------------+--------+-----------+----------+----+----+------------------+------------------+--------+----------+-----+-----------+----------------+--------------+----------------------+----------------------+--------+-------+---------+----------+---------+-------------------+---------+-------------+-----------+---------------+---------------+-------------+------------------+----------+-----------------------+------------+---------------+------------+------------------+--------------------------+---------------------------+-----------+----------------+----------------+---------+-------------------------+--------------+------------+-----------+-----------+-----------+-----------+-----------+------------------+------------+-------+-----------+-----------+----------+--------+----------------+------+-----------+------------+--------------------+-----------+--------------+-------+------------------------+-----------+------------------+--------------------+---------------------+--------------+--------+--------------------+------------------------+---------------------+------------------------------+---------------------+--------------+---------------+-----------+---------+---------+-------------+-------------+-------------------+--------+----------------+------------+------------------+------------------+--------------+----------------+--------------------+---------+---------------+-----------------+--------------+--------------------------+---------------+------------------------+----------------------+----------------+----------------+------------------+-------------------+---------------------+--------------------------------+----------------------------------+-----------------------------------+-------------+-------------+---------------+---------------+-------------+---------------+-------------------+-----------------+-----------------------+---------------+------------+--------------------+------------------------------------------+------------------------------+----------------------------+-------------------+--------------------+-------------------------+-----------------+---------------+-----------------+---------------------+---------------+\n",
      "only showing top 5 rows\n",
      "\n"
     ]
    }
   ],
   "source": [
    "spark.sql(\"select * from df\").show(5,false)"
   ]
  },
  {
   "cell_type": "markdown",
   "metadata": {},
   "source": [
    "# Drop fields with population rate lower than 90%"
   ]
  },
  {
   "cell_type": "code",
   "execution_count": 5,
   "metadata": {},
   "outputs": [
    {
     "data": {
      "text/plain": [
       "selectColumns: Array[String] = Array(id, member_id, loan_amnt, funded_amnt, funded_amnt_inv, term, int_rate, installment, grade, sub_grade, emp_title, emp_length, home_ownership, annual_inc, verification_status, issue_d, loan_status, pymnt_plan, url, desc, purpose, title, zip_code, addr_state, dti, delinq_2yrs, earliest_cr_line, inq_last_6mths, mths_since_last_delinq, mths_since_last_record, open_acc, pub_rec, revol_bal, revol_util, total_acc, initial_list_status, out_prncp, out_prncp_inv, total_pymnt, total_pymnt_inv, total_rec_prncp, total_rec_int, total_rec_late_fee, recoveries, collection_recovery_fee, last_pymnt_d, last_pymnt_amnt, next_pymnt_d, last_credit_pull_d, collections_12_mths_ex_med, mths_since_last_major_derog, policy_code, application_type, annual_inc_joint, dti_joint, v..."
      ]
     },
     "execution_count": 5,
     "metadata": {},
     "output_type": "execute_result"
    }
   ],
   "source": [
    "// get all columns\n",
    "val selectColumns = df.columns.toArray"
   ]
  },
  {
   "cell_type": "code",
   "execution_count": 6,
   "metadata": {},
   "outputs": [
    {
     "data": {
      "text/plain": [
       "fileCount: Long = 2260668\n"
      ]
     },
     "execution_count": 6,
     "metadata": {},
     "output_type": "execute_result"
    }
   ],
   "source": [
    "// Whole file count\n",
    "val fileCount = df.count"
   ]
  },
  {
   "cell_type": "code",
   "execution_count": 7,
   "metadata": {},
   "outputs": [
    {
     "data": {
      "text/plain": [
       "sparseThreshold: Double = 0.9\n"
      ]
     },
     "execution_count": 7,
     "metadata": {},
     "output_type": "execute_result"
    }
   ],
   "source": [
    "// Threshold\n",
    "val sparseThreshold = 0.9"
   ]
  },
  {
   "cell_type": "code",
   "execution_count": 8,
   "metadata": {},
   "outputs": [
    {
     "name": "stdout",
     "output_type": "stream",
     "text": [
      "loan_amnt: 2260668.0: 1.0\n",
      "funded_amnt: 2260668.0: 1.0\n",
      "funded_amnt_inv: 2260668.0: 1.0\n",
      "term: 2260668.0: 1.0\n",
      "int_rate: 2260668.0: 1.0\n",
      "installment: 2260668.0: 1.0\n",
      "grade: 2260668.0: 1.0\n",
      "sub_grade: 2260668.0: 1.0\n",
      "emp_title: 2093737.0: 0.9261585513662334\n",
      "emp_length: 2260668.0: 1.0\n",
      "home_ownership: 2260668.0: 1.0\n",
      "annual_inc: 2260664.0: 0.999998230611483\n",
      "verification_status: 2260668.0: 1.0\n",
      "issue_d: 2260668.0: 1.0\n",
      "loan_status: 2260668.0: 1.0\n",
      "pymnt_plan: 2260668.0: 1.0\n",
      "purpose: 2260667.0: 0.9999995576528707\n",
      "title: 2237345.0: 0.9896831379043717\n",
      "zip_code: 2260666.0: 0.9999991153057415\n",
      "addr_state: 2260667.0: 0.9999995576528707\n",
      "dti: 2258956.0: 0.9992427017147144\n",
      "delinq_2yrs: 2260638.0: 0.9999867295861223\n",
      "earliest_cr_line: 2260638.0: 0.9999867295861223\n",
      "inq_last_6mths: 2260637.0: 0.9999862872389931\n",
      "open_acc: 2260558.0: 0.9999513418157819\n",
      "pub_rec: 2260576.0: 0.9999593040641085\n",
      "revol_bal: 2260614.0: 0.9999761132550202\n",
      "revol_util: 2258834.0: 0.9991887353649452\n",
      "total_acc: 2260618.0: 0.9999778826435373\n",
      "initial_list_status: 2260651.0: 0.9999924800988027\n",
      "out_prncp: 2260651.0: 0.9999924800988027\n",
      "out_prncp_inv: 2260647.0: 0.9999907107102857\n",
      "total_pymnt: 2260655.0: 0.9999942494873196\n",
      "total_pymnt_inv: 2260657.0: 0.9999951341815781\n",
      "total_rec_prncp: 2260659.0: 0.9999960188758367\n",
      "total_rec_int: 2260665.0: 0.9999986729586122\n",
      "total_rec_late_fee: 2260665.0: 0.9999986729586122\n",
      "recoveries: 2260666.0: 0.9999991153057415\n",
      "collection_recovery_fee: 2260662.0: 0.9999973459172244\n",
      "last_pymnt_d: 2258235.0: 0.9989237694345211\n",
      "last_pymnt_amnt: 2260665.0: 0.9999986729586122\n",
      "last_credit_pull_d: 2260542.0: 0.9999442642617138\n",
      "collections_12_mths_ex_med: 2260480.0: 0.9999168387396999\n",
      "policy_code: 2260588.0: 0.9999646122296596\n",
      "application_type: 2260607.0: 0.9999730168251154\n",
      "acc_now_delinq: 2260477.0: 0.9999155116983122\n",
      "tot_coll_amt: 2190522.0: 0.9689711182712366\n",
      "tot_cur_bal: 2190491.0: 0.9689574055102297\n",
      "total_rev_hi_lim: 2190395.0: 0.9689149401858211\n",
      "acc_open_past_24mths: 2210641.0: 0.9778707001647301\n",
      "avg_cur_bal: 2190325.0: 0.9688839758867733\n",
      "bc_open_to_buy: 2185735.0: 0.9668536025634901\n",
      "bc_util: 2184598.0: 0.9663506538775265\n",
      "chargeoff_within_12_mths: 2260269.0: 0.999823503495427\n",
      "delinq_amnt: 2260443.0: 0.9999004718959175\n",
      "mo_sin_old_il_acct: 2121698.0: 0.9385270194473492\n",
      "mo_sin_old_rev_tl_op: 2190476.0: 0.9689507703032909\n",
      "mo_sin_rcnt_rev_tl_op: 2190452.0: 0.9689401539721888\n",
      "mo_sin_rcnt_tl: 2190430.0: 0.9689304223353451\n",
      "mort_acc: 2210663.0: 0.9778804318015737\n",
      "mths_since_recent_bc: 2187276.0: 0.967535259489673\n",
      "num_accts_ever_120_pd: 2190404.0: 0.9689189213099845\n",
      "num_actv_bc_tl: 2190401.0: 0.9689175942685967\n",
      "num_actv_rev_tl: 2190394.0: 0.9689144978386919\n",
      "num_bc_sats: 2202080.0: 0.9740837663911729\n",
      "num_bc_tl: 2190394.0: 0.9689144978386919\n",
      "num_il_tl: 2190399.0: 0.9689167095743382\n",
      "num_op_rev_tl: 2190399.0: 0.9689167095743382\n",
      "num_rev_accts: 2190393.0: 0.9689140554915626\n",
      "num_rev_tl_bal_gt_0: 2190394.0: 0.9689144978386919\n",
      "num_sats: 2202080.0: 0.9740837663911729\n",
      "num_tl_120dpd_2m: 2107012.0: 0.9320307095071014\n",
      "num_tl_30dpd: 2190392.0: 0.9689136131444334\n",
      "num_tl_90g_dpd_24m: 2190394.0: 0.9689144978386919\n",
      "num_tl_op_past_12m: 2190394.0: 0.9689144978386919\n",
      "pct_tl_nvr_dlq: 2190238.0: 0.968845491686528\n",
      "percent_bc_gt_75: 2185290.0: 0.9666567580909713\n",
      "pub_rec_bankruptcies: 2259064.0: 0.9992904752046741\n",
      "tax_liens: 2260363.0: 0.9998650841255771\n",
      "tot_hi_cred_lim: 2190489.0: 0.9689565208159712\n",
      "total_bal_ex_mort: 2210720.0: 0.9779056455879412\n",
      "total_bc_limit: 2210698.0: 0.9778959139510977\n",
      "total_il_high_credit_limit: 2190430.0: 0.9689304223353451\n",
      "hardship_flag: 2260419.0: 0.9998898555648154\n",
      "disbursement_method: 2260413.0: 0.9998872014820398\n",
      "debt_settlement_flag: 2260475.0: 0.9999146270040536\n"
     ]
    },
    {
     "data": {
      "text/plain": [
       "goodColumns: Array[String] = Array(loan_amnt, funded_amnt, funded_amnt_inv, term, int_rate, installment, grade, sub_grade, emp_title, emp_length, home_ownership, annual_inc, verification_status, issue_d, loan_status, pymnt_plan, purpose, title, zip_code, addr_state, dti, delinq_2yrs, earliest_cr_line, inq_last_6mths, open_acc, pub_rec, revol_bal, revol_util, total_acc, initial_list_status, out_prncp, out_prncp_inv, total_pymnt, total_pymnt_inv, total_rec_prncp, total_rec_int, total_rec_late_fee, recoveries, collection_recovery_fee, last_pymnt_d, last_pymnt_amnt, last_credit_pull_d, collections_12_mths_ex_med, policy_code, application_type, acc_now_delinq, tot_coll_amt, tot_cur_bal, total_rev_hi_lim, acc_open_past_24mths, avg_cur_bal, bc_open_to_buy, bc_util, chargeoff_within_12_mths, de..."
      ]
     },
     "execution_count": 8,
     "metadata": {},
     "output_type": "execute_result"
    }
   ],
   "source": [
    "// Get the list of good columns\n",
    "var goodColumns = Array[String]()\n",
    "for (s <- selectColumns) {\n",
    "    \n",
    "    // get the counts of not null values for give column\n",
    "    val sqlText = s\"select count(1) as cnt from df where ${s} is not null\"\n",
    "    val not_null_count = spark.sql(sqlText)\n",
    "    val not_null_int = not_null_count.select(\"cnt\").collect().map(_(0)).toList(0).toString.toDouble\n",
    "    \n",
    "    // output the columnss with population rate above threshold\n",
    "    val populationRate = not_null_int / fileCount\n",
    "    if ( populationRate >= sparseThreshold) {\n",
    "        println(s\"${s}: ${not_null_int}: ${populationRate}\")\n",
    "        goodColumns = goodColumns :+ s\n",
    "    }\n",
    "}"
   ]
  },
  {
   "cell_type": "code",
   "execution_count": 9,
   "metadata": {},
   "outputs": [
    {
     "data": {
      "text/plain": [
       "res4: Int = 86\n"
      ]
     },
     "execution_count": 9,
     "metadata": {},
     "output_type": "execute_result"
    }
   ],
   "source": [
    "// Column number reduced to 86\n",
    "goodColumns.size"
   ]
  },
  {
   "cell_type": "code",
   "execution_count": 10,
   "metadata": {},
   "outputs": [
    {
     "data": {
      "text/plain": [
       "goodColumnsStr: String = loan_amnt,funded_amnt,funded_amnt_inv,term,int_rate,installment,grade,sub_grade,emp_title,emp_length,home_ownership,annual_inc,verification_status,issue_d,loan_status,pymnt_plan,purpose,title,zip_code,addr_state,dti,delinq_2yrs,earliest_cr_line,inq_last_6mths,open_acc,pub_rec,revol_bal,revol_util,total_acc,initial_list_status,out_prncp,out_prncp_inv,total_pymnt,total_pymnt_inv,total_rec_prncp,total_rec_int,total_rec_late_fee,recoveries,collection_recovery_fee,last_pymnt_d,last_pymnt_amnt,last_credit_pull_d,collections_12_mths_ex_med,policy_code,application_type,acc_now_delinq,tot_coll_amt,tot_cur_bal,total_rev_hi_lim,acc_open_past_24mths,avg_cur_bal,bc_open_to_buy,bc_util,chargeoff_within_12_mths,delinq_amnt,mo_sin_old_il_acct,mo_sin_old_rev_tl_op,mo_sin_rcnt_re..."
      ]
     },
     "execution_count": 10,
     "metadata": {},
     "output_type": "execute_result"
    }
   ],
   "source": [
    "val goodColumnsStr = goodColumns.mkString(\",\")"
   ]
  },
  {
   "cell_type": "code",
   "execution_count": 11,
   "metadata": {},
   "outputs": [
    {
     "data": {
      "text/plain": [
       "dfGoodColumn: org.apache.spark.sql.DataFrame = [loan_amnt: int, funded_amnt: int ... 84 more fields]\n"
      ]
     },
     "execution_count": 11,
     "metadata": {},
     "output_type": "execute_result"
    }
   ],
   "source": [
    "val dfGoodColumn = spark.sql(s\"select ${goodColumnsStr} from df\")"
   ]
  },
  {
   "cell_type": "code",
   "execution_count": 12,
   "metadata": {},
   "outputs": [
    {
     "name": "stdout",
     "output_type": "stream",
     "text": [
      "root\n",
      " |-- loan_amnt: integer (nullable = true)\n",
      " |-- funded_amnt: integer (nullable = true)\n",
      " |-- funded_amnt_inv: double (nullable = true)\n",
      " |-- term: string (nullable = true)\n",
      " |-- int_rate: double (nullable = true)\n",
      " |-- installment: double (nullable = true)\n",
      " |-- grade: string (nullable = true)\n",
      " |-- sub_grade: string (nullable = true)\n",
      " |-- emp_title: string (nullable = true)\n",
      " |-- emp_length: string (nullable = true)\n",
      " |-- home_ownership: string (nullable = true)\n",
      " |-- annual_inc: string (nullable = true)\n",
      " |-- verification_status: string (nullable = true)\n",
      " |-- issue_d: string (nullable = true)\n",
      " |-- loan_status: string (nullable = true)\n",
      " |-- pymnt_plan: string (nullable = true)\n",
      " |-- purpose: string (nullable = true)\n",
      " |-- title: string (nullable = true)\n",
      " |-- zip_code: string (nullable = true)\n",
      " |-- addr_state: string (nullable = true)\n",
      " |-- dti: string (nullable = true)\n",
      " |-- delinq_2yrs: string (nullable = true)\n",
      " |-- earliest_cr_line: string (nullable = true)\n",
      " |-- inq_last_6mths: string (nullable = true)\n",
      " |-- open_acc: string (nullable = true)\n",
      " |-- pub_rec: string (nullable = true)\n",
      " |-- revol_bal: string (nullable = true)\n",
      " |-- revol_util: string (nullable = true)\n",
      " |-- total_acc: string (nullable = true)\n",
      " |-- initial_list_status: string (nullable = true)\n",
      " |-- out_prncp: string (nullable = true)\n",
      " |-- out_prncp_inv: string (nullable = true)\n",
      " |-- total_pymnt: string (nullable = true)\n",
      " |-- total_pymnt_inv: string (nullable = true)\n",
      " |-- total_rec_prncp: string (nullable = true)\n",
      " |-- total_rec_int: string (nullable = true)\n",
      " |-- total_rec_late_fee: string (nullable = true)\n",
      " |-- recoveries: string (nullable = true)\n",
      " |-- collection_recovery_fee: string (nullable = true)\n",
      " |-- last_pymnt_d: string (nullable = true)\n",
      " |-- last_pymnt_amnt: string (nullable = true)\n",
      " |-- last_credit_pull_d: string (nullable = true)\n",
      " |-- collections_12_mths_ex_med: string (nullable = true)\n",
      " |-- policy_code: string (nullable = true)\n",
      " |-- application_type: string (nullable = true)\n",
      " |-- acc_now_delinq: string (nullable = true)\n",
      " |-- tot_coll_amt: string (nullable = true)\n",
      " |-- tot_cur_bal: string (nullable = true)\n",
      " |-- total_rev_hi_lim: string (nullable = true)\n",
      " |-- acc_open_past_24mths: integer (nullable = true)\n",
      " |-- avg_cur_bal: string (nullable = true)\n",
      " |-- bc_open_to_buy: integer (nullable = true)\n",
      " |-- bc_util: string (nullable = true)\n",
      " |-- chargeoff_within_12_mths: double (nullable = true)\n",
      " |-- delinq_amnt: integer (nullable = true)\n",
      " |-- mo_sin_old_il_acct: double (nullable = true)\n",
      " |-- mo_sin_old_rev_tl_op: integer (nullable = true)\n",
      " |-- mo_sin_rcnt_rev_tl_op: integer (nullable = true)\n",
      " |-- mo_sin_rcnt_tl: integer (nullable = true)\n",
      " |-- mort_acc: integer (nullable = true)\n",
      " |-- mths_since_recent_bc: integer (nullable = true)\n",
      " |-- num_accts_ever_120_pd: integer (nullable = true)\n",
      " |-- num_actv_bc_tl: integer (nullable = true)\n",
      " |-- num_actv_rev_tl: integer (nullable = true)\n",
      " |-- num_bc_sats: integer (nullable = true)\n",
      " |-- num_bc_tl: integer (nullable = true)\n",
      " |-- num_il_tl: integer (nullable = true)\n",
      " |-- num_op_rev_tl: integer (nullable = true)\n",
      " |-- num_rev_accts: integer (nullable = true)\n",
      " |-- num_rev_tl_bal_gt_0: integer (nullable = true)\n",
      " |-- num_sats: integer (nullable = true)\n",
      " |-- num_tl_120dpd_2m: integer (nullable = true)\n",
      " |-- num_tl_30dpd: integer (nullable = true)\n",
      " |-- num_tl_90g_dpd_24m: integer (nullable = true)\n",
      " |-- num_tl_op_past_12m: integer (nullable = true)\n",
      " |-- pct_tl_nvr_dlq: double (nullable = true)\n",
      " |-- percent_bc_gt_75: double (nullable = true)\n",
      " |-- pub_rec_bankruptcies: integer (nullable = true)\n",
      " |-- tax_liens: integer (nullable = true)\n",
      " |-- tot_hi_cred_lim: integer (nullable = true)\n",
      " |-- total_bal_ex_mort: integer (nullable = true)\n",
      " |-- total_bc_limit: integer (nullable = true)\n",
      " |-- total_il_high_credit_limit: integer (nullable = true)\n",
      " |-- hardship_flag: string (nullable = true)\n",
      " |-- disbursement_method: string (nullable = true)\n",
      " |-- debt_settlement_flag: string (nullable = true)\n",
      "\n"
     ]
    }
   ],
   "source": [
    "dfGoodColumn.printSchema"
   ]
  },
  {
   "cell_type": "code",
   "execution_count": 13,
   "metadata": {},
   "outputs": [],
   "source": [
    "dfGoodColumn.createOrReplaceTempView(\"dfGoodColumn\")"
   ]
  },
  {
   "cell_type": "markdown",
   "metadata": {},
   "source": [
    "# Retain only 2017 data"
   ]
  },
  {
   "cell_type": "code",
   "execution_count": 14,
   "metadata": {},
   "outputs": [
    {
     "data": {
      "text/plain": [
       "df_2017: org.apache.spark.sql.DataFrame = [loan_amnt: int, funded_amnt: int ... 84 more fields]\n"
      ]
     },
     "execution_count": 14,
     "metadata": {},
     "output_type": "execute_result"
    }
   ],
   "source": [
    "val df_2017 = spark.sql(\"select * from dfGoodColumn where issue_d like '%2017'\")"
   ]
  },
  {
   "cell_type": "code",
   "execution_count": 15,
   "metadata": {},
   "outputs": [
    {
     "data": {
      "text/plain": [
       "res7: Long = 443579\n"
      ]
     },
     "execution_count": 15,
     "metadata": {},
     "output_type": "execute_result"
    }
   ],
   "source": [
    "// Reduced count to 443579\n",
    "df_2017.count"
   ]
  },
  {
   "cell_type": "code",
   "execution_count": 16,
   "metadata": {},
   "outputs": [
    {
     "name": "stdout",
     "output_type": "stream",
     "text": [
      "+--------+\n",
      "|issue_d |\n",
      "+--------+\n",
      "|Sep-2017|\n",
      "|Jun-2017|\n",
      "|Nov-2017|\n",
      "|Feb-2017|\n",
      "|Dec-2017|\n",
      "|Aug-2017|\n",
      "|May-2017|\n",
      "|Jul-2017|\n",
      "|Jan-2017|\n",
      "|Oct-2017|\n",
      "|Mar-2017|\n",
      "|Apr-2017|\n",
      "+--------+\n",
      "\n"
     ]
    }
   ],
   "source": [
    "// Verify all records from 2017\n",
    "df_2017.select(\"issue_d\").distinct.show(false)"
   ]
  },
  {
   "cell_type": "code",
   "execution_count": 17,
   "metadata": {},
   "outputs": [
    {
     "ename": "org.apache.spark.sql.AnalysisException",
     "evalue": " path file:/home/LCLoan_2017.csv already exists.;",
     "output_type": "error",
     "traceback": [
      "org.apache.spark.sql.AnalysisException: path file:/home/LCLoan_2017.csv already exists.;",
      "  at org.apache.spark.sql.execution.datasources.InsertIntoHadoopFsRelationCommand.run(InsertIntoHadoopFsRelationCommand.scala:114)",
      "  at org.apache.spark.sql.execution.command.DataWritingCommandExec.sideEffectResult$lzycompute(commands.scala:104)",
      "  at org.apache.spark.sql.execution.command.DataWritingCommandExec.sideEffectResult(commands.scala:102)",
      "  at org.apache.spark.sql.execution.command.DataWritingCommandExec.doExecute(commands.scala:122)",
      "  at org.apache.spark.sql.execution.SparkPlan$$anonfun$execute$1.apply(SparkPlan.scala:131)",
      "  at org.apache.spark.sql.execution.SparkPlan$$anonfun$execute$1.apply(SparkPlan.scala:127)",
      "  at org.apache.spark.sql.execution.SparkPlan$$anonfun$executeQuery$1.apply(SparkPlan.scala:155)",
      "  at org.apache.spark.rdd.RDDOperationScope$.withScope(RDDOperationScope.scala:151)",
      "  at org.apache.spark.sql.execution.SparkPlan.executeQuery(SparkPlan.scala:152)",
      "  at org.apache.spark.sql.execution.SparkPlan.execute(SparkPlan.scala:127)",
      "  at org.apache.spark.sql.execution.QueryExecution.toRdd$lzycompute(QueryExecution.scala:80)",
      "  at org.apache.spark.sql.execution.QueryExecution.toRdd(QueryExecution.scala:80)",
      "  at org.apache.spark.sql.DataFrameWriter$$anonfun$runCommand$1.apply(DataFrameWriter.scala:676)",
      "  at org.apache.spark.sql.DataFrameWriter$$anonfun$runCommand$1.apply(DataFrameWriter.scala:676)",
      "  at org.apache.spark.sql.execution.SQLExecution$$anonfun$withNewExecutionId$1.apply(SQLExecution.scala:78)",
      "  at org.apache.spark.sql.execution.SQLExecution$.withSQLConfPropagated(SQLExecution.scala:125)",
      "  at org.apache.spark.sql.execution.SQLExecution$.withNewExecutionId(SQLExecution.scala:73)",
      "  at org.apache.spark.sql.DataFrameWriter.runCommand(DataFrameWriter.scala:676)",
      "  at org.apache.spark.sql.DataFrameWriter.saveToV1Source(DataFrameWriter.scala:285)",
      "  at org.apache.spark.sql.DataFrameWriter.save(DataFrameWriter.scala:271)",
      "  at org.apache.spark.sql.DataFrameWriter.save(DataFrameWriter.scala:229)",
      "  at org.apache.spark.sql.DataFrameWriter.csv(DataFrameWriter.scala:664)",
      "  ... 36 elided",
      ""
     ]
    }
   ],
   "source": [
    "df_2017.repartition(1).write.csv(\"LCLoan_2017.csv\")"
   ]
  },
  {
   "cell_type": "markdown",
   "metadata": {},
   "source": [
    "# Sampling down to ~20,000 rows\n",
    "This is to ensure that we can run further analysis in a timely manner."
   ]
  },
  {
   "cell_type": "code",
   "execution_count": 22,
   "metadata": {},
   "outputs": [
    {
     "data": {
      "text/plain": [
       "df_2017_20k: org.apache.spark.sql.Dataset[org.apache.spark.sql.Row] = [loan_amnt: int, funded_amnt: int ... 84 more fields]\n",
       "res14: Long = 20070\n"
      ]
     },
     "execution_count": 22,
     "metadata": {},
     "output_type": "execute_result"
    }
   ],
   "source": [
    "//created a subset of our large dataset\n",
    "//at 4.5% of the 2017 data, this should result in about 20,000 rows \n",
    "//the random seed here is 5202L, this is to ensre we can repeat this an get the same 20,000 row sample\n",
    "\n",
    "var df_2017_20k = df_2017.sample(false, 0.045, 5202L)\n",
    "\n",
    "\n",
    "\n",
    "//display the size of our final sampled set, and a summary of our target variable, \n",
    "\n",
    "df_2017_20k.count"
   ]
  },
  {
   "cell_type": "code",
   "execution_count": 23,
   "metadata": {},
   "outputs": [
    {
     "name": "stdout",
     "output_type": "stream",
     "text": [
      "+------------------+-----+\n",
      "|       loan_status|count|\n",
      "+------------------+-----+\n",
      "|        Fully Paid| 5446|\n",
      "|           Default|    1|\n",
      "|   In Grace Period|  136|\n",
      "|       Charged Off| 1660|\n",
      "|Late (31-120 days)|  367|\n",
      "|           Current|12402|\n",
      "| Late (16-30 days)|   58|\n",
      "+------------------+-----+\n",
      "\n"
     ]
    }
   ],
   "source": [
    "//and ensure that none of the counts are too out-of-line with the large dataset\n",
    "df_2017_20k.groupBy(\"loan_status\").count().show()"
   ]
  },
  {
   "cell_type": "code",
   "execution_count": 25,
   "metadata": {},
   "outputs": [],
   "source": [
    "//Write a Folder that contains a new csv file. (it will be called part-0000-...)\n",
    "\n",
    "df_2017_20k.coalesce(1).write.format(\"com.databricks.spark.csv\").option(\"header\", \"true\").save(\"SubsetLCLoan_2017_20k\")"
   ]
  },
  {
   "cell_type": "markdown",
   "metadata": {},
   "source": [
    "# EDA Section Table of Content\n",
    "\n",
    "* [#Read-20k-file](#Read-20k-file)\n",
    "* [#EDA](#EDA)\n",
    "* [#Correlation-Test](#Correlation-Test)\n",
    "* [#Visualisations](#Visualisations)"
   ]
  },
  {
   "cell_type": "markdown",
   "metadata": {},
   "source": [
    "# Read 20k file"
   ]
  },
  {
   "cell_type": "code",
   "execution_count": 26,
   "metadata": {},
   "outputs": [
    {
     "data": {
      "text/plain": [
       "df: org.apache.spark.sql.DataFrame = [loan_amnt: int, funded_amnt: int ... 84 more fields]\n"
      ]
     },
     "execution_count": 26,
     "metadata": {},
     "output_type": "execute_result"
    }
   ],
   "source": [
    "var df = spark.read.format(\"csv\")\n",
    "  .option(\"inferSchema\", \"true\")\n",
    "  .option(\"header\", \"true\")\n",
    "  .load(\"Loan_2017_20k.csv\")"
   ]
  },
  {
   "cell_type": "code",
   "execution_count": 27,
   "metadata": {},
   "outputs": [
    {
     "name": "stdout",
     "output_type": "stream",
     "text": [
      "2019-05-27 01:31:33,902 WARN  [Thread-4] util.Utils (Logging.scala:logWarning(66)) - Truncated the string representation of a plan since it was too large. This behavior can be adjusted by setting 'spark.debug.maxToStringFields' in SparkEnv.conf.\n"
     ]
    },
    {
     "data": {
      "text/plain": [
       "res23: Long = 20070\n"
      ]
     },
     "execution_count": 27,
     "metadata": {},
     "output_type": "execute_result"
    }
   ],
   "source": [
    "// cache in memory to speed up\n",
    "df.cache\n",
    "df.count"
   ]
  },
  {
   "cell_type": "code",
   "execution_count": 28,
   "metadata": {},
   "outputs": [],
   "source": [
    "df.createOrReplaceTempView(\"df\")"
   ]
  },
  {
   "cell_type": "markdown",
   "metadata": {},
   "source": [
    "# EDA\n",
    "* [#Update-Loan-Status](#Update-Loan-Status)\n",
    "* [#Fill-NA](#Fill-NA)\n",
    "* [#Check-for-String-type-column](#Check-for-String-type-column)\n",
    "* [#Check-for-Integer-type-column](#Check-for-Integer-type-column)\n",
    "* [#Check-for-Double-type-column](#Check-for-Double-type-column)"
   ]
  },
  {
   "cell_type": "markdown",
   "metadata": {},
   "source": [
    "## Update Loan Status\n",
    "\n",
    "Merge the loan status to \n",
    "- 0: indicates for good loan\n",
    "- 1: indicates for bad loan"
   ]
  },
  {
   "cell_type": "code",
   "execution_count": 29,
   "metadata": {},
   "outputs": [
    {
     "name": "stdout",
     "output_type": "stream",
     "text": [
      "+------------------+-----+\n",
      "|       loan_status|count|\n",
      "+------------------+-----+\n",
      "|        Fully Paid| 5446|\n",
      "|           Default|    1|\n",
      "|   In Grace Period|  136|\n",
      "|       Charged Off| 1660|\n",
      "|Late (31-120 days)|  367|\n",
      "|           Current|12402|\n",
      "| Late (16-30 days)|   58|\n",
      "+------------------+-----+\n",
      "\n"
     ]
    }
   ],
   "source": [
    "df.groupBy(\"loan_status\").count().show()"
   ]
  },
  {
   "cell_type": "code",
   "execution_count": 30,
   "metadata": {},
   "outputs": [],
   "source": [
    "df.createOrReplaceTempView(\"df\")"
   ]
  },
  {
   "cell_type": "code",
   "execution_count": 31,
   "metadata": {},
   "outputs": [
    {
     "data": {
      "text/plain": [
       "newDF: org.apache.spark.sql.DataFrame = [loan_amnt: int, funded_amnt: int ... 85 more fields]\n"
      ]
     },
     "execution_count": 31,
     "metadata": {},
     "output_type": "execute_result"
    }
   ],
   "source": [
    "val newDF = spark.sql(\"\"\"\n",
    "    select a.*,\n",
    "    case when loan_status in ('Fully Paid', 'In Grace Period', 'Current') then 1 else 0 end as new_loan_status\n",
    "    from df a\n",
    "\"\"\")"
   ]
  },
  {
   "cell_type": "code",
   "execution_count": 32,
   "metadata": {},
   "outputs": [
    {
     "data": {
      "text/plain": [
       "df: org.apache.spark.sql.DataFrame = [loan_amnt: int, funded_amnt: int ... 84 more fields]\n"
      ]
     },
     "execution_count": 32,
     "metadata": {},
     "output_type": "execute_result"
    }
   ],
   "source": [
    "df = newDF.drop(\"loan_status\").withColumnRenamed(\"new_loan_status\",\"loan_status\")"
   ]
  },
  {
   "cell_type": "code",
   "execution_count": 33,
   "metadata": {},
   "outputs": [
    {
     "name": "stdout",
     "output_type": "stream",
     "text": [
      "+-----------+-----+\n",
      "|loan_status|count|\n",
      "+-----------+-----+\n",
      "|          1|17984|\n",
      "|          0| 2086|\n",
      "+-----------+-----+\n",
      "\n"
     ]
    }
   ],
   "source": [
    "df.groupBy(\"loan_status\").count().show()"
   ]
  },
  {
   "cell_type": "markdown",
   "metadata": {},
   "source": [
    "## Fill NA\n",
    "* for Integer -> 0\n",
    "* for String -> \"\"\n",
    "* for Double -> 0.0"
   ]
  },
  {
   "cell_type": "code",
   "execution_count": 34,
   "metadata": {},
   "outputs": [
    {
     "data": {
      "text/plain": [
       "typeMap: scala.collection.immutable.Map[String,Any] = Map(emp_title -> \"\", tot_coll_amt -> 0, zip_code -> \"\", home_ownership -> \"\", num_bc_sats -> 0, total_pymnt -> 0.0, pct_tl_nvr_dlq -> 0.0, avg_cur_bal -> 0, sub_grade -> \"\", chargeoff_within_12_mths -> 0.0, pymnt_plan -> \"\", collection_recovery_fee -> 0.0, inq_last_6mths -> 0, tot_hi_cred_lim -> 0, total_il_high_credit_limit -> 0, last_credit_pull_d -> \"\", recoveries -> 0.0, total_rec_late_fee -> 0.0, mo_sin_rcnt_tl -> 0, emp_length -> \"\", policy_code -> 0, num_actv_rev_tl -> 0, mo_sin_old_il_acct -> 0.0, mo_sin_rcnt_rev_tl_op -> 0, verification_status -> \"\", revol_bal -> 0, num_actv_bc_tl -> 0, num_tl_90g_dpd_24m -> 0, num_tl_op_past_12m -> 0, num_sats -> 0, term -> \"\", mort_acc -> 0, percent_bc_gt_75 -> 0.0, bc_open_to_buy -> 0, la..."
      ]
     },
     "execution_count": 34,
     "metadata": {},
     "output_type": "execute_result"
    }
   ],
   "source": [
    "// Generate a map for each field and it's filled value if na\n",
    "val typeMap = df.dtypes.map(column => \n",
    "    column._2 match {\n",
    "        case \"IntegerType\" => (column._1 -> 0)\n",
    "        case \"StringType\" => (column._1 -> \"\")\n",
    "        case \"DoubleType\" => (column._1 -> 0.0)\n",
    "    }).toMap"
   ]
  },
  {
   "cell_type": "code",
   "execution_count": 35,
   "metadata": {},
   "outputs": [
    {
     "data": {
      "text/plain": [
       "df: org.apache.spark.sql.DataFrame = [loan_amnt: int, funded_amnt: int ... 84 more fields]\n"
      ]
     },
     "execution_count": 35,
     "metadata": {},
     "output_type": "execute_result"
    }
   ],
   "source": [
    "df = df.na.fill(typeMap)"
   ]
  },
  {
   "cell_type": "code",
   "execution_count": 36,
   "metadata": {},
   "outputs": [
    {
     "data": {
      "text/plain": [
       "res28: Long = 20070\n"
      ]
     },
     "execution_count": 36,
     "metadata": {},
     "output_type": "execute_result"
    }
   ],
   "source": [
    "// Verify there's no NA in dataframe now\n",
    "df.na.drop.count"
   ]
  },
  {
   "cell_type": "markdown",
   "metadata": {},
   "source": [
    "## Check for String type column"
   ]
  },
  {
   "cell_type": "code",
   "execution_count": 37,
   "metadata": {},
   "outputs": [
    {
     "data": {
      "text/plain": [
       "stringColumn: Array[String] = Array(term, grade, sub_grade, emp_title, emp_length, home_ownership, verification_status, issue_d, pymnt_plan, purpose, title, zip_code, addr_state, earliest_cr_line, initial_list_status, last_pymnt_d, last_credit_pull_d, application_type, hardship_flag, disbursement_method, debt_settlement_flag)\n"
      ]
     },
     "execution_count": 37,
     "metadata": {},
     "output_type": "execute_result"
    }
   ],
   "source": [
    "val stringColumn = df.dtypes.filter(column => column._2 == \"StringType\").map(_._1)"
   ]
  },
  {
   "cell_type": "code",
   "execution_count": 38,
   "metadata": {},
   "outputs": [
    {
     "data": {
      "text/plain": [
       "stringDF: org.apache.spark.sql.DataFrame = [term_freqItems: array<string>, grade_freqItems: array<string> ... 19 more fields]\n"
      ]
     },
     "execution_count": 38,
     "metadata": {},
     "output_type": "execute_result"
    }
   ],
   "source": [
    "val stringDF = df.stat.freqItems(stringColumn)"
   ]
  },
  {
   "cell_type": "code",
   "execution_count": 39,
   "metadata": {},
   "outputs": [
    {
     "name": "stdout",
     "output_type": "stream",
     "text": [
      "+----------------------+\n",
      "|term_freqItems        |\n",
      "+----------------------+\n",
      "|[60 months, 36 months]|\n",
      "+----------------------+\n",
      "\n",
      "+---------------------+\n",
      "|grade_freqItems      |\n",
      "+---------------------+\n",
      "|[D, G, A, C, F, E, B]|\n",
      "+---------------------+\n",
      "\n",
      "+--------------------------------------------------------------------------------------------------------------------------------------------+\n",
      "|sub_grade_freqItems                                                                                                                         |\n",
      "+--------------------------------------------------------------------------------------------------------------------------------------------+\n",
      "|[C4, A3, B2, G2, G5, E4, D2, B1, F3, D5, B4, E1, A2, C3, F2, A5, G1, D4, F5, E3, G4, C2, C5, A4, D1, B3, G3, A1, F1, E5, F4, D3, C1, B5, E2]|\n",
      "+--------------------------------------------------------------------------------------------------------------------------------------------+\n",
      "\n",
      "+----------------------------------------------------------------------------------------------------------------------------------------------------------------------------------------------------------------------------------------------------------------------------------------------------+\n",
      "|emp_title_freqItems                                                                                                                                                                                                                                                                                 |\n",
      "+----------------------------------------------------------------------------------------------------------------------------------------------------------------------------------------------------------------------------------------------------------------------------------------------------+\n",
      "|[Driver, General Manager, SHIPPING MANGER, Mechanical engineer, Mechanic, Supervisor, Registered Nurse, Contracts Attorney, Teacher, Sales, Analyst, System Quality Anylist 2, Manager, AVP, Account Manager, RN, Director, Assistant Store Manager, Owner, Medicare D Advisor, Designer, , Barista]|\n",
      "+----------------------------------------------------------------------------------------------------------------------------------------------------------------------------------------------------------------------------------------------------------------------------------------------------+\n",
      "\n",
      "+----------------------------------------------------------------------------------------------------------+\n",
      "|emp_length_freqItems                                                                                      |\n",
      "+----------------------------------------------------------------------------------------------------------+\n",
      "|[1 year, 3 years, < 1 year, 6 years, 9 years, 2 years, 10+ years, 5 years, 8 years, n/a, 4 years, 7 years]|\n",
      "+----------------------------------------------------------------------------------------------------------+\n",
      "\n",
      "+--------------------------+\n",
      "|home_ownership_freqItems  |\n",
      "+--------------------------+\n",
      "|[OWN, RENT, MORTGAGE, ANY]|\n",
      "+--------------------------+\n",
      "\n",
      "+-----------------------------------------+\n",
      "|verification_status_freqItems            |\n",
      "+-----------------------------------------+\n",
      "|[Not Verified, Source Verified, Verified]|\n",
      "+-----------------------------------------+\n",
      "\n",
      "+------------------------------------------------------------------------------------------------------------------------+\n",
      "|issue_d_freqItems                                                                                                       |\n",
      "+------------------------------------------------------------------------------------------------------------------------+\n",
      "|[Apr-2017, Feb-2017, Jul-2017, Aug-2017, Jun-2017, Mar-2017, Jan-2017, Sep-2017, Oct-2017, May-2017, Dec-2017, Nov-2017]|\n",
      "+------------------------------------------------------------------------------------------------------------------------+\n",
      "\n",
      "+--------------------+\n",
      "|pymnt_plan_freqItems|\n",
      "+--------------------+\n",
      "|[n, y]              |\n",
      "+--------------------+\n",
      "\n",
      "+---------------------------------------------------------------------------------------------------------------------------------------------------+\n",
      "|purpose_freqItems                                                                                                                                  |\n",
      "+---------------------------------------------------------------------------------------------------------------------------------------------------+\n",
      "|[moving, home_improvement, renewable_energy, debt_consolidation, major_purchase, small_business, house, car, credit_card, medical, other, vacation]|\n",
      "+---------------------------------------------------------------------------------------------------------------------------------------------------+\n",
      "\n",
      "+-------------------------------------------------------------------------------------------------------------------------------------------------------------------------------------------+\n",
      "|title_freqItems                                                                                                                                                                            |\n",
      "+-------------------------------------------------------------------------------------------------------------------------------------------------------------------------------------------+\n",
      "|[Home improvement, Moving and relocation, Home buying, Debt consolidation, Medical expenses, Major purchase, Car financing, Other, Vacation, Business, Green loan, Credit card refinancing]|\n",
      "+-------------------------------------------------------------------------------------------------------------------------------------------------------------------------------------------+\n",
      "\n",
      "+---------------------------------------------------------------------------------------------------------------------------------------------------------------------------------------------------------------------------------------------------------------------------------------------------------------------------------------------------------------------------------------------------------------------------------------------------------+\n",
      "|zip_code_freqItems                                                                                                                                                                                                                                                                                                                                                                                                                                       |\n",
      "+---------------------------------------------------------------------------------------------------------------------------------------------------------------------------------------------------------------------------------------------------------------------------------------------------------------------------------------------------------------------------------------------------------------------------------------------------------+\n",
      "|[088xx, 610xx, 062xx, 339xx, 275xx, 330xx, 762xx, 935xx, 750xx, 100xx, 770xx, 894xx, 109xx, 462xx, 117xx, 594xx, 212xx, 336xx, 787xx, 272xx, 103xx, 920xx, 900xx, 148xx, 917xx, 937xx, 327xx, 802xx, 021xx, 105xx, 850xx, 606xx, 908xx, 200xx, 914xx, 421xx, 758xx, 853xx, 847xx, 386xx, 902xx, 027xx, 945xx, 300xx, 752xx, 432xx, 363xx, 973xx, 323xx, 729xx, 852xx, 113xx, 334xx, 662xx, 337xx, 293xx, 020xx, 104xx, 331xx, 112xx, 325xx, 809xx, 388xx]|\n",
      "+---------------------------------------------------------------------------------------------------------------------------------------------------------------------------------------------------------------------------------------------------------------------------------------------------------------------------------------------------------------------------------------------------------------------------------------------------------+\n",
      "\n",
      "+--------------------------------------------------------------------------------------------------------------------------------------------------------------------------------------------------------+\n",
      "|addr_state_freqItems                                                                                                                                                                                    |\n",
      "+--------------------------------------------------------------------------------------------------------------------------------------------------------------------------------------------------------+\n",
      "|[SC, MS, CO, MA, GA, AZ, TN, IN, HI, NE, MI, WV, VT, WY, NH, LA, CT, MO, WA, ID, RI, NJ, OR, AL, ND, NV, KY, NM, MT, VA, DC, NY, KS, IL, AR, ME, MN, CA, WI, UT, TX, SD, OK, FL, DE, PA, MD, OH, AK, NC]|\n",
      "+--------------------------------------------------------------------------------------------------------------------------------------------------------------------------------------------------------+\n"
     ]
    },
    {
     "name": "stdout",
     "output_type": "stream",
     "text": [
      "\n",
      "+------------------------------------------------------------------------------------------------------------------------------------------------------------------------------------------------------------------------------------------------------------------------------------------------------------------------------------------------------------------------------------------------------------------------------------------------------------------------------------------------------------------------------------------------------------+\n",
      "|earliest_cr_line_freqItems                                                                                                                                                                                                                                                                                                                                                                                                                                                                                                                                  |\n",
      "+------------------------------------------------------------------------------------------------------------------------------------------------------------------------------------------------------------------------------------------------------------------------------------------------------------------------------------------------------------------------------------------------------------------------------------------------------------------------------------------------------------------------------------------------------------+\n",
      "|[Nov-1998, Jan-1991, Sep-2007, Apr-1986, Mar-1997, Oct-2001, Aug-2006, Jul-2005, Nov-2004, May-2001, Apr-2004, Aug-1996, May-2004, Aug-1978, Oct-1994, Mar-2003, Dec-2000, Oct-1997, Dec-2003, Apr-1997, Nov-2009, Dec-2006, Oct-2000, Aug-2005, Jul-2001, Apr-2009, Oct-2003, Mar-2005, Sep-2005, Jun-2005, Jan-2011, Oct-2006, Jul-2007, Sep-2008, Nov-2006, May-2003, Apr-2003, Mar-1995, Aug-2004, Dec-2005, Oct-1996, Apr-1987, Jan-1986, Jan-2007, Apr-1996, Nov-2011, Aug-2001, Mar-2001, Sep-2001, Sep-2004, Nov-2002, Feb-1999, Jan-2004, Apr-2008]|\n",
      "+------------------------------------------------------------------------------------------------------------------------------------------------------------------------------------------------------------------------------------------------------------------------------------------------------------------------------------------------------------------------------------------------------------------------------------------------------------------------------------------------------------------------------------------------------------+\n",
      "\n",
      "+-----------------------------+\n",
      "|initial_list_status_freqItems|\n",
      "+-----------------------------+\n",
      "|[w, f]                       |\n",
      "+-----------------------------+\n",
      "\n",
      "+----------------------------------------------------------------------------------------------------------------------------------------------------------------------------------------------------------------------------------------------------------------------+\n",
      "|last_pymnt_d_freqItems                                                                                                                                                                                                                                                |\n",
      "+----------------------------------------------------------------------------------------------------------------------------------------------------------------------------------------------------------------------------------------------------------------------+\n",
      "|[Apr-2017, Feb-2017, Aug-2018, Mar-2018, Jul-2017, Jan-2018, Jun-2018, Feb-2019, Sep-2018, Dec-2018, Aug-2017, May-2018, Mar-2017, Jun-2017, Jan-2017, Sep-2017, Nov-2018, Oct-2018, Apr-2018, Feb-2018, Oct-2017, May-2017, Dec-2017, Nov-2017, Jan-2019, Jul-2018, ]|\n",
      "+----------------------------------------------------------------------------------------------------------------------------------------------------------------------------------------------------------------------------------------------------------------------+\n",
      "\n",
      "+--------------------------------------------------------------------------------------------------------------------------------------------------------------------------------------------------------------------------------------------------------------------+\n",
      "|last_credit_pull_d_freqItems                                                                                                                                                                                                                                        |\n",
      "+--------------------------------------------------------------------------------------------------------------------------------------------------------------------------------------------------------------------------------------------------------------------+\n",
      "|[Apr-2017, Feb-2017, Aug-2018, Mar-2018, Jul-2017, Jan-2018, Jun-2018, Feb-2019, Sep-2018, Dec-2018, Aug-2017, May-2018, Mar-2017, Jun-2017, Jan-2017, Sep-2017, Nov-2018, Oct-2018, Apr-2018, Feb-2018, Oct-2017, May-2017, Dec-2017, Nov-2017, Jul-2018, Jan-2019]|\n",
      "+--------------------------------------------------------------------------------------------------------------------------------------------------------------------------------------------------------------------------------------------------------------------+\n",
      "\n",
      "+--------------------------+\n",
      "|application_type_freqItems|\n",
      "+--------------------------+\n",
      "|[Individual, Joint App]   |\n",
      "+--------------------------+\n",
      "\n",
      "+-----------------------+\n",
      "|hardship_flag_freqItems|\n",
      "+-----------------------+\n",
      "|[Y, N]                 |\n",
      "+-----------------------+\n",
      "\n",
      "+-----------------------------+\n",
      "|disbursement_method_freqItems|\n",
      "+-----------------------------+\n",
      "|[Cash, DirectPay]            |\n",
      "+-----------------------------+\n",
      "\n",
      "+------------------------------+\n",
      "|debt_settlement_flag_freqItems|\n",
      "+------------------------------+\n",
      "|[Y, N]                        |\n",
      "+------------------------------+\n",
      "\n"
     ]
    }
   ],
   "source": [
    "stringColumn.foreach(l => stringDF.select(l+\"_freqItems\").show(false))"
   ]
  },
  {
   "cell_type": "code",
   "execution_count": 40,
   "metadata": {},
   "outputs": [
    {
     "name": "stdout",
     "output_type": "stream",
     "text": [
      "+---------+-----+\n",
      "|     term|count|\n",
      "+---------+-----+\n",
      "|36 months|14523|\n",
      "|60 months| 5547|\n",
      "+---------+-----+\n",
      "\n",
      "+-----+-----+\n",
      "|grade|count|\n",
      "+-----+-----+\n",
      "|    F|  267|\n",
      "|    E|  865|\n",
      "|    B| 6064|\n",
      "|    D| 2548|\n",
      "|    C| 6574|\n",
      "|    A| 3590|\n",
      "|    G|  162|\n",
      "+-----+-----+\n",
      "\n",
      "+---------+-----+\n",
      "|sub_grade|count|\n",
      "+---------+-----+\n",
      "|       D5|  321|\n",
      "|       F2|   48|\n",
      "|       B4| 1037|\n",
      "|       A2|  594|\n",
      "|       E4|  166|\n",
      "|       B2| 1102|\n",
      "|       C3| 1232|\n",
      "|       D1|  625|\n",
      "|       C4| 1265|\n",
      "|       F1|   82|\n",
      "|       D3|  613|\n",
      "|       F5|   47|\n",
      "|       G2|   27|\n",
      "|       B1| 1259|\n",
      "|       B3| 1215|\n",
      "|       E5|  201|\n",
      "|       C5| 1347|\n",
      "|       G3|   33|\n",
      "|       A4|  671|\n",
      "|       F4|   41|\n",
      "+---------+-----+\n",
      "only showing top 20 rows\n",
      "\n",
      "+--------------------+-----+\n",
      "|           emp_title|count|\n",
      "+--------------------+-----+\n",
      "|    LEAD UNDERWRITER|    1|\n",
      "|           Scientist|    5|\n",
      "|Commercial Truck ...|    2|\n",
      "|   Patient care Tech|    1|\n",
      "|                 CSR|   10|\n",
      "|Regional sales ma...|    4|\n",
      "|Journeyman Electr...|    4|\n",
      "|           Physician|   22|\n",
      "|Front End Web Dev...|    1|\n",
      "|     Roofing Foreman|    1|\n",
      "|   Production Artist|    1|\n",
      "|Site Merchandisin...|    1|\n",
      "|    VP, Client Sales|    1|\n",
      "|  Testing Specialist|    1|\n",
      "|Administrative As...|    1|\n",
      "|Patent Administrator|    1|\n",
      "| Sr. Pension Analyst|    1|\n",
      "|   Process Scientist|    1|\n",
      "|           machinist|   10|\n",
      "|Assistant to the ...|    1|\n",
      "+--------------------+-----+\n",
      "only showing top 20 rows\n",
      "\n",
      "+----------+-----+\n",
      "|emp_length|count|\n",
      "+----------+-----+\n",
      "|   9 years|  722|\n",
      "|   5 years| 1206|\n",
      "|    1 year| 1351|\n",
      "|       n/a| 1411|\n",
      "|   2 years| 1860|\n",
      "|   7 years|  748|\n",
      "|   8 years|  630|\n",
      "|   4 years| 1233|\n",
      "|   6 years|  836|\n",
      "|   3 years| 1619|\n",
      "| 10+ years| 6512|\n",
      "|  < 1 year| 1942|\n",
      "+----------+-----+\n",
      "\n",
      "+--------------+-----+\n",
      "|home_ownership|count|\n",
      "+--------------+-----+\n",
      "|           OWN| 2370|\n",
      "|          RENT| 7899|\n",
      "|      MORTGAGE| 9784|\n",
      "|           ANY|   17|\n",
      "+--------------+-----+\n",
      "\n",
      "+-------------------+-----+\n",
      "|verification_status|count|\n",
      "+-------------------+-----+\n",
      "|           Verified| 5116|\n",
      "|    Source Verified| 7755|\n",
      "|       Not Verified| 7199|\n",
      "+-------------------+-----+\n",
      "\n",
      "+--------+-----+\n",
      "| issue_d|count|\n",
      "+--------+-----+\n",
      "|Sep-2017| 1812|\n",
      "|Jun-2017| 1743|\n",
      "|Nov-2017| 1879|\n",
      "|Feb-2017| 1285|\n",
      "|Dec-2017| 1716|\n",
      "|Aug-2017| 1929|\n",
      "|May-2017| 1757|\n",
      "|Jul-2017| 1750|\n",
      "|Jan-2017| 1425|\n",
      "|Oct-2017| 1730|\n",
      "|Mar-2017| 1648|\n",
      "|Apr-2017| 1396|\n",
      "+--------+-----+\n",
      "\n",
      "+----------+-----+\n",
      "|pymnt_plan|count|\n",
      "+----------+-----+\n",
      "|         n|20057|\n",
      "|         y|   13|\n",
      "+----------+-----+\n",
      "\n",
      "+------------------+-----+\n",
      "|           purpose|count|\n",
      "+------------------+-----+\n",
      "|             other| 1523|\n",
      "|    small_business|  208|\n",
      "|debt_consolidation|11029|\n",
      "|       credit_card| 4184|\n",
      "|            moving|  183|\n",
      "|          vacation|  194|\n",
      "|  renewable_energy|   17|\n",
      "|             house|  131|\n",
      "|               car|  238|\n",
      "|    major_purchase|  508|\n",
      "|           medical|  320|\n",
      "|  home_improvement| 1535|\n",
      "+------------------+-----+\n",
      "\n",
      "+--------------------+-----+\n",
      "|               title|count|\n",
      "+--------------------+-----+\n",
      "|      Major purchase|  507|\n",
      "|               Other| 1523|\n",
      "|Credit card refin...| 4185|\n",
      "|         Home buying|  131|\n",
      "|    Home improvement| 1535|\n",
      "|            Business|  208|\n",
      "|          Green loan|   17|\n",
      "|            Vacation|  194|\n",
      "|    Medical expenses|  320|\n",
      "|       Car financing|  238|\n",
      "|  Debt consolidation|11029|\n",
      "|Moving and reloca...|  183|\n",
      "+--------------------+-----+\n",
      "\n",
      "+--------+-----+\n",
      "|zip_code|count|\n",
      "+--------+-----+\n",
      "|   471xx|   12|\n",
      "|   957xx|   32|\n",
      "|   223xx|   32|\n",
      "|   143xx|    6|\n",
      "|   230xx|   10|\n",
      "|   183xx|   21|\n",
      "|   371xx|   44|\n",
      "|   751xx|   64|\n",
      "|   591xx|   10|\n",
      "|   831xx|    4|\n",
      "|   154xx|    4|\n",
      "|   287xx|   25|\n",
      "|   179xx|    8|\n",
      "|   535xx|   30|\n",
      "|   756xx|   17|\n",
      "|   216xx|   10|\n",
      "|   895xx|   22|\n",
      "|   625xx|   11|\n",
      "|   387xx|    2|\n",
      "|   244xx|    6|\n",
      "+--------+-----+\n",
      "only showing top 20 rows\n",
      "\n",
      "+----------+-----+\n",
      "|addr_state|count|\n",
      "+----------+-----+\n",
      "|        AZ|  559|\n",
      "|        SC|  241|\n",
      "|        LA|  219|\n",
      "|        MN|  362|\n",
      "|        NJ|  745|\n",
      "|        DC|   44|\n",
      "|        OR|  252|\n",
      "|        VA|  523|\n",
      "|        RI|   95|\n",
      "|        KY|  190|\n",
      "|        WY|   35|\n",
      "|        NH|   78|\n",
      "|        MI|  518|\n",
      "|        NV|  285|\n",
      "|        WI|  290|\n",
      "|        ID|   69|\n",
      "|        CA| 2600|\n",
      "|        CT|  347|\n",
      "|        NE|   88|\n",
      "|        MT|   56|\n",
      "+----------+-----+\n",
      "only showing top 20 rows\n",
      "\n",
      "+----------------+-----+\n",
      "|earliest_cr_line|count|\n",
      "+----------------+-----+\n",
      "|        Jul-1996|   30|\n",
      "|        Jan-1999|   67|\n",
      "|        May-1977|    6|\n",
      "|        Nov-1978|    2|\n",
      "|        Sep-1987|   26|\n",
      "|        Jul-1989|   22|\n",
      "|        Mar-1999|   69|\n",
      "|        Jun-1979|    2|\n",
      "|        May-1993|   33|\n",
      "|        Sep-1998|  102|\n",
      "|        Jun-1985|   10|\n",
      "|        Apr-1988|   19|\n",
      "|        Oct-1975|    3|\n",
      "|        Dec-1981|    3|\n",
      "|        Jun-1989|   22|\n",
      "|        Apr-2003|  111|\n",
      "|        Mar-1990|   29|\n",
      "|        Sep-2003|  130|\n",
      "|        Aug-1995|   54|\n",
      "|        Feb-1988|   28|\n",
      "+----------------+-----+\n",
      "only showing top 20 rows\n",
      "\n",
      "+-------------------+-----+\n",
      "|initial_list_status|count|\n",
      "+-------------------+-----+\n",
      "|                  f| 4533|\n",
      "|                  w|15537|\n",
      "+-------------------+-----+\n",
      "\n",
      "+------------+-----+\n",
      "|last_pymnt_d|count|\n",
      "+------------+-----+\n",
      "|    Sep-2017|  235|\n",
      "|    Feb-2019|12502|\n",
      "|    Mar-2018|  489|\n",
      "|    Sep-2018|  392|\n",
      "|    Jun-2017|  127|\n",
      "|    Nov-2017|  294|\n",
      "|    Feb-2017|   24|\n",
      "|    Nov-2018|  386|\n",
      "|    Jul-2018|  487|\n",
      "|    Apr-2018|  359|\n",
      "|    Dec-2018|  366|\n",
      "|    Dec-2017|  326|\n",
      "|    Jan-2018|  362|\n",
      "|    Aug-2018|  500|\n",
      "|    Jan-2019|  624|\n",
      "|    Aug-2017|  211|\n",
      "|    May-2017|  118|\n",
      "|    Jul-2017|  175|\n",
      "|    Oct-2018|  430|\n",
      "|    Feb-2018|  351|\n",
      "+------------+-----+\n",
      "only showing top 20 rows\n",
      "\n",
      "+------------------+-----+\n",
      "|last_credit_pull_d|count|\n",
      "+------------------+-----+\n",
      "|          Sep-2017|   97|\n",
      "|          Feb-2019|15609|\n",
      "|          Mar-2018|  188|\n",
      "|          Sep-2018|  269|\n",
      "|          Jun-2017|   37|\n",
      "|          Nov-2017|   97|\n",
      "|          Feb-2017|    9|\n",
      "|          Nov-2018|  415|\n",
      "|          Jul-2018|  440|\n",
      "|          Apr-2018|  178|\n",
      "|          Dec-2018|  440|\n",
      "|          Dec-2017|  115|\n",
      "|          Jan-2018|  121|\n",
      "|          Aug-2018|  280|\n",
      "|          Jan-2019|  659|\n",
      "|          May-2017|   32|\n",
      "|          Aug-2017|   60|\n",
      "|          Jul-2017|   38|\n",
      "|          Oct-2018|  452|\n",
      "|          Feb-2018|  144|\n",
      "+------------------+-----+\n",
      "only showing top 20 rows\n",
      "\n",
      "+----------------+-----+\n",
      "|application_type|count|\n",
      "+----------------+-----+\n",
      "|       Joint App| 1823|\n",
      "|      Individual|18247|\n",
      "+----------------+-----+\n",
      "\n",
      "+-------------+-----+\n",
      "|hardship_flag|count|\n",
      "+-------------+-----+\n",
      "|            Y|   18|\n",
      "|            N|20052|\n",
      "+-------------+-----+\n",
      "\n",
      "+-------------------+-----+\n",
      "|disbursement_method|count|\n",
      "+-------------------+-----+\n",
      "|               Cash|19866|\n",
      "|          DirectPay|  204|\n",
      "+-------------------+-----+\n",
      "\n",
      "+--------------------+-----+\n",
      "|debt_settlement_flag|count|\n",
      "+--------------------+-----+\n",
      "|                   Y|  175|\n",
      "|                   N|19895|\n",
      "+--------------------+-----+\n",
      "\n"
     ]
    }
   ],
   "source": [
    "//shows counts of each category, can determine if there are solumns with dominant (>90%) categories\n",
    "stringColumn.foreach(l => df.groupBy(l).count.show())"
   ]
  },
  {
   "cell_type": "code",
   "execution_count": 41,
   "metadata": {},
   "outputs": [
    {
     "name": "stdout",
     "output_type": "stream",
     "text": [
      "term attribute unique values: \t2\n",
      "grade attribute unique values: \t7\n",
      "sub_grade attribute unique values: \t35\n",
      "emp_title attribute unique values: \t9192\n",
      "emp_length attribute unique values: \t12\n",
      "home_ownership attribute unique values: \t4\n",
      "verification_status attribute unique values: \t3\n",
      "issue_d attribute unique values: \t12\n",
      "pymnt_plan attribute unique values: \t2\n",
      "purpose attribute unique values: \t12\n",
      "title attribute unique values: \t12\n",
      "zip_code attribute unique values: \t834\n",
      "addr_state attribute unique values: \t50\n",
      "earliest_cr_line attribute unique values: \t562\n",
      "initial_list_status attribute unique values: \t2\n",
      "last_pymnt_d attribute unique values: \t27\n",
      "last_credit_pull_d attribute unique values: \t26\n",
      "application_type attribute unique values: \t2\n",
      "hardship_flag attribute unique values: \t2\n",
      "disbursement_method attribute unique values: \t2\n",
      "debt_settlement_flag attribute unique values: \t2\n"
     ]
    }
   ],
   "source": [
    "//unique value counts\n",
    "stringColumn.foreach(l => println(l + \" attribute unique values: \\t\" + df.groupBy(l).count.count.toString))"
   ]
  },
  {
   "cell_type": "markdown",
   "metadata": {},
   "source": [
    "Below columns with only a few possible values dominated by one value (i. >95% the same value):\n",
    "\n",
    "* pymnt_plan\n",
    "* hardship_flag\n",
    "* disbursement_method\n",
    "* debt_settlement_flag\n",
    "\n",
    "Columns with too many possible values\n",
    "\n",
    "* emp_title"
   ]
  },
  {
   "cell_type": "code",
   "execution_count": 42,
   "metadata": {},
   "outputs": [
    {
     "data": {
      "text/plain": [
       "df: org.apache.spark.sql.DataFrame = [loan_amnt: int, funded_amnt: int ... 80 more fields]\n"
      ]
     },
     "execution_count": 42,
     "metadata": {},
     "output_type": "execute_result"
    }
   ],
   "source": [
    "//Drop the columns\n",
    "df = df.drop(\"pymnt_plan\")\n",
    ".drop(\"hardship_flag\")\n",
    ".drop(\"disbursement_method\")\n",
    ".drop(\"debt_settlement_flag\")\n",
    ".drop(\"empt_title\")"
   ]
  },
  {
   "cell_type": "markdown",
   "metadata": {},
   "source": [
    "## Check for Integer type column"
   ]
  },
  {
   "cell_type": "code",
   "execution_count": 43,
   "metadata": {},
   "outputs": [
    {
     "data": {
      "text/plain": [
       "integerColumn: Array[String] = Array(loan_amnt, funded_amnt, delinq_2yrs, inq_last_6mths, open_acc, pub_rec, revol_bal, total_acc, collections_12_mths_ex_med, policy_code, acc_now_delinq, tot_coll_amt, tot_cur_bal, total_rev_hi_lim, acc_open_past_24mths, avg_cur_bal, bc_open_to_buy, delinq_amnt, mo_sin_old_rev_tl_op, mo_sin_rcnt_rev_tl_op, mo_sin_rcnt_tl, mort_acc, mths_since_recent_bc, num_accts_ever_120_pd, num_actv_bc_tl, num_actv_rev_tl, num_bc_sats, num_bc_tl, num_il_tl, num_op_rev_tl, num_rev_accts, num_rev_tl_bal_gt_0, num_sats, num_tl_120dpd_2m, num_tl_30dpd, num_tl_90g_dpd_24m, num_tl_op_past_12m, pub_rec_bankruptcies, tax_liens, tot_hi_cred_lim, total_bal_ex_mort, total_bc_limit, total_il_high_credit_limit, loan_status)\n"
      ]
     },
     "execution_count": 43,
     "metadata": {},
     "output_type": "execute_result"
    }
   ],
   "source": [
    "val integerColumn = df.dtypes.filter(column => column._2 == \"IntegerType\").map(_._1)"
   ]
  },
  {
   "cell_type": "code",
   "execution_count": 44,
   "metadata": {},
   "outputs": [
    {
     "name": "stdout",
     "output_type": "stream",
     "text": [
      "loan_amnt\n",
      "+-------+-----------------+\n",
      "|summary|loan_amnt        |\n",
      "+-------+-----------------+\n",
      "|count  |20070            |\n",
      "|mean   |14727.77279521674|\n",
      "|stddev |9605.943924842915|\n",
      "|min    |1000             |\n",
      "|max    |40000            |\n",
      "+-------+-----------------+\n",
      "\n",
      "funded_amnt\n",
      "+-------+-----------------+\n",
      "|summary|funded_amnt      |\n",
      "+-------+-----------------+\n",
      "|count  |20070            |\n",
      "|mean   |14727.77279521674|\n",
      "|stddev |9605.943924842915|\n",
      "|min    |1000             |\n",
      "|max    |40000            |\n",
      "+-------+-----------------+\n",
      "\n",
      "delinq_2yrs\n",
      "+-------+------------------+\n",
      "|summary|delinq_2yrs       |\n",
      "+-------+------------------+\n",
      "|count  |20070             |\n",
      "|mean   |0.3164424514200299|\n",
      "|stddev |0.892365624586786 |\n",
      "|min    |0                 |\n",
      "|max    |25                |\n",
      "+-------+------------------+\n",
      "\n",
      "inq_last_6mths\n",
      "+-------+------------------+\n",
      "|summary|inq_last_6mths    |\n",
      "+-------+------------------+\n",
      "|count  |20070             |\n",
      "|mean   |0.5067762830094669|\n",
      "|stddev |0.7995146026534053|\n",
      "|min    |0                 |\n",
      "|max    |5                 |\n",
      "+-------+------------------+\n",
      "\n",
      "open_acc\n",
      "+-------+------------------+\n",
      "|summary|open_acc          |\n",
      "+-------+------------------+\n",
      "|count  |20070             |\n",
      "|mean   |11.624215246636771|\n",
      "|stddev |5.739203246404463 |\n",
      "|min    |1                 |\n",
      "|max    |63                |\n",
      "+-------+------------------+\n",
      "\n",
      "pub_rec\n",
      "+-------+-------------------+\n",
      "|summary|pub_rec            |\n",
      "+-------+-------------------+\n",
      "|count  |20070              |\n",
      "|mean   |0.21654210264075735|\n",
      "|stddev |0.5748091005837263 |\n",
      "|min    |0                  |\n",
      "|max    |12                 |\n",
      "+-------+-------------------+\n",
      "\n",
      "revol_bal\n",
      "+-------+------------------+\n",
      "|summary|revol_bal         |\n",
      "+-------+------------------+\n",
      "|count  |20070             |\n",
      "|mean   |16383.052267065272|\n",
      "|stddev |22240.624056183777|\n",
      "|min    |0                 |\n",
      "|max    |645072            |\n",
      "+-------+------------------+\n",
      "\n",
      "total_acc\n",
      "+-------+------------------+\n",
      "|summary|total_acc         |\n",
      "+-------+------------------+\n",
      "|count  |20070             |\n",
      "|mean   |23.234927752864973|\n",
      "|stddev |11.778807737070597|\n",
      "|min    |2                 |\n",
      "|max    |122               |\n",
      "+-------+------------------+\n",
      "\n",
      "collections_12_mths_ex_med\n",
      "+-------+--------------------------+\n",
      "|summary|collections_12_mths_ex_med|\n",
      "+-------+--------------------------+\n",
      "|count  |20070                     |\n",
      "|mean   |0.02142501245640259       |\n",
      "|stddev |0.15984746027313024       |\n",
      "|min    |0                         |\n",
      "|max    |5                         |\n",
      "+-------+--------------------------+\n",
      "\n",
      "policy_code\n",
      "+-------+-----------+\n",
      "|summary|policy_code|\n",
      "+-------+-----------+\n",
      "|count  |20070      |\n",
      "|mean   |1.0        |\n",
      "|stddev |0.0        |\n",
      "|min    |1          |\n",
      "|max    |1          |\n",
      "+-------+-----------+\n",
      "\n",
      "acc_now_delinq\n",
      "+-------+---------------------+\n",
      "|summary|acc_now_delinq       |\n",
      "+-------+---------------------+\n",
      "|count  |20070                |\n",
      "|mean   |0.0046836073741903335|\n",
      "|stddev |0.07183442356648946  |\n",
      "|min    |0                    |\n",
      "|max    |2                    |\n",
      "+-------+---------------------+\n",
      "\n",
      "tot_coll_amt\n",
      "+-------+------------------+\n",
      "|summary|tot_coll_amt      |\n",
      "+-------+------------------+\n",
      "|count  |20070             |\n",
      "|mean   |224.14434479322372|\n",
      "|stddev |1666.801125171557 |\n",
      "|min    |0                 |\n",
      "|max    |101936            |\n",
      "+-------+------------------+\n",
      "\n",
      "tot_cur_bal\n",
      "+-------+------------------+\n",
      "|summary|tot_cur_bal       |\n",
      "+-------+------------------+\n",
      "|count  |20070             |\n",
      "|mean   |147346.74524165422|\n",
      "|stddev |169898.25882636599|\n",
      "|min    |0                 |\n",
      "|max    |4348538           |\n",
      "+-------+------------------+\n",
      "\n",
      "total_rev_hi_lim\n",
      "+-------+------------------+\n",
      "|summary|total_rev_hi_lim  |\n",
      "+-------+------------------+\n",
      "|count  |20070             |\n",
      "|mean   |35726.41295465869 |\n",
      "|stddev |34781.549485415024|\n",
      "|min    |0                 |\n",
      "|max    |716800            |\n",
      "+-------+------------------+\n",
      "\n",
      "acc_open_past_24mths\n",
      "+-------+--------------------+\n",
      "|summary|acc_open_past_24mths|\n",
      "+-------+--------------------+\n",
      "|count  |20070               |\n",
      "|mean   |4.5104135525660185  |\n",
      "|stddev |3.142292296295123   |\n",
      "|min    |0                   |\n",
      "|max    |29                  |\n",
      "+-------+--------------------+\n",
      "\n",
      "avg_cur_bal\n",
      "+-------+------------------+\n",
      "|summary|avg_cur_bal       |\n",
      "+-------+------------------+\n",
      "|count  |20070             |\n",
      "|mean   |14026.691629297458|\n",
      "|stddev |17320.316541364162|\n",
      "|min    |0                 |\n",
      "|max    |434854            |\n",
      "+-------+------------------+\n",
      "\n",
      "bc_open_to_buy\n",
      "+-------+------------------+\n",
      "|summary|bc_open_to_buy    |\n",
      "+-------+------------------+\n",
      "|count  |20070             |\n",
      "|mean   |12697.310313901346|\n",
      "|stddev |17812.490056612227|\n",
      "|min    |0                 |\n",
      "|max    |252947            |\n",
      "+-------+------------------+\n",
      "\n",
      "delinq_amnt\n",
      "+-------+------------------+\n",
      "|summary|delinq_amnt       |\n",
      "+-------+------------------+\n",
      "|count  |20070             |\n",
      "|mean   |14.280717488789238|\n",
      "|stddev |715.7070259782366 |\n",
      "|min    |0                 |\n",
      "|max    |65000             |\n",
      "+-------+------------------+\n",
      "\n",
      "mo_sin_old_rev_tl_op\n",
      "+-------+--------------------+\n",
      "|summary|mo_sin_old_rev_tl_op|\n",
      "+-------+--------------------+\n",
      "|count  |20070               |\n",
      "|mean   |181.19018435475834  |\n",
      "|stddev |99.9457042957881    |\n",
      "|min    |8                   |\n",
      "|max    |732                 |\n",
      "+-------+--------------------+\n",
      "\n",
      "mo_sin_rcnt_rev_tl_op\n",
      "+-------+---------------------+\n",
      "|summary|mo_sin_rcnt_rev_tl_op|\n",
      "+-------+---------------------+\n",
      "|count  |20070                |\n",
      "|mean   |14.593921275535624   |\n",
      "|stddev |18.59478234504759    |\n",
      "|min    |0                    |\n",
      "|max    |345                  |\n",
      "+-------+---------------------+\n",
      "\n",
      "mo_sin_rcnt_tl\n",
      "+-------+-----------------+\n",
      "|summary|mo_sin_rcnt_tl   |\n",
      "+-------+-----------------+\n",
      "|count  |20070            |\n",
      "|mean   |8.518036870951669|\n",
      "|stddev |9.542227824086133|\n",
      "|min    |0                |\n",
      "|max    |165              |\n",
      "+-------+-----------------+\n",
      "\n",
      "mort_acc\n",
      "+-------+------------------+\n",
      "|summary|mort_acc          |\n",
      "+-------+------------------+\n",
      "|count  |20070             |\n",
      "|mean   |1.4267563527653213|\n",
      "|stddev |1.735712471745101 |\n",
      "|min    |0                 |\n",
      "|max    |15                |\n",
      "+-------+------------------+\n",
      "\n",
      "mths_since_recent_bc\n",
      "+-------+--------------------+\n",
      "|summary|mths_since_recent_bc|\n",
      "+-------+--------------------+\n",
      "|count  |20070               |\n",
      "|mean   |24.43756851021425   |\n",
      "|stddev |32.722913095781614  |\n",
      "|min    |0                   |\n",
      "|max    |485                 |\n",
      "+-------+--------------------+\n",
      "\n",
      "num_accts_ever_120_pd\n",
      "+-------+---------------------+\n",
      "|summary|num_accts_ever_120_pd|\n",
      "+-------+---------------------+\n",
      "|count  |20070                |\n",
      "|mean   |0.5167912306925759   |\n",
      "|stddev |1.43738100253814     |\n",
      "|min    |0                    |\n",
      "|max    |34                   |\n",
      "+-------+---------------------+\n",
      "\n",
      "num_actv_bc_tl\n",
      "+-------+------------------+\n",
      "|summary|num_actv_bc_tl    |\n",
      "+-------+------------------+\n",
      "|count  |20070             |\n",
      "|mean   |3.630642750373692 |\n",
      "|stddev |2.3495748559077403|\n",
      "|min    |0                 |\n",
      "|max    |22                |\n",
      "+-------+------------------+\n",
      "\n",
      "num_actv_rev_tl\n",
      "+-------+-----------------+\n",
      "|summary|num_actv_rev_tl  |\n",
      "+-------+-----------------+\n",
      "|count  |20070            |\n",
      "|mean   |5.482810164424515|\n",
      "|stddev |3.417380238252128|\n",
      "|min    |0                |\n",
      "|max    |41               |\n",
      "+-------+-----------------+\n",
      "\n",
      "num_bc_sats\n",
      "+-------+------------------+\n",
      "|summary|num_bc_sats       |\n",
      "+-------+------------------+\n",
      "|count  |20070             |\n",
      "|mean   |4.79785749875436  |\n",
      "|stddev |3.1129749082722915|\n",
      "|min    |0                 |\n",
      "|max    |33                |\n",
      "+-------+------------------+\n",
      "\n",
      "num_bc_tl\n",
      "+-------+-----------------+\n",
      "|summary|num_bc_tl        |\n",
      "+-------+-----------------+\n",
      "|count  |20070            |\n",
      "|mean   |7.232536123567514|\n",
      "|stddev |4.48388499746063 |\n",
      "|min    |0                |\n",
      "|max    |66               |\n",
      "+-------+-----------------+\n",
      "\n",
      "num_il_tl\n",
      "+-------+-----------------+\n",
      "|summary|num_il_tl        |\n",
      "+-------+-----------------+\n",
      "|count  |20070            |\n",
      "|mean   |8.354160438465371|\n",
      "|stddev |7.240040651087403|\n",
      "|min    |0                |\n",
      "|max    |80               |\n",
      "+-------+-----------------+\n",
      "\n",
      "num_op_rev_tl\n",
      "+-------+-----------------+\n",
      "|summary|num_op_rev_tl    |\n",
      "+-------+-----------------+\n",
      "|count  |20070            |\n",
      "|mean   |8.112655705032386|\n",
      "|stddev |4.750490246163953|\n",
      "|min    |0                |\n",
      "|max    |50               |\n",
      "+-------+-----------------+\n"
     ]
    },
    {
     "name": "stdout",
     "output_type": "stream",
     "text": [
      "\n",
      "num_rev_accts\n",
      "+-------+------------------+\n",
      "|summary|num_rev_accts     |\n",
      "+-------+------------------+\n",
      "|count  |20070             |\n",
      "|mean   |13.237717987045341|\n",
      "|stddev |7.8718396932768915|\n",
      "|min    |2                 |\n",
      "|max    |107               |\n",
      "+-------+------------------+\n",
      "\n",
      "num_rev_tl_bal_gt_0\n",
      "+-------+-------------------+\n",
      "|summary|num_rev_tl_bal_gt_0|\n",
      "+-------+-------------------+\n",
      "|count  |20070              |\n",
      "|mean   |5.401395117090185  |\n",
      "|stddev |3.2717560894039073 |\n",
      "|min    |0                  |\n",
      "|max    |28                 |\n",
      "+-------+-------------------+\n",
      "\n",
      "num_sats\n",
      "+-------+------------------+\n",
      "|summary|num_sats          |\n",
      "+-------+------------------+\n",
      "|count  |20070             |\n",
      "|mean   |11.582012954658694|\n",
      "|stddev |5.717695147820466 |\n",
      "|min    |1                 |\n",
      "|max    |63                |\n",
      "+-------+------------------+\n",
      "\n",
      "num_tl_120dpd_2m\n",
      "+-------+--------------------+\n",
      "|summary|num_tl_120dpd_2m    |\n",
      "+-------+--------------------+\n",
      "|count  |20070               |\n",
      "|mean   |4.982561036372695E-4|\n",
      "|stddev |0.022316645340948592|\n",
      "|min    |0                   |\n",
      "|max    |1                   |\n",
      "+-------+--------------------+\n",
      "\n",
      "num_tl_30dpd\n",
      "+-------+---------------------+\n",
      "|summary|num_tl_30dpd         |\n",
      "+-------+---------------------+\n",
      "|count  |20070                |\n",
      "|mean   |0.0032386646736422523|\n",
      "|stddev |0.0585461266945128   |\n",
      "|min    |0                    |\n",
      "|max    |2                    |\n",
      "+-------+---------------------+\n",
      "\n",
      "num_tl_90g_dpd_24m\n",
      "+-------+-------------------+\n",
      "|summary|num_tl_90g_dpd_24m |\n",
      "+-------+-------------------+\n",
      "|count  |20070              |\n",
      "|mean   |0.08256103637269556|\n",
      "|stddev |0.512740483543642  |\n",
      "|min    |0                  |\n",
      "|max    |25                 |\n",
      "+-------+-------------------+\n",
      "\n",
      "num_tl_op_past_12m\n",
      "+-------+------------------+\n",
      "|summary|num_tl_op_past_12m|\n",
      "+-------+------------------+\n",
      "|count  |20070             |\n",
      "|mean   |2.025759840558047 |\n",
      "|stddev |1.819522553613133 |\n",
      "|min    |0                 |\n",
      "|max    |20                |\n",
      "+-------+------------------+\n",
      "\n",
      "pub_rec_bankruptcies\n",
      "+-------+--------------------+\n",
      "|summary|pub_rec_bankruptcies|\n",
      "+-------+--------------------+\n",
      "|count  |20070               |\n",
      "|mean   |0.1371699053313403  |\n",
      "|stddev |0.37640372917100523 |\n",
      "|min    |0                   |\n",
      "|max    |6                   |\n",
      "+-------+--------------------+\n",
      "\n",
      "tax_liens\n",
      "+-------+-------------------+\n",
      "|summary|tax_liens          |\n",
      "+-------+-------------------+\n",
      "|count  |20070              |\n",
      "|mean   |0.05809666168410563|\n",
      "|stddev |0.3658567726030392 |\n",
      "|min    |0                  |\n",
      "|max    |9                  |\n",
      "+-------+-------------------+\n",
      "\n",
      "tot_hi_cred_lim\n",
      "+-------+------------------+\n",
      "|summary|tot_hi_cred_lim   |\n",
      "+-------+------------------+\n",
      "|count  |20070             |\n",
      "|mean   |185966.84489287494|\n",
      "|stddev |190727.54060862548|\n",
      "|min    |200               |\n",
      "|max    |4533854           |\n",
      "+-------+------------------+\n",
      "\n",
      "total_bal_ex_mort\n",
      "+-------+-----------------+\n",
      "|summary|total_bal_ex_mort|\n",
      "+-------+-----------------+\n",
      "|count  |20070            |\n",
      "|mean   |51688.9841554559 |\n",
      "|stddev |49909.49197799725|\n",
      "|min    |0                |\n",
      "|max    |728132           |\n",
      "+-------+-----------------+\n",
      "\n",
      "total_bc_limit\n",
      "+-------+------------------+\n",
      "|summary|total_bc_limit    |\n",
      "+-------+------------------+\n",
      "|count  |20070             |\n",
      "|mean   |24478.806028898853|\n",
      "|stddev |23929.262419683255|\n",
      "|min    |0                 |\n",
      "|max    |307300            |\n",
      "+-------+------------------+\n",
      "\n",
      "total_il_high_credit_limit\n",
      "+-------+--------------------------+\n",
      "|summary|total_il_high_credit_limit|\n",
      "+-------+--------------------------+\n",
      "|count  |20070                     |\n",
      "|mean   |45335.78285999003         |\n",
      "|stddev |44967.588025398334        |\n",
      "|min    |0                         |\n",
      "|max    |678695                    |\n",
      "+-------+--------------------------+\n",
      "\n",
      "loan_status\n",
      "+-------+-------------------+\n",
      "|summary|loan_status        |\n",
      "+-------+-------------------+\n",
      "|count  |20070              |\n",
      "|mean   |0.8960637767812656 |\n",
      "|stddev |0.30518539510550896|\n",
      "|min    |0                  |\n",
      "|max    |1                  |\n",
      "+-------+-------------------+\n",
      "\n"
     ]
    }
   ],
   "source": [
    "//describe each column of type integer\n",
    "integerColumn.foreach( l => {\n",
    "    println(l)\n",
    "    df.describe(l).show(false)\n",
    "})"
   ]
  },
  {
   "cell_type": "markdown",
   "metadata": {},
   "source": [
    "## Check for Double type column"
   ]
  },
  {
   "cell_type": "code",
   "execution_count": 45,
   "metadata": {},
   "outputs": [
    {
     "data": {
      "text/plain": [
       "doubleColumn: Array[String] = Array(funded_amnt_inv, int_rate, installment, annual_inc, dti, revol_util, out_prncp, out_prncp_inv, total_pymnt, total_pymnt_inv, total_rec_prncp, total_rec_int, total_rec_late_fee, recoveries, collection_recovery_fee, last_pymnt_amnt, bc_util, chargeoff_within_12_mths, mo_sin_old_il_acct, pct_tl_nvr_dlq, percent_bc_gt_75)\n"
      ]
     },
     "execution_count": 45,
     "metadata": {},
     "output_type": "execute_result"
    }
   ],
   "source": [
    "val doubleColumn = df.dtypes.filter(column => column._2 == \"DoubleType\").map(_._1)"
   ]
  },
  {
   "cell_type": "code",
   "execution_count": 46,
   "metadata": {},
   "outputs": [
    {
     "name": "stdout",
     "output_type": "stream",
     "text": [
      "funded_amnt_inv\n",
      "+-------+-----------------+\n",
      "|summary|funded_amnt_inv  |\n",
      "+-------+-----------------+\n",
      "|count  |20070            |\n",
      "|mean   |14723.55879422023|\n",
      "|stddev |9602.985128010128|\n",
      "|min    |1000.0           |\n",
      "|max    |40000.0          |\n",
      "+-------+-----------------+\n",
      "\n",
      "int_rate\n",
      "+-------+------------------+\n",
      "|summary|int_rate          |\n",
      "+-------+------------------+\n",
      "|count  |20070             |\n",
      "|mean   |13.181286995514402|\n",
      "|stddev |5.160479853400303 |\n",
      "|min    |5.32              |\n",
      "|max    |30.99             |\n",
      "+-------+------------------+\n",
      "\n",
      "installment\n",
      "+-------+------------------+\n",
      "|summary|installment       |\n",
      "+-------+------------------+\n",
      "|count  |20070             |\n",
      "|mean   |438.537950672646  |\n",
      "|stddev |282.00868318404736|\n",
      "|min    |30.12             |\n",
      "|max    |1566.8            |\n",
      "+-------+------------------+\n",
      "\n",
      "annual_inc\n",
      "+-------+-----------------+\n",
      "|summary|annual_inc       |\n",
      "+-------+-----------------+\n",
      "|count  |20070            |\n",
      "|mean   |80446.58286148483|\n",
      "|stddev |91653.89088551638|\n",
      "|min    |0.0              |\n",
      "|max    |7200000.0        |\n",
      "+-------+-----------------+\n",
      "\n",
      "dti\n",
      "+-------+------------------+\n",
      "|summary|dti               |\n",
      "+-------+------------------+\n",
      "|count  |20070             |\n",
      "|mean   |19.03107523667162 |\n",
      "|stddev |16.992338217396508|\n",
      "|min    |0.0               |\n",
      "|max    |999.0             |\n",
      "+-------+------------------+\n",
      "\n",
      "revol_util\n",
      "+-------+------------------+\n",
      "|summary|revol_util        |\n",
      "+-------+------------------+\n",
      "|count  |20070             |\n",
      "|mean   |47.64562032884908 |\n",
      "|stddev |24.849371834783557|\n",
      "|min    |0.0               |\n",
      "|max    |145.6             |\n",
      "+-------+------------------+\n",
      "\n",
      "out_prncp\n",
      "+-------+-----------------+\n",
      "|summary|out_prncp        |\n",
      "+-------+-----------------+\n",
      "|count  |20070            |\n",
      "|mean   |5986.149243647219|\n",
      "|stddev |7213.528049075023|\n",
      "|min    |0.0              |\n",
      "|max    |34853.59         |\n",
      "+-------+-----------------+\n",
      "\n",
      "out_prncp_inv\n",
      "+-------+-----------------+\n",
      "|summary|out_prncp_inv    |\n",
      "+-------+-----------------+\n",
      "|count  |20070            |\n",
      "|mean   |5984.647430493254|\n",
      "|stddev |7212.448287288167|\n",
      "|min    |0.0              |\n",
      "|max    |34853.59         |\n",
      "+-------+-----------------+\n",
      "\n",
      "total_pymnt\n",
      "+-------+-----------------+\n",
      "|summary|total_pymnt      |\n",
      "+-------+-----------------+\n",
      "|count  |20070            |\n",
      "|mean   |9888.739469970378|\n",
      "|stddev |7753.149550645871|\n",
      "|min    |0.0              |\n",
      "|max    |55051.0436082491 |\n",
      "+-------+-----------------+\n",
      "\n",
      "total_pymnt_inv\n",
      "+-------+-----------------+\n",
      "|summary|total_pymnt_inv  |\n",
      "+-------+-----------------+\n",
      "|count  |20070            |\n",
      "|mean   |9885.918338814148|\n",
      "|stddev |7750.466886729854|\n",
      "|min    |0.0              |\n",
      "|max    |55051.04         |\n",
      "+-------+-----------------+\n",
      "\n",
      "total_rec_prncp\n",
      "+-------+-----------------+\n",
      "|summary|total_rec_prncp  |\n",
      "+-------+-----------------+\n",
      "|count  |20070            |\n",
      "|mean   |7668.963155455917|\n",
      "|stddev |6996.584942924148|\n",
      "|min    |0.0              |\n",
      "|max    |40000.0          |\n",
      "+-------+-----------------+\n",
      "\n",
      "total_rec_int\n",
      "+-------+------------------+\n",
      "|summary|total_rec_int     |\n",
      "+-------+------------------+\n",
      "|count  |20070             |\n",
      "|mean   |2138.3386417538522|\n",
      "|stddev |2072.5485351882444|\n",
      "|min    |0.0               |\n",
      "|max    |18947.6           |\n",
      "+-------+------------------+\n",
      "\n",
      "total_rec_late_fee\n",
      "+-------+------------------+\n",
      "|summary|total_rec_late_fee|\n",
      "+-------+------------------+\n",
      "|count  |20070             |\n",
      "|mean   |1.6842571002119884|\n",
      "|stddev |13.120938139403048|\n",
      "|min    |0.0               |\n",
      "|max    |575.25            |\n",
      "+-------+------------------+\n",
      "\n",
      "recoveries\n",
      "+-------+-----------------+\n",
      "|summary|recoveries       |\n",
      "+-------+-----------------+\n",
      "|count  |20070            |\n",
      "|mean   |79.75342252117588|\n",
      "|stddev |519.5436725546591|\n",
      "|min    |0.0              |\n",
      "|max    |19400.0          |\n",
      "+-------+-----------------+\n",
      "\n",
      "collection_recovery_fee\n",
      "+-------+-----------------------+\n",
      "|summary|collection_recovery_fee|\n",
      "+-------+-----------------------+\n",
      "|count  |20070                  |\n",
      "|mean   |13.531588350765054     |\n",
      "|stddev |90.59917418691997      |\n",
      "|min    |0.0                    |\n",
      "|max    |3492.0                 |\n",
      "+-------+-----------------------+\n",
      "\n",
      "last_pymnt_amnt\n",
      "+-------+------------------+\n",
      "|summary|last_pymnt_amnt   |\n",
      "+-------+------------------+\n",
      "|count  |20070             |\n",
      "|mean   |3055.867512705536 |\n",
      "|stddev |6095.6728701476595|\n",
      "|min    |0.0               |\n",
      "|max    |40911.35          |\n",
      "+-------+------------------+\n",
      "\n",
      "bc_util\n",
      "+-------+------------------+\n",
      "|summary|bc_util           |\n",
      "+-------+------------------+\n",
      "|count  |20070             |\n",
      "|mean   |53.790269058295856|\n",
      "|stddev |29.280602644798307|\n",
      "|min    |0.0               |\n",
      "|max    |178.3             |\n",
      "+-------+------------------+\n",
      "\n",
      "chargeoff_within_12_mths\n",
      "+-------+------------------------+\n",
      "|summary|chargeoff_within_12_mths|\n",
      "+-------+------------------------+\n",
      "|count  |20070                   |\n",
      "|mean   |0.007822620827105132    |\n",
      "|stddev |0.09775287984744226     |\n",
      "|min    |0.0                     |\n",
      "|max    |3.0                     |\n",
      "+-------+------------------------+\n",
      "\n",
      "mo_sin_old_il_acct\n",
      "+-------+------------------+\n",
      "|summary|mo_sin_old_il_acct|\n",
      "+-------+------------------+\n",
      "|count  |20070             |\n",
      "|mean   |120.96736422521175|\n",
      "|stddev |57.25420882260193 |\n",
      "|min    |0.0               |\n",
      "|max    |532.0             |\n",
      "+-------+------------------+\n",
      "\n",
      "pct_tl_nvr_dlq\n",
      "+-------+-----------------+\n",
      "|summary|pct_tl_nvr_dlq   |\n",
      "+-------+-----------------+\n",
      "|count  |20070            |\n",
      "|mean   |93.73975585450823|\n",
      "|stddev |9.7186960241265  |\n",
      "|min    |0.0              |\n",
      "|max    |100.0            |\n",
      "+-------+-----------------+\n",
      "\n",
      "percent_bc_gt_75\n",
      "+-------+------------------+\n",
      "|summary|percent_bc_gt_75  |\n",
      "+-------+------------------+\n",
      "|count  |20070             |\n",
      "|mean   |37.947419033383305|\n",
      "|stddev |36.10534101864352 |\n",
      "|min    |0.0               |\n",
      "|max    |100.0             |\n",
      "+-------+------------------+\n",
      "\n"
     ]
    }
   ],
   "source": [
    "//describe each dolumn of type coulbe\n",
    "doubleColumn.foreach( l => {\n",
    "    println(l)\n",
    "    df.describe(l).show(false)\n",
    "})"
   ]
  },
  {
   "cell_type": "markdown",
   "metadata": {},
   "source": [
    "# Correlation-Test"
   ]
  },
  {
   "cell_type": "code",
   "execution_count": 47,
   "metadata": {},
   "outputs": [
    {
     "data": {
      "text/plain": [
       "corrColumn: Array[String] = Array(loan_amnt, funded_amnt, funded_amnt_inv, int_rate, installment, annual_inc, dti, delinq_2yrs, inq_last_6mths, open_acc, pub_rec, revol_bal, revol_util, total_acc, out_prncp, out_prncp_inv, total_pymnt, total_pymnt_inv, total_rec_prncp, total_rec_int, total_rec_late_fee, recoveries, collection_recovery_fee, last_pymnt_amnt, collections_12_mths_ex_med, policy_code, acc_now_delinq, tot_coll_amt, tot_cur_bal, total_rev_hi_lim, acc_open_past_24mths, avg_cur_bal, bc_open_to_buy, bc_util, chargeoff_within_12_mths, delinq_amnt, mo_sin_old_il_acct, mo_sin_old_rev_tl_op, mo_sin_rcnt_rev_tl_op, mo_sin_rcnt_tl, mort_acc, mths_since_recent_bc, num_accts_ever_120_pd, num_actv_bc_tl, num_actv_rev_tl, num_bc_sats, num_bc_tl, num_il_tl, num_op_rev_tl, num_rev_accts, num..."
      ]
     },
     "execution_count": 47,
     "metadata": {},
     "output_type": "execute_result"
    }
   ],
   "source": [
    "//filter to numeric columns\n",
    "var corrColumn = df.dtypes.filter(column => column._2 == \"IntegerType\" || column._2 == \"DoubleType\").map(_._1)"
   ]
  },
  {
   "cell_type": "code",
   "execution_count": 48,
   "metadata": {},
   "outputs": [
    {
     "data": {
      "text/plain": [
       "pairColumn: Array[(String, String)] = Array((loan_amnt,funded_amnt), (loan_amnt,funded_amnt_inv), (loan_amnt,int_rate), (loan_amnt,installment), (loan_amnt,annual_inc), (loan_amnt,dti), (loan_amnt,delinq_2yrs), (loan_amnt,inq_last_6mths), (loan_amnt,open_acc), (loan_amnt,pub_rec), (loan_amnt,revol_bal), (loan_amnt,revol_util), (loan_amnt,total_acc), (loan_amnt,out_prncp), (loan_amnt,out_prncp_inv), (loan_amnt,total_pymnt), (loan_amnt,total_pymnt_inv), (loan_amnt,total_rec_prncp), (loan_amnt,total_rec_int), (loan_amnt,total_rec_late_fee), (loan_amnt,recoveries), (loan_amnt,collection_recovery_fee), (loan_amnt,last_pymnt_amnt), (loan_amnt,collections_12_mths_ex_med), (loan_amnt,policy_code), (loan_amnt,acc_now_delinq), (loan_amnt,tot_coll_amt), (loan_amnt,tot_cur_bal), (loan_amnt,total_re..."
      ]
     },
     "execution_count": 48,
     "metadata": {},
     "output_type": "execute_result"
    }
   ],
   "source": [
    "//create a column-column pair for correlation matrix\n",
    "var pairColumn = for (i <- corrColumn;\n",
    "                      j <- corrColumn if i != j) \n",
    "                      yield (i,j)"
   ]
  },
  {
   "cell_type": "code",
   "execution_count": 49,
   "metadata": {},
   "outputs": [
    {
     "data": {
      "text/plain": [
       "res34: Array[(String, String)] = Array((loan_amnt,funded_amnt_inv), (loan_amnt,int_rate))\n"
      ]
     },
     "execution_count": 49,
     "metadata": {},
     "output_type": "execute_result"
    }
   ],
   "source": [
    "pairColumn.slice(1,3)"
   ]
  },
  {
   "cell_type": "code",
   "execution_count": 50,
   "metadata": {},
   "outputs": [
    {
     "data": {
      "text/plain": [
       "import spark.implicits._\n"
      ]
     },
     "execution_count": 50,
     "metadata": {},
     "output_type": "execute_result"
    }
   ],
   "source": [
    "import spark.implicits._"
   ]
  },
  {
   "cell_type": "code",
   "execution_count": 51,
   "metadata": {},
   "outputs": [
    {
     "data": {
      "text/plain": [
       "corrMaxtrix: Seq[(String, String, Double)] = WrappedArray((loan_amnt,funded_amnt,1.0), (loan_amnt,funded_amnt_inv,0.9999945720567341), (loan_amnt,int_rate,0.10640651992579322), (loan_amnt,installment,0.9468955766694372), (loan_amnt,annual_inc,0.2658346611625201), (loan_amnt,dti,0.03703341497593725), (loan_amnt,delinq_2yrs,-0.013449464972462471), (loan_amnt,inq_last_6mths,-0.015938323536782824), (loan_amnt,open_acc,0.16595935582738355), (loan_amnt,pub_rec,-0.02637627622449269), (loan_amnt,revol_bal,0.3202576055020393), (loan_amnt,revol_util,0.106734642802165), (loan_amnt,total_acc,0.19088752917165777), (loan_amnt,out_prncp,0.6218975082209901), (loan_amnt,out_prncp_inv,0.6218744366203196), (loan_amnt,total_pymnt,0.7571617972179684), (loan_amnt,total_pymnt_inv,0.7571532331034271), (loan_am..."
      ]
     },
     "execution_count": 51,
     "metadata": {},
     "output_type": "execute_result"
    }
   ],
   "source": [
    "// This could take a while, finds the correlation of each pair of columns\n",
    "var corrMaxtrix = pairColumn.map{ case (x,y) => {\n",
    "    var corr = df.stat.corr(x,y)\n",
    "    (x,y,corr)\n",
    "}}.toSeq"
   ]
  },
  {
   "cell_type": "code",
   "execution_count": 52,
   "metadata": {},
   "outputs": [
    {
     "data": {
      "text/plain": [
       "corrMatrixDF: org.apache.spark.sql.DataFrame = [colA: string, colB: string ... 1 more field]\n"
      ]
     },
     "execution_count": 52,
     "metadata": {},
     "output_type": "execute_result"
    }
   ],
   "source": [
    "//create a dataframe with the correlation values\n",
    "var corrMatrixDF = corrMaxtrix.toDF(\"colA\",\"colB\",\"corr\")"
   ]
  },
  {
   "cell_type": "code",
   "execution_count": 53,
   "metadata": {},
   "outputs": [
    {
     "name": "stdout",
     "output_type": "stream",
     "text": [
      "2019-05-27 01:58:35,955 WARN  [dispatcher-event-loop-1] scheduler.TaskSetManager (Logging.scala:logWarning(66)) - Stage 4576 contains a task of very large size (337 KB). The maximum recommended task size is 100 KB.\n",
      "+--------------------------+--------------------------+------------------+\n",
      "|colA                      |colB                      |corr              |\n",
      "+--------------------------+--------------------------+------------------+\n",
      "|funded_amnt               |loan_amnt                 |1.0               |\n",
      "|loan_amnt                 |funded_amnt               |1.0               |\n",
      "|out_prncp_inv             |out_prncp                 |0.9999980595265876|\n",
      "|out_prncp                 |out_prncp_inv             |0.9999980595265875|\n",
      "|total_pymnt               |total_pymnt_inv           |0.9999957370804069|\n",
      "|total_pymnt_inv           |total_pymnt               |0.9999957370804069|\n",
      "|loan_amnt                 |funded_amnt_inv           |0.9999945720567341|\n",
      "|funded_amnt_inv           |loan_amnt                 |0.9999945720567341|\n",
      "|funded_amnt               |funded_amnt_inv           |0.9999945720567341|\n",
      "|funded_amnt_inv           |funded_amnt               |0.9999945720567341|\n",
      "|open_acc                  |num_sats                  |0.9989371043263645|\n",
      "|num_sats                  |open_acc                  |0.9989371043263645|\n",
      "|tot_hi_cred_lim           |tot_cur_bal               |0.9833639662559486|\n",
      "|tot_cur_bal               |tot_hi_cred_lim           |0.9833639662559486|\n",
      "|recoveries                |collection_recovery_fee   |0.9815228724754784|\n",
      "|collection_recovery_fee   |recoveries                |0.9815228724754784|\n",
      "|num_rev_tl_bal_gt_0       |num_actv_rev_tl           |0.9781374910913118|\n",
      "|num_actv_rev_tl           |num_rev_tl_bal_gt_0       |0.9781374910913118|\n",
      "|total_pymnt               |total_rec_prncp           |0.9632271524648837|\n",
      "|total_rec_prncp           |total_pymnt               |0.9632271524648837|\n",
      "|total_rec_prncp           |total_pymnt_inv           |0.9632050640834173|\n",
      "|total_pymnt_inv           |total_rec_prncp           |0.9632050640834172|\n",
      "|installment               |loan_amnt                 |0.9468955766694372|\n",
      "|installment               |funded_amnt               |0.9468955766694372|\n",
      "|loan_amnt                 |installment               |0.9468955766694372|\n",
      "|funded_amnt               |installment               |0.9468955766694372|\n",
      "|installment               |funded_amnt_inv           |0.9467598319881245|\n",
      "|funded_amnt_inv           |installment               |0.9467598319881244|\n",
      "|total_il_high_credit_limit|total_bal_ex_mort         |0.8841923367894314|\n",
      "|total_bal_ex_mort         |total_il_high_credit_limit|0.8841923367894314|\n",
      "|bc_open_to_buy            |total_bc_limit            |0.8594470372529827|\n",
      "|total_bc_limit            |bc_open_to_buy            |0.8594470372529827|\n",
      "|bc_util                   |revol_util                |0.859043653970124 |\n",
      "|revol_util                |bc_util                   |0.859043653970124 |\n",
      "|bc_util                   |percent_bc_gt_75          |0.8442123383603063|\n",
      "|percent_bc_gt_75          |bc_util                   |0.8442123383603063|\n",
      "|num_op_rev_tl             |open_acc                  |0.8406044615792503|\n",
      "|open_acc                  |num_op_rev_tl             |0.8406044615792502|\n",
      "|num_op_rev_tl             |num_sats                  |0.8394489255062   |\n",
      "|num_sats                  |num_op_rev_tl             |0.8394489255062   |\n",
      "|num_rev_accts             |num_bc_tl                 |0.8371764059989194|\n",
      "|num_bc_tl                 |num_rev_accts             |0.8371764059989194|\n",
      "|num_actv_bc_tl            |num_bc_sats               |0.8309909089640294|\n",
      "|num_bc_sats               |num_actv_bc_tl            |0.8309909089640293|\n",
      "|num_actv_bc_tl            |num_actv_rev_tl           |0.8291271245473227|\n",
      "|num_actv_rev_tl           |num_actv_bc_tl            |0.8291271245473227|\n",
      "|acc_now_delinq            |num_tl_30dpd              |0.8257500982974508|\n",
      "|num_tl_30dpd              |acc_now_delinq            |0.8257500982974508|\n",
      "|num_rev_tl_bal_gt_0       |num_actv_bc_tl            |0.8235321983735234|\n",
      "|num_actv_bc_tl            |num_rev_tl_bal_gt_0       |0.8235321983735234|\n",
      "|tot_cur_bal               |avg_cur_bal               |0.8203004056828906|\n",
      "|avg_cur_bal               |tot_cur_bal               |0.8203004056828906|\n",
      "|total_rev_hi_lim          |total_bc_limit            |0.8199868752371103|\n",
      "|total_bc_limit            |total_rev_hi_lim          |0.8199868752371103|\n",
      "|num_op_rev_tl             |num_rev_accts             |0.8164717391956157|\n",
      "|num_rev_accts             |num_op_rev_tl             |0.8164717391956157|\n",
      "|num_rev_tl_bal_gt_0       |num_op_rev_tl             |0.7929481464194422|\n",
      "|num_op_rev_tl             |num_rev_tl_bal_gt_0       |0.7929481464194422|\n",
      "|revol_bal                 |total_rev_hi_lim          |0.790560807349579 |\n",
      "|total_rev_hi_lim          |revol_bal                 |0.790560807349579 |\n",
      "|num_bc_tl                 |num_bc_sats               |0.7905306042925353|\n",
      "|num_bc_sats               |num_bc_tl                 |0.7905306042925353|\n",
      "|last_pymnt_amnt           |total_rec_prncp           |0.7894679618130127|\n",
      "|total_rec_prncp           |last_pymnt_amnt           |0.7894679618130127|\n",
      "|num_actv_rev_tl           |num_op_rev_tl             |0.7884026653887216|\n",
      "|num_op_rev_tl             |num_actv_rev_tl           |0.7884026653887216|\n",
      "|avg_cur_bal               |tot_hi_cred_lim           |0.7832678155000906|\n",
      "|tot_hi_cred_lim           |avg_cur_bal               |0.7832678155000906|\n",
      "|installment               |total_pymnt               |0.7814073328756374|\n",
      "|total_pymnt               |installment               |0.7814073328756374|\n",
      "|total_pymnt_inv           |installment               |0.7813096208695153|\n",
      "|installment               |total_pymnt_inv           |0.7813096208695153|\n",
      "|num_bc_sats               |num_op_rev_tl             |0.7686209900386458|\n",
      "|num_op_rev_tl             |num_bc_sats               |0.7686209900386458|\n",
      "|total_acc                 |num_rev_accts             |0.7664780227325595|\n",
      "|num_rev_accts             |total_acc                 |0.7664780227325595|\n",
      "|num_tl_op_past_12m        |acc_open_past_24mths      |0.7602415995944196|\n",
      "|acc_open_past_24mths      |num_tl_op_past_12m        |0.7602415995944196|\n",
      "|total_pymnt               |funded_amnt               |0.7571617972179684|\n",
      "|total_pymnt               |loan_amnt                 |0.7571617972179684|\n",
      "|loan_amnt                 |total_pymnt               |0.7571617972179684|\n",
      "|funded_amnt               |total_pymnt               |0.7571617972179684|\n",
      "|total_pymnt_inv           |loan_amnt                 |0.7571532331034271|\n",
      "|total_pymnt_inv           |funded_amnt               |0.7571532331034271|\n",
      "|loan_amnt                 |total_pymnt_inv           |0.7571532331034271|\n",
      "|funded_amnt               |total_pymnt_inv           |0.7571532331034271|\n",
      "|total_pymnt_inv           |funded_amnt_inv           |0.7571264413189286|\n",
      "|funded_amnt_inv           |total_pymnt_inv           |0.7571264413189286|\n",
      "|funded_amnt_inv           |total_pymnt               |0.7571260971668367|\n",
      "|total_pymnt               |funded_amnt_inv           |0.7571260971668367|\n",
      "|revol_util                |percent_bc_gt_75          |0.7375680285220108|\n",
      "|percent_bc_gt_75          |revol_util                |0.7375680285220106|\n",
      "|open_acc                  |total_acc                 |0.7360261485882049|\n",
      "|total_acc                 |open_acc                  |0.7360261485882049|\n",
      "|num_sats                  |total_acc                 |0.7331496633222356|\n",
      "|total_acc                 |num_sats                  |0.7331496633222354|\n",
      "|funded_amnt_inv           |total_rec_int             |0.7201987501633851|\n",
      "|total_rec_int             |funded_amnt_inv           |0.720198750163385 |\n",
      "|loan_amnt                 |total_rec_int             |0.7200689790001893|\n",
      "|funded_amnt               |total_rec_int             |0.7200689790001893|\n",
      "+--------------------------+--------------------------+------------------+\n",
      "only showing top 100 rows\n",
      "\n"
     ]
    }
   ],
   "source": [
    "//show the correlations ordered by the columns with the highest correlation\n",
    "corrMatrixDF.na.drop.orderBy($\"corr\".desc).show(100,false)"
   ]
  },
  {
   "cell_type": "markdown",
   "metadata": {},
   "source": [
    "Column pairs with very high corr (>= 0.8), keep only the primary one. Drop the below columns:\n",
    "```\n",
    "funded_amnt\n",
    "out_prncp_inv\n",
    "total_pymnt_inv\n",
    "funded_amnt_inv\n",
    "num_stats\n",
    "tot_hi_cred_lim \n",
    "recoveries\n",
    "num_rev_tl_bal_gt_0\n",
    "total_rec_prncp\n",
    "installment\n",
    "total_bal_ex_mort\n",
    "bc_open_to_buy\n",
    "bc_util\n",
    "num_op_rev_tl\n",
    "num_bc_tl\n",
    "num_actv_bc_tl\n",
    "num_tl_30dpd \n",
    "avg_cur_bal\n",
    "total_bc_limit\n",
    "```"
   ]
  },
  {
   "cell_type": "code",
   "execution_count": 54,
   "metadata": {},
   "outputs": [
    {
     "data": {
      "text/plain": [
       "colToDrop: List[String] = List(funded_amnt, out_prncp_inv, total_pymnt_inv, funded_amnt_inv, num_stats, \"tot_hi_cred_lim \", recoveries, num_rev_tl_bal_gt_0, total_rec_prncp, installment, total_bal_ex_mort, bc_open_to_buy, bc_util, num_op_rev_tl, num_bc_tl, num_actv_bc_tl, num_tl_30dpd, avg_cur_bal, total_bc_limit)\n"
      ]
     },
     "execution_count": 54,
     "metadata": {},
     "output_type": "execute_result"
    }
   ],
   "source": [
    "//dropping unneccessary columns\n",
    "val colToDrop = List(\"funded_amnt\",\n",
    "                     \"out_prncp_inv\",\n",
    "                     \"total_pymnt_inv\",\n",
    "                     \"funded_amnt_inv\",\n",
    "                     \"num_stats\",\n",
    "                     \"tot_hi_cred_lim \",\n",
    "                     \"recoveries\",\n",
    "                     \"num_rev_tl_bal_gt_0\",\n",
    "                     \"total_rec_prncp\",\n",
    "                     \"installment\",\n",
    "                     \"total_bal_ex_mort\",\n",
    "                     \"bc_open_to_buy\",\n",
    "                     \"bc_util\",\n",
    "                     \"num_op_rev_tl\",\n",
    "                     \"num_bc_tl\",\n",
    "                     \"num_actv_bc_tl\",\n",
    "                     \"num_tl_30dpd\",\n",
    "                     \"avg_cur_bal\",\n",
    "                     \"total_bc_limit\")"
   ]
  },
  {
   "cell_type": "code",
   "execution_count": 55,
   "metadata": {},
   "outputs": [],
   "source": [
    "colToDrop.foreach(l => df = df.drop(l))"
   ]
  },
  {
   "cell_type": "code",
   "execution_count": 56,
   "metadata": {},
   "outputs": [
    {
     "data": {
      "text/plain": [
       "res37: Int = 65\n"
      ]
     },
     "execution_count": 56,
     "metadata": {},
     "output_type": "execute_result"
    }
   ],
   "source": [
    "// reduced to 65\n",
    "df.columns.toArray.size"
   ]
  },
  {
   "cell_type": "code",
   "execution_count": 57,
   "metadata": {},
   "outputs": [
    {
     "name": "stdout",
     "output_type": "stream",
     "text": [
      "root\n",
      " |-- loan_amnt: integer (nullable = false)\n",
      " |-- term: string (nullable = false)\n",
      " |-- int_rate: double (nullable = false)\n",
      " |-- grade: string (nullable = false)\n",
      " |-- sub_grade: string (nullable = false)\n",
      " |-- emp_title: string (nullable = false)\n",
      " |-- emp_length: string (nullable = false)\n",
      " |-- home_ownership: string (nullable = false)\n",
      " |-- annual_inc: double (nullable = false)\n",
      " |-- verification_status: string (nullable = false)\n",
      " |-- issue_d: string (nullable = false)\n",
      " |-- purpose: string (nullable = false)\n",
      " |-- title: string (nullable = false)\n",
      " |-- zip_code: string (nullable = false)\n",
      " |-- addr_state: string (nullable = false)\n",
      " |-- dti: double (nullable = false)\n",
      " |-- delinq_2yrs: integer (nullable = false)\n",
      " |-- earliest_cr_line: string (nullable = false)\n",
      " |-- inq_last_6mths: integer (nullable = false)\n",
      " |-- open_acc: integer (nullable = false)\n",
      " |-- pub_rec: integer (nullable = false)\n",
      " |-- revol_bal: integer (nullable = false)\n",
      " |-- revol_util: double (nullable = false)\n",
      " |-- total_acc: integer (nullable = false)\n",
      " |-- initial_list_status: string (nullable = false)\n",
      " |-- out_prncp: double (nullable = false)\n",
      " |-- total_pymnt: double (nullable = false)\n",
      " |-- total_rec_int: double (nullable = false)\n",
      " |-- total_rec_late_fee: double (nullable = false)\n",
      " |-- collection_recovery_fee: double (nullable = false)\n",
      " |-- last_pymnt_d: string (nullable = false)\n",
      " |-- last_pymnt_amnt: double (nullable = false)\n",
      " |-- last_credit_pull_d: string (nullable = false)\n",
      " |-- collections_12_mths_ex_med: integer (nullable = false)\n",
      " |-- policy_code: integer (nullable = false)\n",
      " |-- application_type: string (nullable = false)\n",
      " |-- acc_now_delinq: integer (nullable = false)\n",
      " |-- tot_coll_amt: integer (nullable = false)\n",
      " |-- tot_cur_bal: integer (nullable = false)\n",
      " |-- total_rev_hi_lim: integer (nullable = false)\n",
      " |-- acc_open_past_24mths: integer (nullable = false)\n",
      " |-- chargeoff_within_12_mths: double (nullable = false)\n",
      " |-- delinq_amnt: integer (nullable = false)\n",
      " |-- mo_sin_old_il_acct: double (nullable = false)\n",
      " |-- mo_sin_old_rev_tl_op: integer (nullable = false)\n",
      " |-- mo_sin_rcnt_rev_tl_op: integer (nullable = false)\n",
      " |-- mo_sin_rcnt_tl: integer (nullable = false)\n",
      " |-- mort_acc: integer (nullable = false)\n",
      " |-- mths_since_recent_bc: integer (nullable = false)\n",
      " |-- num_accts_ever_120_pd: integer (nullable = false)\n",
      " |-- num_actv_rev_tl: integer (nullable = false)\n",
      " |-- num_bc_sats: integer (nullable = false)\n",
      " |-- num_il_tl: integer (nullable = false)\n",
      " |-- num_rev_accts: integer (nullable = false)\n",
      " |-- num_sats: integer (nullable = false)\n",
      " |-- num_tl_120dpd_2m: integer (nullable = false)\n",
      " |-- num_tl_90g_dpd_24m: integer (nullable = false)\n",
      " |-- num_tl_op_past_12m: integer (nullable = false)\n",
      " |-- pct_tl_nvr_dlq: double (nullable = false)\n",
      " |-- percent_bc_gt_75: double (nullable = false)\n",
      " |-- pub_rec_bankruptcies: integer (nullable = false)\n",
      " |-- tax_liens: integer (nullable = false)\n",
      " |-- tot_hi_cred_lim: integer (nullable = false)\n",
      " |-- total_il_high_credit_limit: integer (nullable = false)\n",
      " |-- loan_status: integer (nullable = false)\n",
      "\n"
     ]
    }
   ],
   "source": [
    "//print schema\n",
    "df.printSchema"
   ]
  },
  {
   "cell_type": "code",
   "execution_count": 58,
   "metadata": {},
   "outputs": [],
   "source": [
    "//write final wrangled dataset\n",
    "df.repartition(1).write.mode(\"overwrite\").csv(\"Loan_2017_20k_Wrangled.csv\")"
   ]
  },
  {
   "cell_type": "markdown",
   "metadata": {},
   "source": [
    "# Visualisations"
   ]
  },
  {
   "cell_type": "code",
   "execution_count": 59,
   "metadata": {},
   "outputs": [
    {
     "data": {
      "image/png": "[encoded data removed]",
      "text/plain": [
       "<IPython.core.display.Image object>"
      ]
     },
     "execution_count": 59,
     "metadata": {},
     "output_type": "execute_result"
    }
   ],
   "source": [
    "%%python\n",
    "\n",
    "#using python magic for visualisations\n",
    "\n",
    "import pandas\n",
    "import matplotlib.pyplot as plt\n",
    "from IPython.display import Image\n",
    "import tempfile\n",
    "\n",
    "df = pandas.read_csv(\"Loan_2017_20k.csv\", delimiter = ',')\n",
    "\n",
    "plt.clf()\n",
    "plt.boxplot(df['loan_amnt'])\n",
    "plt.ylabel('loan_amnt')\n",
    "plt.legend()\n",
    "plt.title(\"Loan Amount\")\n",
    "with tempfile.NamedTemporaryFile(suffix=\".png\") as fo:\n",
    "    plt.savefig(fo.name)\n",
    "    retval = Image(filename=fo.name)"
   ]
  },
  {
   "cell_type": "markdown",
   "metadata": {},
   "source": [
    "Here we can see there are a few high outliers for loan amount, these outliers will need to be taken into consideration for the modelling phase"
   ]
  },
  {
   "cell_type": "code",
   "execution_count": 60,
   "metadata": {},
   "outputs": [
    {
     "data": {
      "image/png": "[encoded data removed]",
      "text/plain": [
       "<IPython.core.display.Image object>"
      ]
     },
     "execution_count": 60,
     "metadata": {},
     "output_type": "execute_result"
    }
   ],
   "source": [
    "%%python\n",
    "\n",
    "plt.clf()\n",
    "plt.boxplot(df['int_rate'])\n",
    "plt.ylabel('int_rate')\n",
    "plt.legend()\n",
    "plt.title(\"Interest Rate\")\n",
    "with tempfile.NamedTemporaryFile(suffix=\".png\") as fo:\n",
    "    plt.savefig(fo.name)\n",
    "    retval = Image(filename=fo.name)"
   ]
  },
  {
   "cell_type": "markdown",
   "metadata": {},
   "source": [
    "Here we see a very iuntersting group of interest rates that are much higher than the rest. This will be worth investigating for the modelling step, to see what attributes cause such a high interest rate"
   ]
  },
  {
   "cell_type": "code",
   "execution_count": 61,
   "metadata": {},
   "outputs": [
    {
     "name": "stdout",
     "output_type": "stream",
     "text": [
      "+-----+-----+\n",
      "|grade|count|\n",
      "+-----+-----+\n",
      "|    F|  267|\n",
      "|    E|  865|\n",
      "|    B| 6064|\n",
      "|    D| 2548|\n",
      "|    C| 6574|\n",
      "|    A| 3590|\n",
      "|    G|  162|\n",
      "+-----+-----+\n",
      "\n"
     ]
    }
   ],
   "source": [
    "//referencing categorical values from earlier\n",
    "df.groupBy(\"grade\").count().show()"
   ]
  },
  {
   "cell_type": "code",
   "execution_count": 62,
   "metadata": {},
   "outputs": [
    {
     "data": {
      "image/png": "[encoded data removed]",
      "text/plain": [
       "<IPython.core.display.Image object>"
      ]
     },
     "execution_count": 62,
     "metadata": {},
     "output_type": "execute_result"
    }
   ],
   "source": [
    "%%python\n",
    "#using the above to easily visualise this data\n",
    "\n",
    "keys = ('A','B','C','D','E','F')\n",
    "values = (3590,6064,6574,2548,865,267)\n",
    "\n",
    "plt.clf()\n",
    "plt.bar(keys, values)\n",
    "plt.ylabel('Number of Loans')\n",
    "plt.legend()\n",
    "plt.title(\"Grade\")\n",
    "with tempfile.NamedTemporaryFile(suffix=\".png\") as fo:\n",
    "    plt.savefig(fo.name)\n",
    "    retval = Image(filename=fo.name)"
   ]
  },
  {
   "cell_type": "markdown",
   "metadata": {},
   "source": [
    "Most loans fall under a C and B grade. This is followed by A grade and D, and then a significant drop in E and F grades. This is expected, as a Loan business does not want to make 'bad' loans"
   ]
  },
  {
   "cell_type": "code",
   "execution_count": 63,
   "metadata": {},
   "outputs": [
    {
     "name": "stdout",
     "output_type": "stream",
     "text": [
      "+------------------+-----+\n",
      "|           purpose|count|\n",
      "+------------------+-----+\n",
      "|             other| 1523|\n",
      "|    small_business|  208|\n",
      "|debt_consolidation|11029|\n",
      "|       credit_card| 4184|\n",
      "|            moving|  183|\n",
      "|          vacation|  194|\n",
      "|  renewable_energy|   17|\n",
      "|             house|  131|\n",
      "|               car|  238|\n",
      "|    major_purchase|  508|\n",
      "|           medical|  320|\n",
      "|  home_improvement| 1535|\n",
      "+------------------+-----+\n",
      "\n"
     ]
    }
   ],
   "source": [
    "//referencing this from earlier\n",
    "df.groupBy(\"purpose\").count().show()"
   ]
  },
  {
   "cell_type": "code",
   "execution_count": 66,
   "metadata": {},
   "outputs": [
    {
     "data": {
      "image/png": "[encoded data removed]",
      "text/plain": [
       "<IPython.core.display.Image object>"
      ]
     },
     "execution_count": 66,
     "metadata": {},
     "output_type": "execute_result"
    }
   ],
   "source": [
    "%%python\n",
    "\n",
    "keys = ('other','sml_bsns','debt_cons','credit_c','moving','vacation',\n",
    "        'renewable','house','car','maj_purch','medical','home_imp')\n",
    "values = (1523,208,11029,4184,183,194,\n",
    "          17,131,238,508,320,1535)\n",
    "\n",
    "plt.clf()\n",
    "plt.barh(keys, values)\n",
    "plt.ylabel('Number of Loans')\n",
    "plt.legend()\n",
    "plt.title(\"Purpose\")\n",
    "with tempfile.NamedTemporaryFile(suffix=\".png\") as fo:\n",
    "    plt.savefig(fo.name)\n",
    "    retval = Image(filename=fo.name)"
   ]
  },
  {
   "cell_type": "markdown",
   "metadata": {},
   "source": [
    "Here we can see that the primary loan purpose is for Debt Consolidation, followed by Credit Cards."
   ]
  },
  {
   "cell_type": "code",
   "execution_count": null,
   "metadata": {},
   "outputs": [],
   "source": [
    "//Merged Code by Alex and Robert"
   ]
  }
 ],
 "metadata": {
  "kernelspec": {
   "display_name": "spylon-kernel",
   "language": "scala",
   "name": "spylon-kernel"
  },
  "language_info": {
   "codemirror_mode": "text/x-scala",
   "file_extension": ".scala",
   "help_links": [
    {
     "text": "MetaKernel Magics",
     "url": "https://metakernel.readthedocs.io/en/latest/source/README.html"
    }
   ],
   "mimetype": "text/x-scala",
   "name": "scala",
   "pygments_lexer": "scala",
   "version": "0.4.1"
  }
 },
 "nbformat": 4,
 "nbformat_minor": 2
}
